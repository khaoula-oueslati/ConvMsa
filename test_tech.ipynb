{
  "nbformat": 4,
  "nbformat_minor": 5,
  "metadata": {
    "kernelspec": {
      "display_name": "Python 3",
      "language": "python",
      "name": "python3"
    },
    "language_info": {
      "codemirror_mode": {
        "name": "ipython",
        "version": 3
      },
      "file_extension": ".py",
      "mimetype": "text/x-python",
      "name": "python",
      "nbconvert_exporter": "python",
      "pygments_lexer": "ipython3",
      "version": "3.8.8"
    },
    "colab": {
      "name": "test-tech.ipynb",
      "provenance": [],
      "collapsed_sections": [],
      "toc_visible": true,
      "include_colab_link": true
    }
  },
  "cells": [
    {
      "cell_type": "markdown",
      "metadata": {
        "id": "view-in-github",
        "colab_type": "text"
      },
      "source": [
        "<a href=\"https://colab.research.google.com/github/khaoula-oueslati/ConvMsa/blob/master/test_tech.ipynb\" target=\"_parent\"><img src=\"https://colab.research.google.com/assets/colab-badge.svg\" alt=\"Open In Colab\"/></a>"
      ]
    },
    {
      "cell_type": "markdown",
      "metadata": {
        "id": "jPycaGfIApRa"
      },
      "source": [
        "# **SPAAG**\n",
        "\n",
        "---\n",
        "\n",
        "\n",
        "Cas Pratique : BUSINESS ANALYST\n",
        "\n",
        "\n"
      ],
      "id": "jPycaGfIApRa"
    },
    {
      "cell_type": "code",
      "metadata": {
        "id": "f731dfe5"
      },
      "source": [
        "import pandas as pd \n",
        "import numpy as np\n",
        "import seaborn as sns; sns.set()\n",
        "import matplotlib.pyplot as plt\n",
        "import plotly.express as px\n",
        "from datetime import timedelta\n",
        "from sklearn.preprocessing import StandardScaler\n",
        "### Kmeans\n",
        "from sklearn.datasets import make_blobs\n",
        "from sklearn.cluster import KMeans\n",
        "from sklearn.metrics import silhouette_samples, silhouette_score\n",
        "from pandas import json_normalize"
      ],
      "id": "f731dfe5",
      "execution_count": null,
      "outputs": []
    },
    {
      "cell_type": "markdown",
      "metadata": {
        "id": "00cdaa36"
      },
      "source": [
        "#  **Data**: **`Orders _ customers - anonymized`**"
      ],
      "id": "00cdaa36"
    },
    {
      "cell_type": "code",
      "metadata": {
        "id": "ef89aff9",
        "colab": {
          "base_uri": "https://localhost:8080/",
          "height": 521
        },
        "outputId": "36e5f1b2-658b-4bca-bf89-bc28f3dc78a1"
      },
      "source": [
        "# importation de Orders _ customers - anonymized\n",
        "orders_customers_anonymised = pd.read_excel(\"/Orders _ customers - anonymized.xlsx\")\n",
        "orders_customers_anonymised.head()"
      ],
      "id": "ef89aff9",
      "execution_count": null,
      "outputs": [
        {
          "output_type": "execute_result",
          "data": {
            "text/html": [
              "<div>\n",
              "<style scoped>\n",
              "    .dataframe tbody tr th:only-of-type {\n",
              "        vertical-align: middle;\n",
              "    }\n",
              "\n",
              "    .dataframe tbody tr th {\n",
              "        vertical-align: top;\n",
              "    }\n",
              "\n",
              "    .dataframe thead th {\n",
              "        text-align: right;\n",
              "    }\n",
              "</style>\n",
              "<table border=\"1\" class=\"dataframe\">\n",
              "  <thead>\n",
              "    <tr style=\"text-align: right;\">\n",
              "      <th></th>\n",
              "      <th>Name</th>\n",
              "      <th>Customer id</th>\n",
              "      <th>Financial Status</th>\n",
              "      <th>Paid at</th>\n",
              "      <th>Fulfillment Status</th>\n",
              "      <th>Fulfilled at</th>\n",
              "      <th>Accepts Marketing</th>\n",
              "      <th>Currency</th>\n",
              "      <th>Subtotal</th>\n",
              "      <th>Shipping</th>\n",
              "      <th>Taxes</th>\n",
              "      <th>Total</th>\n",
              "      <th>Discount Code</th>\n",
              "      <th>Discount Amount</th>\n",
              "      <th>Shipping Method</th>\n",
              "      <th>Created at</th>\n",
              "      <th>Lineitem quantity</th>\n",
              "      <th>Lineitem name</th>\n",
              "      <th>Lineitem price</th>\n",
              "      <th>Lineitem compare at price</th>\n",
              "      <th>Lineitem sku</th>\n",
              "      <th>Lineitem requires shipping</th>\n",
              "      <th>Lineitem taxable</th>\n",
              "      <th>Lineitem fulfillment status</th>\n",
              "      <th>Billing City</th>\n",
              "      <th>Shipping Province</th>\n",
              "      <th>Shipping Country</th>\n",
              "      <th>Notes</th>\n",
              "      <th>Note Attributes</th>\n",
              "      <th>Cancelled at</th>\n",
              "      <th></th>\n",
              "      <th>Payment Reference</th>\n",
              "      <th>Refunded Amount</th>\n",
              "      <th>Vendor</th>\n",
              "      <th>Id</th>\n",
              "      <th>Tags</th>\n",
              "      <th>Risk Level</th>\n",
              "      <th>Source</th>\n",
              "      <th>Lineitem discount</th>\n",
              "      <th>Tax 1 Name</th>\n",
              "      <th>Tax 1 Value</th>\n",
              "      <th>Tax 2 Name</th>\n",
              "      <th>Tax 2 Value</th>\n",
              "      <th>Tax 3 Name</th>\n",
              "      <th>Tax 3 Value</th>\n",
              "      <th>Tax 4 Name</th>\n",
              "      <th>Tax 4 Value</th>\n",
              "      <th>Tax 5 Name</th>\n",
              "      <th>Tax 5 Value</th>\n",
              "      <th>Phone</th>\n",
              "      <th>Receipt Number</th>\n",
              "      <th>Duties</th>\n",
              "      <th>Payment Terms Name</th>\n",
              "      <th>Next Payment Due At</th>\n",
              "    </tr>\n",
              "  </thead>\n",
              "  <tbody>\n",
              "    <tr>\n",
              "      <th>0</th>\n",
              "      <td>#14442</td>\n",
              "      <td>1</td>\n",
              "      <td>paid</td>\n",
              "      <td>2021-09-23 09:43:21 +0200</td>\n",
              "      <td>unfulfilled</td>\n",
              "      <td>NaN</td>\n",
              "      <td>yes</td>\n",
              "      <td>EUR</td>\n",
              "      <td>105.00</td>\n",
              "      <td>20.00</td>\n",
              "      <td>9.55</td>\n",
              "      <td>125.00</td>\n",
              "      <td>NaN</td>\n",
              "      <td>0.00</td>\n",
              "      <td>TNT express - 1/2 giorni</td>\n",
              "      <td>2021-09-23 09:43:20 +0200</td>\n",
              "      <td>1</td>\n",
              "      <td>Box Vitamina C</td>\n",
              "      <td>105.00</td>\n",
              "      <td>145.00</td>\n",
              "      <td>DPR-BOX-VITC</td>\n",
              "      <td>true</td>\n",
              "      <td>true</td>\n",
              "      <td>pending</td>\n",
              "      <td>PADENGHE SUL GARDA</td>\n",
              "      <td>BS</td>\n",
              "      <td>IT</td>\n",
              "      <td>NaN</td>\n",
              "      <td>date: 2021/09/28</td>\n",
              "      <td>NaN</td>\n",
              "      <td>PayPal Express Checkout</td>\n",
              "      <td>c23025176051900.1</td>\n",
              "      <td>0.00</td>\n",
              "      <td>Depuravita</td>\n",
              "      <td>4017620549820</td>\n",
              "      <td>NaN</td>\n",
              "      <td>Low</td>\n",
              "      <td>web</td>\n",
              "      <td>0.0</td>\n",
              "      <td>VAT 10%</td>\n",
              "      <td>9.55</td>\n",
              "      <td>NaN</td>\n",
              "      <td>NaN</td>\n",
              "      <td>NaN</td>\n",
              "      <td>NaN</td>\n",
              "      <td>NaN</td>\n",
              "      <td>NaN</td>\n",
              "      <td>NaN</td>\n",
              "      <td>NaN</td>\n",
              "      <td>NaN</td>\n",
              "      <td>NaN</td>\n",
              "      <td>NaN</td>\n",
              "      <td>NaN</td>\n",
              "      <td>NaN</td>\n",
              "    </tr>\n",
              "    <tr>\n",
              "      <th>1</th>\n",
              "      <td>#14441</td>\n",
              "      <td></td>\n",
              "      <td>paid</td>\n",
              "      <td>2021-09-22 14:21:46 +0200</td>\n",
              "      <td>fulfilled</td>\n",
              "      <td>2021-09-22 15:02:22 +0200</td>\n",
              "      <td>no</td>\n",
              "      <td>EUR</td>\n",
              "      <td>2970.00</td>\n",
              "      <td>0.00</td>\n",
              "      <td>0.00</td>\n",
              "      <td>2970.00</td>\n",
              "      <td>Sconto personalizzato</td>\n",
              "      <td>5730.00</td>\n",
              "      <td>NaN</td>\n",
              "      <td>2021-09-22 14:21:45 +0200</td>\n",
              "      <td>60</td>\n",
              "      <td>Collagen Chocolate</td>\n",
              "      <td>55.00</td>\n",
              "      <td>NaN</td>\n",
              "      <td>CLGN-CHCLT</td>\n",
              "      <td>true</td>\n",
              "      <td>true</td>\n",
              "      <td>fulfilled</td>\n",
              "      <td>London</td>\n",
              "      <td>ENG</td>\n",
              "      <td>GB</td>\n",
              "      <td>NaN</td>\n",
              "      <td>date: 2021/08/31</td>\n",
              "      <td>NaN</td>\n",
              "      <td>manual</td>\n",
              "      <td>c23012107649212.1</td>\n",
              "      <td>0.00</td>\n",
              "      <td>Depuravita</td>\n",
              "      <td>4016061481148</td>\n",
              "      <td>NaN</td>\n",
              "      <td>Low</td>\n",
              "      <td>shopify_draft_order</td>\n",
              "      <td>0.0</td>\n",
              "      <td>NaN</td>\n",
              "      <td>NaN</td>\n",
              "      <td>NaN</td>\n",
              "      <td>NaN</td>\n",
              "      <td>NaN</td>\n",
              "      <td>NaN</td>\n",
              "      <td>NaN</td>\n",
              "      <td>NaN</td>\n",
              "      <td>NaN</td>\n",
              "      <td>NaN</td>\n",
              "      <td>NaN</td>\n",
              "      <td>NaN</td>\n",
              "      <td>NaN</td>\n",
              "      <td>NaN</td>\n",
              "      <td>NaN</td>\n",
              "    </tr>\n",
              "    <tr>\n",
              "      <th>2</th>\n",
              "      <td>#14441</td>\n",
              "      <td></td>\n",
              "      <td>NaN</td>\n",
              "      <td>NaN</td>\n",
              "      <td>NaN</td>\n",
              "      <td>NaN</td>\n",
              "      <td>NaN</td>\n",
              "      <td>NaN</td>\n",
              "      <td>NaN</td>\n",
              "      <td>NaN</td>\n",
              "      <td>NaN</td>\n",
              "      <td>NaN</td>\n",
              "      <td>NaN</td>\n",
              "      <td>NaN</td>\n",
              "      <td>NaN</td>\n",
              "      <td>2021-09-22 14:21:45 +0200</td>\n",
              "      <td>60</td>\n",
              "      <td>Probiotic Chocolate</td>\n",
              "      <td>55.00</td>\n",
              "      <td>NaN</td>\n",
              "      <td>PRB-CHCLT</td>\n",
              "      <td>true</td>\n",
              "      <td>true</td>\n",
              "      <td>fulfilled</td>\n",
              "      <td>NaN</td>\n",
              "      <td>NaN</td>\n",
              "      <td>NaN</td>\n",
              "      <td>NaN</td>\n",
              "      <td>NaN</td>\n",
              "      <td>NaN</td>\n",
              "      <td>NaN</td>\n",
              "      <td>NaN</td>\n",
              "      <td>NaN</td>\n",
              "      <td>Depuravita</td>\n",
              "      <td>NaN</td>\n",
              "      <td>NaN</td>\n",
              "      <td>NaN</td>\n",
              "      <td>NaN</td>\n",
              "      <td>0.0</td>\n",
              "      <td>NaN</td>\n",
              "      <td>NaN</td>\n",
              "      <td>NaN</td>\n",
              "      <td>NaN</td>\n",
              "      <td>NaN</td>\n",
              "      <td>NaN</td>\n",
              "      <td>NaN</td>\n",
              "      <td>NaN</td>\n",
              "      <td>NaN</td>\n",
              "      <td>NaN</td>\n",
              "      <td>NaN</td>\n",
              "      <td>NaN</td>\n",
              "      <td>NaN</td>\n",
              "      <td>NaN</td>\n",
              "      <td>NaN</td>\n",
              "    </tr>\n",
              "    <tr>\n",
              "      <th>3</th>\n",
              "      <td>#14441</td>\n",
              "      <td></td>\n",
              "      <td>NaN</td>\n",
              "      <td>NaN</td>\n",
              "      <td>NaN</td>\n",
              "      <td>NaN</td>\n",
              "      <td>NaN</td>\n",
              "      <td>NaN</td>\n",
              "      <td>NaN</td>\n",
              "      <td>NaN</td>\n",
              "      <td>NaN</td>\n",
              "      <td>NaN</td>\n",
              "      <td>NaN</td>\n",
              "      <td>NaN</td>\n",
              "      <td>NaN</td>\n",
              "      <td>2021-09-22 14:21:45 +0200</td>\n",
              "      <td>60</td>\n",
              "      <td>Strong Bite</td>\n",
              "      <td>35.00</td>\n",
              "      <td>NaN</td>\n",
              "      <td>DPR-WP-CHC</td>\n",
              "      <td>true</td>\n",
              "      <td>true</td>\n",
              "      <td>fulfilled</td>\n",
              "      <td>NaN</td>\n",
              "      <td>NaN</td>\n",
              "      <td>NaN</td>\n",
              "      <td>NaN</td>\n",
              "      <td>NaN</td>\n",
              "      <td>NaN</td>\n",
              "      <td>NaN</td>\n",
              "      <td>NaN</td>\n",
              "      <td>NaN</td>\n",
              "      <td>Depuravita</td>\n",
              "      <td>NaN</td>\n",
              "      <td>NaN</td>\n",
              "      <td>NaN</td>\n",
              "      <td>NaN</td>\n",
              "      <td>0.0</td>\n",
              "      <td>NaN</td>\n",
              "      <td>NaN</td>\n",
              "      <td>NaN</td>\n",
              "      <td>NaN</td>\n",
              "      <td>NaN</td>\n",
              "      <td>NaN</td>\n",
              "      <td>NaN</td>\n",
              "      <td>NaN</td>\n",
              "      <td>NaN</td>\n",
              "      <td>NaN</td>\n",
              "      <td>NaN</td>\n",
              "      <td>NaN</td>\n",
              "      <td>NaN</td>\n",
              "      <td>NaN</td>\n",
              "      <td>NaN</td>\n",
              "    </tr>\n",
              "    <tr>\n",
              "      <th>4</th>\n",
              "      <td>#14440</td>\n",
              "      <td></td>\n",
              "      <td>paid</td>\n",
              "      <td>2021-09-22 11:33:54 +0200</td>\n",
              "      <td>fulfilled</td>\n",
              "      <td>2021-09-22 12:16:47 +0200</td>\n",
              "      <td>no</td>\n",
              "      <td>EUR</td>\n",
              "      <td>561.00</td>\n",
              "      <td>0.00</td>\n",
              "      <td>51.00</td>\n",
              "      <td>561.00</td>\n",
              "      <td>Sconto personalizzato</td>\n",
              "      <td>165.00</td>\n",
              "      <td>NaN</td>\n",
              "      <td>2021-09-22 11:33:52 +0200</td>\n",
              "      <td>15</td>\n",
              "      <td>Black Panther</td>\n",
              "      <td>4.90</td>\n",
              "      <td>NaN</td>\n",
              "      <td>DPR-BLPHTR-250</td>\n",
              "      <td>true</td>\n",
              "      <td>true</td>\n",
              "      <td>fulfilled</td>\n",
              "      <td>NaN</td>\n",
              "      <td>AG</td>\n",
              "      <td>IT</td>\n",
              "      <td>Fascia oraria di consegna 19-22</td>\n",
              "      <td>date: 2021/09/22</td>\n",
              "      <td>NaN</td>\n",
              "      <td>Stripe</td>\n",
              "      <td>c23010364096700.1</td>\n",
              "      <td>0.00</td>\n",
              "      <td>Depuravita</td>\n",
              "      <td>4015897772220</td>\n",
              "      <td>compra_ora_paga_dopo_con_klarna, Klarna Payments</td>\n",
              "      <td>Low</td>\n",
              "      <td>shopify_draft_order</td>\n",
              "      <td>0.0</td>\n",
              "      <td>VAT 10%</td>\n",
              "      <td>51.00</td>\n",
              "      <td>NaN</td>\n",
              "      <td>NaN</td>\n",
              "      <td>NaN</td>\n",
              "      <td>NaN</td>\n",
              "      <td>NaN</td>\n",
              "      <td>NaN</td>\n",
              "      <td>NaN</td>\n",
              "      <td>NaN</td>\n",
              "      <td>NaN</td>\n",
              "      <td>NaN</td>\n",
              "      <td>NaN</td>\n",
              "      <td>NaN</td>\n",
              "      <td>NaN</td>\n",
              "    </tr>\n",
              "  </tbody>\n",
              "</table>\n",
              "</div>"
            ],
            "text/plain": [
              "     Name Customer id  ... Payment Terms Name Next Payment Due At\n",
              "0  #14442           1  ...                NaN                 NaN\n",
              "1  #14441              ...                NaN                 NaN\n",
              "2  #14441              ...                NaN                 NaN\n",
              "3  #14441              ...                NaN                 NaN\n",
              "4  #14440              ...                NaN                 NaN\n",
              "\n",
              "[5 rows x 54 columns]"
            ]
          },
          "metadata": {},
          "execution_count": 2
        }
      ]
    },
    {
      "cell_type": "code",
      "metadata": {
        "colab": {
          "base_uri": "https://localhost:8080/",
          "height": 300
        },
        "id": "02ICK56Gk4pJ",
        "outputId": "3f29c4f6-a23c-4599-951c-57593bb47a81"
      },
      "source": [
        "# Description des données\n",
        "orders_customers_anonymised.describe()"
      ],
      "id": "02ICK56Gk4pJ",
      "execution_count": null,
      "outputs": [
        {
          "output_type": "execute_result",
          "data": {
            "text/html": [
              "<div>\n",
              "<style scoped>\n",
              "    .dataframe tbody tr th:only-of-type {\n",
              "        vertical-align: middle;\n",
              "    }\n",
              "\n",
              "    .dataframe tbody tr th {\n",
              "        vertical-align: top;\n",
              "    }\n",
              "\n",
              "    .dataframe thead th {\n",
              "        text-align: right;\n",
              "    }\n",
              "</style>\n",
              "<table border=\"1\" class=\"dataframe\">\n",
              "  <thead>\n",
              "    <tr style=\"text-align: right;\">\n",
              "      <th></th>\n",
              "      <th>Lineitem discount</th>\n",
              "      <th>Tax 1 Value</th>\n",
              "      <th>Tax 2 Value</th>\n",
              "      <th>Tax 4 Name</th>\n",
              "      <th>Tax 4 Value</th>\n",
              "      <th>Duties</th>\n",
              "      <th>Next Payment Due At</th>\n",
              "    </tr>\n",
              "  </thead>\n",
              "  <tbody>\n",
              "    <tr>\n",
              "      <th>count</th>\n",
              "      <td>1.904800e+04</td>\n",
              "      <td>4329.000000</td>\n",
              "      <td>8.000000</td>\n",
              "      <td>0.0</td>\n",
              "      <td>2.000000e+00</td>\n",
              "      <td>0.0</td>\n",
              "      <td>0.0</td>\n",
              "    </tr>\n",
              "    <tr>\n",
              "      <th>mean</th>\n",
              "      <td>4.132438e+07</td>\n",
              "      <td>16.746415</td>\n",
              "      <td>23.432500</td>\n",
              "      <td>NaN</td>\n",
              "      <td>3.934129e+11</td>\n",
              "      <td>NaN</td>\n",
              "      <td>NaN</td>\n",
              "    </tr>\n",
              "    <tr>\n",
              "      <th>std</th>\n",
              "      <td>4.032781e+09</td>\n",
              "      <td>25.337251</td>\n",
              "      <td>20.663362</td>\n",
              "      <td>NaN</td>\n",
              "      <td>4.002880e+07</td>\n",
              "      <td>NaN</td>\n",
              "      <td>NaN</td>\n",
              "    </tr>\n",
              "    <tr>\n",
              "      <th>min</th>\n",
              "      <td>0.000000e+00</td>\n",
              "      <td>0.040000</td>\n",
              "      <td>7.420000</td>\n",
              "      <td>NaN</td>\n",
              "      <td>3.933846e+11</td>\n",
              "      <td>NaN</td>\n",
              "      <td>NaN</td>\n",
              "    </tr>\n",
              "    <tr>\n",
              "      <th>25%</th>\n",
              "      <td>0.000000e+00</td>\n",
              "      <td>7.090000</td>\n",
              "      <td>8.110000</td>\n",
              "      <td>NaN</td>\n",
              "      <td>3.933987e+11</td>\n",
              "      <td>NaN</td>\n",
              "      <td>NaN</td>\n",
              "    </tr>\n",
              "    <tr>\n",
              "      <th>50%</th>\n",
              "      <td>0.000000e+00</td>\n",
              "      <td>10.730000</td>\n",
              "      <td>14.755000</td>\n",
              "      <td>NaN</td>\n",
              "      <td>3.934129e+11</td>\n",
              "      <td>NaN</td>\n",
              "      <td>NaN</td>\n",
              "    </tr>\n",
              "    <tr>\n",
              "      <th>75%</th>\n",
              "      <td>0.000000e+00</td>\n",
              "      <td>16.500000</td>\n",
              "      <td>32.790000</td>\n",
              "      <td>NaN</td>\n",
              "      <td>3.934270e+11</td>\n",
              "      <td>NaN</td>\n",
              "      <td>NaN</td>\n",
              "    </tr>\n",
              "    <tr>\n",
              "      <th>max</th>\n",
              "      <td>3.936661e+11</td>\n",
              "      <td>405.000000</td>\n",
              "      <td>66.450000</td>\n",
              "      <td>NaN</td>\n",
              "      <td>3.934412e+11</td>\n",
              "      <td>NaN</td>\n",
              "      <td>NaN</td>\n",
              "    </tr>\n",
              "  </tbody>\n",
              "</table>\n",
              "</div>"
            ],
            "text/plain": [
              "       Lineitem discount  Tax 1 Value  ...  Duties  Next Payment Due At\n",
              "count       1.904800e+04  4329.000000  ...     0.0                  0.0\n",
              "mean        4.132438e+07    16.746415  ...     NaN                  NaN\n",
              "std         4.032781e+09    25.337251  ...     NaN                  NaN\n",
              "min         0.000000e+00     0.040000  ...     NaN                  NaN\n",
              "25%         0.000000e+00     7.090000  ...     NaN                  NaN\n",
              "50%         0.000000e+00    10.730000  ...     NaN                  NaN\n",
              "75%         0.000000e+00    16.500000  ...     NaN                  NaN\n",
              "max         3.936661e+11   405.000000  ...     NaN                  NaN\n",
              "\n",
              "[8 rows x 7 columns]"
            ]
          },
          "metadata": {},
          "execution_count": 3
        }
      ]
    },
    {
      "cell_type": "code",
      "metadata": {
        "colab": {
          "base_uri": "https://localhost:8080/"
        },
        "id": "c-oR1GVEE599",
        "outputId": "df7cc9b7-b906-45be-c311-f8df5be8c44d"
      },
      "source": [
        "print(\"Data shape: {} row and {} column\".format(orders_customers_anonymised.shape[0], orders_customers_anonymised.shape[1]))"
      ],
      "id": "c-oR1GVEE599",
      "execution_count": null,
      "outputs": [
        {
          "output_type": "stream",
          "name": "stdout",
          "text": [
            "Data shape: 19677 row and 54 column\n"
          ]
        }
      ]
    },
    {
      "cell_type": "markdown",
      "metadata": {
        "id": "a6806bef"
      },
      "source": [
        "## Analyse des valeurs manquantes"
      ],
      "id": "a6806bef"
    },
    {
      "cell_type": "code",
      "metadata": {
        "colab": {
          "base_uri": "https://localhost:8080/",
          "height": 542
        },
        "id": "5c81ec38",
        "outputId": "eb967858-bf95-4a3c-9d4e-43f5725d4464"
      },
      "source": [
        "#count  missing values per column\n",
        "mv = orders_customers_anonymised.isnull().sum()\n",
        "mv_data = pd.DataFrame(mv,columns=['count NAN'])\n",
        "mv_data['column name'] = mv_data.index\n",
        "mv_data = mv_data.sort_values(by=['count NAN'])\n",
        "\n",
        "#plot\n",
        "fig = px.bar(mv_data, y='count NAN', x='column name', text='count NAN')\n",
        "fig.update_traces(texttemplate='%{text:.2s}', textposition='outside',marker_color=\"#2f6358\")\n",
        "fig.show()"
      ],
      "id": "5c81ec38",
      "execution_count": null,
      "outputs": [
        {
          "output_type": "display_data",
          "data": {
            "text/html": [
              "<html>\n",
              "<head><meta charset=\"utf-8\" /></head>\n",
              "<body>\n",
              "    <div>\n",
              "            <script src=\"https://cdnjs.cloudflare.com/ajax/libs/mathjax/2.7.5/MathJax.js?config=TeX-AMS-MML_SVG\"></script><script type=\"text/javascript\">if (window.MathJax) {MathJax.Hub.Config({SVG: {font: \"STIX-Web\"}});}</script>\n",
              "                <script type=\"text/javascript\">window.PlotlyConfig = {MathJaxConfig: 'local'};</script>\n",
              "        <script src=\"https://cdn.plot.ly/plotly-latest.min.js\"></script>    \n",
              "            <div id=\"96e846ac-e553-4220-b805-527f721174df\" class=\"plotly-graph-div\" style=\"height:525px; width:100%;\"></div>\n",
              "            <script type=\"text/javascript\">\n",
              "                \n",
              "                    window.PLOTLYENV=window.PLOTLYENV || {};\n",
              "                    \n",
              "                if (document.getElementById(\"96e846ac-e553-4220-b805-527f721174df\")) {\n",
              "                    Plotly.newPlot(\n",
              "                        '96e846ac-e553-4220-b805-527f721174df',\n",
              "                        [{\"alignmentgroup\": \"True\", \"hoverlabel\": {\"namelength\": 0}, \"hovertemplate\": \"column name=%{x}<br>count NAN=%{text}\", \"legendgroup\": \"\", \"marker\": {\"color\": \"#2f6358\"}, \"name\": \"\", \"offsetgroup\": \"\", \"orientation\": \"v\", \"showlegend\": false, \"text\": [0.0, 66.0, 392.0, 412.0, 412.0, 417.0, 418.0, 418.0, 422.0, 629.0, 632.0, 1008.0, 14410.0, 14410.0, 14412.0, 14419.0, 14421.0, 14421.0, 14437.0, 14472.0, 14566.0, 14584.0, 14611.0, 14659.0, 14807.0, 14809.0, 14810.0, 14811.0, 14829.0, 14833.0, 14865.0, 15170.0, 15174.0, 15348.0, 15348.0, 16355.0, 16362.0, 17975.0, 18729.0, 18766.0, 19618.0, 19624.0, 19669.0, 19669.0, 19674.0, 19675.0, 19676.0, 19676.0, 19676.0, 19676.0, 19676.0, 19677.0, 19677.0, 19677.0], \"textposition\": \"outside\", \"texttemplate\": \"%{text:.2s}\", \"type\": \"bar\", \"x\": [\"Customer id\", \"Name\", \"Lineitem taxable\", \"Lineitem quantity\", \"Created at\", \"Lineitem name\", \"Lineitem price\", \"Lineitem fulfillment status\", \"Lineitem requires shipping\", \"Lineitem discount\", \"Vendor\", \"Lineitem sku\", \"Currency\", \"Accepts Marketing\", \"Taxes\", \"Total\", \"Shipping\", \"Fulfillment Status\", \"Discount Amount\", \"Fulfilled at\", \"Subtotal\", \"Financial Status\", \"Shipping Country\", \"Billing City\", \"Risk Level\", \"Id\", \"Source\", \"Refunded Amount\", \"Note Attributes\", \"Shipping Province\", \"Paid at\", \" \", \"Payment Reference\", \"Tax 1 Value\", \"Tax 1 Name\", \"Discount Code\", \"Shipping Method\", \"Lineitem compare at price\", \"Notes\", \"Phone\", \"Cancelled at\", \"Tags\", \"Tax 2 Name\", \"Tax 2 Value\", \"Receipt Number\", \"Tax 4 Value\", \"Payment Terms Name\", \"Tax 3 Name\", \"Tax 3 Value\", \"Tax 5 Name\", \"Tax 5 Value\", \"Tax 4 Name\", \"Duties\", \"Next Payment Due At\"], \"xaxis\": \"x\", \"y\": [0, 66, 392, 412, 412, 417, 418, 418, 422, 629, 632, 1008, 14410, 14410, 14412, 14419, 14421, 14421, 14437, 14472, 14566, 14584, 14611, 14659, 14807, 14809, 14810, 14811, 14829, 14833, 14865, 15170, 15174, 15348, 15348, 16355, 16362, 17975, 18729, 18766, 19618, 19624, 19669, 19669, 19674, 19675, 19676, 19676, 19676, 19676, 19676, 19677, 19677, 19677], \"yaxis\": \"y\"}],\n",
              "                        {\"barmode\": \"relative\", \"legend\": {\"tracegroupgap\": 0}, \"margin\": {\"t\": 60}, \"template\": {\"data\": {\"bar\": [{\"error_x\": {\"color\": \"#2a3f5f\"}, \"error_y\": {\"color\": \"#2a3f5f\"}, \"marker\": {\"line\": {\"color\": \"#E5ECF6\", \"width\": 0.5}}, \"type\": \"bar\"}], \"barpolar\": [{\"marker\": {\"line\": {\"color\": \"#E5ECF6\", \"width\": 0.5}}, \"type\": \"barpolar\"}], \"carpet\": [{\"aaxis\": {\"endlinecolor\": \"#2a3f5f\", \"gridcolor\": \"white\", \"linecolor\": \"white\", \"minorgridcolor\": \"white\", \"startlinecolor\": \"#2a3f5f\"}, \"baxis\": {\"endlinecolor\": \"#2a3f5f\", \"gridcolor\": \"white\", \"linecolor\": \"white\", \"minorgridcolor\": \"white\", \"startlinecolor\": \"#2a3f5f\"}, \"type\": \"carpet\"}], \"choropleth\": [{\"colorbar\": {\"outlinewidth\": 0, \"ticks\": \"\"}, \"type\": \"choropleth\"}], \"contour\": [{\"colorbar\": {\"outlinewidth\": 0, \"ticks\": \"\"}, \"colorscale\": [[0.0, \"#0d0887\"], [0.1111111111111111, \"#46039f\"], [0.2222222222222222, \"#7201a8\"], [0.3333333333333333, \"#9c179e\"], [0.4444444444444444, \"#bd3786\"], [0.5555555555555556, \"#d8576b\"], [0.6666666666666666, \"#ed7953\"], [0.7777777777777778, \"#fb9f3a\"], [0.8888888888888888, \"#fdca26\"], [1.0, \"#f0f921\"]], \"type\": \"contour\"}], \"contourcarpet\": [{\"colorbar\": {\"outlinewidth\": 0, \"ticks\": \"\"}, \"type\": \"contourcarpet\"}], \"heatmap\": [{\"colorbar\": {\"outlinewidth\": 0, \"ticks\": \"\"}, \"colorscale\": [[0.0, \"#0d0887\"], [0.1111111111111111, \"#46039f\"], [0.2222222222222222, \"#7201a8\"], [0.3333333333333333, \"#9c179e\"], [0.4444444444444444, \"#bd3786\"], [0.5555555555555556, \"#d8576b\"], [0.6666666666666666, \"#ed7953\"], [0.7777777777777778, \"#fb9f3a\"], [0.8888888888888888, \"#fdca26\"], [1.0, \"#f0f921\"]], \"type\": \"heatmap\"}], \"heatmapgl\": [{\"colorbar\": {\"outlinewidth\": 0, \"ticks\": \"\"}, \"colorscale\": [[0.0, \"#0d0887\"], [0.1111111111111111, \"#46039f\"], [0.2222222222222222, \"#7201a8\"], [0.3333333333333333, \"#9c179e\"], [0.4444444444444444, \"#bd3786\"], [0.5555555555555556, \"#d8576b\"], [0.6666666666666666, \"#ed7953\"], [0.7777777777777778, \"#fb9f3a\"], [0.8888888888888888, \"#fdca26\"], [1.0, \"#f0f921\"]], \"type\": \"heatmapgl\"}], \"histogram\": [{\"marker\": {\"colorbar\": {\"outlinewidth\": 0, \"ticks\": \"\"}}, \"type\": \"histogram\"}], \"histogram2d\": [{\"colorbar\": {\"outlinewidth\": 0, \"ticks\": \"\"}, \"colorscale\": [[0.0, \"#0d0887\"], [0.1111111111111111, \"#46039f\"], [0.2222222222222222, \"#7201a8\"], [0.3333333333333333, \"#9c179e\"], [0.4444444444444444, \"#bd3786\"], [0.5555555555555556, \"#d8576b\"], [0.6666666666666666, \"#ed7953\"], [0.7777777777777778, \"#fb9f3a\"], [0.8888888888888888, \"#fdca26\"], [1.0, \"#f0f921\"]], \"type\": \"histogram2d\"}], \"histogram2dcontour\": [{\"colorbar\": {\"outlinewidth\": 0, \"ticks\": \"\"}, \"colorscale\": [[0.0, \"#0d0887\"], [0.1111111111111111, \"#46039f\"], [0.2222222222222222, \"#7201a8\"], [0.3333333333333333, \"#9c179e\"], [0.4444444444444444, \"#bd3786\"], [0.5555555555555556, \"#d8576b\"], [0.6666666666666666, \"#ed7953\"], [0.7777777777777778, \"#fb9f3a\"], [0.8888888888888888, \"#fdca26\"], [1.0, \"#f0f921\"]], \"type\": \"histogram2dcontour\"}], \"mesh3d\": [{\"colorbar\": {\"outlinewidth\": 0, \"ticks\": \"\"}, \"type\": \"mesh3d\"}], \"parcoords\": [{\"line\": {\"colorbar\": {\"outlinewidth\": 0, \"ticks\": \"\"}}, \"type\": \"parcoords\"}], \"pie\": [{\"automargin\": true, \"type\": \"pie\"}], \"scatter\": [{\"marker\": {\"colorbar\": {\"outlinewidth\": 0, \"ticks\": \"\"}}, \"type\": \"scatter\"}], \"scatter3d\": [{\"line\": {\"colorbar\": {\"outlinewidth\": 0, \"ticks\": \"\"}}, \"marker\": {\"colorbar\": {\"outlinewidth\": 0, \"ticks\": \"\"}}, \"type\": \"scatter3d\"}], \"scattercarpet\": [{\"marker\": {\"colorbar\": {\"outlinewidth\": 0, \"ticks\": \"\"}}, \"type\": \"scattercarpet\"}], \"scattergeo\": [{\"marker\": {\"colorbar\": {\"outlinewidth\": 0, \"ticks\": \"\"}}, \"type\": \"scattergeo\"}], \"scattergl\": [{\"marker\": {\"colorbar\": {\"outlinewidth\": 0, \"ticks\": \"\"}}, \"type\": \"scattergl\"}], \"scattermapbox\": [{\"marker\": {\"colorbar\": {\"outlinewidth\": 0, \"ticks\": \"\"}}, \"type\": \"scattermapbox\"}], \"scatterpolar\": [{\"marker\": {\"colorbar\": {\"outlinewidth\": 0, \"ticks\": \"\"}}, \"type\": \"scatterpolar\"}], \"scatterpolargl\": [{\"marker\": {\"colorbar\": {\"outlinewidth\": 0, \"ticks\": \"\"}}, \"type\": \"scatterpolargl\"}], \"scatterternary\": [{\"marker\": {\"colorbar\": {\"outlinewidth\": 0, \"ticks\": \"\"}}, \"type\": \"scatterternary\"}], \"surface\": [{\"colorbar\": {\"outlinewidth\": 0, \"ticks\": \"\"}, \"colorscale\": [[0.0, \"#0d0887\"], [0.1111111111111111, \"#46039f\"], [0.2222222222222222, \"#7201a8\"], [0.3333333333333333, \"#9c179e\"], [0.4444444444444444, \"#bd3786\"], [0.5555555555555556, \"#d8576b\"], [0.6666666666666666, \"#ed7953\"], [0.7777777777777778, \"#fb9f3a\"], [0.8888888888888888, \"#fdca26\"], [1.0, \"#f0f921\"]], \"type\": \"surface\"}], \"table\": [{\"cells\": {\"fill\": {\"color\": \"#EBF0F8\"}, \"line\": {\"color\": \"white\"}}, \"header\": {\"fill\": {\"color\": \"#C8D4E3\"}, \"line\": {\"color\": \"white\"}}, \"type\": \"table\"}]}, \"layout\": {\"annotationdefaults\": {\"arrowcolor\": \"#2a3f5f\", \"arrowhead\": 0, \"arrowwidth\": 1}, \"coloraxis\": {\"colorbar\": {\"outlinewidth\": 0, \"ticks\": \"\"}}, \"colorscale\": {\"diverging\": [[0, \"#8e0152\"], [0.1, \"#c51b7d\"], [0.2, \"#de77ae\"], [0.3, \"#f1b6da\"], [0.4, \"#fde0ef\"], [0.5, \"#f7f7f7\"], [0.6, \"#e6f5d0\"], [0.7, \"#b8e186\"], [0.8, \"#7fbc41\"], [0.9, \"#4d9221\"], [1, \"#276419\"]], \"sequential\": [[0.0, \"#0d0887\"], [0.1111111111111111, \"#46039f\"], [0.2222222222222222, \"#7201a8\"], [0.3333333333333333, \"#9c179e\"], [0.4444444444444444, \"#bd3786\"], [0.5555555555555556, \"#d8576b\"], [0.6666666666666666, \"#ed7953\"], [0.7777777777777778, \"#fb9f3a\"], [0.8888888888888888, \"#fdca26\"], [1.0, \"#f0f921\"]], \"sequentialminus\": [[0.0, \"#0d0887\"], [0.1111111111111111, \"#46039f\"], [0.2222222222222222, \"#7201a8\"], [0.3333333333333333, \"#9c179e\"], [0.4444444444444444, \"#bd3786\"], [0.5555555555555556, \"#d8576b\"], [0.6666666666666666, \"#ed7953\"], [0.7777777777777778, \"#fb9f3a\"], [0.8888888888888888, \"#fdca26\"], [1.0, \"#f0f921\"]]}, \"colorway\": [\"#636efa\", \"#EF553B\", \"#00cc96\", \"#ab63fa\", \"#FFA15A\", \"#19d3f3\", \"#FF6692\", \"#B6E880\", \"#FF97FF\", \"#FECB52\"], \"font\": {\"color\": \"#2a3f5f\"}, \"geo\": {\"bgcolor\": \"white\", \"lakecolor\": \"white\", \"landcolor\": \"#E5ECF6\", \"showlakes\": true, \"showland\": true, \"subunitcolor\": \"white\"}, \"hoverlabel\": {\"align\": \"left\"}, \"hovermode\": \"closest\", \"mapbox\": {\"style\": \"light\"}, \"paper_bgcolor\": \"white\", \"plot_bgcolor\": \"#E5ECF6\", \"polar\": {\"angularaxis\": {\"gridcolor\": \"white\", \"linecolor\": \"white\", \"ticks\": \"\"}, \"bgcolor\": \"#E5ECF6\", \"radialaxis\": {\"gridcolor\": \"white\", \"linecolor\": \"white\", \"ticks\": \"\"}}, \"scene\": {\"xaxis\": {\"backgroundcolor\": \"#E5ECF6\", \"gridcolor\": \"white\", \"gridwidth\": 2, \"linecolor\": \"white\", \"showbackground\": true, \"ticks\": \"\", \"zerolinecolor\": \"white\"}, \"yaxis\": {\"backgroundcolor\": \"#E5ECF6\", \"gridcolor\": \"white\", \"gridwidth\": 2, \"linecolor\": \"white\", \"showbackground\": true, \"ticks\": \"\", \"zerolinecolor\": \"white\"}, \"zaxis\": {\"backgroundcolor\": \"#E5ECF6\", \"gridcolor\": \"white\", \"gridwidth\": 2, \"linecolor\": \"white\", \"showbackground\": true, \"ticks\": \"\", \"zerolinecolor\": \"white\"}}, \"shapedefaults\": {\"line\": {\"color\": \"#2a3f5f\"}}, \"ternary\": {\"aaxis\": {\"gridcolor\": \"white\", \"linecolor\": \"white\", \"ticks\": \"\"}, \"baxis\": {\"gridcolor\": \"white\", \"linecolor\": \"white\", \"ticks\": \"\"}, \"bgcolor\": \"#E5ECF6\", \"caxis\": {\"gridcolor\": \"white\", \"linecolor\": \"white\", \"ticks\": \"\"}}, \"title\": {\"x\": 0.05}, \"xaxis\": {\"automargin\": true, \"gridcolor\": \"white\", \"linecolor\": \"white\", \"ticks\": \"\", \"title\": {\"standoff\": 15}, \"zerolinecolor\": \"white\", \"zerolinewidth\": 2}, \"yaxis\": {\"automargin\": true, \"gridcolor\": \"white\", \"linecolor\": \"white\", \"ticks\": \"\", \"title\": {\"standoff\": 15}, \"zerolinecolor\": \"white\", \"zerolinewidth\": 2}}}, \"xaxis\": {\"anchor\": \"y\", \"domain\": [0.0, 1.0], \"title\": {\"text\": \"column name\"}}, \"yaxis\": {\"anchor\": \"x\", \"domain\": [0.0, 1.0], \"title\": {\"text\": \"count NAN\"}}},\n",
              "                        {\"responsive\": true}\n",
              "                    ).then(function(){\n",
              "                            \n",
              "var gd = document.getElementById('96e846ac-e553-4220-b805-527f721174df');\n",
              "var x = new MutationObserver(function (mutations, observer) {{\n",
              "        var display = window.getComputedStyle(gd).display;\n",
              "        if (!display || display === 'none') {{\n",
              "            console.log([gd, 'removed!']);\n",
              "            Plotly.purge(gd);\n",
              "            observer.disconnect();\n",
              "        }}\n",
              "}});\n",
              "\n",
              "// Listen for the removal of the full notebook cells\n",
              "var notebookContainer = gd.closest('#notebook-container');\n",
              "if (notebookContainer) {{\n",
              "    x.observe(notebookContainer, {childList: true});\n",
              "}}\n",
              "\n",
              "// Listen for the clearing of the current output cell\n",
              "var outputEl = gd.closest('.output');\n",
              "if (outputEl) {{\n",
              "    x.observe(outputEl, {childList: true});\n",
              "}}\n",
              "\n",
              "                        })\n",
              "                };\n",
              "                \n",
              "            </script>\n",
              "        </div>\n",
              "</body>\n",
              "</html>"
            ]
          },
          "metadata": {}
        }
      ]
    },
    {
      "cell_type": "markdown",
      "metadata": {
        "id": "6040898e"
      },
      "source": [
        "## Remplir les colonnes contenant des chaînes vide avec Nan\n",
        "\n",
        "\n"
      ],
      "id": "6040898e"
    },
    {
      "cell_type": "code",
      "metadata": {
        "id": "5b27a96f"
      },
      "source": [
        "orders_customers_anonymised = orders_customers_anonymised.replace(' ', np.nan)"
      ],
      "id": "5b27a96f",
      "execution_count": null,
      "outputs": []
    },
    {
      "cell_type": "markdown",
      "metadata": {
        "id": "zkElddCv8SWe"
      },
      "source": [
        "\n",
        "\n",
        "\n",
        "### Nombre de valeurs manquantes après avoir rempli les chaines vides"
      ],
      "id": "zkElddCv8SWe"
    },
    {
      "cell_type": "code",
      "metadata": {
        "colab": {
          "base_uri": "https://localhost:8080/",
          "height": 542
        },
        "id": "ATwCFOUXGlU1",
        "outputId": "3ea68b97-fe09-46bc-e191-2e28341df051"
      },
      "source": [
        "mv = orders_customers_anonymised.isnull().sum()\n",
        "mv_data = pd.DataFrame(mv,columns=['count NAN'])\n",
        "mv_data['column name'] = mv_data.index\n",
        "mv_data = mv_data.sort_values(by=['count NAN'])\n",
        "\n",
        "#plot\n",
        "fig = px.bar(mv_data, y='count NAN', x='column name', text='count NAN')\n",
        "fig.update_traces(texttemplate='%{text:.2s}', textposition='outside',marker_color=\"#2f6358\")\n",
        "fig.show()"
      ],
      "id": "ATwCFOUXGlU1",
      "execution_count": null,
      "outputs": [
        {
          "output_type": "display_data",
          "data": {
            "text/html": [
              "<html>\n",
              "<head><meta charset=\"utf-8\" /></head>\n",
              "<body>\n",
              "    <div>\n",
              "            <script src=\"https://cdnjs.cloudflare.com/ajax/libs/mathjax/2.7.5/MathJax.js?config=TeX-AMS-MML_SVG\"></script><script type=\"text/javascript\">if (window.MathJax) {MathJax.Hub.Config({SVG: {font: \"STIX-Web\"}});}</script>\n",
              "                <script type=\"text/javascript\">window.PlotlyConfig = {MathJaxConfig: 'local'};</script>\n",
              "        <script src=\"https://cdn.plot.ly/plotly-latest.min.js\"></script>    \n",
              "            <div id=\"b95c3ec8-e77c-4b5a-9ced-39bc7eba87b0\" class=\"plotly-graph-div\" style=\"height:525px; width:100%;\"></div>\n",
              "            <script type=\"text/javascript\">\n",
              "                \n",
              "                    window.PLOTLYENV=window.PLOTLYENV || {};\n",
              "                    \n",
              "                if (document.getElementById(\"b95c3ec8-e77c-4b5a-9ced-39bc7eba87b0\")) {\n",
              "                    Plotly.newPlot(\n",
              "                        'b95c3ec8-e77c-4b5a-9ced-39bc7eba87b0',\n",
              "                        [{\"alignmentgroup\": \"True\", \"hoverlabel\": {\"namelength\": 0}, \"hovertemplate\": \"column name=%{x}<br>count NAN=%{text}\", \"legendgroup\": \"\", \"marker\": {\"color\": \"#2f6358\"}, \"name\": \"\", \"offsetgroup\": \"\", \"orientation\": \"v\", \"showlegend\": false, \"text\": [67.0, 392.0, 412.0, 412.0, 417.0, 418.0, 418.0, 422.0, 629.0, 632.0, 1008.0, 10897.0, 14410.0, 14410.0, 14412.0, 14419.0, 14421.0, 14421.0, 14437.0, 14472.0, 14566.0, 14584.0, 14611.0, 14659.0, 14807.0, 14809.0, 14810.0, 14811.0, 14829.0, 14833.0, 14865.0, 15170.0, 15174.0, 15348.0, 15348.0, 16355.0, 16362.0, 17975.0, 18731.0, 18766.0, 19618.0, 19624.0, 19669.0, 19669.0, 19674.0, 19675.0, 19676.0, 19676.0, 19676.0, 19676.0, 19676.0, 19677.0, 19677.0, 19677.0], \"textposition\": \"outside\", \"texttemplate\": \"%{text:.2s}\", \"type\": \"bar\", \"x\": [\"Name\", \"Lineitem taxable\", \"Lineitem quantity\", \"Created at\", \"Lineitem name\", \"Lineitem price\", \"Lineitem fulfillment status\", \"Lineitem requires shipping\", \"Lineitem discount\", \"Vendor\", \"Lineitem sku\", \"Customer id\", \"Accepts Marketing\", \"Currency\", \"Taxes\", \"Total\", \"Shipping\", \"Fulfillment Status\", \"Discount Amount\", \"Fulfilled at\", \"Subtotal\", \"Financial Status\", \"Shipping Country\", \"Billing City\", \"Risk Level\", \"Id\", \"Source\", \"Refunded Amount\", \"Note Attributes\", \"Shipping Province\", \"Paid at\", \" \", \"Payment Reference\", \"Tax 1 Value\", \"Tax 1 Name\", \"Discount Code\", \"Shipping Method\", \"Lineitem compare at price\", \"Notes\", \"Phone\", \"Cancelled at\", \"Tags\", \"Tax 2 Name\", \"Tax 2 Value\", \"Receipt Number\", \"Tax 4 Value\", \"Payment Terms Name\", \"Tax 3 Name\", \"Tax 3 Value\", \"Tax 5 Name\", \"Tax 5 Value\", \"Tax 4 Name\", \"Duties\", \"Next Payment Due At\"], \"xaxis\": \"x\", \"y\": [67, 392, 412, 412, 417, 418, 418, 422, 629, 632, 1008, 10897, 14410, 14410, 14412, 14419, 14421, 14421, 14437, 14472, 14566, 14584, 14611, 14659, 14807, 14809, 14810, 14811, 14829, 14833, 14865, 15170, 15174, 15348, 15348, 16355, 16362, 17975, 18731, 18766, 19618, 19624, 19669, 19669, 19674, 19675, 19676, 19676, 19676, 19676, 19676, 19677, 19677, 19677], \"yaxis\": \"y\"}],\n",
              "                        {\"barmode\": \"relative\", \"legend\": {\"tracegroupgap\": 0}, \"margin\": {\"t\": 60}, \"template\": {\"data\": {\"bar\": [{\"error_x\": {\"color\": \"#2a3f5f\"}, \"error_y\": {\"color\": \"#2a3f5f\"}, \"marker\": {\"line\": {\"color\": \"#E5ECF6\", \"width\": 0.5}}, \"type\": \"bar\"}], \"barpolar\": [{\"marker\": {\"line\": {\"color\": \"#E5ECF6\", \"width\": 0.5}}, \"type\": \"barpolar\"}], \"carpet\": [{\"aaxis\": {\"endlinecolor\": \"#2a3f5f\", \"gridcolor\": \"white\", \"linecolor\": \"white\", \"minorgridcolor\": \"white\", \"startlinecolor\": \"#2a3f5f\"}, \"baxis\": {\"endlinecolor\": \"#2a3f5f\", \"gridcolor\": \"white\", \"linecolor\": \"white\", \"minorgridcolor\": \"white\", \"startlinecolor\": \"#2a3f5f\"}, \"type\": \"carpet\"}], \"choropleth\": [{\"colorbar\": {\"outlinewidth\": 0, \"ticks\": \"\"}, \"type\": \"choropleth\"}], \"contour\": [{\"colorbar\": {\"outlinewidth\": 0, \"ticks\": \"\"}, \"colorscale\": [[0.0, \"#0d0887\"], [0.1111111111111111, \"#46039f\"], [0.2222222222222222, \"#7201a8\"], [0.3333333333333333, \"#9c179e\"], [0.4444444444444444, \"#bd3786\"], [0.5555555555555556, \"#d8576b\"], [0.6666666666666666, \"#ed7953\"], [0.7777777777777778, \"#fb9f3a\"], [0.8888888888888888, \"#fdca26\"], [1.0, \"#f0f921\"]], \"type\": \"contour\"}], \"contourcarpet\": [{\"colorbar\": {\"outlinewidth\": 0, \"ticks\": \"\"}, \"type\": \"contourcarpet\"}], \"heatmap\": [{\"colorbar\": {\"outlinewidth\": 0, \"ticks\": \"\"}, \"colorscale\": [[0.0, \"#0d0887\"], [0.1111111111111111, \"#46039f\"], [0.2222222222222222, \"#7201a8\"], [0.3333333333333333, \"#9c179e\"], [0.4444444444444444, \"#bd3786\"], [0.5555555555555556, \"#d8576b\"], [0.6666666666666666, \"#ed7953\"], [0.7777777777777778, \"#fb9f3a\"], [0.8888888888888888, \"#fdca26\"], [1.0, \"#f0f921\"]], \"type\": \"heatmap\"}], \"heatmapgl\": [{\"colorbar\": {\"outlinewidth\": 0, \"ticks\": \"\"}, \"colorscale\": [[0.0, \"#0d0887\"], [0.1111111111111111, \"#46039f\"], [0.2222222222222222, \"#7201a8\"], [0.3333333333333333, \"#9c179e\"], [0.4444444444444444, \"#bd3786\"], [0.5555555555555556, \"#d8576b\"], [0.6666666666666666, \"#ed7953\"], [0.7777777777777778, \"#fb9f3a\"], [0.8888888888888888, \"#fdca26\"], [1.0, \"#f0f921\"]], \"type\": \"heatmapgl\"}], \"histogram\": [{\"marker\": {\"colorbar\": {\"outlinewidth\": 0, \"ticks\": \"\"}}, \"type\": \"histogram\"}], \"histogram2d\": [{\"colorbar\": {\"outlinewidth\": 0, \"ticks\": \"\"}, \"colorscale\": [[0.0, \"#0d0887\"], [0.1111111111111111, \"#46039f\"], [0.2222222222222222, \"#7201a8\"], [0.3333333333333333, \"#9c179e\"], [0.4444444444444444, \"#bd3786\"], [0.5555555555555556, \"#d8576b\"], [0.6666666666666666, \"#ed7953\"], [0.7777777777777778, \"#fb9f3a\"], [0.8888888888888888, \"#fdca26\"], [1.0, \"#f0f921\"]], \"type\": \"histogram2d\"}], \"histogram2dcontour\": [{\"colorbar\": {\"outlinewidth\": 0, \"ticks\": \"\"}, \"colorscale\": [[0.0, \"#0d0887\"], [0.1111111111111111, \"#46039f\"], [0.2222222222222222, \"#7201a8\"], [0.3333333333333333, \"#9c179e\"], [0.4444444444444444, \"#bd3786\"], [0.5555555555555556, \"#d8576b\"], [0.6666666666666666, \"#ed7953\"], [0.7777777777777778, \"#fb9f3a\"], [0.8888888888888888, \"#fdca26\"], [1.0, \"#f0f921\"]], \"type\": \"histogram2dcontour\"}], \"mesh3d\": [{\"colorbar\": {\"outlinewidth\": 0, \"ticks\": \"\"}, \"type\": \"mesh3d\"}], \"parcoords\": [{\"line\": {\"colorbar\": {\"outlinewidth\": 0, \"ticks\": \"\"}}, \"type\": \"parcoords\"}], \"pie\": [{\"automargin\": true, \"type\": \"pie\"}], \"scatter\": [{\"marker\": {\"colorbar\": {\"outlinewidth\": 0, \"ticks\": \"\"}}, \"type\": \"scatter\"}], \"scatter3d\": [{\"line\": {\"colorbar\": {\"outlinewidth\": 0, \"ticks\": \"\"}}, \"marker\": {\"colorbar\": {\"outlinewidth\": 0, \"ticks\": \"\"}}, \"type\": \"scatter3d\"}], \"scattercarpet\": [{\"marker\": {\"colorbar\": {\"outlinewidth\": 0, \"ticks\": \"\"}}, \"type\": \"scattercarpet\"}], \"scattergeo\": [{\"marker\": {\"colorbar\": {\"outlinewidth\": 0, \"ticks\": \"\"}}, \"type\": \"scattergeo\"}], \"scattergl\": [{\"marker\": {\"colorbar\": {\"outlinewidth\": 0, \"ticks\": \"\"}}, \"type\": \"scattergl\"}], \"scattermapbox\": [{\"marker\": {\"colorbar\": {\"outlinewidth\": 0, \"ticks\": \"\"}}, \"type\": \"scattermapbox\"}], \"scatterpolar\": [{\"marker\": {\"colorbar\": {\"outlinewidth\": 0, \"ticks\": \"\"}}, \"type\": \"scatterpolar\"}], \"scatterpolargl\": [{\"marker\": {\"colorbar\": {\"outlinewidth\": 0, \"ticks\": \"\"}}, \"type\": \"scatterpolargl\"}], \"scatterternary\": [{\"marker\": {\"colorbar\": {\"outlinewidth\": 0, \"ticks\": \"\"}}, \"type\": \"scatterternary\"}], \"surface\": [{\"colorbar\": {\"outlinewidth\": 0, \"ticks\": \"\"}, \"colorscale\": [[0.0, \"#0d0887\"], [0.1111111111111111, \"#46039f\"], [0.2222222222222222, \"#7201a8\"], [0.3333333333333333, \"#9c179e\"], [0.4444444444444444, \"#bd3786\"], [0.5555555555555556, \"#d8576b\"], [0.6666666666666666, \"#ed7953\"], [0.7777777777777778, \"#fb9f3a\"], [0.8888888888888888, \"#fdca26\"], [1.0, \"#f0f921\"]], \"type\": \"surface\"}], \"table\": [{\"cells\": {\"fill\": {\"color\": \"#EBF0F8\"}, \"line\": {\"color\": \"white\"}}, \"header\": {\"fill\": {\"color\": \"#C8D4E3\"}, \"line\": {\"color\": \"white\"}}, \"type\": \"table\"}]}, \"layout\": {\"annotationdefaults\": {\"arrowcolor\": \"#2a3f5f\", \"arrowhead\": 0, \"arrowwidth\": 1}, \"coloraxis\": {\"colorbar\": {\"outlinewidth\": 0, \"ticks\": \"\"}}, \"colorscale\": {\"diverging\": [[0, \"#8e0152\"], [0.1, \"#c51b7d\"], [0.2, \"#de77ae\"], [0.3, \"#f1b6da\"], [0.4, \"#fde0ef\"], [0.5, \"#f7f7f7\"], [0.6, \"#e6f5d0\"], [0.7, \"#b8e186\"], [0.8, \"#7fbc41\"], [0.9, \"#4d9221\"], [1, \"#276419\"]], \"sequential\": [[0.0, \"#0d0887\"], [0.1111111111111111, \"#46039f\"], [0.2222222222222222, \"#7201a8\"], [0.3333333333333333, \"#9c179e\"], [0.4444444444444444, \"#bd3786\"], [0.5555555555555556, \"#d8576b\"], [0.6666666666666666, \"#ed7953\"], [0.7777777777777778, \"#fb9f3a\"], [0.8888888888888888, \"#fdca26\"], [1.0, \"#f0f921\"]], \"sequentialminus\": [[0.0, \"#0d0887\"], [0.1111111111111111, \"#46039f\"], [0.2222222222222222, \"#7201a8\"], [0.3333333333333333, \"#9c179e\"], [0.4444444444444444, \"#bd3786\"], [0.5555555555555556, \"#d8576b\"], [0.6666666666666666, \"#ed7953\"], [0.7777777777777778, \"#fb9f3a\"], [0.8888888888888888, \"#fdca26\"], [1.0, \"#f0f921\"]]}, \"colorway\": [\"#636efa\", \"#EF553B\", \"#00cc96\", \"#ab63fa\", \"#FFA15A\", \"#19d3f3\", \"#FF6692\", \"#B6E880\", \"#FF97FF\", \"#FECB52\"], \"font\": {\"color\": \"#2a3f5f\"}, \"geo\": {\"bgcolor\": \"white\", \"lakecolor\": \"white\", \"landcolor\": \"#E5ECF6\", \"showlakes\": true, \"showland\": true, \"subunitcolor\": \"white\"}, \"hoverlabel\": {\"align\": \"left\"}, \"hovermode\": \"closest\", \"mapbox\": {\"style\": \"light\"}, \"paper_bgcolor\": \"white\", \"plot_bgcolor\": \"#E5ECF6\", \"polar\": {\"angularaxis\": {\"gridcolor\": \"white\", \"linecolor\": \"white\", \"ticks\": \"\"}, \"bgcolor\": \"#E5ECF6\", \"radialaxis\": {\"gridcolor\": \"white\", \"linecolor\": \"white\", \"ticks\": \"\"}}, \"scene\": {\"xaxis\": {\"backgroundcolor\": \"#E5ECF6\", \"gridcolor\": \"white\", \"gridwidth\": 2, \"linecolor\": \"white\", \"showbackground\": true, \"ticks\": \"\", \"zerolinecolor\": \"white\"}, \"yaxis\": {\"backgroundcolor\": \"#E5ECF6\", \"gridcolor\": \"white\", \"gridwidth\": 2, \"linecolor\": \"white\", \"showbackground\": true, \"ticks\": \"\", \"zerolinecolor\": \"white\"}, \"zaxis\": {\"backgroundcolor\": \"#E5ECF6\", \"gridcolor\": \"white\", \"gridwidth\": 2, \"linecolor\": \"white\", \"showbackground\": true, \"ticks\": \"\", \"zerolinecolor\": \"white\"}}, \"shapedefaults\": {\"line\": {\"color\": \"#2a3f5f\"}}, \"ternary\": {\"aaxis\": {\"gridcolor\": \"white\", \"linecolor\": \"white\", \"ticks\": \"\"}, \"baxis\": {\"gridcolor\": \"white\", \"linecolor\": \"white\", \"ticks\": \"\"}, \"bgcolor\": \"#E5ECF6\", \"caxis\": {\"gridcolor\": \"white\", \"linecolor\": \"white\", \"ticks\": \"\"}}, \"title\": {\"x\": 0.05}, \"xaxis\": {\"automargin\": true, \"gridcolor\": \"white\", \"linecolor\": \"white\", \"ticks\": \"\", \"title\": {\"standoff\": 15}, \"zerolinecolor\": \"white\", \"zerolinewidth\": 2}, \"yaxis\": {\"automargin\": true, \"gridcolor\": \"white\", \"linecolor\": \"white\", \"ticks\": \"\", \"title\": {\"standoff\": 15}, \"zerolinecolor\": \"white\", \"zerolinewidth\": 2}}}, \"xaxis\": {\"anchor\": \"y\", \"domain\": [0.0, 1.0], \"title\": {\"text\": \"column name\"}}, \"yaxis\": {\"anchor\": \"x\", \"domain\": [0.0, 1.0], \"title\": {\"text\": \"count NAN\"}}},\n",
              "                        {\"responsive\": true}\n",
              "                    ).then(function(){\n",
              "                            \n",
              "var gd = document.getElementById('b95c3ec8-e77c-4b5a-9ced-39bc7eba87b0');\n",
              "var x = new MutationObserver(function (mutations, observer) {{\n",
              "        var display = window.getComputedStyle(gd).display;\n",
              "        if (!display || display === 'none') {{\n",
              "            console.log([gd, 'removed!']);\n",
              "            Plotly.purge(gd);\n",
              "            observer.disconnect();\n",
              "        }}\n",
              "}});\n",
              "\n",
              "// Listen for the removal of the full notebook cells\n",
              "var notebookContainer = gd.closest('#notebook-container');\n",
              "if (notebookContainer) {{\n",
              "    x.observe(notebookContainer, {childList: true});\n",
              "}}\n",
              "\n",
              "// Listen for the clearing of the current output cell\n",
              "var outputEl = gd.closest('.output');\n",
              "if (outputEl) {{\n",
              "    x.observe(outputEl, {childList: true});\n",
              "}}\n",
              "\n",
              "                        })\n",
              "                };\n",
              "                \n",
              "            </script>\n",
              "        </div>\n",
              "</body>\n",
              "</html>"
            ]
          },
          "metadata": {}
        }
      ]
    },
    {
      "cell_type": "markdown",
      "metadata": {
        "id": "kMbNin2fBUK3"
      },
      "source": [
        "## Conserver uniquement les lignes avec des identifiants valide\n",
        "\n",
        "La colonne Name représente l'identifiant des achats, l'identifiant commence toujours par #.\n",
        "\n",
        "\n",
        "\n",
        "\n"
      ],
      "id": "kMbNin2fBUK3"
    },
    {
      "cell_type": "code",
      "metadata": {
        "id": "24cfb167",
        "colab": {
          "base_uri": "https://localhost:8080/"
        },
        "outputId": "683db43a-962b-4891-a87c-273045d906dd"
      },
      "source": [
        "print('{:,} rows; {:,} columns'\n",
        "      .format(orders_customers_anonymised.shape[0], orders_customers_anonymised.shape[1]))\n",
        "print('{:,} transactions don\\'t have a Name id'\n",
        "      .format(orders_customers_anonymised[orders_customers_anonymised[\"Name\"].isnull()].shape[0]))\n",
        "print(\"-------------------------------\")\n",
        "orders_customers_anonymised['Name'] = orders_customers_anonymised['Name'].astype(str)\n",
        "filter = orders_customers_anonymised['Name'].str.contains(\"^#\\d{5}\")\n",
        "orders_customers_anonymised = orders_customers_anonymised[filter]\n",
        "\n",
        "###############\n",
        "\n",
        "print('{:,} rows; {:,} columns'\n",
        "      .format(orders_customers_anonymised.shape[0], orders_customers_anonymised.shape[1]))\n",
        "print('{:,} transactions don\\'t have a Name id'\n",
        "      .format(orders_customers_anonymised[orders_customers_anonymised[\"Name\"].isnull()].shape[0]))\n",
        "print('{:} number of unique Name id'.format(orders_customers_anonymised[\"Name\"].nunique()))"
      ],
      "id": "24cfb167",
      "execution_count": null,
      "outputs": [
        {
          "output_type": "stream",
          "name": "stdout",
          "text": [
            "19,677 rows; 54 columns\n",
            "67 transactions don't have a Name id\n",
            "-------------------------------\n",
            "15,876 rows; 54 columns\n",
            "0 transactions don't have a Name id\n",
            "4436 number of unique Name id\n"
          ]
        }
      ]
    },
    {
      "cell_type": "markdown",
      "metadata": {
        "id": "EUnwqoQKCxbZ"
      },
      "source": [
        "## Conserver uniquement les lignes avec un identifiant client valide\n",
        "\n"
      ],
      "id": "EUnwqoQKCxbZ"
    },
    {
      "cell_type": "code",
      "metadata": {
        "colab": {
          "base_uri": "https://localhost:8080/"
        },
        "id": "caf23734",
        "outputId": "584e5a2e-a871-4ab3-f1ad-eabb983266fb"
      },
      "source": [
        "print('{:,} rows; {:,} columns'\n",
        "      .format(orders_customers_anonymised.shape[0], orders_customers_anonymised.shape[1]))\n",
        "print('{:,} transactions don\\'t have a customer id'\n",
        "      .format(orders_customers_anonymised[orders_customers_anonymised[\"Customer id\"].isnull()].shape[0]))\n",
        "print('Transactions timeframe from {} to {}'.format(orders_customers_anonymised['Created at'].min(),\n",
        "                                    orders_customers_anonymised['Created at'].max()))\n",
        "#######################################\n",
        "orders_customers_anonymised = orders_customers_anonymised[orders_customers_anonymised['Customer id'].notna()]\n",
        "orders_customers_anonymised['Customer id'] = orders_customers_anonymised['Customer id'].astype(int)\n",
        "#######################################\n",
        "print(\"-------------------------------\")\n",
        "print(\"Keeping only clients with ID\")\n",
        "print(\"-------------------------------\")\n",
        "\n",
        "print('{:,} rows; {:,} columns'\n",
        "      .format(orders_customers_anonymised.shape[0], orders_customers_anonymised.shape[1]))\n",
        "print('{:,} transactions don\\'t have a customer id'\n",
        "      .format(orders_customers_anonymised[orders_customers_anonymised[\"Customer id\"].isnull()].shape[0]))\n",
        "print('Transactions timeframe from {} to {}'.format(orders_customers_anonymised['Created at'].min(),\n",
        "                                    orders_customers_anonymised['Created at'].max()))\n",
        "print(\"-------------------------------\")\n",
        "print('number of clients having id; {} '.format(orders_customers_anonymised[\"Customer id\"].nunique()))"
      ],
      "id": "caf23734",
      "execution_count": null,
      "outputs": [
        {
          "output_type": "stream",
          "name": "stdout",
          "text": [
            "15,876 rows; 54 columns\n",
            "7,954 transactions don't have a customer id\n",
            "Transactions timeframe from 2020-03-12 10:41:22 +0100 to 2021-09-23 09:43:20 +0200\n",
            "-------------------------------\n",
            "Keeping only clients with ID\n",
            "-------------------------------\n",
            "7,922 rows; 54 columns\n",
            "0 transactions don't have a customer id\n",
            "Transactions timeframe from 2020-03-12 11:46:19 +0100 to 2021-09-23 09:43:20 +0200\n",
            "-------------------------------\n",
            "number of clients having id; 1298 \n"
          ]
        }
      ]
    },
    {
      "cell_type": "markdown",
      "metadata": {
        "id": "ouj5DskmlYam"
      },
      "source": [
        "## Supprimer les colonnes où tous les éléments sont des NaN\n"
      ],
      "id": "ouj5DskmlYam"
    },
    {
      "cell_type": "code",
      "metadata": {
        "colab": {
          "base_uri": "https://localhost:8080/"
        },
        "id": "cc4566a9",
        "outputId": "aed3e0b2-62e5-4dba-a00a-6e64d6e5a085"
      },
      "source": [
        "x = orders_customers_anonymised.shape[1]\n",
        "print(\"number of columns before elimination %s\"% x)\n",
        "orders_customers_anonymised = orders_customers_anonymised.dropna(axis=1, how='all')\n",
        "x = orders_customers_anonymised.shape[1]\n",
        "print(\"-------------------------------\")\n",
        "print(\"number of columns after elimination %s\"% x)"
      ],
      "id": "cc4566a9",
      "execution_count": null,
      "outputs": [
        {
          "output_type": "stream",
          "name": "stdout",
          "text": [
            "number of columns before elimination 54\n",
            "-------------------------------\n",
            "number of columns after elimination 44\n"
          ]
        }
      ]
    },
    {
      "cell_type": "markdown",
      "metadata": {
        "id": "StDhrHI-82F1"
      },
      "source": [
        "\n",
        "\n",
        "## Statistique des valeurs manquantes après nettoyage\n",
        "\n",
        "\n"
      ],
      "id": "StDhrHI-82F1"
    },
    {
      "cell_type": "code",
      "metadata": {
        "colab": {
          "base_uri": "https://localhost:8080/",
          "height": 542
        },
        "id": "tAtKTzo9lTXb",
        "outputId": "6c82c9b1-fe36-4fd5-f107-bf7872d7da1f"
      },
      "source": [
        "# count missing values per column \n",
        "mv = orders_customers_anonymised.isnull().sum()\n",
        "mv_data = pd.DataFrame(mv,columns=['count NAN'])\n",
        "mv_data['column name'] = mv_data.index\n",
        "mv_data = mv_data.sort_values(by=['count NAN']) # sort data \n",
        "\n",
        "#bar plot\n",
        "mv_data_fig = px.bar(mv_data, y='count NAN', x='column name', text='count NAN')\n",
        "mv_data_fig.update_traces(texttemplate='%{text:.2s}', textposition='outside',marker_color=\"#2f6358\")\n",
        "mv_data_fig.show()"
      ],
      "id": "tAtKTzo9lTXb",
      "execution_count": null,
      "outputs": [
        {
          "output_type": "display_data",
          "data": {
            "text/html": [
              "<html>\n",
              "<head><meta charset=\"utf-8\" /></head>\n",
              "<body>\n",
              "    <div>\n",
              "            <script src=\"https://cdnjs.cloudflare.com/ajax/libs/mathjax/2.7.5/MathJax.js?config=TeX-AMS-MML_SVG\"></script><script type=\"text/javascript\">if (window.MathJax) {MathJax.Hub.Config({SVG: {font: \"STIX-Web\"}});}</script>\n",
              "                <script type=\"text/javascript\">window.PlotlyConfig = {MathJaxConfig: 'local'};</script>\n",
              "        <script src=\"https://cdn.plot.ly/plotly-latest.min.js\"></script>    \n",
              "            <div id=\"20d822cd-b0a7-407e-adb6-6c25631e5779\" class=\"plotly-graph-div\" style=\"height:525px; width:100%;\"></div>\n",
              "            <script type=\"text/javascript\">\n",
              "                \n",
              "                    window.PLOTLYENV=window.PLOTLYENV || {};\n",
              "                    \n",
              "                if (document.getElementById(\"20d822cd-b0a7-407e-adb6-6c25631e5779\")) {\n",
              "                    Plotly.newPlot(\n",
              "                        '20d822cd-b0a7-407e-adb6-6c25631e5779',\n",
              "                        [{\"alignmentgroup\": \"True\", \"hoverlabel\": {\"namelength\": 0}, \"hovertemplate\": \"column name=%{x}<br>count NAN=%{text}\", \"legendgroup\": \"\", \"marker\": {\"color\": \"#2f6358\"}, \"name\": \"\", \"offsetgroup\": \"\", \"orientation\": \"v\", \"showlegend\": false, \"text\": [0.0, 0.0, 0.0, 0.0, 0.0, 0.0, 0.0, 0.0, 0.0, 171.0, 176.0, 478.0, 5078.0, 5078.0, 5078.0, 5078.0, 5078.0, 5078.0, 5078.0, 5078.0, 5078.0, 5080.0, 5085.0, 5096.0, 5136.0, 5147.0, 5249.0, 5249.0, 5249.0, 5249.0, 5254.0, 5258.0, 5265.0, 5267.0, 5298.0, 5298.0, 6489.0, 6690.0, 7168.0, 7323.0, 7880.0, 7909.0, 7915.0, 7915.0], \"textposition\": \"outside\", \"texttemplate\": \"%{text:.2s}\", \"type\": \"bar\", \"x\": [\"Name\", \"Lineitem fulfillment status\", \"Lineitem taxable\", \"Lineitem price\", \"Lineitem name\", \"Lineitem quantity\", \"Created at\", \"Lineitem requires shipping\", \"Customer id\", \"Lineitem discount\", \"Vendor\", \"Lineitem sku\", \"Subtotal\", \"Shipping\", \"Taxes\", \"Total\", \"Discount Amount\", \"Accepts Marketing\", \"Fulfillment Status\", \"Currency\", \"Financial Status\", \"Shipping Country\", \"Billing City\", \"Fulfilled at\", \"Shipping Province\", \"Paid at\", \"Id\", \"Refunded Amount\", \"Source\", \"Risk Level\", \"Shipping Method\", \"Note Attributes\", \" \", \"Payment Reference\", \"Tax 1 Value\", \"Tax 1 Name\", \"Lineitem compare at price\", \"Discount Code\", \"Phone\", \"Notes\", \"Tags\", \"Cancelled at\", \"Tax 2 Value\", \"Tax 2 Name\"], \"xaxis\": \"x\", \"y\": [0, 0, 0, 0, 0, 0, 0, 0, 0, 171, 176, 478, 5078, 5078, 5078, 5078, 5078, 5078, 5078, 5078, 5078, 5080, 5085, 5096, 5136, 5147, 5249, 5249, 5249, 5249, 5254, 5258, 5265, 5267, 5298, 5298, 6489, 6690, 7168, 7323, 7880, 7909, 7915, 7915], \"yaxis\": \"y\"}],\n",
              "                        {\"barmode\": \"relative\", \"legend\": {\"tracegroupgap\": 0}, \"margin\": {\"t\": 60}, \"template\": {\"data\": {\"bar\": [{\"error_x\": {\"color\": \"#2a3f5f\"}, \"error_y\": {\"color\": \"#2a3f5f\"}, \"marker\": {\"line\": {\"color\": \"#E5ECF6\", \"width\": 0.5}}, \"type\": \"bar\"}], \"barpolar\": [{\"marker\": {\"line\": {\"color\": \"#E5ECF6\", \"width\": 0.5}}, \"type\": \"barpolar\"}], \"carpet\": [{\"aaxis\": {\"endlinecolor\": \"#2a3f5f\", \"gridcolor\": \"white\", \"linecolor\": \"white\", \"minorgridcolor\": \"white\", \"startlinecolor\": \"#2a3f5f\"}, \"baxis\": {\"endlinecolor\": \"#2a3f5f\", \"gridcolor\": \"white\", \"linecolor\": \"white\", \"minorgridcolor\": \"white\", \"startlinecolor\": \"#2a3f5f\"}, \"type\": \"carpet\"}], \"choropleth\": [{\"colorbar\": {\"outlinewidth\": 0, \"ticks\": \"\"}, \"type\": \"choropleth\"}], \"contour\": [{\"colorbar\": {\"outlinewidth\": 0, \"ticks\": \"\"}, \"colorscale\": [[0.0, \"#0d0887\"], [0.1111111111111111, \"#46039f\"], [0.2222222222222222, \"#7201a8\"], [0.3333333333333333, \"#9c179e\"], [0.4444444444444444, \"#bd3786\"], [0.5555555555555556, \"#d8576b\"], [0.6666666666666666, \"#ed7953\"], [0.7777777777777778, \"#fb9f3a\"], [0.8888888888888888, \"#fdca26\"], [1.0, \"#f0f921\"]], \"type\": \"contour\"}], \"contourcarpet\": [{\"colorbar\": {\"outlinewidth\": 0, \"ticks\": \"\"}, \"type\": \"contourcarpet\"}], \"heatmap\": [{\"colorbar\": {\"outlinewidth\": 0, \"ticks\": \"\"}, \"colorscale\": [[0.0, \"#0d0887\"], [0.1111111111111111, \"#46039f\"], [0.2222222222222222, \"#7201a8\"], [0.3333333333333333, \"#9c179e\"], [0.4444444444444444, \"#bd3786\"], [0.5555555555555556, \"#d8576b\"], [0.6666666666666666, \"#ed7953\"], [0.7777777777777778, \"#fb9f3a\"], [0.8888888888888888, \"#fdca26\"], [1.0, \"#f0f921\"]], \"type\": \"heatmap\"}], \"heatmapgl\": [{\"colorbar\": {\"outlinewidth\": 0, \"ticks\": \"\"}, \"colorscale\": [[0.0, \"#0d0887\"], [0.1111111111111111, \"#46039f\"], [0.2222222222222222, \"#7201a8\"], [0.3333333333333333, \"#9c179e\"], [0.4444444444444444, \"#bd3786\"], [0.5555555555555556, \"#d8576b\"], [0.6666666666666666, \"#ed7953\"], [0.7777777777777778, \"#fb9f3a\"], [0.8888888888888888, \"#fdca26\"], [1.0, \"#f0f921\"]], \"type\": \"heatmapgl\"}], \"histogram\": [{\"marker\": {\"colorbar\": {\"outlinewidth\": 0, \"ticks\": \"\"}}, \"type\": \"histogram\"}], \"histogram2d\": [{\"colorbar\": {\"outlinewidth\": 0, \"ticks\": \"\"}, \"colorscale\": [[0.0, \"#0d0887\"], [0.1111111111111111, \"#46039f\"], [0.2222222222222222, \"#7201a8\"], [0.3333333333333333, \"#9c179e\"], [0.4444444444444444, \"#bd3786\"], [0.5555555555555556, \"#d8576b\"], [0.6666666666666666, \"#ed7953\"], [0.7777777777777778, \"#fb9f3a\"], [0.8888888888888888, \"#fdca26\"], [1.0, \"#f0f921\"]], \"type\": \"histogram2d\"}], \"histogram2dcontour\": [{\"colorbar\": {\"outlinewidth\": 0, \"ticks\": \"\"}, \"colorscale\": [[0.0, \"#0d0887\"], [0.1111111111111111, \"#46039f\"], [0.2222222222222222, \"#7201a8\"], [0.3333333333333333, \"#9c179e\"], [0.4444444444444444, \"#bd3786\"], [0.5555555555555556, \"#d8576b\"], [0.6666666666666666, \"#ed7953\"], [0.7777777777777778, \"#fb9f3a\"], [0.8888888888888888, \"#fdca26\"], [1.0, \"#f0f921\"]], \"type\": \"histogram2dcontour\"}], \"mesh3d\": [{\"colorbar\": {\"outlinewidth\": 0, \"ticks\": \"\"}, \"type\": \"mesh3d\"}], \"parcoords\": [{\"line\": {\"colorbar\": {\"outlinewidth\": 0, \"ticks\": \"\"}}, \"type\": \"parcoords\"}], \"pie\": [{\"automargin\": true, \"type\": \"pie\"}], \"scatter\": [{\"marker\": {\"colorbar\": {\"outlinewidth\": 0, \"ticks\": \"\"}}, \"type\": \"scatter\"}], \"scatter3d\": [{\"line\": {\"colorbar\": {\"outlinewidth\": 0, \"ticks\": \"\"}}, \"marker\": {\"colorbar\": {\"outlinewidth\": 0, \"ticks\": \"\"}}, \"type\": \"scatter3d\"}], \"scattercarpet\": [{\"marker\": {\"colorbar\": {\"outlinewidth\": 0, \"ticks\": \"\"}}, \"type\": \"scattercarpet\"}], \"scattergeo\": [{\"marker\": {\"colorbar\": {\"outlinewidth\": 0, \"ticks\": \"\"}}, \"type\": \"scattergeo\"}], \"scattergl\": [{\"marker\": {\"colorbar\": {\"outlinewidth\": 0, \"ticks\": \"\"}}, \"type\": \"scattergl\"}], \"scattermapbox\": [{\"marker\": {\"colorbar\": {\"outlinewidth\": 0, \"ticks\": \"\"}}, \"type\": \"scattermapbox\"}], \"scatterpolar\": [{\"marker\": {\"colorbar\": {\"outlinewidth\": 0, \"ticks\": \"\"}}, \"type\": \"scatterpolar\"}], \"scatterpolargl\": [{\"marker\": {\"colorbar\": {\"outlinewidth\": 0, \"ticks\": \"\"}}, \"type\": \"scatterpolargl\"}], \"scatterternary\": [{\"marker\": {\"colorbar\": {\"outlinewidth\": 0, \"ticks\": \"\"}}, \"type\": \"scatterternary\"}], \"surface\": [{\"colorbar\": {\"outlinewidth\": 0, \"ticks\": \"\"}, \"colorscale\": [[0.0, \"#0d0887\"], [0.1111111111111111, \"#46039f\"], [0.2222222222222222, \"#7201a8\"], [0.3333333333333333, \"#9c179e\"], [0.4444444444444444, \"#bd3786\"], [0.5555555555555556, \"#d8576b\"], [0.6666666666666666, \"#ed7953\"], [0.7777777777777778, \"#fb9f3a\"], [0.8888888888888888, \"#fdca26\"], [1.0, \"#f0f921\"]], \"type\": \"surface\"}], \"table\": [{\"cells\": {\"fill\": {\"color\": \"#EBF0F8\"}, \"line\": {\"color\": \"white\"}}, \"header\": {\"fill\": {\"color\": \"#C8D4E3\"}, \"line\": {\"color\": \"white\"}}, \"type\": \"table\"}]}, \"layout\": {\"annotationdefaults\": {\"arrowcolor\": \"#2a3f5f\", \"arrowhead\": 0, \"arrowwidth\": 1}, \"coloraxis\": {\"colorbar\": {\"outlinewidth\": 0, \"ticks\": \"\"}}, \"colorscale\": {\"diverging\": [[0, \"#8e0152\"], [0.1, \"#c51b7d\"], [0.2, \"#de77ae\"], [0.3, \"#f1b6da\"], [0.4, \"#fde0ef\"], [0.5, \"#f7f7f7\"], [0.6, \"#e6f5d0\"], [0.7, \"#b8e186\"], [0.8, \"#7fbc41\"], [0.9, \"#4d9221\"], [1, \"#276419\"]], \"sequential\": [[0.0, \"#0d0887\"], [0.1111111111111111, \"#46039f\"], [0.2222222222222222, \"#7201a8\"], [0.3333333333333333, \"#9c179e\"], [0.4444444444444444, \"#bd3786\"], [0.5555555555555556, \"#d8576b\"], [0.6666666666666666, \"#ed7953\"], [0.7777777777777778, \"#fb9f3a\"], [0.8888888888888888, \"#fdca26\"], [1.0, \"#f0f921\"]], \"sequentialminus\": [[0.0, \"#0d0887\"], [0.1111111111111111, \"#46039f\"], [0.2222222222222222, \"#7201a8\"], [0.3333333333333333, \"#9c179e\"], [0.4444444444444444, \"#bd3786\"], [0.5555555555555556, \"#d8576b\"], [0.6666666666666666, \"#ed7953\"], [0.7777777777777778, \"#fb9f3a\"], [0.8888888888888888, \"#fdca26\"], [1.0, \"#f0f921\"]]}, \"colorway\": [\"#636efa\", \"#EF553B\", \"#00cc96\", \"#ab63fa\", \"#FFA15A\", \"#19d3f3\", \"#FF6692\", \"#B6E880\", \"#FF97FF\", \"#FECB52\"], \"font\": {\"color\": \"#2a3f5f\"}, \"geo\": {\"bgcolor\": \"white\", \"lakecolor\": \"white\", \"landcolor\": \"#E5ECF6\", \"showlakes\": true, \"showland\": true, \"subunitcolor\": \"white\"}, \"hoverlabel\": {\"align\": \"left\"}, \"hovermode\": \"closest\", \"mapbox\": {\"style\": \"light\"}, \"paper_bgcolor\": \"white\", \"plot_bgcolor\": \"#E5ECF6\", \"polar\": {\"angularaxis\": {\"gridcolor\": \"white\", \"linecolor\": \"white\", \"ticks\": \"\"}, \"bgcolor\": \"#E5ECF6\", \"radialaxis\": {\"gridcolor\": \"white\", \"linecolor\": \"white\", \"ticks\": \"\"}}, \"scene\": {\"xaxis\": {\"backgroundcolor\": \"#E5ECF6\", \"gridcolor\": \"white\", \"gridwidth\": 2, \"linecolor\": \"white\", \"showbackground\": true, \"ticks\": \"\", \"zerolinecolor\": \"white\"}, \"yaxis\": {\"backgroundcolor\": \"#E5ECF6\", \"gridcolor\": \"white\", \"gridwidth\": 2, \"linecolor\": \"white\", \"showbackground\": true, \"ticks\": \"\", \"zerolinecolor\": \"white\"}, \"zaxis\": {\"backgroundcolor\": \"#E5ECF6\", \"gridcolor\": \"white\", \"gridwidth\": 2, \"linecolor\": \"white\", \"showbackground\": true, \"ticks\": \"\", \"zerolinecolor\": \"white\"}}, \"shapedefaults\": {\"line\": {\"color\": \"#2a3f5f\"}}, \"ternary\": {\"aaxis\": {\"gridcolor\": \"white\", \"linecolor\": \"white\", \"ticks\": \"\"}, \"baxis\": {\"gridcolor\": \"white\", \"linecolor\": \"white\", \"ticks\": \"\"}, \"bgcolor\": \"#E5ECF6\", \"caxis\": {\"gridcolor\": \"white\", \"linecolor\": \"white\", \"ticks\": \"\"}}, \"title\": {\"x\": 0.05}, \"xaxis\": {\"automargin\": true, \"gridcolor\": \"white\", \"linecolor\": \"white\", \"ticks\": \"\", \"title\": {\"standoff\": 15}, \"zerolinecolor\": \"white\", \"zerolinewidth\": 2}, \"yaxis\": {\"automargin\": true, \"gridcolor\": \"white\", \"linecolor\": \"white\", \"ticks\": \"\", \"title\": {\"standoff\": 15}, \"zerolinecolor\": \"white\", \"zerolinewidth\": 2}}}, \"xaxis\": {\"anchor\": \"y\", \"domain\": [0.0, 1.0], \"title\": {\"text\": \"column name\"}}, \"yaxis\": {\"anchor\": \"x\", \"domain\": [0.0, 1.0], \"title\": {\"text\": \"count NAN\"}}},\n",
              "                        {\"responsive\": true}\n",
              "                    ).then(function(){\n",
              "                            \n",
              "var gd = document.getElementById('20d822cd-b0a7-407e-adb6-6c25631e5779');\n",
              "var x = new MutationObserver(function (mutations, observer) {{\n",
              "        var display = window.getComputedStyle(gd).display;\n",
              "        if (!display || display === 'none') {{\n",
              "            console.log([gd, 'removed!']);\n",
              "            Plotly.purge(gd);\n",
              "            observer.disconnect();\n",
              "        }}\n",
              "}});\n",
              "\n",
              "// Listen for the removal of the full notebook cells\n",
              "var notebookContainer = gd.closest('#notebook-container');\n",
              "if (notebookContainer) {{\n",
              "    x.observe(notebookContainer, {childList: true});\n",
              "}}\n",
              "\n",
              "// Listen for the clearing of the current output cell\n",
              "var outputEl = gd.closest('.output');\n",
              "if (outputEl) {{\n",
              "    x.observe(outputEl, {childList: true});\n",
              "}}\n",
              "\n",
              "                        })\n",
              "                };\n",
              "                \n",
              "            </script>\n",
              "        </div>\n",
              "</body>\n",
              "</html>"
            ]
          },
          "metadata": {}
        }
      ]
    },
    {
      "cell_type": "code",
      "metadata": {
        "colab": {
          "base_uri": "https://localhost:8080/"
        },
        "id": "UEfKPd0Xl6tt",
        "outputId": "aa9c1520-d64b-4f13-ebd5-1e032dcafcb9"
      },
      "source": [
        "print(\"Data shape: {} row and {} column\".format(orders_customers_anonymised.shape[0], orders_customers_anonymised.shape[1]))"
      ],
      "id": "UEfKPd0Xl6tt",
      "execution_count": null,
      "outputs": [
        {
          "output_type": "stream",
          "name": "stdout",
          "text": [
            "Data shape: 7922 row and 44 column\n"
          ]
        }
      ]
    },
    {
      "cell_type": "markdown",
      "metadata": {
        "id": "3ddeb8c3"
      },
      "source": [
        "\n",
        "## clients B2C \n",
        "\n",
        "\n",
        "\n",
        "\n"
      ],
      "id": "3ddeb8c3"
    },
    {
      "cell_type": "markdown",
      "metadata": {
        "id": "0aGaW9yX-h4U"
      },
      "source": [
        "Recherche et transformation de la colonne **type de paiement**"
      ],
      "id": "0aGaW9yX-h4U"
    },
    {
      "cell_type": "code",
      "metadata": {
        "id": "566015b8"
      },
      "source": [
        "orders_customers_anonymised[\" \"].value_counts()\n",
        "\n",
        "# Rename the column\n",
        "orders_customers_anonymised = orders_customers_anonymised.rename(columns ={\" \" : \"paiment type\"})\n",
        "\n",
        "# Keeping client with  paiment type  different of manual \n",
        "customers_B2C = orders_customers_anonymised[orders_customers_anonymised[\"paiment type\"] != \"manual\"]\n",
        "\n",
        "# keeping client with Financial Status = paid\n",
        "customers_B2C = customers_B2C.loc[customers_B2C['Financial Status'].isin(['paid', np.nan])]"
      ],
      "id": "566015b8",
      "execution_count": null,
      "outputs": []
    },
    {
      "cell_type": "code",
      "metadata": {
        "colab": {
          "base_uri": "https://localhost:8080/"
        },
        "id": "q9yB71JG2YkC",
        "outputId": "3d1108f7-975d-4acd-a958-920323f781d9"
      },
      "source": [
        "customers_B2C[\"Financial Status\"].value_counts()"
      ],
      "id": "q9yB71JG2YkC",
      "execution_count": null,
      "outputs": [
        {
          "output_type": "execute_result",
          "data": {
            "text/plain": [
              "paid    2617\n",
              "Name: Financial Status, dtype: int64"
            ]
          },
          "metadata": {},
          "execution_count": 14
        }
      ]
    },
    {
      "cell_type": "code",
      "metadata": {
        "colab": {
          "base_uri": "https://localhost:8080/"
        },
        "id": "jOLsrzFE2ZID",
        "outputId": "991df570-e471-4d37-998b-5167434cfb7f"
      },
      "source": [
        "customers_B2C[\"paiment type\"].value_counts()"
      ],
      "id": "jOLsrzFE2ZID",
      "execution_count": null,
      "outputs": [
        {
          "output_type": "execute_result",
          "data": {
            "text/plain": [
              "PayPal Express Checkout             1267\n",
              "Stripe                              1116\n",
              "Compra ora, paga dopo con Klarna      36\n",
              "Stripe + PayPal Express Checkout      13\n",
              "manual + Stripe                        3\n",
              "PayPal Express Checkout + Stripe       1\n",
              "Name: paiment type, dtype: int64"
            ]
          },
          "metadata": {},
          "execution_count": 15
        }
      ]
    },
    {
      "cell_type": "code",
      "metadata": {
        "colab": {
          "base_uri": "https://localhost:8080/"
        },
        "id": "CABDe5v3Ey7d",
        "outputId": "1c33b519-84f8-4271-d953-e8401d89f438"
      },
      "source": [
        "print(\"Data shape: {} row and {} column\".format(customers_B2C.shape[0], customers_B2C.shape[1]))"
      ],
      "id": "CABDe5v3Ey7d",
      "execution_count": null,
      "outputs": [
        {
          "output_type": "stream",
          "name": "stdout",
          "text": [
            "Data shape: 7695 row and 44 column\n"
          ]
        }
      ]
    },
    {
      "cell_type": "markdown",
      "metadata": {
        "id": "9WgAIluFPk9Q"
      },
      "source": [
        "## Revenu total par commande, taxes incluses.\n",
        "\n",
        "\n",
        "\n"
      ],
      "id": "9WgAIluFPk9Q"
    },
    {
      "cell_type": "code",
      "metadata": {
        "colab": {
          "base_uri": "https://localhost:8080/",
          "height": 521
        },
        "id": "zX9uTvnXa33A",
        "outputId": "b7f8136e-9dfb-4236-b4a2-cb8c9f4aeca4"
      },
      "source": [
        "# change column type\n",
        "customers_B2C[\"Total\"] = customers_B2C[\"Total\"].astype(float)\n",
        "customers_B2C[\"Taxes\"] = customers_B2C[\"Taxes\"].astype(float)\n",
        "# Add taxes\n",
        "customers_B2C[\"Total Revenu\"]  = customers_B2C[\"Total\"] + customers_B2C[\"Taxes\"]\n",
        "###### show data \n",
        "customers_B2C.head()"
      ],
      "id": "zX9uTvnXa33A",
      "execution_count": null,
      "outputs": [
        {
          "output_type": "execute_result",
          "data": {
            "text/html": [
              "<div>\n",
              "<style scoped>\n",
              "    .dataframe tbody tr th:only-of-type {\n",
              "        vertical-align: middle;\n",
              "    }\n",
              "\n",
              "    .dataframe tbody tr th {\n",
              "        vertical-align: top;\n",
              "    }\n",
              "\n",
              "    .dataframe thead th {\n",
              "        text-align: right;\n",
              "    }\n",
              "</style>\n",
              "<table border=\"1\" class=\"dataframe\">\n",
              "  <thead>\n",
              "    <tr style=\"text-align: right;\">\n",
              "      <th></th>\n",
              "      <th>Name</th>\n",
              "      <th>Customer id</th>\n",
              "      <th>Financial Status</th>\n",
              "      <th>Paid at</th>\n",
              "      <th>Fulfillment Status</th>\n",
              "      <th>Fulfilled at</th>\n",
              "      <th>Accepts Marketing</th>\n",
              "      <th>Currency</th>\n",
              "      <th>Subtotal</th>\n",
              "      <th>Shipping</th>\n",
              "      <th>Taxes</th>\n",
              "      <th>Total</th>\n",
              "      <th>Discount Code</th>\n",
              "      <th>Discount Amount</th>\n",
              "      <th>Shipping Method</th>\n",
              "      <th>Created at</th>\n",
              "      <th>Lineitem quantity</th>\n",
              "      <th>Lineitem name</th>\n",
              "      <th>Lineitem price</th>\n",
              "      <th>Lineitem compare at price</th>\n",
              "      <th>Lineitem sku</th>\n",
              "      <th>Lineitem requires shipping</th>\n",
              "      <th>Lineitem taxable</th>\n",
              "      <th>Lineitem fulfillment status</th>\n",
              "      <th>Billing City</th>\n",
              "      <th>Shipping Province</th>\n",
              "      <th>Shipping Country</th>\n",
              "      <th>Notes</th>\n",
              "      <th>Note Attributes</th>\n",
              "      <th>Cancelled at</th>\n",
              "      <th>paiment type</th>\n",
              "      <th>Payment Reference</th>\n",
              "      <th>Refunded Amount</th>\n",
              "      <th>Vendor</th>\n",
              "      <th>Id</th>\n",
              "      <th>Tags</th>\n",
              "      <th>Risk Level</th>\n",
              "      <th>Source</th>\n",
              "      <th>Lineitem discount</th>\n",
              "      <th>Tax 1 Name</th>\n",
              "      <th>Tax 1 Value</th>\n",
              "      <th>Tax 2 Name</th>\n",
              "      <th>Tax 2 Value</th>\n",
              "      <th>Phone</th>\n",
              "      <th>Total Revenu</th>\n",
              "    </tr>\n",
              "  </thead>\n",
              "  <tbody>\n",
              "    <tr>\n",
              "      <th>0</th>\n",
              "      <td>#14442</td>\n",
              "      <td>1</td>\n",
              "      <td>paid</td>\n",
              "      <td>2021-09-23 09:43:21 +0200</td>\n",
              "      <td>unfulfilled</td>\n",
              "      <td>NaN</td>\n",
              "      <td>yes</td>\n",
              "      <td>EUR</td>\n",
              "      <td>105.00</td>\n",
              "      <td>20.00</td>\n",
              "      <td>9.55</td>\n",
              "      <td>125.0</td>\n",
              "      <td>NaN</td>\n",
              "      <td>0.00</td>\n",
              "      <td>TNT express - 1/2 giorni</td>\n",
              "      <td>2021-09-23 09:43:20 +0200</td>\n",
              "      <td>1</td>\n",
              "      <td>Box Vitamina C</td>\n",
              "      <td>105.00</td>\n",
              "      <td>145.00</td>\n",
              "      <td>DPR-BOX-VITC</td>\n",
              "      <td>true</td>\n",
              "      <td>true</td>\n",
              "      <td>pending</td>\n",
              "      <td>PADENGHE SUL GARDA</td>\n",
              "      <td>BS</td>\n",
              "      <td>IT</td>\n",
              "      <td>NaN</td>\n",
              "      <td>date: 2021/09/28</td>\n",
              "      <td>NaN</td>\n",
              "      <td>PayPal Express Checkout</td>\n",
              "      <td>c23025176051900.1</td>\n",
              "      <td>0.00</td>\n",
              "      <td>Depuravita</td>\n",
              "      <td>4017620549820</td>\n",
              "      <td>NaN</td>\n",
              "      <td>Low</td>\n",
              "      <td>web</td>\n",
              "      <td>0.0</td>\n",
              "      <td>VAT 10%</td>\n",
              "      <td>9.55</td>\n",
              "      <td>NaN</td>\n",
              "      <td>NaN</td>\n",
              "      <td>NaN</td>\n",
              "      <td>134.55</td>\n",
              "    </tr>\n",
              "    <tr>\n",
              "      <th>85</th>\n",
              "      <td>#14426</td>\n",
              "      <td>5362</td>\n",
              "      <td>paid</td>\n",
              "      <td>2021-09-21 19:30:02 +0200</td>\n",
              "      <td>fulfilled</td>\n",
              "      <td>2021-09-22 15:09:48 +0200</td>\n",
              "      <td>yes</td>\n",
              "      <td>EUR</td>\n",
              "      <td>94.00</td>\n",
              "      <td>0.00</td>\n",
              "      <td>8.55</td>\n",
              "      <td>94.0</td>\n",
              "      <td>NaN</td>\n",
              "      <td>0.00</td>\n",
              "      <td>Stef Consegna Refrigerata - 3/5 giorni</td>\n",
              "      <td>2021-09-21 19:30:01 +0200</td>\n",
              "      <td>1</td>\n",
              "      <td>Collagen Chocolate</td>\n",
              "      <td>55.00</td>\n",
              "      <td>NaN</td>\n",
              "      <td>CLGN-CHCLT</td>\n",
              "      <td>true</td>\n",
              "      <td>true</td>\n",
              "      <td>fulfilled</td>\n",
              "      <td>Roma</td>\n",
              "      <td>RM</td>\n",
              "      <td>IT</td>\n",
              "      <td>NaN</td>\n",
              "      <td>date: 2021/09/24</td>\n",
              "      <td>NaN</td>\n",
              "      <td>Stripe</td>\n",
              "      <td>c22998476423356.2</td>\n",
              "      <td>0.00</td>\n",
              "      <td>Depuravita</td>\n",
              "      <td>4014586101948</td>\n",
              "      <td>NaN</td>\n",
              "      <td>Low</td>\n",
              "      <td>web</td>\n",
              "      <td>0.0</td>\n",
              "      <td>VAT 10%</td>\n",
              "      <td>8.55</td>\n",
              "      <td>NaN</td>\n",
              "      <td>NaN</td>\n",
              "      <td>NaN</td>\n",
              "      <td>102.55</td>\n",
              "    </tr>\n",
              "    <tr>\n",
              "      <th>86</th>\n",
              "      <td>#14426</td>\n",
              "      <td>5362</td>\n",
              "      <td>NaN</td>\n",
              "      <td>NaN</td>\n",
              "      <td>NaN</td>\n",
              "      <td>NaN</td>\n",
              "      <td>NaN</td>\n",
              "      <td>NaN</td>\n",
              "      <td>NaN</td>\n",
              "      <td>NaN</td>\n",
              "      <td>NaN</td>\n",
              "      <td>NaN</td>\n",
              "      <td>NaN</td>\n",
              "      <td>NaN</td>\n",
              "      <td>NaN</td>\n",
              "      <td>2021-09-21 19:30:01 +0200</td>\n",
              "      <td>1</td>\n",
              "      <td>Hello Wrinkles</td>\n",
              "      <td>39.00</td>\n",
              "      <td>NaN</td>\n",
              "      <td>DPR-HW-30</td>\n",
              "      <td>true</td>\n",
              "      <td>true</td>\n",
              "      <td>fulfilled</td>\n",
              "      <td>NaN</td>\n",
              "      <td>NaN</td>\n",
              "      <td>NaN</td>\n",
              "      <td>NaN</td>\n",
              "      <td>NaN</td>\n",
              "      <td>NaN</td>\n",
              "      <td>NaN</td>\n",
              "      <td>NaN</td>\n",
              "      <td>NaN</td>\n",
              "      <td>Depuravita</td>\n",
              "      <td>NaN</td>\n",
              "      <td>NaN</td>\n",
              "      <td>NaN</td>\n",
              "      <td>NaN</td>\n",
              "      <td>0.0</td>\n",
              "      <td>NaN</td>\n",
              "      <td>NaN</td>\n",
              "      <td>NaN</td>\n",
              "      <td>NaN</td>\n",
              "      <td>NaN</td>\n",
              "      <td>NaN</td>\n",
              "    </tr>\n",
              "    <tr>\n",
              "      <th>87</th>\n",
              "      <td>#14425</td>\n",
              "      <td>7447</td>\n",
              "      <td>paid</td>\n",
              "      <td>2021-09-21 19:22:39 +0200</td>\n",
              "      <td>fulfilled</td>\n",
              "      <td>2021-09-22 15:12:40 +0200</td>\n",
              "      <td>yes</td>\n",
              "      <td>EUR</td>\n",
              "      <td>90.90</td>\n",
              "      <td>0.00</td>\n",
              "      <td>8.26</td>\n",
              "      <td>90.9</td>\n",
              "      <td>DPQ4LZ7L</td>\n",
              "      <td>50.00</td>\n",
              "      <td>Stef Consegna Refrigerata - 3/5 giorni</td>\n",
              "      <td>2021-09-21 19:22:38 +0200</td>\n",
              "      <td>3</td>\n",
              "      <td>Genius</td>\n",
              "      <td>4.50</td>\n",
              "      <td>NaN</td>\n",
              "      <td>DPR-GNS-250</td>\n",
              "      <td>true</td>\n",
              "      <td>true</td>\n",
              "      <td>fulfilled</td>\n",
              "      <td>DUE CARRARE</td>\n",
              "      <td>PD</td>\n",
              "      <td>IT</td>\n",
              "      <td>NaN</td>\n",
              "      <td>date: 2021/09/23</td>\n",
              "      <td>NaN</td>\n",
              "      <td>PayPal Express Checkout</td>\n",
              "      <td>c22998340698300.1</td>\n",
              "      <td>0.00</td>\n",
              "      <td>Depuravita</td>\n",
              "      <td>4014575124668</td>\n",
              "      <td>NaN</td>\n",
              "      <td>Low</td>\n",
              "      <td>web</td>\n",
              "      <td>0.0</td>\n",
              "      <td>VAT 10%</td>\n",
              "      <td>8.26</td>\n",
              "      <td>NaN</td>\n",
              "      <td>NaN</td>\n",
              "      <td>NaN</td>\n",
              "      <td>99.16</td>\n",
              "    </tr>\n",
              "    <tr>\n",
              "      <th>88</th>\n",
              "      <td>#14425</td>\n",
              "      <td>7447</td>\n",
              "      <td>NaN</td>\n",
              "      <td>NaN</td>\n",
              "      <td>NaN</td>\n",
              "      <td>NaN</td>\n",
              "      <td>NaN</td>\n",
              "      <td>NaN</td>\n",
              "      <td>NaN</td>\n",
              "      <td>NaN</td>\n",
              "      <td>NaN</td>\n",
              "      <td>NaN</td>\n",
              "      <td>NaN</td>\n",
              "      <td>NaN</td>\n",
              "      <td>NaN</td>\n",
              "      <td>2021-09-21 19:22:38 +0200</td>\n",
              "      <td>8</td>\n",
              "      <td>Elixir Red</td>\n",
              "      <td>4.90</td>\n",
              "      <td>NaN</td>\n",
              "      <td>DPR-ELXRD-250</td>\n",
              "      <td>true</td>\n",
              "      <td>true</td>\n",
              "      <td>fulfilled</td>\n",
              "      <td>NaN</td>\n",
              "      <td>NaN</td>\n",
              "      <td>NaN</td>\n",
              "      <td>NaN</td>\n",
              "      <td>NaN</td>\n",
              "      <td>NaN</td>\n",
              "      <td>NaN</td>\n",
              "      <td>NaN</td>\n",
              "      <td>NaN</td>\n",
              "      <td>Depuravita</td>\n",
              "      <td>NaN</td>\n",
              "      <td>NaN</td>\n",
              "      <td>NaN</td>\n",
              "      <td>NaN</td>\n",
              "      <td>0.0</td>\n",
              "      <td>NaN</td>\n",
              "      <td>NaN</td>\n",
              "      <td>NaN</td>\n",
              "      <td>NaN</td>\n",
              "      <td>NaN</td>\n",
              "      <td>NaN</td>\n",
              "    </tr>\n",
              "  </tbody>\n",
              "</table>\n",
              "</div>"
            ],
            "text/plain": [
              "      Name  Customer id Financial Status  ... Tax 2 Value Phone Total Revenu\n",
              "0   #14442            1             paid  ...         NaN   NaN       134.55\n",
              "85  #14426         5362             paid  ...         NaN   NaN       102.55\n",
              "86  #14426         5362              NaN  ...         NaN   NaN          NaN\n",
              "87  #14425         7447             paid  ...         NaN   NaN        99.16\n",
              "88  #14425         7447              NaN  ...         NaN   NaN          NaN\n",
              "\n",
              "[5 rows x 45 columns]"
            ]
          },
          "metadata": {},
          "execution_count": 17
        }
      ]
    },
    {
      "cell_type": "markdown",
      "metadata": {
        "id": "NWIp6HJ_rvU3"
      },
      "source": [
        "## Conversion des types de colonnes"
      ],
      "id": "NWIp6HJ_rvU3"
    },
    {
      "cell_type": "code",
      "metadata": {
        "colab": {
          "base_uri": "https://localhost:8080/"
        },
        "id": "C8vtpW6-4Fqz",
        "outputId": "8cb7054a-eb14-438f-916c-3521d7949fd6"
      },
      "source": [
        "customers_B2C['Created at'] = pd.to_datetime(customers_B2C['Created at'])\n",
        "customers_B2C['Created at']"
      ],
      "id": "C8vtpW6-4Fqz",
      "execution_count": null,
      "outputs": [
        {
          "output_type": "execute_result",
          "data": {
            "text/plain": [
              "0        2021-09-23 09:43:20+02:00\n",
              "85       2021-09-21 19:30:01+02:00\n",
              "86       2021-09-21 19:30:01+02:00\n",
              "87       2021-09-21 19:22:38+02:00\n",
              "88       2021-09-21 19:22:38+02:00\n",
              "                   ...            \n",
              "16254    2020-03-12 11:46:19+01:00\n",
              "16255    2020-03-12 11:46:19+01:00\n",
              "16256    2020-03-12 11:46:19+01:00\n",
              "16257    2020-03-12 11:46:19+01:00\n",
              "16258    2020-03-12 11:46:19+01:00\n",
              "Name: Created at, Length: 7695, dtype: object"
            ]
          },
          "metadata": {},
          "execution_count": 18
        }
      ]
    },
    {
      "cell_type": "code",
      "metadata": {
        "id": "Mrtg-139r3YU"
      },
      "source": [
        "# filling NaN values of total to 0\n",
        "customers_B2C[\"Total Revenu\"] = customers_B2C[\"Total Revenu\"].astype('float')\n",
        "customers_B2C[\"Total Revenu\"] = customers_B2C[\"Total Revenu\"].fillna(0).astype(float)"
      ],
      "id": "Mrtg-139r3YU",
      "execution_count": null,
      "outputs": []
    },
    {
      "cell_type": "markdown",
      "metadata": {
        "id": "2818d043"
      },
      "source": [
        "\n",
        "\n",
        "\n",
        "---\n",
        "\n"
      ],
      "id": "2818d043"
    },
    {
      "cell_type": "markdown",
      "metadata": {
        "id": "4a8a14a3"
      },
      "source": [
        " # Analyse RFM (Récense, fréquence, valeur)"
      ],
      "id": "4a8a14a3"
    },
    {
      "cell_type": "code",
      "metadata": {
        "colab": {
          "base_uri": "https://localhost:8080/",
          "height": 274
        },
        "id": "d9153475",
        "outputId": "357710b4-e59a-44e7-df40-21a6e84dae5c"
      },
      "source": [
        "# Create snapshot date\n",
        "snapshot_date = customers_B2C['Created at'].max() + timedelta(days=1)\n",
        "print(\"snapshot date: {}\".format(snapshot_date))\n",
        "\n",
        "# Grouping by CustomerID\n",
        "data_process = customers_B2C.groupby(['Customer id']).agg({\n",
        "        'Created at': lambda x: (snapshot_date - x.max()).days,\n",
        "        'Name': 'count',\n",
        "        'Total Revenu': 'sum'})\n",
        "\n",
        "# Rename the columns \n",
        "data_process.rename(columns={'Created at': 'Recency',\n",
        "                         'Name': 'Frequency',\n",
        "                         'Total Revenu': 'MonetaryValue'}, inplace=True)\n",
        "print(\"-------------------------------\")\n",
        "data_process.head()"
      ],
      "id": "d9153475",
      "execution_count": null,
      "outputs": [
        {
          "output_type": "stream",
          "name": "stdout",
          "text": [
            "snapshot date: 2021-09-24 09:43:20+02:00\n",
            "-------------------------------\n"
          ]
        },
        {
          "output_type": "execute_result",
          "data": {
            "text/html": [
              "<div>\n",
              "<style scoped>\n",
              "    .dataframe tbody tr th:only-of-type {\n",
              "        vertical-align: middle;\n",
              "    }\n",
              "\n",
              "    .dataframe tbody tr th {\n",
              "        vertical-align: top;\n",
              "    }\n",
              "\n",
              "    .dataframe thead th {\n",
              "        text-align: right;\n",
              "    }\n",
              "</style>\n",
              "<table border=\"1\" class=\"dataframe\">\n",
              "  <thead>\n",
              "    <tr style=\"text-align: right;\">\n",
              "      <th></th>\n",
              "      <th>Recency</th>\n",
              "      <th>Frequency</th>\n",
              "      <th>MonetaryValue</th>\n",
              "    </tr>\n",
              "    <tr>\n",
              "      <th>Customer id</th>\n",
              "      <th></th>\n",
              "      <th></th>\n",
              "      <th></th>\n",
              "    </tr>\n",
              "  </thead>\n",
              "  <tbody>\n",
              "    <tr>\n",
              "      <th>1</th>\n",
              "      <td>1</td>\n",
              "      <td>1</td>\n",
              "      <td>134.55</td>\n",
              "    </tr>\n",
              "    <tr>\n",
              "      <th>6</th>\n",
              "      <td>3</td>\n",
              "      <td>4</td>\n",
              "      <td>30.07</td>\n",
              "    </tr>\n",
              "    <tr>\n",
              "      <th>8</th>\n",
              "      <td>4</td>\n",
              "      <td>1</td>\n",
              "      <td>55.44</td>\n",
              "    </tr>\n",
              "    <tr>\n",
              "      <th>9</th>\n",
              "      <td>2</td>\n",
              "      <td>1</td>\n",
              "      <td>98.09</td>\n",
              "    </tr>\n",
              "    <tr>\n",
              "      <th>10</th>\n",
              "      <td>4</td>\n",
              "      <td>1</td>\n",
              "      <td>152.73</td>\n",
              "    </tr>\n",
              "  </tbody>\n",
              "</table>\n",
              "</div>"
            ],
            "text/plain": [
              "             Recency  Frequency  MonetaryValue\n",
              "Customer id                                   \n",
              "1                  1          1         134.55\n",
              "6                  3          4          30.07\n",
              "8                  4          1          55.44\n",
              "9                  2          1          98.09\n",
              "10                 4          1         152.73"
            ]
          },
          "metadata": {},
          "execution_count": 20
        }
      ]
    },
    {
      "cell_type": "code",
      "metadata": {
        "colab": {
          "base_uri": "https://localhost:8080/",
          "height": 180
        },
        "id": "4MsUcwi0wced",
        "outputId": "4ab04566-f6b9-462b-e3c9-4bea66045c1b"
      },
      "source": [
        "print(\"Describe Data\")\n",
        "print(\"-------------------------------\")\n",
        "data_process.describe().T\n"
      ],
      "id": "4MsUcwi0wced",
      "execution_count": null,
      "outputs": [
        {
          "output_type": "stream",
          "name": "stdout",
          "text": [
            "Describe Data\n",
            "-------------------------------\n"
          ]
        },
        {
          "output_type": "execute_result",
          "data": {
            "text/html": [
              "<div>\n",
              "<style scoped>\n",
              "    .dataframe tbody tr th:only-of-type {\n",
              "        vertical-align: middle;\n",
              "    }\n",
              "\n",
              "    .dataframe tbody tr th {\n",
              "        vertical-align: top;\n",
              "    }\n",
              "\n",
              "    .dataframe thead th {\n",
              "        text-align: right;\n",
              "    }\n",
              "</style>\n",
              "<table border=\"1\" class=\"dataframe\">\n",
              "  <thead>\n",
              "    <tr style=\"text-align: right;\">\n",
              "      <th></th>\n",
              "      <th>count</th>\n",
              "      <th>mean</th>\n",
              "      <th>std</th>\n",
              "      <th>min</th>\n",
              "      <th>25%</th>\n",
              "      <th>50%</th>\n",
              "      <th>75%</th>\n",
              "      <th>max</th>\n",
              "    </tr>\n",
              "  </thead>\n",
              "  <tbody>\n",
              "    <tr>\n",
              "      <th>Recency</th>\n",
              "      <td>1276.0</td>\n",
              "      <td>253.418495</td>\n",
              "      <td>169.860599</td>\n",
              "      <td>1.0</td>\n",
              "      <td>108.00</td>\n",
              "      <td>225.00</td>\n",
              "      <td>404.00</td>\n",
              "      <td>560.00</td>\n",
              "    </tr>\n",
              "    <tr>\n",
              "      <th>Frequency</th>\n",
              "      <td>1276.0</td>\n",
              "      <td>6.030564</td>\n",
              "      <td>15.488030</td>\n",
              "      <td>1.0</td>\n",
              "      <td>1.00</td>\n",
              "      <td>2.00</td>\n",
              "      <td>5.00</td>\n",
              "      <td>247.00</td>\n",
              "    </tr>\n",
              "    <tr>\n",
              "      <th>MonetaryValue</th>\n",
              "      <td>1276.0</td>\n",
              "      <td>291.407234</td>\n",
              "      <td>464.682534</td>\n",
              "      <td>0.0</td>\n",
              "      <td>92.01</td>\n",
              "      <td>156.71</td>\n",
              "      <td>304.36</td>\n",
              "      <td>6038.66</td>\n",
              "    </tr>\n",
              "  </tbody>\n",
              "</table>\n",
              "</div>"
            ],
            "text/plain": [
              "                count        mean         std  ...     50%     75%      max\n",
              "Recency        1276.0  253.418495  169.860599  ...  225.00  404.00   560.00\n",
              "Frequency      1276.0    6.030564   15.488030  ...    2.00    5.00   247.00\n",
              "MonetaryValue  1276.0  291.407234  464.682534  ...  156.71  304.36  6038.66\n",
              "\n",
              "[3 rows x 8 columns]"
            ]
          },
          "metadata": {},
          "execution_count": 21
        }
      ]
    },
    {
      "cell_type": "markdown",
      "metadata": {
        "id": "8QLMHVY297Li"
      },
      "source": [
        "La valeur monétaire doit être positive"
      ],
      "id": "8QLMHVY297Li"
    },
    {
      "cell_type": "code",
      "metadata": {
        "colab": {
          "base_uri": "https://localhost:8080/",
          "height": 143
        },
        "id": "-RndaBdrwzCC",
        "outputId": "52d1fd10-198a-4870-a88a-4733a620d30f"
      },
      "source": [
        "# MonetaryValue should be > 0 \n",
        "data_process = data_process[data_process[\"MonetaryValue\"] > 0]\n",
        "data_process.describe().T"
      ],
      "id": "-RndaBdrwzCC",
      "execution_count": null,
      "outputs": [
        {
          "output_type": "execute_result",
          "data": {
            "text/html": [
              "<div>\n",
              "<style scoped>\n",
              "    .dataframe tbody tr th:only-of-type {\n",
              "        vertical-align: middle;\n",
              "    }\n",
              "\n",
              "    .dataframe tbody tr th {\n",
              "        vertical-align: top;\n",
              "    }\n",
              "\n",
              "    .dataframe thead th {\n",
              "        text-align: right;\n",
              "    }\n",
              "</style>\n",
              "<table border=\"1\" class=\"dataframe\">\n",
              "  <thead>\n",
              "    <tr style=\"text-align: right;\">\n",
              "      <th></th>\n",
              "      <th>count</th>\n",
              "      <th>mean</th>\n",
              "      <th>std</th>\n",
              "      <th>min</th>\n",
              "      <th>25%</th>\n",
              "      <th>50%</th>\n",
              "      <th>75%</th>\n",
              "      <th>max</th>\n",
              "    </tr>\n",
              "  </thead>\n",
              "  <tbody>\n",
              "    <tr>\n",
              "      <th>Recency</th>\n",
              "      <td>1243.0</td>\n",
              "      <td>250.854385</td>\n",
              "      <td>169.540320</td>\n",
              "      <td>1.00</td>\n",
              "      <td>107.000</td>\n",
              "      <td>219.00</td>\n",
              "      <td>401.00</td>\n",
              "      <td>560.00</td>\n",
              "    </tr>\n",
              "    <tr>\n",
              "      <th>Frequency</th>\n",
              "      <td>1243.0</td>\n",
              "      <td>5.875302</td>\n",
              "      <td>15.302260</td>\n",
              "      <td>1.00</td>\n",
              "      <td>1.000</td>\n",
              "      <td>2.00</td>\n",
              "      <td>5.00</td>\n",
              "      <td>247.00</td>\n",
              "    </tr>\n",
              "    <tr>\n",
              "      <th>MonetaryValue</th>\n",
              "      <td>1243.0</td>\n",
              "      <td>299.143709</td>\n",
              "      <td>468.349168</td>\n",
              "      <td>12.76</td>\n",
              "      <td>100.635</td>\n",
              "      <td>158.18</td>\n",
              "      <td>304.36</td>\n",
              "      <td>6038.66</td>\n",
              "    </tr>\n",
              "  </tbody>\n",
              "</table>\n",
              "</div>"
            ],
            "text/plain": [
              "                count        mean         std  ...     50%     75%      max\n",
              "Recency        1243.0  250.854385  169.540320  ...  219.00  401.00   560.00\n",
              "Frequency      1243.0    5.875302   15.302260  ...    2.00    5.00   247.00\n",
              "MonetaryValue  1243.0  299.143709  468.349168  ...  158.18  304.36  6038.66\n",
              "\n",
              "[3 rows x 8 columns]"
            ]
          },
          "metadata": {},
          "execution_count": 22
        }
      ]
    },
    {
      "cell_type": "markdown",
      "metadata": {
        "id": "b3df9745"
      },
      "source": [
        "## Analyse de la récense, de la fréquence et de la valeur \n",
        "\n",
        "\n",
        "\n"
      ],
      "id": "b3df9745"
    },
    {
      "cell_type": "code",
      "metadata": {
        "colab": {
          "base_uri": "https://localhost:8080/",
          "height": 852
        },
        "id": "1550da69",
        "outputId": "8aff5fcf-119b-45db-b4f0-64455f06c0c4"
      },
      "source": [
        "plt.figure(figsize=(12,10))\n",
        "# Plot distribution of R\n",
        "plt.subplot(3, 1, 1); sns.distplot(data_process['Recency'])\n",
        "# Plot distribution of F\n",
        "plt.subplot(3, 1, 2); sns.distplot(data_process['Frequency'])\n",
        "# Plot distribution of M\n",
        "plt.subplot(3, 1, 3); sns.distplot(data_process['MonetaryValue'])\n",
        "# Show the plot\n",
        "plt.show()"
      ],
      "id": "1550da69",
      "execution_count": null,
      "outputs": [
        {
          "output_type": "stream",
          "name": "stderr",
          "text": [
            "/usr/local/lib/python3.7/dist-packages/seaborn/distributions.py:2619: FutureWarning:\n",
            "\n",
            "`distplot` is a deprecated function and will be removed in a future version. Please adapt your code to use either `displot` (a figure-level function with similar flexibility) or `histplot` (an axes-level function for histograms).\n",
            "\n",
            "/usr/local/lib/python3.7/dist-packages/seaborn/distributions.py:2619: FutureWarning:\n",
            "\n",
            "`distplot` is a deprecated function and will be removed in a future version. Please adapt your code to use either `displot` (a figure-level function with similar flexibility) or `histplot` (an axes-level function for histograms).\n",
            "\n",
            "/usr/local/lib/python3.7/dist-packages/seaborn/distributions.py:2619: FutureWarning:\n",
            "\n",
            "`distplot` is a deprecated function and will be removed in a future version. Please adapt your code to use either `displot` (a figure-level function with similar flexibility) or `histplot` (an axes-level function for histograms).\n",
            "\n"
          ]
        },
        {
          "output_type": "display_data",
          "data": {
            "image/png": "[encoded data removed]",
            "text/plain": [
              "<Figure size 864x720 with 3 Axes>"
            ]
          },
          "metadata": {
            "needs_background": "light"
          }
        }
      ]
    },
    {
      "cell_type": "markdown",
      "metadata": {
        "id": "EAzRfZ-VzhWo"
      },
      "source": [
        "On remarque une asymétrie dans les trois courbes de distribution.\n",
        "Le nombre de clients récents, est supérieur à celui des anciens clients.\n",
        "L'acquisition d'un nombre important de clients fidèles n'induit pas à une fréquence d'achat importante.\n",
        "\n",
        "Dans notre base de données, nous pouvons voir que la majorité des clients n'achètent pas plus de 247 fois, les clients qui achètent plus que 50 fois sont considérés comme des valeurs aberrantes. la plupart des clients achetent de mois de 25 fois.\n",
        "\n",
        "\n",
        "\n",
        "---\n",
        "\n"
      ],
      "id": "EAzRfZ-VzhWo"
    },
    {
      "cell_type": "markdown",
      "metadata": {
        "id": "2b3c6b22"
      },
      "source": [
        "# Valeurs aberrantes"
      ],
      "id": "2b3c6b22"
    },
    {
      "cell_type": "code",
      "metadata": {
        "colab": {
          "base_uri": "https://localhost:8080/",
          "height": 537
        },
        "id": "d43b8757",
        "outputId": "275ee4eb-2edb-416f-f4d2-cf1cade887af"
      },
      "source": [
        "attributes = ['Recency','Frequency','MonetaryValue']\n",
        "plt.rcParams['figure.figsize'] = [10,8]\n",
        "sns.boxplot(data = data_process[attributes], orient=\"v\", palette=\"Set2\" ,whis=3,saturation=1, width=0.9)\n",
        "plt.title(\"Outliers Variable Distribution\", fontsize = 14, fontweight = 'bold')\n",
        "plt.ylabel(\"Range\", fontweight = 'bold')\n",
        "plt.xlabel(\"Attributes\", fontweight = 'bold')"
      ],
      "id": "d43b8757",
      "execution_count": null,
      "outputs": [
        {
          "output_type": "execute_result",
          "data": {
            "text/plain": [
              "Text(0.5, 0, 'Attributes')"
            ]
          },
          "metadata": {},
          "execution_count": 24
        },
        {
          "output_type": "display_data",
          "data": {
            "image/png": "[encoded data removed]",
            "text/plain": [
              "<Figure size 720x576 with 1 Axes>"
            ]
          },
          "metadata": {
            "needs_background": "light"
          }
        }
      ]
    },
    {
      "cell_type": "markdown",
      "metadata": {
        "id": "JlAWLnnK7O1E"
      },
      "source": [
        "# Correction des valeurs aberrantes"
      ],
      "id": "JlAWLnnK7O1E"
    },
    {
      "cell_type": "code",
      "metadata": {
        "id": "1a0ebb09"
      },
      "source": [
        "rfm = data_process"
      ],
      "id": "1a0ebb09",
      "execution_count": null,
      "outputs": []
    },
    {
      "cell_type": "code",
      "metadata": {
        "id": "7597ef26"
      },
      "source": [
        "# Removing (statistical) outliers for Amount\n",
        "Q1 = rfm.MonetaryValue.quantile(0.05)\n",
        "Q3 = rfm.MonetaryValue.quantile(0.95)\n",
        "IQR = Q3 - Q1\n",
        "rfm = rfm[(rfm.MonetaryValue >= Q1 - 1.5*IQR) & (rfm.MonetaryValue <= Q3 + 1.5*IQR)]\n",
        "\n",
        "# Removing (statistical) outliers for Recency\n",
        "#Q1 = rfm.Recency.quantile(0.05)\n",
        "#Q3 = rfm.Recency.quantile(0.95)\n",
        "#IQR = Q3 - Q1\n",
        "#rfm = rfm[(rfm.Recency >= Q1 - 1.5*IQR) & (rfm.Recency <= Q3 + 1.5*IQR)]\n",
        "\n",
        "# Removing (statistical) outliers for Frequency\n",
        "#Q1 = rfm.Frequency.quantile(0.05)\n",
        "#Q3 = rfm.Frequency.quantile(0.95)\n",
        "#IQR = Q3 - Q1\n",
        "#rfm = rfm[(rfm.Frequency >= Q1 - 1.5*IQR) & (rfm.Frequency <= Q3 + 1.5*IQR)]"
      ],
      "id": "7597ef26",
      "execution_count": null,
      "outputs": []
    },
    {
      "cell_type": "code",
      "metadata": {
        "colab": {
          "base_uri": "https://localhost:8080/"
        },
        "id": "108edadc",
        "outputId": "31c5adaf-678f-4563-8cce-f4dcb8ed3b97"
      },
      "source": [
        "rfm_df = rfm[['Recency', 'Frequency', 'MonetaryValue']]\n",
        "\n",
        "# Instantiate\n",
        "scaler = StandardScaler()\n",
        "\n",
        "# fit_transform\n",
        "rfm_df_scaled = scaler.fit_transform(rfm_df)\n",
        "rfm_df_scaled.shape"
      ],
      "id": "108edadc",
      "execution_count": null,
      "outputs": [
        {
          "output_type": "execute_result",
          "data": {
            "text/plain": [
              "(1233, 3)"
            ]
          },
          "metadata": {},
          "execution_count": 27
        }
      ]
    },
    {
      "cell_type": "code",
      "metadata": {
        "colab": {
          "base_uri": "https://localhost:8080/",
          "height": 206
        },
        "id": "8ea60c69",
        "outputId": "db432ddc-39b1-4ff3-9233-983dcc000c22"
      },
      "source": [
        "rfm_df_scaled = pd.DataFrame(rfm_df_scaled)\n",
        "rfm_df_scaled.columns = ['Recency', 'Frequency', 'Amount']\n",
        "rfm_df_scaled.head()"
      ],
      "id": "8ea60c69",
      "execution_count": null,
      "outputs": [
        {
          "output_type": "execute_result",
          "data": {
            "text/html": [
              "<div>\n",
              "<style scoped>\n",
              "    .dataframe tbody tr th:only-of-type {\n",
              "        vertical-align: middle;\n",
              "    }\n",
              "\n",
              "    .dataframe tbody tr th {\n",
              "        vertical-align: top;\n",
              "    }\n",
              "\n",
              "    .dataframe thead th {\n",
              "        text-align: right;\n",
              "    }\n",
              "</style>\n",
              "<table border=\"1\" class=\"dataframe\">\n",
              "  <thead>\n",
              "    <tr style=\"text-align: right;\">\n",
              "      <th></th>\n",
              "      <th>Recency</th>\n",
              "      <th>Frequency</th>\n",
              "      <th>Amount</th>\n",
              "    </tr>\n",
              "  </thead>\n",
              "  <tbody>\n",
              "    <tr>\n",
              "      <th>0</th>\n",
              "      <td>-1.486288</td>\n",
              "      <td>-0.444235</td>\n",
              "      <td>-0.406605</td>\n",
              "    </tr>\n",
              "    <tr>\n",
              "      <th>1</th>\n",
              "      <td>-1.474466</td>\n",
              "      <td>-0.097417</td>\n",
              "      <td>-0.719089</td>\n",
              "    </tr>\n",
              "    <tr>\n",
              "      <th>2</th>\n",
              "      <td>-1.468555</td>\n",
              "      <td>-0.444235</td>\n",
              "      <td>-0.643211</td>\n",
              "    </tr>\n",
              "    <tr>\n",
              "      <th>3</th>\n",
              "      <td>-1.480377</td>\n",
              "      <td>-0.444235</td>\n",
              "      <td>-0.515652</td>\n",
              "    </tr>\n",
              "    <tr>\n",
              "      <th>4</th>\n",
              "      <td>-1.468555</td>\n",
              "      <td>-0.444235</td>\n",
              "      <td>-0.352231</td>\n",
              "    </tr>\n",
              "  </tbody>\n",
              "</table>\n",
              "</div>"
            ],
            "text/plain": [
              "    Recency  Frequency    Amount\n",
              "0 -1.486288  -0.444235 -0.406605\n",
              "1 -1.474466  -0.097417 -0.719089\n",
              "2 -1.468555  -0.444235 -0.643211\n",
              "3 -1.480377  -0.444235 -0.515652\n",
              "4 -1.468555  -0.444235 -0.352231"
            ]
          },
          "metadata": {},
          "execution_count": 28
        }
      ]
    },
    {
      "cell_type": "code",
      "metadata": {
        "colab": {
          "base_uri": "https://localhost:8080/",
          "height": 537
        },
        "id": "lQkDJN8y7sou",
        "outputId": "eb7c2b8c-3d42-4483-a446-5366639f316f"
      },
      "source": [
        "attributes = ['Recency','Frequency','Amount']\n",
        "plt.rcParams['figure.figsize'] = [10,8]\n",
        "sns.boxplot(data = rfm_df_scaled[attributes], orient=\"v\", palette=\"Set2\" ,whis=1.5,saturation=1, width=0.7)\n",
        "plt.title(\"Outliers Variable Distribution\", fontsize = 14, fontweight = 'bold')\n",
        "plt.ylabel(\"Range\", fontweight = 'bold')\n",
        "plt.xlabel(\"Attributes\", fontweight = 'bold')"
      ],
      "id": "lQkDJN8y7sou",
      "execution_count": null,
      "outputs": [
        {
          "output_type": "execute_result",
          "data": {
            "text/plain": [
              "Text(0.5, 0, 'Attributes')"
            ]
          },
          "metadata": {},
          "execution_count": 29
        },
        {
          "output_type": "display_data",
          "data": {
            "image/png": "[encoded data removed]",
            "text/plain": [
              "<Figure size 720x576 with 1 Axes>"
            ]
          },
          "metadata": {
            "needs_background": "light"
          }
        }
      ]
    },
    {
      "cell_type": "markdown",
      "metadata": {
        "id": "_2_ZDpeKI6KL"
      },
      "source": [
        "\n",
        "\n",
        "---                       ---\n",
        "\n",
        "\n",
        "\n",
        "\n"
      ],
      "id": "_2_ZDpeKI6KL"
    },
    {
      "cell_type": "markdown",
      "metadata": {
        "id": "35eac841"
      },
      "source": [
        "## RFM quartile"
      ],
      "id": "35eac841"
    },
    {
      "cell_type": "code",
      "metadata": {
        "colab": {
          "base_uri": "https://localhost:8080/",
          "height": 143
        },
        "id": "786aff68",
        "outputId": "8dac0f3e-abad-4d54-afcf-770e3db2d489"
      },
      "source": [
        "quantiles = data_process.quantile(q=[0.25,0.5,0.75])\n",
        "quantiles"
      ],
      "id": "786aff68",
      "execution_count": null,
      "outputs": [
        {
          "output_type": "execute_result",
          "data": {
            "text/html": [
              "<div>\n",
              "<style scoped>\n",
              "    .dataframe tbody tr th:only-of-type {\n",
              "        vertical-align: middle;\n",
              "    }\n",
              "\n",
              "    .dataframe tbody tr th {\n",
              "        vertical-align: top;\n",
              "    }\n",
              "\n",
              "    .dataframe thead th {\n",
              "        text-align: right;\n",
              "    }\n",
              "</style>\n",
              "<table border=\"1\" class=\"dataframe\">\n",
              "  <thead>\n",
              "    <tr style=\"text-align: right;\">\n",
              "      <th></th>\n",
              "      <th>Recency</th>\n",
              "      <th>Frequency</th>\n",
              "      <th>MonetaryValue</th>\n",
              "    </tr>\n",
              "  </thead>\n",
              "  <tbody>\n",
              "    <tr>\n",
              "      <th>0.25</th>\n",
              "      <td>107.0</td>\n",
              "      <td>1.0</td>\n",
              "      <td>100.635</td>\n",
              "    </tr>\n",
              "    <tr>\n",
              "      <th>0.50</th>\n",
              "      <td>219.0</td>\n",
              "      <td>2.0</td>\n",
              "      <td>158.180</td>\n",
              "    </tr>\n",
              "    <tr>\n",
              "      <th>0.75</th>\n",
              "      <td>401.0</td>\n",
              "      <td>5.0</td>\n",
              "      <td>304.360</td>\n",
              "    </tr>\n",
              "  </tbody>\n",
              "</table>\n",
              "</div>"
            ],
            "text/plain": [
              "      Recency  Frequency  MonetaryValue\n",
              "0.25    107.0        1.0        100.635\n",
              "0.50    219.0        2.0        158.180\n",
              "0.75    401.0        5.0        304.360"
            ]
          },
          "metadata": {},
          "execution_count": 30
        }
      ]
    },
    {
      "cell_type": "code",
      "metadata": {
        "colab": {
          "base_uri": "https://localhost:8080/"
        },
        "id": "e8fde0e1",
        "outputId": "06749072-b8da-484e-a583-53b8f802c4d9"
      },
      "source": [
        "quantiles.to_dict()"
      ],
      "id": "e8fde0e1",
      "execution_count": null,
      "outputs": [
        {
          "output_type": "execute_result",
          "data": {
            "text/plain": [
              "{'Frequency': {0.25: 1.0, 0.5: 2.0, 0.75: 5.0},\n",
              " 'MonetaryValue': {0.25: 100.63499999999999, 0.5: 158.18, 0.75: 304.36},\n",
              " 'Recency': {0.25: 107.0, 0.5: 219.0, 0.75: 401.0}}"
            ]
          },
          "metadata": {},
          "execution_count": 31
        }
      ]
    },
    {
      "cell_type": "markdown",
      "metadata": {
        "id": "39348ae9"
      },
      "source": [
        "### Création de segments RFM"
      ],
      "id": "39348ae9"
    },
    {
      "cell_type": "code",
      "metadata": {
        "id": "aa118396"
      },
      "source": [
        "def RScore(x,p,d):\n",
        "    if x <= d[p][0.25]:\n",
        "        return 4\n",
        "    elif x <= d[p][0.50]:\n",
        "        return 3\n",
        "    elif x <= d[p][0.75]: \n",
        "        return 2\n",
        "    else:\n",
        "        return 1\n",
        "# Arguments (x = value, p = recency, monetary_value, frequency, k = quartiles dict)\n",
        "def FMScore(x,p,d):\n",
        "    if x <= d[p][0.25]:\n",
        "        return 1\n",
        "    elif x <= d[p][0.50]:\n",
        "        return 2\n",
        "    elif x <= d[p][0.75]: \n",
        "        return 3\n",
        "    else:\n",
        "        return 4\n",
        "\n",
        "#create rfm segmentation table\n",
        "rfm_segmentation = data_process\n",
        "rfm_segmentation['R_Quartile'] = rfm_segmentation['Recency'].apply(RScore, args=('Recency',quantiles,))\n",
        "rfm_segmentation['F_Quartile'] = rfm_segmentation['Frequency'].apply(FMScore, args=('Frequency',quantiles,))\n",
        "rfm_segmentation['M_Quartile'] = rfm_segmentation['MonetaryValue'].apply(FMScore, args=('MonetaryValue',quantiles,))\n",
        "# RFM Score\n",
        "rfm_segmentation['RFMScore'] = rfm_segmentation.R_Quartile.map(str) \\\n",
        "                            + rfm_segmentation.F_Quartile.map(str) \\\n",
        "                            + rfm_segmentation.M_Quartile.map(str)"
      ],
      "id": "aa118396",
      "execution_count": null,
      "outputs": []
    },
    {
      "cell_type": "markdown",
      "metadata": {
        "id": "08824835"
      },
      "source": [
        "  * Meilleur score de récence = 4\n",
        "  * Meilleur score de fréquence = 4 \n",
        "  * Meilleur score monétaire = 4 "
      ],
      "id": "08824835"
    },
    {
      "cell_type": "code",
      "metadata": {
        "colab": {
          "base_uri": "https://localhost:8080/",
          "height": 394
        },
        "id": "b490c73f",
        "outputId": "16319b29-547e-4c6b-ac69-ccfbaec0ca77"
      },
      "source": [
        "rfm_segmentation[rfm_segmentation['RFMScore']=='444'].sort_values('MonetaryValue', ascending=False).head(10)"
      ],
      "id": "b490c73f",
      "execution_count": null,
      "outputs": [
        {
          "output_type": "execute_result",
          "data": {
            "text/html": [
              "<div>\n",
              "<style scoped>\n",
              "    .dataframe tbody tr th:only-of-type {\n",
              "        vertical-align: middle;\n",
              "    }\n",
              "\n",
              "    .dataframe tbody tr th {\n",
              "        vertical-align: top;\n",
              "    }\n",
              "\n",
              "    .dataframe thead th {\n",
              "        text-align: right;\n",
              "    }\n",
              "</style>\n",
              "<table border=\"1\" class=\"dataframe\">\n",
              "  <thead>\n",
              "    <tr style=\"text-align: right;\">\n",
              "      <th></th>\n",
              "      <th>Recency</th>\n",
              "      <th>Frequency</th>\n",
              "      <th>MonetaryValue</th>\n",
              "      <th>R_Quartile</th>\n",
              "      <th>F_Quartile</th>\n",
              "      <th>M_Quartile</th>\n",
              "      <th>RFMScore</th>\n",
              "    </tr>\n",
              "    <tr>\n",
              "      <th>Customer id</th>\n",
              "      <th></th>\n",
              "      <th></th>\n",
              "      <th></th>\n",
              "      <th></th>\n",
              "      <th></th>\n",
              "      <th></th>\n",
              "      <th></th>\n",
              "    </tr>\n",
              "  </thead>\n",
              "  <tbody>\n",
              "    <tr>\n",
              "      <th>5401</th>\n",
              "      <td>3</td>\n",
              "      <td>191</td>\n",
              "      <td>6038.66</td>\n",
              "      <td>4</td>\n",
              "      <td>4</td>\n",
              "      <td>4</td>\n",
              "      <td>444</td>\n",
              "    </tr>\n",
              "    <tr>\n",
              "      <th>13219</th>\n",
              "      <td>12</td>\n",
              "      <td>64</td>\n",
              "      <td>4700.97</td>\n",
              "      <td>4</td>\n",
              "      <td>4</td>\n",
              "      <td>4</td>\n",
              "      <td>444</td>\n",
              "    </tr>\n",
              "    <tr>\n",
              "      <th>12290</th>\n",
              "      <td>25</td>\n",
              "      <td>190</td>\n",
              "      <td>4416.66</td>\n",
              "      <td>4</td>\n",
              "      <td>4</td>\n",
              "      <td>4</td>\n",
              "      <td>444</td>\n",
              "    </tr>\n",
              "    <tr>\n",
              "      <th>24505</th>\n",
              "      <td>9</td>\n",
              "      <td>120</td>\n",
              "      <td>3800.76</td>\n",
              "      <td>4</td>\n",
              "      <td>4</td>\n",
              "      <td>4</td>\n",
              "      <td>444</td>\n",
              "    </tr>\n",
              "    <tr>\n",
              "      <th>15956</th>\n",
              "      <td>53</td>\n",
              "      <td>114</td>\n",
              "      <td>3683.61</td>\n",
              "      <td>4</td>\n",
              "      <td>4</td>\n",
              "      <td>4</td>\n",
              "      <td>444</td>\n",
              "    </tr>\n",
              "    <tr>\n",
              "      <th>7609</th>\n",
              "      <td>52</td>\n",
              "      <td>75</td>\n",
              "      <td>3566.51</td>\n",
              "      <td>4</td>\n",
              "      <td>4</td>\n",
              "      <td>4</td>\n",
              "      <td>444</td>\n",
              "    </tr>\n",
              "    <tr>\n",
              "      <th>7044</th>\n",
              "      <td>25</td>\n",
              "      <td>247</td>\n",
              "      <td>3097.39</td>\n",
              "      <td>4</td>\n",
              "      <td>4</td>\n",
              "      <td>4</td>\n",
              "      <td>444</td>\n",
              "    </tr>\n",
              "    <tr>\n",
              "      <th>20487</th>\n",
              "      <td>73</td>\n",
              "      <td>106</td>\n",
              "      <td>2911.50</td>\n",
              "      <td>4</td>\n",
              "      <td>4</td>\n",
              "      <td>4</td>\n",
              "      <td>444</td>\n",
              "    </tr>\n",
              "    <tr>\n",
              "      <th>11350</th>\n",
              "      <td>77</td>\n",
              "      <td>45</td>\n",
              "      <td>2375.47</td>\n",
              "      <td>4</td>\n",
              "      <td>4</td>\n",
              "      <td>4</td>\n",
              "      <td>444</td>\n",
              "    </tr>\n",
              "    <tr>\n",
              "      <th>16017</th>\n",
              "      <td>6</td>\n",
              "      <td>79</td>\n",
              "      <td>2348.28</td>\n",
              "      <td>4</td>\n",
              "      <td>4</td>\n",
              "      <td>4</td>\n",
              "      <td>444</td>\n",
              "    </tr>\n",
              "  </tbody>\n",
              "</table>\n",
              "</div>"
            ],
            "text/plain": [
              "             Recency  Frequency  MonetaryValue  ...  F_Quartile  M_Quartile  RFMScore\n",
              "Customer id                                     ...                                  \n",
              "5401               3        191        6038.66  ...           4           4       444\n",
              "13219             12         64        4700.97  ...           4           4       444\n",
              "12290             25        190        4416.66  ...           4           4       444\n",
              "24505              9        120        3800.76  ...           4           4       444\n",
              "15956             53        114        3683.61  ...           4           4       444\n",
              "7609              52         75        3566.51  ...           4           4       444\n",
              "7044              25        247        3097.39  ...           4           4       444\n",
              "20487             73        106        2911.50  ...           4           4       444\n",
              "11350             77         45        2375.47  ...           4           4       444\n",
              "16017              6         79        2348.28  ...           4           4       444\n",
              "\n",
              "[10 rows x 7 columns]"
            ]
          },
          "metadata": {},
          "execution_count": 33
        }
      ]
    },
    {
      "cell_type": "code",
      "metadata": {
        "colab": {
          "base_uri": "https://localhost:8080/"
        },
        "id": "6d761b4e",
        "outputId": "1818d77c-5bf2-4ffa-ff7f-84682d963e14"
      },
      "source": [
        "print(\"Best Customers: \",len(rfm_segmentation[rfm_segmentation['RFMScore']=='444']))\n",
        "print('Loyal Customers: ',len(rfm_segmentation[rfm_segmentation['F_Quartile']==4]))\n",
        "print(\"Big Spenders: \",len(rfm_segmentation[rfm_segmentation['M_Quartile']==4]))\n",
        "print('Almost Lost: ', len(rfm_segmentation[rfm_segmentation['RFMScore']=='244']))\n",
        "print('Lost Customers: ',len(rfm_segmentation[rfm_segmentation['RFMScore']=='144']))\n",
        "print('Lost Cheap Customers: ',len(rfm_segmentation[rfm_segmentation['RFMScore']=='111']))"
      ],
      "id": "6d761b4e",
      "execution_count": null,
      "outputs": [
        {
          "output_type": "stream",
          "name": "stdout",
          "text": [
            "Best Customers:  81\n",
            "Loyal Customers:  274\n",
            "Big Spenders:  304\n",
            "Almost Lost:  36\n",
            "Lost Customers:  10\n",
            "Lost Cheap Customers:  68\n"
          ]
        }
      ]
    },
    {
      "cell_type": "code",
      "metadata": {
        "colab": {
          "base_uri": "https://localhost:8080/",
          "height": 520
        },
        "id": "xJLrWEGtrdZt",
        "outputId": "3acfa15b-1dbc-479a-963f-a77525e3817d"
      },
      "source": [
        "sns.boxplot(x='RFMScore', y='Recency', data=rfm_segmentation)"
      ],
      "id": "xJLrWEGtrdZt",
      "execution_count": null,
      "outputs": [
        {
          "output_type": "execute_result",
          "data": {
            "text/plain": [
              "<matplotlib.axes._subplots.AxesSubplot at 0x7f48370a8550>"
            ]
          },
          "metadata": {},
          "execution_count": 35
        },
        {
          "output_type": "display_data",
          "data": {
            "image/png": "[encoded data removed]",
            "text/plain": [
              "<Figure size 720x576 with 1 Axes>"
            ]
          },
          "metadata": {
            "needs_background": "light"
          }
        }
      ]
    },
    {
      "cell_type": "markdown",
      "metadata": {
        "id": "UaCL5AcxG4az"
      },
      "source": [
        "Les segments clients sont déséquilibrés. Notre but est d'identifier des groupes de clients homogènes ayant des ressemblances par rapport à la recense, le revenu et la fréquence.\n",
        "\n",
        "La méthode des quantiles permet de viser des combinaisons bien précises.\n",
        " par exemple le segment *Big Spenders*, représente uniquement les clients qui ont dépensé plus d'argent sans avoir recours à leurs fréquences ou bien à l'argent dépensé.\n",
        "\n"
      ],
      "id": "UaCL5AcxG4az"
    },
    {
      "cell_type": "code",
      "metadata": {
        "id": "-4v8fm9-P-2q"
      },
      "source": [
        "Best_customers = rfm_segmentation[rfm_segmentation['RFMScore']=='444']\n",
        "Loyal_customers = rfm_segmentation[rfm_segmentation['F_Quartile']==4]\n",
        "Big_spenders = rfm_segmentation[rfm_segmentation['M_Quartile']==4]\n",
        "Almost_lost = rfm_segmentation[rfm_segmentation['RFMScore']=='244']\n",
        "Lost_customers = rfm_segmentation[rfm_segmentation['RFMScore']=='144']\n",
        "Lost_cheap_customers = rfm_segmentation[rfm_segmentation['RFMScore']=='111']"
      ],
      "id": "-4v8fm9-P-2q",
      "execution_count": null,
      "outputs": []
    },
    {
      "cell_type": "markdown",
      "metadata": {
        "id": "f9d19501"
      },
      "source": [
        "## K-Means Clustering\n"
      ],
      "id": "f9d19501"
    },
    {
      "cell_type": "markdown",
      "metadata": {
        "id": "b0zynSaeDieM"
      },
      "source": [
        "Trouver le meilleur nombre de clusters\n",
        "* Méthode du coude\n",
        "* Silhouette"
      ],
      "id": "b0zynSaeDieM"
    },
    {
      "cell_type": "code",
      "metadata": {
        "colab": {
          "base_uri": "https://localhost:8080/",
          "height": 503
        },
        "id": "d5bd9719",
        "outputId": "cea7702c-e641-4ae6-f34f-2baf61817c1a"
      },
      "source": [
        "######\n",
        "ssd = []\n",
        "range_n_clusters = [2, 3, 4, 5, 6, 7, 8]\n",
        "for num_clusters in range_n_clusters:\n",
        "    kmeans = KMeans(n_clusters=num_clusters, max_iter=5000)\n",
        "    kmeans.fit(rfm_df_scaled)\n",
        "    \n",
        "    ssd.append(kmeans.inertia_)\n",
        "    \n",
        "# plot the SSDs for each n_clusters\n",
        "plt.plot(ssd)"
      ],
      "id": "d5bd9719",
      "execution_count": null,
      "outputs": [
        {
          "output_type": "execute_result",
          "data": {
            "text/plain": [
              "[<matplotlib.lines.Line2D at 0x7f483a0cbe10>]"
            ]
          },
          "metadata": {},
          "execution_count": 37
        },
        {
          "output_type": "display_data",
          "data": {
            "image/png": "[encoded data removed]",
            "text/plain": [
              "<Figure size 720x576 with 1 Axes>"
            ]
          },
          "metadata": {
            "needs_background": "light"
          }
        }
      ]
    },
    {
      "cell_type": "code",
      "metadata": {
        "colab": {
          "base_uri": "https://localhost:8080/"
        },
        "id": "e9e776cf",
        "outputId": "14aebb4e-0898-48ba-bff5-1e6efbe103c2"
      },
      "source": [
        "# Silhouette analysis\n",
        "range_n_clusters = [2, 3, 4, 5, 6, 7, 8]\n",
        "\n",
        "for num_clusters in range_n_clusters:\n",
        "    \n",
        "    # intialise kmeans\n",
        "    kmeans = KMeans(n_clusters=num_clusters, max_iter=5000)\n",
        "    kmeans.fit(rfm_df_scaled)\n",
        "    \n",
        "    cluster_labels = kmeans.labels_\n",
        "    \n",
        "    # silhouette score\n",
        "    silhouette_avg = silhouette_score(rfm_df_scaled, cluster_labels)\n",
        "    print(\"For n_clusters={0}, the silhouette score is {1}\".format(num_clusters, silhouette_avg))"
      ],
      "id": "e9e776cf",
      "execution_count": null,
      "outputs": [
        {
          "output_type": "stream",
          "name": "stdout",
          "text": [
            "For n_clusters=2, the silhouette score is 0.6637152952550298\n",
            "For n_clusters=3, the silhouette score is 0.4739137152544374\n",
            "For n_clusters=4, the silhouette score is 0.492516918688777\n",
            "For n_clusters=5, the silhouette score is 0.38876766112655664\n",
            "For n_clusters=6, the silhouette score is 0.3966747920600077\n",
            "For n_clusters=7, the silhouette score is 0.40509566478608033\n",
            "For n_clusters=8, the silhouette score is 0.4026073488740764\n"
          ]
        }
      ]
    },
    {
      "cell_type": "markdown",
      "metadata": {
        "id": "2gtuUbdN8lL5"
      },
      "source": [
        "Fixing 3 clusters "
      ],
      "id": "2gtuUbdN8lL5"
    },
    {
      "cell_type": "code",
      "metadata": {
        "colab": {
          "base_uri": "https://localhost:8080/",
          "height": 237
        },
        "id": "9a5c88d6",
        "outputId": "5dd2e37e-4b39-469a-ee04-30837dd537a6"
      },
      "source": [
        "rfm_kmeans_3 = data_process\n",
        "# Final model with k=3\n",
        "kmeans = KMeans(n_clusters=3, max_iter=5000)\n",
        "kmeans.fit(rfm_kmeans_3)\n",
        "\n",
        "# assign the label\n",
        "rfm_kmeans_3['Cluster_Id'] = kmeans.labels_\n",
        "rfm_kmeans_3.head()"
      ],
      "id": "9a5c88d6",
      "execution_count": null,
      "outputs": [
        {
          "output_type": "execute_result",
          "data": {
            "text/html": [
              "<div>\n",
              "<style scoped>\n",
              "    .dataframe tbody tr th:only-of-type {\n",
              "        vertical-align: middle;\n",
              "    }\n",
              "\n",
              "    .dataframe tbody tr th {\n",
              "        vertical-align: top;\n",
              "    }\n",
              "\n",
              "    .dataframe thead th {\n",
              "        text-align: right;\n",
              "    }\n",
              "</style>\n",
              "<table border=\"1\" class=\"dataframe\">\n",
              "  <thead>\n",
              "    <tr style=\"text-align: right;\">\n",
              "      <th></th>\n",
              "      <th>Recency</th>\n",
              "      <th>Frequency</th>\n",
              "      <th>MonetaryValue</th>\n",
              "      <th>R_Quartile</th>\n",
              "      <th>F_Quartile</th>\n",
              "      <th>M_Quartile</th>\n",
              "      <th>RFMScore</th>\n",
              "      <th>Cluster_Id</th>\n",
              "    </tr>\n",
              "    <tr>\n",
              "      <th>Customer id</th>\n",
              "      <th></th>\n",
              "      <th></th>\n",
              "      <th></th>\n",
              "      <th></th>\n",
              "      <th></th>\n",
              "      <th></th>\n",
              "      <th></th>\n",
              "      <th></th>\n",
              "    </tr>\n",
              "  </thead>\n",
              "  <tbody>\n",
              "    <tr>\n",
              "      <th>1</th>\n",
              "      <td>1</td>\n",
              "      <td>1</td>\n",
              "      <td>134.55</td>\n",
              "      <td>4</td>\n",
              "      <td>1</td>\n",
              "      <td>2</td>\n",
              "      <td>412</td>\n",
              "      <td>0</td>\n",
              "    </tr>\n",
              "    <tr>\n",
              "      <th>6</th>\n",
              "      <td>3</td>\n",
              "      <td>4</td>\n",
              "      <td>30.07</td>\n",
              "      <td>4</td>\n",
              "      <td>3</td>\n",
              "      <td>1</td>\n",
              "      <td>431</td>\n",
              "      <td>0</td>\n",
              "    </tr>\n",
              "    <tr>\n",
              "      <th>8</th>\n",
              "      <td>4</td>\n",
              "      <td>1</td>\n",
              "      <td>55.44</td>\n",
              "      <td>4</td>\n",
              "      <td>1</td>\n",
              "      <td>1</td>\n",
              "      <td>411</td>\n",
              "      <td>0</td>\n",
              "    </tr>\n",
              "    <tr>\n",
              "      <th>9</th>\n",
              "      <td>2</td>\n",
              "      <td>1</td>\n",
              "      <td>98.09</td>\n",
              "      <td>4</td>\n",
              "      <td>1</td>\n",
              "      <td>1</td>\n",
              "      <td>411</td>\n",
              "      <td>0</td>\n",
              "    </tr>\n",
              "    <tr>\n",
              "      <th>10</th>\n",
              "      <td>4</td>\n",
              "      <td>1</td>\n",
              "      <td>152.73</td>\n",
              "      <td>4</td>\n",
              "      <td>1</td>\n",
              "      <td>2</td>\n",
              "      <td>412</td>\n",
              "      <td>0</td>\n",
              "    </tr>\n",
              "  </tbody>\n",
              "</table>\n",
              "</div>"
            ],
            "text/plain": [
              "             Recency  Frequency  MonetaryValue  ...  M_Quartile  RFMScore  Cluster_Id\n",
              "Customer id                                     ...                                  \n",
              "1                  1          1         134.55  ...           2       412           0\n",
              "6                  3          4          30.07  ...           1       431           0\n",
              "8                  4          1          55.44  ...           1       411           0\n",
              "9                  2          1          98.09  ...           1       411           0\n",
              "10                 4          1         152.73  ...           2       412           0\n",
              "\n",
              "[5 rows x 8 columns]"
            ]
          },
          "metadata": {},
          "execution_count": 39
        }
      ]
    },
    {
      "cell_type": "code",
      "metadata": {
        "colab": {
          "base_uri": "https://localhost:8080/",
          "height": 520
        },
        "id": "qY3NkYGL_HDb",
        "outputId": "df96b545-f7d0-45f9-86cc-bc40177da9b2"
      },
      "source": [
        "sns.boxplot(x='Cluster_Id', y='MonetaryValue', data=rfm_kmeans_3)\n"
      ],
      "id": "qY3NkYGL_HDb",
      "execution_count": null,
      "outputs": [
        {
          "output_type": "execute_result",
          "data": {
            "text/plain": [
              "<matplotlib.axes._subplots.AxesSubplot at 0x7f483b2caf10>"
            ]
          },
          "metadata": {},
          "execution_count": 40
        },
        {
          "output_type": "display_data",
          "data": {
            "image/png": "[encoded data removed]",
            "text/plain": [
              "<Figure size 720x576 with 1 Axes>"
            ]
          },
          "metadata": {
            "needs_background": "light"
          }
        }
      ]
    },
    {
      "cell_type": "code",
      "metadata": {
        "colab": {
          "base_uri": "https://localhost:8080/",
          "height": 520
        },
        "id": "NrtJ8X4t_uNd",
        "outputId": "b3ef94da-a0b7-4e7b-f59a-b17d0cac2b8c"
      },
      "source": [
        "sns.boxplot(x='Cluster_Id', y='Frequency', data=rfm_kmeans_3)"
      ],
      "id": "NrtJ8X4t_uNd",
      "execution_count": null,
      "outputs": [
        {
          "output_type": "execute_result",
          "data": {
            "text/plain": [
              "<matplotlib.axes._subplots.AxesSubplot at 0x7f483a338590>"
            ]
          },
          "metadata": {},
          "execution_count": 41
        },
        {
          "output_type": "display_data",
          "data": {
            "image/png": "[encoded data removed]",
            "text/plain": [
              "<Figure size 720x576 with 1 Axes>"
            ]
          },
          "metadata": {
            "needs_background": "light"
          }
        }
      ]
    },
    {
      "cell_type": "code",
      "metadata": {
        "colab": {
          "base_uri": "https://localhost:8080/",
          "height": 520
        },
        "id": "HafnlzK5E2Vz",
        "outputId": "c8ba1b23-b916-435c-b7a3-4a00a0ed62bd"
      },
      "source": [
        "sns.boxplot(x='Cluster_Id', y='Recency', data=rfm_kmeans_3)"
      ],
      "id": "HafnlzK5E2Vz",
      "execution_count": null,
      "outputs": [
        {
          "output_type": "execute_result",
          "data": {
            "text/plain": [
              "<matplotlib.axes._subplots.AxesSubplot at 0x7f4839bc8490>"
            ]
          },
          "metadata": {},
          "execution_count": 42
        },
        {
          "output_type": "display_data",
          "data": {
            "image/png": "[encoded data removed]",
            "text/plain": [
              "<Figure size 720x576 with 1 Axes>"
            ]
          },
          "metadata": {
            "needs_background": "light"
          }
        }
      ]
    },
    {
      "cell_type": "markdown",
      "metadata": {
        "id": "aca21d09"
      },
      "source": [
        "------------------------"
      ],
      "id": "aca21d09"
    },
    {
      "cell_type": "code",
      "metadata": {
        "colab": {
          "base_uri": "https://localhost:8080/",
          "height": 237
        },
        "id": "07b29872",
        "outputId": "6c320964-ac9e-419a-e9cd-2fbe81ac22b3"
      },
      "source": [
        "rfm_kmeans_4 = data_process\n",
        "\n",
        "# Final model with k=4\n",
        "kmeans = KMeans(n_clusters=4, max_iter=5000)\n",
        "kmeans.fit(rfm_kmeans_4)\n",
        "#assign the label\n",
        "rfm_kmeans_4['Cluster_Id'] = kmeans.labels_\n",
        "rfm_kmeans_4.head()\n",
        "\n",
        "#pickle.dump(kmeans, open(\"kmeans_4.pkl\", 'wb')) #Saving the model"
      ],
      "id": "07b29872",
      "execution_count": null,
      "outputs": [
        {
          "output_type": "execute_result",
          "data": {
            "text/html": [
              "<div>\n",
              "<style scoped>\n",
              "    .dataframe tbody tr th:only-of-type {\n",
              "        vertical-align: middle;\n",
              "    }\n",
              "\n",
              "    .dataframe tbody tr th {\n",
              "        vertical-align: top;\n",
              "    }\n",
              "\n",
              "    .dataframe thead th {\n",
              "        text-align: right;\n",
              "    }\n",
              "</style>\n",
              "<table border=\"1\" class=\"dataframe\">\n",
              "  <thead>\n",
              "    <tr style=\"text-align: right;\">\n",
              "      <th></th>\n",
              "      <th>Recency</th>\n",
              "      <th>Frequency</th>\n",
              "      <th>MonetaryValue</th>\n",
              "      <th>R_Quartile</th>\n",
              "      <th>F_Quartile</th>\n",
              "      <th>M_Quartile</th>\n",
              "      <th>RFMScore</th>\n",
              "      <th>Cluster_Id</th>\n",
              "    </tr>\n",
              "    <tr>\n",
              "      <th>Customer id</th>\n",
              "      <th></th>\n",
              "      <th></th>\n",
              "      <th></th>\n",
              "      <th></th>\n",
              "      <th></th>\n",
              "      <th></th>\n",
              "      <th></th>\n",
              "      <th></th>\n",
              "    </tr>\n",
              "  </thead>\n",
              "  <tbody>\n",
              "    <tr>\n",
              "      <th>1</th>\n",
              "      <td>1</td>\n",
              "      <td>1</td>\n",
              "      <td>134.55</td>\n",
              "      <td>4</td>\n",
              "      <td>1</td>\n",
              "      <td>2</td>\n",
              "      <td>412</td>\n",
              "      <td>0</td>\n",
              "    </tr>\n",
              "    <tr>\n",
              "      <th>6</th>\n",
              "      <td>3</td>\n",
              "      <td>4</td>\n",
              "      <td>30.07</td>\n",
              "      <td>4</td>\n",
              "      <td>3</td>\n",
              "      <td>1</td>\n",
              "      <td>431</td>\n",
              "      <td>0</td>\n",
              "    </tr>\n",
              "    <tr>\n",
              "      <th>8</th>\n",
              "      <td>4</td>\n",
              "      <td>1</td>\n",
              "      <td>55.44</td>\n",
              "      <td>4</td>\n",
              "      <td>1</td>\n",
              "      <td>1</td>\n",
              "      <td>411</td>\n",
              "      <td>0</td>\n",
              "    </tr>\n",
              "    <tr>\n",
              "      <th>9</th>\n",
              "      <td>2</td>\n",
              "      <td>1</td>\n",
              "      <td>98.09</td>\n",
              "      <td>4</td>\n",
              "      <td>1</td>\n",
              "      <td>1</td>\n",
              "      <td>411</td>\n",
              "      <td>0</td>\n",
              "    </tr>\n",
              "    <tr>\n",
              "      <th>10</th>\n",
              "      <td>4</td>\n",
              "      <td>1</td>\n",
              "      <td>152.73</td>\n",
              "      <td>4</td>\n",
              "      <td>1</td>\n",
              "      <td>2</td>\n",
              "      <td>412</td>\n",
              "      <td>0</td>\n",
              "    </tr>\n",
              "  </tbody>\n",
              "</table>\n",
              "</div>"
            ],
            "text/plain": [
              "             Recency  Frequency  MonetaryValue  ...  M_Quartile  RFMScore  Cluster_Id\n",
              "Customer id                                     ...                                  \n",
              "1                  1          1         134.55  ...           2       412           0\n",
              "6                  3          4          30.07  ...           1       431           0\n",
              "8                  4          1          55.44  ...           1       411           0\n",
              "9                  2          1          98.09  ...           1       411           0\n",
              "10                 4          1         152.73  ...           2       412           0\n",
              "\n",
              "[5 rows x 8 columns]"
            ]
          },
          "metadata": {},
          "execution_count": 43
        }
      ]
    },
    {
      "cell_type": "code",
      "metadata": {
        "id": "U4vF1nBTDHVy"
      },
      "source": [
        "from joblib import dump, load\n",
        "import pickle"
      ],
      "id": "U4vF1nBTDHVy",
      "execution_count": null,
      "outputs": []
    },
    {
      "cell_type": "code",
      "metadata": {
        "id": "7SenXrNkDm4j"
      },
      "source": [
        "kmeans = pickle.load(open(\"/kmeans_5.pkl\", 'rb')) #To load saved model from local directory"
      ],
      "id": "7SenXrNkDm4j",
      "execution_count": null,
      "outputs": []
    },
    {
      "cell_type": "code",
      "metadata": {
        "colab": {
          "base_uri": "https://localhost:8080/",
          "height": 520
        },
        "id": "1119074c",
        "outputId": "3da6d7c9-0075-4541-94c6-077badef0c83"
      },
      "source": [
        "sns.boxplot(x='Cluster_Id', y='MonetaryValue', data=rfm_kmeans_4)"
      ],
      "id": "1119074c",
      "execution_count": null,
      "outputs": [
        {
          "output_type": "execute_result",
          "data": {
            "text/plain": [
              "<matplotlib.axes._subplots.AxesSubplot at 0x7f4839d02110>"
            ]
          },
          "metadata": {},
          "execution_count": 49
        },
        {
          "output_type": "display_data",
          "data": {
            "image/png": "[encoded data removed]",
            "text/plain": [
              "<Figure size 720x576 with 1 Axes>"
            ]
          },
          "metadata": {
            "needs_background": "light"
          }
        }
      ]
    },
    {
      "cell_type": "code",
      "metadata": {
        "colab": {
          "base_uri": "https://localhost:8080/",
          "height": 520
        },
        "id": "652b4caa",
        "outputId": "861903a5-bbda-4235-b04e-f9958bb0caca"
      },
      "source": [
        "sns.boxplot(x='Cluster_Id', y='Frequency', data=rfm_kmeans_4)"
      ],
      "id": "652b4caa",
      "execution_count": null,
      "outputs": [
        {
          "output_type": "execute_result",
          "data": {
            "text/plain": [
              "<matplotlib.axes._subplots.AxesSubplot at 0x7f483b7f0850>"
            ]
          },
          "metadata": {},
          "execution_count": 50
        },
        {
          "output_type": "display_data",
          "data": {
            "image/png": "[encoded data removed]",
            "text/plain": [
              "<Figure size 720x576 with 1 Axes>"
            ]
          },
          "metadata": {
            "needs_background": "light"
          }
        }
      ]
    },
    {
      "cell_type": "code",
      "metadata": {
        "colab": {
          "base_uri": "https://localhost:8080/",
          "height": 520
        },
        "id": "f0eb63e7",
        "outputId": "946b64de-7273-49a5-cc24-85cdf793c38e"
      },
      "source": [
        "sns.boxplot(x='Cluster_Id', y='Recency', data=rfm_kmeans_4)"
      ],
      "id": "f0eb63e7",
      "execution_count": null,
      "outputs": [
        {
          "output_type": "execute_result",
          "data": {
            "text/plain": [
              "<matplotlib.axes._subplots.AxesSubplot at 0x7f483b0960d0>"
            ]
          },
          "metadata": {},
          "execution_count": 51
        },
        {
          "output_type": "display_data",
          "data": {
            "image/png": "[encoded data removed]",
            "text/plain": [
              "<Figure size 720x576 with 1 Axes>"
            ]
          },
          "metadata": {
            "needs_background": "light"
          }
        }
      ]
    },
    {
      "cell_type": "markdown",
      "metadata": {
        "id": "JGZiB6QRRyAn"
      },
      "source": [
        "Fixing 5 clusters "
      ],
      "id": "JGZiB6QRRyAn"
    },
    {
      "cell_type": "code",
      "metadata": {
        "id": "zneqKbaqTJHK"
      },
      "source": [
        "rfm_kmeans_5 = data_process\n",
        "\n",
        "# Final model with k=5\n",
        "#kmeans = KMeans(n_clusters=5, max_iter=200)\n",
        "#kmeans.fit(rfm_kmeans_5)\n",
        "kmeans = pickle.load(open(\"/kmeans_5.pkl\", 'rb')) #To load saved model from local directory\n",
        "# assign the label\n",
        "rfm_kmeans_5['Cluster_Id'] = kmeans.labels_"
      ],
      "id": "zneqKbaqTJHK",
      "execution_count": null,
      "outputs": []
    },
    {
      "cell_type": "code",
      "metadata": {
        "id": "Gr4OamyLKJSp"
      },
      "source": [
        "pickle.dump(kmeans, open(\"kmeans_5.pkl\", 'wb')) #Saving the model"
      ],
      "id": "Gr4OamyLKJSp",
      "execution_count": null,
      "outputs": []
    },
    {
      "cell_type": "code",
      "metadata": {
        "colab": {
          "base_uri": "https://localhost:8080/",
          "height": 520
        },
        "id": "0oRSa4u-TyGj",
        "outputId": "63074e4a-9b4d-43c8-830f-c4eeee863425"
      },
      "source": [
        "sns.boxplot(x='Cluster_Id', y='MonetaryValue', data=rfm_kmeans_5)"
      ],
      "id": "0oRSa4u-TyGj",
      "execution_count": null,
      "outputs": [
        {
          "output_type": "execute_result",
          "data": {
            "text/plain": [
              "<matplotlib.axes._subplots.AxesSubplot at 0x7f4839ca9a50>"
            ]
          },
          "metadata": {},
          "execution_count": 54
        },
        {
          "output_type": "display_data",
          "data": {
            "image/png": "[encoded data removed]",
            "text/plain": [
              "<Figure size 720x576 with 1 Axes>"
            ]
          },
          "metadata": {
            "needs_background": "light"
          }
        }
      ]
    },
    {
      "cell_type": "code",
      "metadata": {
        "colab": {
          "base_uri": "https://localhost:8080/",
          "height": 520
        },
        "id": "zMBVSUp7T0pY",
        "outputId": "4da1a0b6-0074-40d3-b0ba-7d53a8a561f7"
      },
      "source": [
        "sns.boxplot(x='Cluster_Id', y='Frequency', data=rfm_kmeans_5)"
      ],
      "id": "zMBVSUp7T0pY",
      "execution_count": null,
      "outputs": [
        {
          "output_type": "execute_result",
          "data": {
            "text/plain": [
              "<matplotlib.axes._subplots.AxesSubplot at 0x7f482e5dee10>"
            ]
          },
          "metadata": {},
          "execution_count": 55
        },
        {
          "output_type": "display_data",
          "data": {
            "image/png": "[encoded data removed]",
            "text/plain": [
              "<Figure size 720x576 with 1 Axes>"
            ]
          },
          "metadata": {
            "needs_background": "light"
          }
        }
      ]
    },
    {
      "cell_type": "code",
      "metadata": {
        "colab": {
          "base_uri": "https://localhost:8080/",
          "height": 520
        },
        "id": "zUn1YHbzT2V4",
        "outputId": "e369847e-b578-4f01-c016-5a55b47a0c95"
      },
      "source": [
        "sns.boxplot(x='Cluster_Id', y='Recency', data=rfm_kmeans_5)"
      ],
      "id": "zUn1YHbzT2V4",
      "execution_count": null,
      "outputs": [
        {
          "output_type": "execute_result",
          "data": {
            "text/plain": [
              "<matplotlib.axes._subplots.AxesSubplot at 0x7f482e5b84d0>"
            ]
          },
          "metadata": {},
          "execution_count": 56
        },
        {
          "output_type": "display_data",
          "data": {
            "image/png": "[encoded data removed]",
            "text/plain": [
              "<Figure size 720x576 with 1 Axes>"
            ]
          },
          "metadata": {
            "needs_background": "light"
          }
        }
      ]
    },
    {
      "cell_type": "markdown",
      "metadata": {
        "id": "9GuBEjoRAYC7"
      },
      "source": [
        "Le choix du meilleur nombre de groupes de clients est basé sur le score de silhouette, on peut faire un découpage en deux, trois, quatre et cinq groupes.\n",
        "\n",
        "Le découpage en deux et trois groupes n'offre pas un bon niveau de granularité."
      ],
      "id": "9GuBEjoRAYC7"
    },
    {
      "cell_type": "markdown",
      "metadata": {
        "id": "LOK7tPyPKrQJ"
      },
      "source": [
        "On procède par un découpage en quatre groupes.\n",
        "\n",
        "Groupe 1 (**Anciens clients perdus**): les anciens clients dont la fréquence d'achat et les dépenses sont très faibles, ce sont les clients à réacquérir vu qu'ils sont perdus depuis longtemps. Des emails et des messages offrant des réductions peuvent être envoyés afin de les reprendre à nouveau.\n",
        "La création des offres sur mesure sera possible, vu qu'on dispose leurs historiques d'achats.\n",
        "\n",
        "Groupe 2 (**clients récents à fort CA**): ils représentent les nouveaux clients qui ont effectué plusieurs achats récemment, ils forment un groupe de clients récents à fort CA. ce sont des clients à fidéliser par des emails qui proposent d'autres produits sur le site, vu qu'ils sont des nouveaux clients. Il est possible aussi de proposer des recommandations selon leurs derniers achats, de Mettre en place un programme de fidélisation et de proposer des réductions en frais de livraison.\n",
        "\n",
        "Groupe 3 (**clients réguliers en développement**): des clients avec des dépenses et une fréquence d'achat moyennent par rapport aux autres clients, il faut augmenter la fréquence de leurs achats.\n",
        "ce sont les clients réguliers en développement.\n",
        "Il faut demander aux clients actuels satisfaits de laisser des avis positifs sur Internet. Les témoignages clients qui rassurez-les clients moins réguliers.\n",
        "Le but est de lever les doutes des clients en développement et est un argumentaire solide. Il faut les rassurer et les convaincre : par rapport aux problèmes de livraison et la défaillance produite /services.\n",
        "Les surprises ou réductions pour les nouveaux acheteurs sont toujours un bon moyen de les inciter à acheter. Le cadeau surprise peut être un produit complémentaire à l’achat ou tout simplement un échantillon gratuit adapté aux goûts du client. Du moment que le client ne s’y attend pas et que la surprise a de la valeur pour lui, il risque d’être ravi et de se sentir valorisé.\n",
        "\n",
        "Groupe 4 (**nouveaux clients perdus**): ce sont des nouveaux clients perdus. Le ciblage des clients récents par les réseaux sociaux peut être efficace. on propose des recommandations sur instagram selon leurs derniers types d'achat.\n",
        "\n",
        "\n",
        "à court terme, l'augmentation du chiffre d'affaires est lié à la fidélisation des clients récents à fort CA vu qu'il représente le groupe de clients qui dépense le plus.\n",
        "Il faut viser aussi les clients réguliers en développement vu qu'ils sont actifs, il faut augmenter leurs fréquences d'achat.\n",
        "\n",
        "à moyen terme, il faut suivre l'activité des nouveaux clients pour éviter leur partent. Il faut chercher à réattirer les clients perdus, vu que la réactivation d'un client perdu demande plus de temps.\n"
      ],
      "id": "LOK7tPyPKrQJ"
    },
    {
      "cell_type": "markdown",
      "metadata": {
        "id": "f1c3b972"
      },
      "source": [
        "******************************"
      ],
      "id": "f1c3b972"
    },
    {
      "cell_type": "markdown",
      "metadata": {
        "id": "AYpWbEXkOzzH"
      },
      "source": [
        "# Customer Lifetime Value(CLTV)\n",
        "\n",
        "Le CLTV est l’estimation du profit généré par un client pendant la durée de sa relation commerciale avec une entreprise\n",
        "La Customer Lifetime Value est le montant moyen que vos clients dépenseront à travers votre entreprise pendant toute la durée de votre relation commerciale.\n",
        "\n",
        "On propose de calculer le CLTV en ajoutant les bénéfices/revenus des clients dans un cycle donné.\n",
        "\n",
        "\n",
        "\n",
        "\n",
        "CLTV peut également implémenter en utilisant les valeurs RFM (Récence, Fréquence, Monétaire). \n",
        "\n",
        "* CLTV = ((Valeur moyenne des commandes x Fréquence d'achat)/Taux de désabonnement) x Marge bénéficiaire.\n",
        "\n",
        "Valeur client = valeur moyenne des commandes * fréquence d'achat\n",
        "\n",
        "Valeur moyenne des commandes (AOV) = chiffre d'affaires total / nombre total de commandes. L'AOV représente le montant moyen des revenus que le client dépense pour une commande.\n",
        "\n",
        "Fréquence d'achat = Nombre total de commandes / Nombre total de clients.\n",
        "\n",
        "Il représente le nombre moyen de commandes passées par chaque client.\n",
        "\n",
        "Taux de désabonnement : le taux de désabonnement est le pourcentage de clients qui n'ont pas commandé à nouveau.\n",
        "\n",
        "Durée de vie du client = 1/ taux de désabonnement"
      ],
      "id": "AYpWbEXkOzzH"
    },
    {
      "cell_type": "code",
      "metadata": {
        "colab": {
          "base_uri": "https://localhost:8080/",
          "height": 237
        },
        "id": "psvYs0al072x",
        "outputId": "8ba9cf9b-6edc-49da-b517-2e581aba1cc6"
      },
      "source": [
        "cltv_data = customers_B2C.groupby('Customer id').agg({'Created at': lambda x: (snapshot_date - x.max()).days,\n",
        "                                        'Name': lambda num: len(num),\n",
        "                                        'Lineitem quantity': lambda quant: quant.sum(),\n",
        "                                        'Total Revenu': lambda price: price.sum()})\n",
        "\n",
        "# Change the name of columns\n",
        "cltv_data.columns = ['num_days','num_transactions','num_units','spent_money']\n",
        "cltv_data.head()"
      ],
      "id": "psvYs0al072x",
      "execution_count": null,
      "outputs": [
        {
          "output_type": "execute_result",
          "data": {
            "text/html": [
              "<div>\n",
              "<style scoped>\n",
              "    .dataframe tbody tr th:only-of-type {\n",
              "        vertical-align: middle;\n",
              "    }\n",
              "\n",
              "    .dataframe tbody tr th {\n",
              "        vertical-align: top;\n",
              "    }\n",
              "\n",
              "    .dataframe thead th {\n",
              "        text-align: right;\n",
              "    }\n",
              "</style>\n",
              "<table border=\"1\" class=\"dataframe\">\n",
              "  <thead>\n",
              "    <tr style=\"text-align: right;\">\n",
              "      <th></th>\n",
              "      <th>num_days</th>\n",
              "      <th>num_transactions</th>\n",
              "      <th>num_units</th>\n",
              "      <th>spent_money</th>\n",
              "    </tr>\n",
              "    <tr>\n",
              "      <th>Customer id</th>\n",
              "      <th></th>\n",
              "      <th></th>\n",
              "      <th></th>\n",
              "      <th></th>\n",
              "    </tr>\n",
              "  </thead>\n",
              "  <tbody>\n",
              "    <tr>\n",
              "      <th>1</th>\n",
              "      <td>1</td>\n",
              "      <td>1</td>\n",
              "      <td>1</td>\n",
              "      <td>134.55</td>\n",
              "    </tr>\n",
              "    <tr>\n",
              "      <th>6</th>\n",
              "      <td>3</td>\n",
              "      <td>4</td>\n",
              "      <td>4</td>\n",
              "      <td>30.07</td>\n",
              "    </tr>\n",
              "    <tr>\n",
              "      <th>8</th>\n",
              "      <td>4</td>\n",
              "      <td>1</td>\n",
              "      <td>1</td>\n",
              "      <td>55.44</td>\n",
              "    </tr>\n",
              "    <tr>\n",
              "      <th>9</th>\n",
              "      <td>2</td>\n",
              "      <td>1</td>\n",
              "      <td>1</td>\n",
              "      <td>98.09</td>\n",
              "    </tr>\n",
              "    <tr>\n",
              "      <th>10</th>\n",
              "      <td>4</td>\n",
              "      <td>1</td>\n",
              "      <td>1</td>\n",
              "      <td>152.73</td>\n",
              "    </tr>\n",
              "  </tbody>\n",
              "</table>\n",
              "</div>"
            ],
            "text/plain": [
              "             num_days  num_transactions  num_units  spent_money\n",
              "Customer id                                                    \n",
              "1                   1                 1          1       134.55\n",
              "6                   3                 4          4        30.07\n",
              "8                   4                 1          1        55.44\n",
              "9                   2                 1          1        98.09\n",
              "10                  4                 1          1       152.73"
            ]
          },
          "metadata": {},
          "execution_count": 57
        }
      ]
    },
    {
      "cell_type": "markdown",
      "metadata": {
        "id": "zHVmjR1b4dEw"
      },
      "source": [
        "## Calcul du CLTV\n",
        "\n",
        "\n",
        "\n",
        "CLTV = ((Valeur moyenne des commandes x Fréquence d'achat)/Taux de désabonnement) x Marge bénéficiaire.\n",
        "\n",
        "Valeur client = valeur moyenne des commandes * fréquence d'achat"
      ],
      "id": "zHVmjR1b4dEw"
    },
    {
      "cell_type": "code",
      "metadata": {
        "colab": {
          "base_uri": "https://localhost:8080/",
          "height": 237
        },
        "id": "_LQn4Bjx4cFK",
        "outputId": "64c36bed-5bce-4496-cd21-10a9e3e3c7a5"
      },
      "source": [
        "# Average Order Value\n",
        "cltv_data['avg_order_value'] = cltv_data['spent_money']/cltv_data['num_transactions']\n",
        "cltv_data.head()"
      ],
      "id": "_LQn4Bjx4cFK",
      "execution_count": null,
      "outputs": [
        {
          "output_type": "execute_result",
          "data": {
            "text/html": [
              "<div>\n",
              "<style scoped>\n",
              "    .dataframe tbody tr th:only-of-type {\n",
              "        vertical-align: middle;\n",
              "    }\n",
              "\n",
              "    .dataframe tbody tr th {\n",
              "        vertical-align: top;\n",
              "    }\n",
              "\n",
              "    .dataframe thead th {\n",
              "        text-align: right;\n",
              "    }\n",
              "</style>\n",
              "<table border=\"1\" class=\"dataframe\">\n",
              "  <thead>\n",
              "    <tr style=\"text-align: right;\">\n",
              "      <th></th>\n",
              "      <th>num_days</th>\n",
              "      <th>num_transactions</th>\n",
              "      <th>num_units</th>\n",
              "      <th>spent_money</th>\n",
              "      <th>avg_order_value</th>\n",
              "    </tr>\n",
              "    <tr>\n",
              "      <th>Customer id</th>\n",
              "      <th></th>\n",
              "      <th></th>\n",
              "      <th></th>\n",
              "      <th></th>\n",
              "      <th></th>\n",
              "    </tr>\n",
              "  </thead>\n",
              "  <tbody>\n",
              "    <tr>\n",
              "      <th>1</th>\n",
              "      <td>1</td>\n",
              "      <td>1</td>\n",
              "      <td>1</td>\n",
              "      <td>134.55</td>\n",
              "      <td>134.5500</td>\n",
              "    </tr>\n",
              "    <tr>\n",
              "      <th>6</th>\n",
              "      <td>3</td>\n",
              "      <td>4</td>\n",
              "      <td>4</td>\n",
              "      <td>30.07</td>\n",
              "      <td>7.5175</td>\n",
              "    </tr>\n",
              "    <tr>\n",
              "      <th>8</th>\n",
              "      <td>4</td>\n",
              "      <td>1</td>\n",
              "      <td>1</td>\n",
              "      <td>55.44</td>\n",
              "      <td>55.4400</td>\n",
              "    </tr>\n",
              "    <tr>\n",
              "      <th>9</th>\n",
              "      <td>2</td>\n",
              "      <td>1</td>\n",
              "      <td>1</td>\n",
              "      <td>98.09</td>\n",
              "      <td>98.0900</td>\n",
              "    </tr>\n",
              "    <tr>\n",
              "      <th>10</th>\n",
              "      <td>4</td>\n",
              "      <td>1</td>\n",
              "      <td>1</td>\n",
              "      <td>152.73</td>\n",
              "      <td>152.7300</td>\n",
              "    </tr>\n",
              "  </tbody>\n",
              "</table>\n",
              "</div>"
            ],
            "text/plain": [
              "             num_days  num_transactions  ...  spent_money  avg_order_value\n",
              "Customer id                              ...                              \n",
              "1                   1                 1  ...       134.55         134.5500\n",
              "6                   3                 4  ...        30.07           7.5175\n",
              "8                   4                 1  ...        55.44          55.4400\n",
              "9                   2                 1  ...        98.09          98.0900\n",
              "10                  4                 1  ...       152.73         152.7300\n",
              "\n",
              "[5 rows x 5 columns]"
            ]
          },
          "metadata": {},
          "execution_count": 58
        }
      ]
    },
    {
      "cell_type": "markdown",
      "metadata": {
        "id": "T2mYIxFN6Bsn"
      },
      "source": [
        "##  Fréquence d'achat"
      ],
      "id": "T2mYIxFN6Bsn"
    },
    {
      "cell_type": "code",
      "metadata": {
        "id": "q2-OIC4f6ABv",
        "colab": {
          "base_uri": "https://localhost:8080/"
        },
        "outputId": "d6911072-dfec-4201-c5df-543309a7e133"
      },
      "source": [
        "purchase_frequency = sum(cltv_data['num_transactions'])/cltv_data.shape[0]\n",
        "purchase_frequency"
      ],
      "id": "q2-OIC4f6ABv",
      "execution_count": null,
      "outputs": [
        {
          "output_type": "execute_result",
          "data": {
            "text/plain": [
              "6.030564263322884"
            ]
          },
          "metadata": {},
          "execution_count": 59
        }
      ]
    },
    {
      "cell_type": "markdown",
      "metadata": {
        "id": "6ePNbZuA6zAO"
      },
      "source": [
        "## Calculer le taux de rétention et le taux de désabonnement\n",
        "\n"
      ],
      "id": "6ePNbZuA6zAO"
    },
    {
      "cell_type": "code",
      "metadata": {
        "colab": {
          "base_uri": "https://localhost:8080/"
        },
        "id": "fBx2i4cL60Df",
        "outputId": "9246994c-a5ea-457e-cfec-e655e840c103"
      },
      "source": [
        "# Repeat Rate\n",
        "repeat_rate= cltv_data[cltv_data.num_transactions > 1].shape[0]/cltv_data.shape[0]\n",
        "#Churn Rate\n",
        "churn_rate=1-repeat_rate\n",
        "purchase_frequency,repeat_rate,churn_rate"
      ],
      "id": "fBx2i4cL60Df",
      "execution_count": null,
      "outputs": [
        {
          "output_type": "execute_result",
          "data": {
            "text/plain": [
              "(6.030564263322884, 0.5666144200626959, 0.4333855799373041)"
            ]
          },
          "metadata": {},
          "execution_count": 56
        }
      ]
    },
    {
      "cell_type": "markdown",
      "metadata": {
        "id": "Wv97Ve3O7MXl"
      },
      "source": [
        "## Marge bénéficiaire\n",
        "Il représente le pourcentage des ventes totales gagné en tant que gain. "
      ],
      "id": "Wv97Ve3O7MXl"
    },
    {
      "cell_type": "code",
      "metadata": {
        "colab": {
          "base_uri": "https://localhost:8080/",
          "height": 237
        },
        "id": "WqofDLER83X1",
        "outputId": "cad81ea6-b25f-4037-dab5-d8f5233261f4"
      },
      "source": [
        "# Profit Margin\n",
        "cltv_data['profit_margin'] = cltv_data['spent_money']*0.05\n",
        "cltv_data.head()"
      ],
      "id": "WqofDLER83X1",
      "execution_count": null,
      "outputs": [
        {
          "output_type": "execute_result",
          "data": {
            "text/html": [
              "<div>\n",
              "<style scoped>\n",
              "    .dataframe tbody tr th:only-of-type {\n",
              "        vertical-align: middle;\n",
              "    }\n",
              "\n",
              "    .dataframe tbody tr th {\n",
              "        vertical-align: top;\n",
              "    }\n",
              "\n",
              "    .dataframe thead th {\n",
              "        text-align: right;\n",
              "    }\n",
              "</style>\n",
              "<table border=\"1\" class=\"dataframe\">\n",
              "  <thead>\n",
              "    <tr style=\"text-align: right;\">\n",
              "      <th></th>\n",
              "      <th>num_days</th>\n",
              "      <th>num_transactions</th>\n",
              "      <th>num_units</th>\n",
              "      <th>spent_money</th>\n",
              "      <th>avg_order_value</th>\n",
              "      <th>profit_margin</th>\n",
              "    </tr>\n",
              "    <tr>\n",
              "      <th>Customer id</th>\n",
              "      <th></th>\n",
              "      <th></th>\n",
              "      <th></th>\n",
              "      <th></th>\n",
              "      <th></th>\n",
              "      <th></th>\n",
              "    </tr>\n",
              "  </thead>\n",
              "  <tbody>\n",
              "    <tr>\n",
              "      <th>1</th>\n",
              "      <td>1</td>\n",
              "      <td>1</td>\n",
              "      <td>1</td>\n",
              "      <td>134.55</td>\n",
              "      <td>134.5500</td>\n",
              "      <td>6.7275</td>\n",
              "    </tr>\n",
              "    <tr>\n",
              "      <th>6</th>\n",
              "      <td>3</td>\n",
              "      <td>4</td>\n",
              "      <td>4</td>\n",
              "      <td>30.07</td>\n",
              "      <td>7.5175</td>\n",
              "      <td>1.5035</td>\n",
              "    </tr>\n",
              "    <tr>\n",
              "      <th>8</th>\n",
              "      <td>4</td>\n",
              "      <td>1</td>\n",
              "      <td>1</td>\n",
              "      <td>55.44</td>\n",
              "      <td>55.4400</td>\n",
              "      <td>2.7720</td>\n",
              "    </tr>\n",
              "    <tr>\n",
              "      <th>9</th>\n",
              "      <td>2</td>\n",
              "      <td>1</td>\n",
              "      <td>1</td>\n",
              "      <td>98.09</td>\n",
              "      <td>98.0900</td>\n",
              "      <td>4.9045</td>\n",
              "    </tr>\n",
              "    <tr>\n",
              "      <th>10</th>\n",
              "      <td>4</td>\n",
              "      <td>1</td>\n",
              "      <td>1</td>\n",
              "      <td>152.73</td>\n",
              "      <td>152.7300</td>\n",
              "      <td>7.6365</td>\n",
              "    </tr>\n",
              "  </tbody>\n",
              "</table>\n",
              "</div>"
            ],
            "text/plain": [
              "             num_days  num_transactions  ...  avg_order_value  profit_margin\n",
              "Customer id                              ...                                \n",
              "1                   1                 1  ...         134.5500         6.7275\n",
              "6                   3                 4  ...           7.5175         1.5035\n",
              "8                   4                 1  ...          55.4400         2.7720\n",
              "9                   2                 1  ...          98.0900         4.9045\n",
              "10                  4                 1  ...         152.7300         7.6365\n",
              "\n",
              "[5 rows x 6 columns]"
            ]
          },
          "metadata": {},
          "execution_count": 57
        }
      ]
    },
    {
      "cell_type": "markdown",
      "metadata": {
        "id": "DXl2thIH9agM"
      },
      "source": [
        "## Customer Lifetime Value"
      ],
      "id": "DXl2thIH9agM"
    },
    {
      "cell_type": "code",
      "metadata": {
        "colab": {
          "base_uri": "https://localhost:8080/",
          "height": 237
        },
        "id": "Izr6hKWO9b8A",
        "outputId": "2b8e54b6-ecef-4345-a4dc-23efa17112e2"
      },
      "source": [
        "# Customer Value\n",
        "cltv_data['CLV']=(cltv_data['avg_order_value']*purchase_frequency)/churn_rate\n",
        "\n",
        "#Customer Lifetime Value\n",
        "cltv_data['cust_lifetime_value']=cltv_data['CLV']*cltv_data['profit_margin']\n",
        "\n",
        "cltv_data.head()"
      ],
      "id": "Izr6hKWO9b8A",
      "execution_count": null,
      "outputs": [
        {
          "output_type": "execute_result",
          "data": {
            "text/html": [
              "<div>\n",
              "<style scoped>\n",
              "    .dataframe tbody tr th:only-of-type {\n",
              "        vertical-align: middle;\n",
              "    }\n",
              "\n",
              "    .dataframe tbody tr th {\n",
              "        vertical-align: top;\n",
              "    }\n",
              "\n",
              "    .dataframe thead th {\n",
              "        text-align: right;\n",
              "    }\n",
              "</style>\n",
              "<table border=\"1\" class=\"dataframe\">\n",
              "  <thead>\n",
              "    <tr style=\"text-align: right;\">\n",
              "      <th></th>\n",
              "      <th>num_days</th>\n",
              "      <th>num_transactions</th>\n",
              "      <th>num_units</th>\n",
              "      <th>spent_money</th>\n",
              "      <th>avg_order_value</th>\n",
              "      <th>profit_margin</th>\n",
              "      <th>CLV</th>\n",
              "      <th>cust_lifetime_value</th>\n",
              "    </tr>\n",
              "    <tr>\n",
              "      <th>Customer id</th>\n",
              "      <th></th>\n",
              "      <th></th>\n",
              "      <th></th>\n",
              "      <th></th>\n",
              "      <th></th>\n",
              "      <th></th>\n",
              "      <th></th>\n",
              "      <th></th>\n",
              "    </tr>\n",
              "  </thead>\n",
              "  <tbody>\n",
              "    <tr>\n",
              "      <th>1</th>\n",
              "      <td>1</td>\n",
              "      <td>1</td>\n",
              "      <td>1</td>\n",
              "      <td>134.55</td>\n",
              "      <td>134.5500</td>\n",
              "      <td>6.7275</td>\n",
              "      <td>1872.264467</td>\n",
              "      <td>12595.659199</td>\n",
              "    </tr>\n",
              "    <tr>\n",
              "      <th>6</th>\n",
              "      <td>3</td>\n",
              "      <td>4</td>\n",
              "      <td>4</td>\n",
              "      <td>30.07</td>\n",
              "      <td>7.5175</td>\n",
              "      <td>1.5035</td>\n",
              "      <td>104.606080</td>\n",
              "      <td>157.275242</td>\n",
              "    </tr>\n",
              "    <tr>\n",
              "      <th>8</th>\n",
              "      <td>4</td>\n",
              "      <td>1</td>\n",
              "      <td>1</td>\n",
              "      <td>55.44</td>\n",
              "      <td>55.4400</td>\n",
              "      <td>2.7720</td>\n",
              "      <td>771.448101</td>\n",
              "      <td>2138.454137</td>\n",
              "    </tr>\n",
              "    <tr>\n",
              "      <th>9</th>\n",
              "      <td>2</td>\n",
              "      <td>1</td>\n",
              "      <td>1</td>\n",
              "      <td>98.09</td>\n",
              "      <td>98.0900</td>\n",
              "      <td>4.9045</td>\n",
              "      <td>1364.923237</td>\n",
              "      <td>6694.266015</td>\n",
              "    </tr>\n",
              "    <tr>\n",
              "      <th>10</th>\n",
              "      <td>4</td>\n",
              "      <td>1</td>\n",
              "      <td>1</td>\n",
              "      <td>152.73</td>\n",
              "      <td>152.7300</td>\n",
              "      <td>7.6365</td>\n",
              "      <td>2125.239331</td>\n",
              "      <td>16229.390151</td>\n",
              "    </tr>\n",
              "  </tbody>\n",
              "</table>\n",
              "</div>"
            ],
            "text/plain": [
              "             num_days  num_transactions  ...          CLV  cust_lifetime_value\n",
              "Customer id                              ...                                  \n",
              "1                   1                 1  ...  1872.264467         12595.659199\n",
              "6                   3                 4  ...   104.606080           157.275242\n",
              "8                   4                 1  ...   771.448101          2138.454137\n",
              "9                   2                 1  ...  1364.923237          6694.266015\n",
              "10                  4                 1  ...  2125.239331         16229.390151\n",
              "\n",
              "[5 rows x 8 columns]"
            ]
          },
          "metadata": {},
          "execution_count": 58
        }
      ]
    },
    {
      "cell_type": "code",
      "metadata": {
        "colab": {
          "base_uri": "https://localhost:8080/",
          "height": 733
        },
        "id": "bn8iVujikAOt",
        "outputId": "2ba3d1a4-b761-4db3-920f-1a8f41274e86"
      },
      "source": [
        "plt.figure(figsize=(12,10))\n",
        "# Plot distribution of R\n",
        "sns.distplot(cltv_data['cust_lifetime_value'])"
      ],
      "id": "bn8iVujikAOt",
      "execution_count": null,
      "outputs": [
        {
          "output_type": "stream",
          "name": "stderr",
          "text": [
            "/usr/local/lib/python3.7/dist-packages/seaborn/distributions.py:2619: FutureWarning:\n",
            "\n",
            "`distplot` is a deprecated function and will be removed in a future version. Please adapt your code to use either `displot` (a figure-level function with similar flexibility) or `histplot` (an axes-level function for histograms).\n",
            "\n"
          ]
        },
        {
          "output_type": "execute_result",
          "data": {
            "text/plain": [
              "<matplotlib.axes._subplots.AxesSubplot at 0x7fbe7c0c64d0>"
            ]
          },
          "metadata": {},
          "execution_count": 62
        },
        {
          "output_type": "display_data",
          "data": {
            "image/png": "[encoded data removed]",
            "text/plain": [
              "<Figure size 864x720 with 1 Axes>"
            ]
          },
          "metadata": {
            "needs_background": "light"
          }
        }
      ]
    },
    {
      "cell_type": "code",
      "metadata": {
        "id": "MbLC01GEkoxY"
      },
      "source": [
        "cltv_final = cltv_data\n",
        "cltv_final = cltv_final.sort_values(by=\"cust_lifetime_value\", ascending=False)\n",
        "cltv_final[\"segment\"] = pd.qcut(cltv_final[\"cust_lifetime_value\"], 4, labels=[\"D\", \"C\", \"B\", \"A\"])\n"
      ],
      "id": "MbLC01GEkoxY",
      "execution_count": null,
      "outputs": []
    },
    {
      "cell_type": "code",
      "metadata": {
        "colab": {
          "base_uri": "https://localhost:8080/",
          "height": 502
        },
        "id": "1K38Dcc9sgtb",
        "outputId": "1b9827f9-70b8-421e-e677-56a9cac35a8c"
      },
      "source": [
        "ax = sns.barplot(x=\"segment\", y=\"cust_lifetime_value\", data=cltv_final,\n",
        "                  saturation=.5)"
      ],
      "id": "1K38Dcc9sgtb",
      "execution_count": null,
      "outputs": [
        {
          "output_type": "display_data",
          "data": {
            "image/png": "[encoded data removed]",
            "text/plain": [
              "<Figure size 720x576 with 1 Axes>"
            ]
          },
          "metadata": {
            "needs_background": "light"
          }
        }
      ]
    },
    {
      "cell_type": "code",
      "metadata": {
        "id": "TcviRunKomTW"
      },
      "source": [
        "Segmentation of Scaled CLV Values\n"
      ],
      "id": "TcviRunKomTW",
      "execution_count": null,
      "outputs": []
    },
    {
      "cell_type": "markdown",
      "metadata": {
        "id": "MvK5e1kQ9vGt"
      },
      "source": [
        "# Analyses prédictives\n",
        "\n",
        "\n",
        "* Par exemple, si le client est associé à l'entreprise au cours de cette dernière année, nous pouvons additionner tous les bénéfices de cette années.\n",
        "Nous pouvons faire la moyenne des bénéfices annuellement, semestriellement ou mensuellement, mais avec cette approche, nous pourrons construire un modèle prédictif pour les nouveaux clients.\n",
        "\n",
        "\n",
        "* Un modèle de régression pour les clients existants est basé sur les données récentes sur les derniers mois comme variables indépendantes et le revenu total sur trois ans comme variable dépendante."
      ],
      "id": "MvK5e1kQ9vGt"
    },
    {
      "cell_type": "code",
      "metadata": {
        "id": "x7s6nd1DDL9x"
      },
      "source": [
        "cltv = customers_B2C[[\"Name\", \"Customer id\", 'Lineitem quantity', 'Total Revenu', 'Created at']]"
      ],
      "id": "x7s6nd1DDL9x",
      "execution_count": null,
      "outputs": []
    },
    {
      "cell_type": "code",
      "metadata": {
        "colab": {
          "base_uri": "https://localhost:8080/",
          "height": 352
        },
        "id": "TZtwb3dc9sn_",
        "outputId": "fc9d6df7-f253-4b4d-e0c0-10b752cd7c65"
      },
      "source": [
        "# Change the name of columns\n",
        "cltv['month_yr'] = cltv['Created at'].apply(lambda x: x.strftime('%b-%Y'))\n",
        "cltv.head()"
      ],
      "id": "TZtwb3dc9sn_",
      "execution_count": null,
      "outputs": [
        {
          "output_type": "stream",
          "name": "stderr",
          "text": [
            "/usr/local/lib/python3.7/dist-packages/ipykernel_launcher.py:2: SettingWithCopyWarning:\n",
            "\n",
            "\n",
            "A value is trying to be set on a copy of a slice from a DataFrame.\n",
            "Try using .loc[row_indexer,col_indexer] = value instead\n",
            "\n",
            "See the caveats in the documentation: https://pandas.pydata.org/pandas-docs/stable/user_guide/indexing.html#returning-a-view-versus-a-copy\n",
            "\n"
          ]
        },
        {
          "output_type": "execute_result",
          "data": {
            "text/html": [
              "<div>\n",
              "<style scoped>\n",
              "    .dataframe tbody tr th:only-of-type {\n",
              "        vertical-align: middle;\n",
              "    }\n",
              "\n",
              "    .dataframe tbody tr th {\n",
              "        vertical-align: top;\n",
              "    }\n",
              "\n",
              "    .dataframe thead th {\n",
              "        text-align: right;\n",
              "    }\n",
              "</style>\n",
              "<table border=\"1\" class=\"dataframe\">\n",
              "  <thead>\n",
              "    <tr style=\"text-align: right;\">\n",
              "      <th></th>\n",
              "      <th>Name</th>\n",
              "      <th>Customer id</th>\n",
              "      <th>Lineitem quantity</th>\n",
              "      <th>Total Revenu</th>\n",
              "      <th>Created at</th>\n",
              "      <th>month_yr</th>\n",
              "    </tr>\n",
              "  </thead>\n",
              "  <tbody>\n",
              "    <tr>\n",
              "      <th>0</th>\n",
              "      <td>#14442</td>\n",
              "      <td>1</td>\n",
              "      <td>1</td>\n",
              "      <td>134.55</td>\n",
              "      <td>2021-09-23 09:43:20+02:00</td>\n",
              "      <td>Sep-2021</td>\n",
              "    </tr>\n",
              "    <tr>\n",
              "      <th>85</th>\n",
              "      <td>#14426</td>\n",
              "      <td>5362</td>\n",
              "      <td>1</td>\n",
              "      <td>102.55</td>\n",
              "      <td>2021-09-21 19:30:01+02:00</td>\n",
              "      <td>Sep-2021</td>\n",
              "    </tr>\n",
              "    <tr>\n",
              "      <th>86</th>\n",
              "      <td>#14426</td>\n",
              "      <td>5362</td>\n",
              "      <td>1</td>\n",
              "      <td>0.00</td>\n",
              "      <td>2021-09-21 19:30:01+02:00</td>\n",
              "      <td>Sep-2021</td>\n",
              "    </tr>\n",
              "    <tr>\n",
              "      <th>87</th>\n",
              "      <td>#14425</td>\n",
              "      <td>7447</td>\n",
              "      <td>3</td>\n",
              "      <td>99.16</td>\n",
              "      <td>2021-09-21 19:22:38+02:00</td>\n",
              "      <td>Sep-2021</td>\n",
              "    </tr>\n",
              "    <tr>\n",
              "      <th>88</th>\n",
              "      <td>#14425</td>\n",
              "      <td>7447</td>\n",
              "      <td>8</td>\n",
              "      <td>0.00</td>\n",
              "      <td>2021-09-21 19:22:38+02:00</td>\n",
              "      <td>Sep-2021</td>\n",
              "    </tr>\n",
              "  </tbody>\n",
              "</table>\n",
              "</div>"
            ],
            "text/plain": [
              "      Name  Customer id  ...                 Created at  month_yr\n",
              "0   #14442            1  ...  2021-09-23 09:43:20+02:00  Sep-2021\n",
              "85  #14426         5362  ...  2021-09-21 19:30:01+02:00  Sep-2021\n",
              "86  #14426         5362  ...  2021-09-21 19:30:01+02:00  Sep-2021\n",
              "87  #14425         7447  ...  2021-09-21 19:22:38+02:00  Sep-2021\n",
              "88  #14425         7447  ...  2021-09-21 19:22:38+02:00  Sep-2021\n",
              "\n",
              "[5 rows x 6 columns]"
            ]
          },
          "metadata": {},
          "execution_count": 71
        }
      ]
    },
    {
      "cell_type": "code",
      "metadata": {
        "colab": {
          "base_uri": "https://localhost:8080/",
          "height": 223
        },
        "id": "SB9g1UBGEyP7",
        "outputId": "37c9c4fb-336d-4115-a788-f33d18e2ca77"
      },
      "source": [
        "sale=cltv.pivot_table(index=['Customer id'],columns=['month_yr'],values='Total Revenu',aggfunc='sum',fill_value=0).reset_index()\n",
        "sale.head()"
      ],
      "id": "SB9g1UBGEyP7",
      "execution_count": null,
      "outputs": [
        {
          "output_type": "execute_result",
          "data": {
            "text/html": [
              "<div>\n",
              "<style scoped>\n",
              "    .dataframe tbody tr th:only-of-type {\n",
              "        vertical-align: middle;\n",
              "    }\n",
              "\n",
              "    .dataframe tbody tr th {\n",
              "        vertical-align: top;\n",
              "    }\n",
              "\n",
              "    .dataframe thead th {\n",
              "        text-align: right;\n",
              "    }\n",
              "</style>\n",
              "<table border=\"1\" class=\"dataframe\">\n",
              "  <thead>\n",
              "    <tr style=\"text-align: right;\">\n",
              "      <th>month_yr</th>\n",
              "      <th>Customer id</th>\n",
              "      <th>Apr-2020</th>\n",
              "      <th>Apr-2021</th>\n",
              "      <th>Aug-2020</th>\n",
              "      <th>Aug-2021</th>\n",
              "      <th>Dec-2020</th>\n",
              "      <th>Feb-2021</th>\n",
              "      <th>Jan-2021</th>\n",
              "      <th>Jul-2020</th>\n",
              "      <th>Jul-2021</th>\n",
              "      <th>Jun-2020</th>\n",
              "      <th>Jun-2021</th>\n",
              "      <th>Mar-2020</th>\n",
              "      <th>Mar-2021</th>\n",
              "      <th>May-2020</th>\n",
              "      <th>May-2021</th>\n",
              "      <th>Nov-2020</th>\n",
              "      <th>Oct-2020</th>\n",
              "      <th>Sep-2020</th>\n",
              "      <th>Sep-2021</th>\n",
              "    </tr>\n",
              "  </thead>\n",
              "  <tbody>\n",
              "    <tr>\n",
              "      <th>0</th>\n",
              "      <td>1</td>\n",
              "      <td>0.0</td>\n",
              "      <td>0.0</td>\n",
              "      <td>0.0</td>\n",
              "      <td>0.0</td>\n",
              "      <td>0.0</td>\n",
              "      <td>0.0</td>\n",
              "      <td>0.0</td>\n",
              "      <td>0.0</td>\n",
              "      <td>0.0</td>\n",
              "      <td>0.0</td>\n",
              "      <td>0.0</td>\n",
              "      <td>0.0</td>\n",
              "      <td>0.0</td>\n",
              "      <td>0.0</td>\n",
              "      <td>0.0</td>\n",
              "      <td>0.0</td>\n",
              "      <td>0.0</td>\n",
              "      <td>0.0</td>\n",
              "      <td>134.55</td>\n",
              "    </tr>\n",
              "    <tr>\n",
              "      <th>1</th>\n",
              "      <td>6</td>\n",
              "      <td>0.0</td>\n",
              "      <td>0.0</td>\n",
              "      <td>0.0</td>\n",
              "      <td>0.0</td>\n",
              "      <td>0.0</td>\n",
              "      <td>0.0</td>\n",
              "      <td>0.0</td>\n",
              "      <td>0.0</td>\n",
              "      <td>0.0</td>\n",
              "      <td>0.0</td>\n",
              "      <td>0.0</td>\n",
              "      <td>0.0</td>\n",
              "      <td>0.0</td>\n",
              "      <td>0.0</td>\n",
              "      <td>0.0</td>\n",
              "      <td>0.0</td>\n",
              "      <td>0.0</td>\n",
              "      <td>0.0</td>\n",
              "      <td>30.07</td>\n",
              "    </tr>\n",
              "    <tr>\n",
              "      <th>2</th>\n",
              "      <td>8</td>\n",
              "      <td>0.0</td>\n",
              "      <td>0.0</td>\n",
              "      <td>0.0</td>\n",
              "      <td>0.0</td>\n",
              "      <td>0.0</td>\n",
              "      <td>0.0</td>\n",
              "      <td>0.0</td>\n",
              "      <td>0.0</td>\n",
              "      <td>0.0</td>\n",
              "      <td>0.0</td>\n",
              "      <td>0.0</td>\n",
              "      <td>0.0</td>\n",
              "      <td>0.0</td>\n",
              "      <td>0.0</td>\n",
              "      <td>0.0</td>\n",
              "      <td>0.0</td>\n",
              "      <td>0.0</td>\n",
              "      <td>0.0</td>\n",
              "      <td>55.44</td>\n",
              "    </tr>\n",
              "    <tr>\n",
              "      <th>3</th>\n",
              "      <td>9</td>\n",
              "      <td>0.0</td>\n",
              "      <td>0.0</td>\n",
              "      <td>0.0</td>\n",
              "      <td>0.0</td>\n",
              "      <td>0.0</td>\n",
              "      <td>0.0</td>\n",
              "      <td>0.0</td>\n",
              "      <td>0.0</td>\n",
              "      <td>0.0</td>\n",
              "      <td>0.0</td>\n",
              "      <td>0.0</td>\n",
              "      <td>0.0</td>\n",
              "      <td>0.0</td>\n",
              "      <td>0.0</td>\n",
              "      <td>0.0</td>\n",
              "      <td>0.0</td>\n",
              "      <td>0.0</td>\n",
              "      <td>0.0</td>\n",
              "      <td>98.09</td>\n",
              "    </tr>\n",
              "    <tr>\n",
              "      <th>4</th>\n",
              "      <td>10</td>\n",
              "      <td>0.0</td>\n",
              "      <td>0.0</td>\n",
              "      <td>0.0</td>\n",
              "      <td>0.0</td>\n",
              "      <td>0.0</td>\n",
              "      <td>0.0</td>\n",
              "      <td>0.0</td>\n",
              "      <td>0.0</td>\n",
              "      <td>0.0</td>\n",
              "      <td>0.0</td>\n",
              "      <td>0.0</td>\n",
              "      <td>0.0</td>\n",
              "      <td>0.0</td>\n",
              "      <td>0.0</td>\n",
              "      <td>0.0</td>\n",
              "      <td>0.0</td>\n",
              "      <td>0.0</td>\n",
              "      <td>0.0</td>\n",
              "      <td>152.73</td>\n",
              "    </tr>\n",
              "  </tbody>\n",
              "</table>\n",
              "</div>"
            ],
            "text/plain": [
              "month_yr  Customer id  Apr-2020  Apr-2021  ...  Oct-2020  Sep-2020  Sep-2021\n",
              "0                   1       0.0       0.0  ...       0.0       0.0    134.55\n",
              "1                   6       0.0       0.0  ...       0.0       0.0     30.07\n",
              "2                   8       0.0       0.0  ...       0.0       0.0     55.44\n",
              "3                   9       0.0       0.0  ...       0.0       0.0     98.09\n",
              "4                  10       0.0       0.0  ...       0.0       0.0    152.73\n",
              "\n",
              "[5 rows x 20 columns]"
            ]
          },
          "metadata": {},
          "execution_count": 72
        }
      ]
    },
    {
      "cell_type": "code",
      "metadata": {
        "colab": {
          "base_uri": "https://localhost:8080/",
          "height": 223
        },
        "id": "d3Ce6yQvFOgi",
        "outputId": "8f59a0ac-f491-4daf-8786-5ea16b12b71a"
      },
      "source": [
        "sale['CLV']=sale.iloc[:,2:].sum(axis=1)\n",
        "sale.head()"
      ],
      "id": "d3Ce6yQvFOgi",
      "execution_count": null,
      "outputs": [
        {
          "output_type": "execute_result",
          "data": {
            "text/html": [
              "<div>\n",
              "<style scoped>\n",
              "    .dataframe tbody tr th:only-of-type {\n",
              "        vertical-align: middle;\n",
              "    }\n",
              "\n",
              "    .dataframe tbody tr th {\n",
              "        vertical-align: top;\n",
              "    }\n",
              "\n",
              "    .dataframe thead th {\n",
              "        text-align: right;\n",
              "    }\n",
              "</style>\n",
              "<table border=\"1\" class=\"dataframe\">\n",
              "  <thead>\n",
              "    <tr style=\"text-align: right;\">\n",
              "      <th>month_yr</th>\n",
              "      <th>Customer id</th>\n",
              "      <th>Apr-2020</th>\n",
              "      <th>Apr-2021</th>\n",
              "      <th>Aug-2020</th>\n",
              "      <th>Aug-2021</th>\n",
              "      <th>Dec-2020</th>\n",
              "      <th>Feb-2021</th>\n",
              "      <th>Jan-2021</th>\n",
              "      <th>Jul-2020</th>\n",
              "      <th>Jul-2021</th>\n",
              "      <th>Jun-2020</th>\n",
              "      <th>Jun-2021</th>\n",
              "      <th>Mar-2020</th>\n",
              "      <th>Mar-2021</th>\n",
              "      <th>May-2020</th>\n",
              "      <th>May-2021</th>\n",
              "      <th>Nov-2020</th>\n",
              "      <th>Oct-2020</th>\n",
              "      <th>Sep-2020</th>\n",
              "      <th>Sep-2021</th>\n",
              "      <th>CLV</th>\n",
              "    </tr>\n",
              "  </thead>\n",
              "  <tbody>\n",
              "    <tr>\n",
              "      <th>0</th>\n",
              "      <td>1</td>\n",
              "      <td>0.0</td>\n",
              "      <td>0.0</td>\n",
              "      <td>0.0</td>\n",
              "      <td>0.0</td>\n",
              "      <td>0.0</td>\n",
              "      <td>0.0</td>\n",
              "      <td>0.0</td>\n",
              "      <td>0.0</td>\n",
              "      <td>0.0</td>\n",
              "      <td>0.0</td>\n",
              "      <td>0.0</td>\n",
              "      <td>0.0</td>\n",
              "      <td>0.0</td>\n",
              "      <td>0.0</td>\n",
              "      <td>0.0</td>\n",
              "      <td>0.0</td>\n",
              "      <td>0.0</td>\n",
              "      <td>0.0</td>\n",
              "      <td>134.55</td>\n",
              "      <td>134.55</td>\n",
              "    </tr>\n",
              "    <tr>\n",
              "      <th>1</th>\n",
              "      <td>6</td>\n",
              "      <td>0.0</td>\n",
              "      <td>0.0</td>\n",
              "      <td>0.0</td>\n",
              "      <td>0.0</td>\n",
              "      <td>0.0</td>\n",
              "      <td>0.0</td>\n",
              "      <td>0.0</td>\n",
              "      <td>0.0</td>\n",
              "      <td>0.0</td>\n",
              "      <td>0.0</td>\n",
              "      <td>0.0</td>\n",
              "      <td>0.0</td>\n",
              "      <td>0.0</td>\n",
              "      <td>0.0</td>\n",
              "      <td>0.0</td>\n",
              "      <td>0.0</td>\n",
              "      <td>0.0</td>\n",
              "      <td>0.0</td>\n",
              "      <td>30.07</td>\n",
              "      <td>30.07</td>\n",
              "    </tr>\n",
              "    <tr>\n",
              "      <th>2</th>\n",
              "      <td>8</td>\n",
              "      <td>0.0</td>\n",
              "      <td>0.0</td>\n",
              "      <td>0.0</td>\n",
              "      <td>0.0</td>\n",
              "      <td>0.0</td>\n",
              "      <td>0.0</td>\n",
              "      <td>0.0</td>\n",
              "      <td>0.0</td>\n",
              "      <td>0.0</td>\n",
              "      <td>0.0</td>\n",
              "      <td>0.0</td>\n",
              "      <td>0.0</td>\n",
              "      <td>0.0</td>\n",
              "      <td>0.0</td>\n",
              "      <td>0.0</td>\n",
              "      <td>0.0</td>\n",
              "      <td>0.0</td>\n",
              "      <td>0.0</td>\n",
              "      <td>55.44</td>\n",
              "      <td>55.44</td>\n",
              "    </tr>\n",
              "    <tr>\n",
              "      <th>3</th>\n",
              "      <td>9</td>\n",
              "      <td>0.0</td>\n",
              "      <td>0.0</td>\n",
              "      <td>0.0</td>\n",
              "      <td>0.0</td>\n",
              "      <td>0.0</td>\n",
              "      <td>0.0</td>\n",
              "      <td>0.0</td>\n",
              "      <td>0.0</td>\n",
              "      <td>0.0</td>\n",
              "      <td>0.0</td>\n",
              "      <td>0.0</td>\n",
              "      <td>0.0</td>\n",
              "      <td>0.0</td>\n",
              "      <td>0.0</td>\n",
              "      <td>0.0</td>\n",
              "      <td>0.0</td>\n",
              "      <td>0.0</td>\n",
              "      <td>0.0</td>\n",
              "      <td>98.09</td>\n",
              "      <td>98.09</td>\n",
              "    </tr>\n",
              "    <tr>\n",
              "      <th>4</th>\n",
              "      <td>10</td>\n",
              "      <td>0.0</td>\n",
              "      <td>0.0</td>\n",
              "      <td>0.0</td>\n",
              "      <td>0.0</td>\n",
              "      <td>0.0</td>\n",
              "      <td>0.0</td>\n",
              "      <td>0.0</td>\n",
              "      <td>0.0</td>\n",
              "      <td>0.0</td>\n",
              "      <td>0.0</td>\n",
              "      <td>0.0</td>\n",
              "      <td>0.0</td>\n",
              "      <td>0.0</td>\n",
              "      <td>0.0</td>\n",
              "      <td>0.0</td>\n",
              "      <td>0.0</td>\n",
              "      <td>0.0</td>\n",
              "      <td>0.0</td>\n",
              "      <td>152.73</td>\n",
              "      <td>152.73</td>\n",
              "    </tr>\n",
              "  </tbody>\n",
              "</table>\n",
              "</div>"
            ],
            "text/plain": [
              "month_yr  Customer id  Apr-2020  Apr-2021  ...  Sep-2020  Sep-2021     CLV\n",
              "0                   1       0.0       0.0  ...       0.0    134.55  134.55\n",
              "1                   6       0.0       0.0  ...       0.0     30.07   30.07\n",
              "2                   8       0.0       0.0  ...       0.0     55.44   55.44\n",
              "3                   9       0.0       0.0  ...       0.0     98.09   98.09\n",
              "4                  10       0.0       0.0  ...       0.0    152.73  152.73\n",
              "\n",
              "[5 rows x 21 columns]"
            ]
          },
          "metadata": {},
          "execution_count": 73
        }
      ]
    },
    {
      "cell_type": "markdown",
      "metadata": {
        "id": "CJu-qyBjFWVy"
      },
      "source": [
        "### Selection des *Features*\n",
        "Ici, nous devons diviser les colonnes données en deux types de variables dépendantes (ou variable cible) et de variable indépendante (ou variables caractéristiques). Sélectionnez les 6 derniers mois comme variable indépendante."
      ],
      "id": "CJu-qyBjFWVy"
    },
    {
      "cell_type": "code",
      "metadata": {
        "id": "C1eK4ft_FW4e"
      },
      "source": [
        "X=sale[[\t'Apr-2020'\t,'Apr-2021'\t,'Aug-2020',\t'Aug-2021',\t'Dec-2020'\t,'Feb-2021'\t,'Jan-2021'\t,'Jul-2020',\t'Jul-2021',\t'Jun-2020',\t'Jun-2021',\t'Mar-2020',\n",
        "\t'Mar-2021',\t'May-2020',\t'May-2021',\t'Nov-2020',\t'Oct-2020',\t'Sep-2020',\t'Sep-2021'\t]]\n",
        "y=sale[['CLV']]"
      ],
      "id": "C1eK4ft_FW4e",
      "execution_count": null,
      "outputs": []
    },
    {
      "cell_type": "markdown",
      "metadata": {
        "id": "smD7FpeCF6gG"
      },
      "source": [
        "### Fractionnement des données\n",
        "Pour comprendre les performances du modèle, diviser l'ensemble de données en un ensemble d'apprentissage et un ensemble de test est une bonne stratégie.\n",
        "\n",
        "Nous devons passer 3 paramètres fonctionnalités, cible et taille de test_set. De plus, nous pouvons utiliser random_state comme valeur de départ pour maintenir la reproductibilité, ce qui signifie que chaque fois que nous divisons les données, cela n'affectera pas les résultats. De plus, si random_state est None, alors le générateur de nombres aléatoires utilise np.random pour sélectionner les enregistrements de manière aléatoire. Cela signifie que si nous ne plantons pas de graine, c'est différent à chaque fois."
      ],
      "id": "smD7FpeCF6gG"
    },
    {
      "cell_type": "code",
      "metadata": {
        "id": "xm-P3Bf9F7Lc"
      },
      "source": [
        "#split training set and test set\n",
        "from sklearn.model_selection import train_test_split\n",
        "X_train, X_test, y_train, y_test = train_test_split(X, y,random_state=0)"
      ],
      "id": "xm-P3Bf9F7Lc",
      "execution_count": null,
      "outputs": []
    },
    {
      "cell_type": "code",
      "metadata": {
        "colab": {
          "base_uri": "https://localhost:8080/"
        },
        "id": "8W3iRvzCF9Mz",
        "outputId": "8063216b-9a0f-465d-b3cf-7b11f9a8e263"
      },
      "source": [
        "# import model\n",
        "from sklearn.linear_model import LinearRegression\n",
        "\n",
        "# instantiate\n",
        "linreg = LinearRegression()\n",
        "\n",
        "# fit the model to the training data (learn the coefficients)\n",
        "linreg.fit(X_train, y_train)\n",
        "\n",
        "# make predictions on the testing set\n",
        "y_pred = linreg.predict(X_test)\n",
        "\n",
        "# print the intercept and coefficients\n",
        "print(linreg.intercept_)\n",
        "print(linreg.coef_)"
      ],
      "id": "8W3iRvzCF9Mz",
      "execution_count": null,
      "outputs": [
        {
          "output_type": "stream",
          "name": "stdout",
          "text": [
            "[-1.70530257e-13]\n",
            "[[2.22375325e-15 1.00000000e+00 1.00000000e+00 1.00000000e+00\n",
            "  1.00000000e+00 1.00000000e+00 1.00000000e+00 1.00000000e+00\n",
            "  1.00000000e+00 1.00000000e+00 1.00000000e+00 1.00000000e+00\n",
            "  1.00000000e+00 1.00000000e+00 1.00000000e+00 1.00000000e+00\n",
            "  1.00000000e+00 1.00000000e+00 1.00000000e+00]]\n"
          ]
        }
      ]
    },
    {
      "cell_type": "code",
      "metadata": {
        "colab": {
          "base_uri": "https://localhost:8080/"
        },
        "id": "8NTeYzNRGEHI",
        "outputId": "2d989ac6-c886-4958-a58a-5f84793e7062"
      },
      "source": [
        "from sklearn import metrics\n",
        "\n",
        "# compute the R Square for model\n",
        "print(\"R-Square:\",metrics.r2_score(y_test, y_pred))"
      ],
      "id": "8NTeYzNRGEHI",
      "execution_count": null,
      "outputs": [
        {
          "output_type": "stream",
          "name": "stdout",
          "text": [
            "R-Square: 1.0\n"
          ]
        }
      ]
    },
    {
      "cell_type": "code",
      "metadata": {
        "colab": {
          "base_uri": "https://localhost:8080/"
        },
        "id": "0jwjAf84GFZh",
        "outputId": "6897f45c-1e4f-4c55-ae30-1d4ff9a8c9de"
      },
      "source": [
        "# calculate MAE using scikit-learn\n",
        "print(\"MAE:\",metrics.mean_absolute_error(y_test,y_pred))\n",
        "\n",
        "#calculate mean squared error\n",
        "print(\"MSE\",metrics.mean_squared_error(y_test, y_pred))\n",
        "\n",
        "# compute the RMSE of our predictions\n",
        "print(\"RMSE:\",np.sqrt(metrics.mean_squared_error(y_test, y_pred)))"
      ],
      "id": "0jwjAf84GFZh",
      "execution_count": null,
      "outputs": [
        {
          "output_type": "stream",
          "name": "stdout",
          "text": [
            "MAE: 2.4055661500398315e-13\n",
            "MSE 1.5013934577528458e-25\n",
            "RMSE: 3.8747818748322414e-13\n"
          ]
        }
      ]
    },
    {
      "cell_type": "markdown",
      "metadata": {
        "id": "5Deg0HPxOTgQ"
      },
      "source": [
        "\n",
        "\n",
        "---\n",
        "\n"
      ],
      "id": "5Deg0HPxOTgQ"
    },
    {
      "cell_type": "markdown",
      "metadata": {
        "id": "NUTy6gfJGWtU"
      },
      "source": [
        "# Analyse de l’impact et la corrélation des actions marketing "
      ],
      "id": "NUTy6gfJGWtU"
    },
    {
      "cell_type": "code",
      "metadata": {
        "id": "78ace489"
      },
      "source": [
        "#Read customer2_events and customer1_events\n",
        "customer2_events  = pd.read_json(\"/customer1_events - JSON.txt\")\n",
        "customer1_events  = pd.read_json(\"/customer2_events - JSON.txt\")\n",
        "\n",
        "l1 = list(customer1_events[\"event_properties\"])\n",
        "l2 = list(customer2_events[\"event_properties\"])\n",
        "\n",
        "result1 = json_normalize(l1,max_level=8)\n",
        "result2 = json_normalize(l2,max_level=8)\n",
        "\n",
        "customer_event1 =  pd.concat([customer1_events, result1], axis=1)\n",
        "customer_event2 =  pd.concat([customer2_events, result2], axis=1)\n",
        "\n",
        "\n",
        "customer_event1_colnames = pd.Index(customer_event1.columns)\n",
        "customer_event2_colnames = pd.Index(customer_event2.columns)\n",
        "\n",
        "#Comparing the two json data frames colname\n",
        "common_cols = customer_event1_colnames.intersection(customer_event2_colnames)\n",
        "not_common_cols = customer_event1_colnames.difference(customer_event2_colnames)\n",
        "\n",
        "#concat the two data frames\n",
        "customer_event = pd.concat([customer_event1,customer_event2], axis=0, ignore_index=True)\n",
        "customer_event = customer_event.iloc[customer_event.astype(str).drop_duplicates().index]\n",
        "#Drop columns having only Nan values\n",
        "customer_event = customer_event.dropna(axis=1, how='all')\n",
        "customer_event = customer_event.iloc[customer_event.astype(str).drop_duplicates().index]"
      ],
      "id": "78ace489",
      "execution_count": null,
      "outputs": []
    },
    {
      "cell_type": "code",
      "metadata": {
        "colab": {
          "base_uri": "https://localhost:8080/"
        },
        "id": "zMx92HwCH0Yc",
        "outputId": "82b649f6-afeb-4b6a-dec4-9e2935d42c20"
      },
      "source": [
        "# listing not common columns\n",
        "list(not_common_cols)"
      ],
      "id": "zMx92HwCH0Yc",
      "execution_count": null,
      "outputs": [
        {
          "output_type": "execute_result",
          "data": {
            "text/plain": [
              "['$extra.customer.tax_exemptions',\n",
              " 'HasPartialFulfillments',\n",
              " 'Variant Option: Durata:']"
            ]
          },
          "metadata": {},
          "execution_count": 66
        }
      ]
    },
    {
      "cell_type": "code",
      "metadata": {
        "colab": {
          "base_uri": "https://localhost:8080/"
        },
        "id": "dEUAbYY202y7",
        "outputId": "38c1ff83-e902-4c5a-fff1-3813944fcc4a"
      },
      "source": [
        "customer_event[\"$extra.name\"].value_counts()"
      ],
      "id": "dEUAbYY202y7",
      "execution_count": null,
      "outputs": [
        {
          "output_type": "execute_result",
          "data": {
            "text/plain": [
              "#13456    2\n",
              "#13302    2\n",
              "#12828    2\n",
              "#13552    2\n",
              "#14115    2\n",
              "#13490    2\n",
              "#11221    2\n",
              "#10992    2\n",
              "#13054    2\n",
              "Name: $extra.name, dtype: int64"
            ]
          },
          "metadata": {},
          "execution_count": 75
        }
      ]
    },
    {
      "cell_type": "code",
      "metadata": {
        "colab": {
          "base_uri": "https://localhost:8080/"
        },
        "id": "0chbB_zkSWp3",
        "outputId": "2c35a26d-93fb-4565-d404-636cac59216e"
      },
      "source": [
        "customer_event[\"$extra.id\"].value_counts()"
      ],
      "id": "0chbB_zkSWp3",
      "execution_count": null,
      "outputs": [
        {
          "output_type": "execute_result",
          "data": {
            "text/plain": [
              "3.246086e+12    2\n",
              "3.913535e+12    2\n",
              "3.681363e+12    2\n",
              "3.784412e+12    2\n",
              "2.382908e+12    2\n",
              "3.730610e+12    2\n",
              "3.764754e+12    2\n",
              "2.450303e+12    2\n",
              "3.771263e+12    2\n",
              "Name: $extra.id, dtype: int64"
            ]
          },
          "metadata": {},
          "execution_count": 85
        }
      ]
    },
    {
      "cell_type": "code",
      "metadata": {
        "colab": {
          "base_uri": "https://localhost:8080/"
        },
        "id": "W4-Q2Kj4dDwc",
        "outputId": "d8aaf172-4c6b-4dd9-97f6-f0e2f5f17fc8"
      },
      "source": [
        "rfm4 = rfm_kmeans_4[['Recency', 'Frequency', 'MonetaryValue', 'Cluster_Id']]\n",
        "rfm4['Customer id1'] = rfm4.index\n",
        "\n",
        "orders_customers = pd.read_excel(\"/Orders _ customers.xlsx\")\n",
        "customers_B2C_tojoin = customers_B2C[[\"Name\", \"Customer id\"]]\n",
        "\n",
        "\n",
        "rfm4 = rfm4.join(customers_B2C_tojoin.set_index('Customer id'), on='Customer id')\n",
        "rfm4 = rfm4.rename(columns={'Name':'$extra.name'})\n",
        "\n",
        "\n",
        "#df.reset_index()\n",
        "df1 = customer_event.join(rfm4.set_index('$extra.name'), on='$extra.name')\n",
        "#df1 = df1.rename(columns={'Name':'$extra.name'})\n",
        "#df1 = df1.drop_duplicates()\n",
        "df1 = df1.iloc[df1.astype(str).drop_duplicates().index]\n",
        "#df1 = df1.drop_duplicates()\n",
        "\n",
        "df1 = df1[df1['$extra.name'].notna()]\n"
      ],
      "id": "W4-Q2Kj4dDwc",
      "execution_count": null,
      "outputs": [
        {
          "output_type": "stream",
          "name": "stderr",
          "text": [
            "/usr/local/lib/python3.7/dist-packages/ipykernel_launcher.py:2: SettingWithCopyWarning:\n",
            "\n",
            "\n",
            "A value is trying to be set on a copy of a slice from a DataFrame.\n",
            "Try using .loc[row_indexer,col_indexer] = value instead\n",
            "\n",
            "See the caveats in the documentation: https://pandas.pydata.org/pandas-docs/stable/user_guide/indexing.html#returning-a-view-versus-a-copy\n",
            "\n"
          ]
        }
      ]
    },
    {
      "cell_type": "code",
      "metadata": {
        "colab": {
          "base_uri": "https://localhost:8080/"
        },
        "id": "d17XGpfTJSk5",
        "outputId": "f833c4bc-33b1-48f1-df1d-61b628bdac7a"
      },
      "source": [
        "df1[\"event_name\"].value_counts()"
      ],
      "id": "d17XGpfTJSk5",
      "execution_count": null,
      "outputs": [
        {
          "output_type": "execute_result",
          "data": {
            "text/plain": [
              "Placed Order       20\n",
              "Fulfilled Order    12\n",
              "Cancelled Order     8\n",
              "Name: event_name, dtype: int64"
            ]
          },
          "metadata": {},
          "execution_count": 78
        }
      ]
    },
    {
      "cell_type": "code",
      "metadata": {
        "colab": {
          "base_uri": "https://localhost:8080/"
        },
        "id": "JqCXOqOKJgjm",
        "outputId": "e3efca85-a85c-4a22-d9be-14a12934061d"
      },
      "source": [
        "customer_event_email_received = customer_event[customer_event[\"event_name\"] == \"Received Email\" or customer_event[\"event_name\"] == \"Received Email\"]\n",
        "customer_event_email_received['$extra.name'].value_counts()"
      ],
      "id": "JqCXOqOKJgjm",
      "execution_count": null,
      "outputs": [
        {
          "output_type": "execute_result",
          "data": {
            "text/plain": [
              "Series([], Name: $extra.name, dtype: int64)"
            ]
          },
          "metadata": {},
          "execution_count": 82
        }
      ]
    },
    {
      "cell_type": "markdown",
      "metadata": {
        "id": "v9C5kOeJSDYZ"
      },
      "source": [
        "On ne peut pas analyser l'impact des actions marketing par rapport aux groupes de clients segmenté, vu que les lignes contenant des lèvements comme (réception d'emails, ouverture des emails) ne sont pas menés par les identifiants des clients. la jointure entre les deux jeux de données *customer event et *Orders _ customers* nous donne une idée sur les actions d'achats qui sont analysées dans la première partie de notre analyse.\n",
        "\n",
        "Pour pouvoir analyser l'impact des actions marketing sur le réachat il faut extraire les données des actions marketing accompagnées par les identifiants clients ou bien par les identifiants des achats."
      ],
      "id": "v9C5kOeJSDYZ"
    }
  ]
}