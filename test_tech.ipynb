{
  "nbformat": 4,
  "nbformat_minor": 5,
  "metadata": {
    "kernelspec": {
      "display_name": "Python 3",
      "language": "python",
      "name": "python3"
    },
    "language_info": {
      "codemirror_mode": {
        "name": "ipython",
        "version": 3
      },
      "file_extension": ".py",
      "mimetype": "text/x-python",
      "name": "python",
      "nbconvert_exporter": "python",
      "pygments_lexer": "ipython3",
      "version": "3.8.8"
    },
    "colab": {
      "name": "test-tech.ipynb",
      "provenance": [],
      "collapsed_sections": [],
      "include_colab_link": true
    }
  },
  "cells": [
    {
      "cell_type": "markdown",
      "metadata": {
        "id": "view-in-github",
        "colab_type": "text"
      },
      "source": [
        "<a href=\"https://colab.research.google.com/github/khaoula-oueslati/ConvMsa/blob/master/test_tech.ipynb\" target=\"_parent\"><img src=\"https://colab.research.google.com/assets/colab-badge.svg\" alt=\"Open In Colab\"/></a>"
      ]
    },
    {
      "cell_type": "code",
      "metadata": {
        "id": "f731dfe5"
      },
      "source": [
        "import pandas as pd \n",
        "import numpy as np\n",
        "import seaborn as sns; sns.set()\n",
        "import matplotlib.pyplot as plt\n",
        "import plotly.express as px"
      ],
      "id": "f731dfe5",
      "execution_count": 104,
      "outputs": []
    },
    {
      "cell_type": "markdown",
      "metadata": {
        "id": "00cdaa36"
      },
      "source": [
        "#  **Data**: **`Orders _ customers - anonymized`**"
      ],
      "id": "00cdaa36"
    },
    {
      "cell_type": "code",
      "metadata": {
        "id": "ef89aff9",
        "colab": {
          "base_uri": "https://localhost:8080/",
          "height": 513
        },
        "outputId": "c4b4d47f-2d10-4d4e-d87a-8dc216ee7056"
      },
      "source": [
        "orders_customers_anonymised = pd.read_excel(\"/Orders _ customers - anonymized.xlsx\")\n",
        "orders_customers_anonymised.head()"
      ],
      "id": "ef89aff9",
      "execution_count": 105,
      "outputs": [
        {
          "output_type": "execute_result",
          "data": {
            "text/html": [
              "<div>\n",
              "<style scoped>\n",
              "    .dataframe tbody tr th:only-of-type {\n",
              "        vertical-align: middle;\n",
              "    }\n",
              "\n",
              "    .dataframe tbody tr th {\n",
              "        vertical-align: top;\n",
              "    }\n",
              "\n",
              "    .dataframe thead th {\n",
              "        text-align: right;\n",
              "    }\n",
              "</style>\n",
              "<table border=\"1\" class=\"dataframe\">\n",
              "  <thead>\n",
              "    <tr style=\"text-align: right;\">\n",
              "      <th></th>\n",
              "      <th>Name</th>\n",
              "      <th>Customer id</th>\n",
              "      <th>Financial Status</th>\n",
              "      <th>Paid at</th>\n",
              "      <th>Fulfillment Status</th>\n",
              "      <th>Fulfilled at</th>\n",
              "      <th>Accepts Marketing</th>\n",
              "      <th>Currency</th>\n",
              "      <th>Subtotal</th>\n",
              "      <th>Shipping</th>\n",
              "      <th>Taxes</th>\n",
              "      <th>Total</th>\n",
              "      <th>Discount Code</th>\n",
              "      <th>Discount Amount</th>\n",
              "      <th>Shipping Method</th>\n",
              "      <th>Created at</th>\n",
              "      <th>Lineitem quantity</th>\n",
              "      <th>Lineitem name</th>\n",
              "      <th>Lineitem price</th>\n",
              "      <th>Lineitem compare at price</th>\n",
              "      <th>Lineitem sku</th>\n",
              "      <th>Lineitem requires shipping</th>\n",
              "      <th>Lineitem taxable</th>\n",
              "      <th>Lineitem fulfillment status</th>\n",
              "      <th>Billing City</th>\n",
              "      <th>Shipping Province</th>\n",
              "      <th>Shipping Country</th>\n",
              "      <th>Notes</th>\n",
              "      <th>Note Attributes</th>\n",
              "      <th>Cancelled at</th>\n",
              "      <th></th>\n",
              "      <th>Payment Reference</th>\n",
              "      <th>Refunded Amount</th>\n",
              "      <th>Vendor</th>\n",
              "      <th>Id</th>\n",
              "      <th>Tags</th>\n",
              "      <th>Risk Level</th>\n",
              "      <th>Source</th>\n",
              "      <th>Lineitem discount</th>\n",
              "      <th>Tax 1 Name</th>\n",
              "      <th>Tax 1 Value</th>\n",
              "      <th>Tax 2 Name</th>\n",
              "      <th>Tax 2 Value</th>\n",
              "      <th>Tax 3 Name</th>\n",
              "      <th>Tax 3 Value</th>\n",
              "      <th>Tax 4 Name</th>\n",
              "      <th>Tax 4 Value</th>\n",
              "      <th>Tax 5 Name</th>\n",
              "      <th>Tax 5 Value</th>\n",
              "      <th>Phone</th>\n",
              "      <th>Receipt Number</th>\n",
              "      <th>Duties</th>\n",
              "      <th>Payment Terms Name</th>\n",
              "      <th>Next Payment Due At</th>\n",
              "    </tr>\n",
              "  </thead>\n",
              "  <tbody>\n",
              "    <tr>\n",
              "      <th>0</th>\n",
              "      <td>#14442</td>\n",
              "      <td>1</td>\n",
              "      <td>paid</td>\n",
              "      <td>2021-09-23 09:43:21 +0200</td>\n",
              "      <td>unfulfilled</td>\n",
              "      <td>NaN</td>\n",
              "      <td>yes</td>\n",
              "      <td>EUR</td>\n",
              "      <td>105.00</td>\n",
              "      <td>20.00</td>\n",
              "      <td>9.55</td>\n",
              "      <td>125.00</td>\n",
              "      <td>NaN</td>\n",
              "      <td>0.00</td>\n",
              "      <td>TNT express - 1/2 giorni</td>\n",
              "      <td>2021-09-23 09:43:20 +0200</td>\n",
              "      <td>1</td>\n",
              "      <td>Box Vitamina C</td>\n",
              "      <td>105.00</td>\n",
              "      <td>145.00</td>\n",
              "      <td>DPR-BOX-VITC</td>\n",
              "      <td>true</td>\n",
              "      <td>true</td>\n",
              "      <td>pending</td>\n",
              "      <td>PADENGHE SUL GARDA</td>\n",
              "      <td>BS</td>\n",
              "      <td>IT</td>\n",
              "      <td>NaN</td>\n",
              "      <td>date: 2021/09/28</td>\n",
              "      <td>NaN</td>\n",
              "      <td>PayPal Express Checkout</td>\n",
              "      <td>c23025176051900.1</td>\n",
              "      <td>0.00</td>\n",
              "      <td>Depuravita</td>\n",
              "      <td>4017620549820</td>\n",
              "      <td>NaN</td>\n",
              "      <td>Low</td>\n",
              "      <td>web</td>\n",
              "      <td>0.0</td>\n",
              "      <td>VAT 10%</td>\n",
              "      <td>9.55</td>\n",
              "      <td>NaN</td>\n",
              "      <td>NaN</td>\n",
              "      <td>NaN</td>\n",
              "      <td>NaN</td>\n",
              "      <td>NaN</td>\n",
              "      <td>NaN</td>\n",
              "      <td>NaN</td>\n",
              "      <td>NaN</td>\n",
              "      <td>NaN</td>\n",
              "      <td>NaN</td>\n",
              "      <td>NaN</td>\n",
              "      <td>NaN</td>\n",
              "      <td>NaN</td>\n",
              "    </tr>\n",
              "    <tr>\n",
              "      <th>1</th>\n",
              "      <td>#14441</td>\n",
              "      <td></td>\n",
              "      <td>paid</td>\n",
              "      <td>2021-09-22 14:21:46 +0200</td>\n",
              "      <td>fulfilled</td>\n",
              "      <td>2021-09-22 15:02:22 +0200</td>\n",
              "      <td>no</td>\n",
              "      <td>EUR</td>\n",
              "      <td>2970.00</td>\n",
              "      <td>0.00</td>\n",
              "      <td>0.00</td>\n",
              "      <td>2970.00</td>\n",
              "      <td>Sconto personalizzato</td>\n",
              "      <td>5730.00</td>\n",
              "      <td>NaN</td>\n",
              "      <td>2021-09-22 14:21:45 +0200</td>\n",
              "      <td>60</td>\n",
              "      <td>Collagen Chocolate</td>\n",
              "      <td>55.00</td>\n",
              "      <td>NaN</td>\n",
              "      <td>CLGN-CHCLT</td>\n",
              "      <td>true</td>\n",
              "      <td>true</td>\n",
              "      <td>fulfilled</td>\n",
              "      <td>London</td>\n",
              "      <td>ENG</td>\n",
              "      <td>GB</td>\n",
              "      <td>NaN</td>\n",
              "      <td>date: 2021/08/31</td>\n",
              "      <td>NaN</td>\n",
              "      <td>manual</td>\n",
              "      <td>c23012107649212.1</td>\n",
              "      <td>0.00</td>\n",
              "      <td>Depuravita</td>\n",
              "      <td>4016061481148</td>\n",
              "      <td>NaN</td>\n",
              "      <td>Low</td>\n",
              "      <td>shopify_draft_order</td>\n",
              "      <td>0.0</td>\n",
              "      <td>NaN</td>\n",
              "      <td>NaN</td>\n",
              "      <td>NaN</td>\n",
              "      <td>NaN</td>\n",
              "      <td>NaN</td>\n",
              "      <td>NaN</td>\n",
              "      <td>NaN</td>\n",
              "      <td>NaN</td>\n",
              "      <td>NaN</td>\n",
              "      <td>NaN</td>\n",
              "      <td>NaN</td>\n",
              "      <td>NaN</td>\n",
              "      <td>NaN</td>\n",
              "      <td>NaN</td>\n",
              "      <td>NaN</td>\n",
              "    </tr>\n",
              "    <tr>\n",
              "      <th>2</th>\n",
              "      <td>#14441</td>\n",
              "      <td></td>\n",
              "      <td>NaN</td>\n",
              "      <td>NaN</td>\n",
              "      <td>NaN</td>\n",
              "      <td>NaN</td>\n",
              "      <td>NaN</td>\n",
              "      <td>NaN</td>\n",
              "      <td>NaN</td>\n",
              "      <td>NaN</td>\n",
              "      <td>NaN</td>\n",
              "      <td>NaN</td>\n",
              "      <td>NaN</td>\n",
              "      <td>NaN</td>\n",
              "      <td>NaN</td>\n",
              "      <td>2021-09-22 14:21:45 +0200</td>\n",
              "      <td>60</td>\n",
              "      <td>Probiotic Chocolate</td>\n",
              "      <td>55.00</td>\n",
              "      <td>NaN</td>\n",
              "      <td>PRB-CHCLT</td>\n",
              "      <td>true</td>\n",
              "      <td>true</td>\n",
              "      <td>fulfilled</td>\n",
              "      <td>NaN</td>\n",
              "      <td>NaN</td>\n",
              "      <td>NaN</td>\n",
              "      <td>NaN</td>\n",
              "      <td>NaN</td>\n",
              "      <td>NaN</td>\n",
              "      <td>NaN</td>\n",
              "      <td>NaN</td>\n",
              "      <td>NaN</td>\n",
              "      <td>Depuravita</td>\n",
              "      <td>NaN</td>\n",
              "      <td>NaN</td>\n",
              "      <td>NaN</td>\n",
              "      <td>NaN</td>\n",
              "      <td>0.0</td>\n",
              "      <td>NaN</td>\n",
              "      <td>NaN</td>\n",
              "      <td>NaN</td>\n",
              "      <td>NaN</td>\n",
              "      <td>NaN</td>\n",
              "      <td>NaN</td>\n",
              "      <td>NaN</td>\n",
              "      <td>NaN</td>\n",
              "      <td>NaN</td>\n",
              "      <td>NaN</td>\n",
              "      <td>NaN</td>\n",
              "      <td>NaN</td>\n",
              "      <td>NaN</td>\n",
              "      <td>NaN</td>\n",
              "      <td>NaN</td>\n",
              "    </tr>\n",
              "    <tr>\n",
              "      <th>3</th>\n",
              "      <td>#14441</td>\n",
              "      <td></td>\n",
              "      <td>NaN</td>\n",
              "      <td>NaN</td>\n",
              "      <td>NaN</td>\n",
              "      <td>NaN</td>\n",
              "      <td>NaN</td>\n",
              "      <td>NaN</td>\n",
              "      <td>NaN</td>\n",
              "      <td>NaN</td>\n",
              "      <td>NaN</td>\n",
              "      <td>NaN</td>\n",
              "      <td>NaN</td>\n",
              "      <td>NaN</td>\n",
              "      <td>NaN</td>\n",
              "      <td>2021-09-22 14:21:45 +0200</td>\n",
              "      <td>60</td>\n",
              "      <td>Strong Bite</td>\n",
              "      <td>35.00</td>\n",
              "      <td>NaN</td>\n",
              "      <td>DPR-WP-CHC</td>\n",
              "      <td>true</td>\n",
              "      <td>true</td>\n",
              "      <td>fulfilled</td>\n",
              "      <td>NaN</td>\n",
              "      <td>NaN</td>\n",
              "      <td>NaN</td>\n",
              "      <td>NaN</td>\n",
              "      <td>NaN</td>\n",
              "      <td>NaN</td>\n",
              "      <td>NaN</td>\n",
              "      <td>NaN</td>\n",
              "      <td>NaN</td>\n",
              "      <td>Depuravita</td>\n",
              "      <td>NaN</td>\n",
              "      <td>NaN</td>\n",
              "      <td>NaN</td>\n",
              "      <td>NaN</td>\n",
              "      <td>0.0</td>\n",
              "      <td>NaN</td>\n",
              "      <td>NaN</td>\n",
              "      <td>NaN</td>\n",
              "      <td>NaN</td>\n",
              "      <td>NaN</td>\n",
              "      <td>NaN</td>\n",
              "      <td>NaN</td>\n",
              "      <td>NaN</td>\n",
              "      <td>NaN</td>\n",
              "      <td>NaN</td>\n",
              "      <td>NaN</td>\n",
              "      <td>NaN</td>\n",
              "      <td>NaN</td>\n",
              "      <td>NaN</td>\n",
              "      <td>NaN</td>\n",
              "    </tr>\n",
              "    <tr>\n",
              "      <th>4</th>\n",
              "      <td>#14440</td>\n",
              "      <td></td>\n",
              "      <td>paid</td>\n",
              "      <td>2021-09-22 11:33:54 +0200</td>\n",
              "      <td>fulfilled</td>\n",
              "      <td>2021-09-22 12:16:47 +0200</td>\n",
              "      <td>no</td>\n",
              "      <td>EUR</td>\n",
              "      <td>561.00</td>\n",
              "      <td>0.00</td>\n",
              "      <td>51.00</td>\n",
              "      <td>561.00</td>\n",
              "      <td>Sconto personalizzato</td>\n",
              "      <td>165.00</td>\n",
              "      <td>NaN</td>\n",
              "      <td>2021-09-22 11:33:52 +0200</td>\n",
              "      <td>15</td>\n",
              "      <td>Black Panther</td>\n",
              "      <td>4.90</td>\n",
              "      <td>NaN</td>\n",
              "      <td>DPR-BLPHTR-250</td>\n",
              "      <td>true</td>\n",
              "      <td>true</td>\n",
              "      <td>fulfilled</td>\n",
              "      <td>NaN</td>\n",
              "      <td>AG</td>\n",
              "      <td>IT</td>\n",
              "      <td>Fascia oraria di consegna 19-22</td>\n",
              "      <td>date: 2021/09/22</td>\n",
              "      <td>NaN</td>\n",
              "      <td>Stripe</td>\n",
              "      <td>c23010364096700.1</td>\n",
              "      <td>0.00</td>\n",
              "      <td>Depuravita</td>\n",
              "      <td>4015897772220</td>\n",
              "      <td>compra_ora_paga_dopo_con_klarna, Klarna Payments</td>\n",
              "      <td>Low</td>\n",
              "      <td>shopify_draft_order</td>\n",
              "      <td>0.0</td>\n",
              "      <td>VAT 10%</td>\n",
              "      <td>51.00</td>\n",
              "      <td>NaN</td>\n",
              "      <td>NaN</td>\n",
              "      <td>NaN</td>\n",
              "      <td>NaN</td>\n",
              "      <td>NaN</td>\n",
              "      <td>NaN</td>\n",
              "      <td>NaN</td>\n",
              "      <td>NaN</td>\n",
              "      <td>NaN</td>\n",
              "      <td>NaN</td>\n",
              "      <td>NaN</td>\n",
              "      <td>NaN</td>\n",
              "      <td>NaN</td>\n",
              "    </tr>\n",
              "  </tbody>\n",
              "</table>\n",
              "</div>"
            ],
            "text/plain": [
              "     Name Customer id  ... Payment Terms Name Next Payment Due At\n",
              "0  #14442           1  ...                NaN                 NaN\n",
              "1  #14441              ...                NaN                 NaN\n",
              "2  #14441              ...                NaN                 NaN\n",
              "3  #14441              ...                NaN                 NaN\n",
              "4  #14440              ...                NaN                 NaN\n",
              "\n",
              "[5 rows x 54 columns]"
            ]
          },
          "metadata": {},
          "execution_count": 105
        }
      ]
    },
    {
      "cell_type": "code",
      "metadata": {
        "colab": {
          "base_uri": "https://localhost:8080/",
          "height": 297
        },
        "id": "02ICK56Gk4pJ",
        "outputId": "16a5df84-1cd5-480e-9278-5f8a9d904068"
      },
      "source": [
        "orders_customers_anonymised.describe()"
      ],
      "id": "02ICK56Gk4pJ",
      "execution_count": 145,
      "outputs": [
        {
          "output_type": "execute_result",
          "data": {
            "text/html": [
              "<div>\n",
              "<style scoped>\n",
              "    .dataframe tbody tr th:only-of-type {\n",
              "        vertical-align: middle;\n",
              "    }\n",
              "\n",
              "    .dataframe tbody tr th {\n",
              "        vertical-align: top;\n",
              "    }\n",
              "\n",
              "    .dataframe thead th {\n",
              "        text-align: right;\n",
              "    }\n",
              "</style>\n",
              "<table border=\"1\" class=\"dataframe\">\n",
              "  <thead>\n",
              "    <tr style=\"text-align: right;\">\n",
              "      <th></th>\n",
              "      <th>Customer id</th>\n",
              "      <th>Lineitem discount</th>\n",
              "      <th>Tax 1 Value</th>\n",
              "      <th>Tax 2 Value</th>\n",
              "    </tr>\n",
              "  </thead>\n",
              "  <tbody>\n",
              "    <tr>\n",
              "      <th>count</th>\n",
              "      <td>7922.000000</td>\n",
              "      <td>15687.000000</td>\n",
              "      <td>3802.000000</td>\n",
              "      <td>8.000000</td>\n",
              "    </tr>\n",
              "    <tr>\n",
              "      <th>mean</th>\n",
              "      <td>10528.537869</td>\n",
              "      <td>0.001211</td>\n",
              "      <td>16.939989</td>\n",
              "      <td>23.432500</td>\n",
              "    </tr>\n",
              "    <tr>\n",
              "      <th>std</th>\n",
              "      <td>8759.622879</td>\n",
              "      <td>0.151699</td>\n",
              "      <td>26.320643</td>\n",
              "      <td>20.663362</td>\n",
              "    </tr>\n",
              "    <tr>\n",
              "      <th>min</th>\n",
              "      <td>1.000000</td>\n",
              "      <td>0.000000</td>\n",
              "      <td>0.040000</td>\n",
              "      <td>7.420000</td>\n",
              "    </tr>\n",
              "    <tr>\n",
              "      <th>25%</th>\n",
              "      <td>2680.000000</td>\n",
              "      <td>0.000000</td>\n",
              "      <td>7.090000</td>\n",
              "      <td>8.110000</td>\n",
              "    </tr>\n",
              "    <tr>\n",
              "      <th>50%</th>\n",
              "      <td>8428.000000</td>\n",
              "      <td>0.000000</td>\n",
              "      <td>10.730000</td>\n",
              "      <td>14.755000</td>\n",
              "    </tr>\n",
              "    <tr>\n",
              "      <th>75%</th>\n",
              "      <td>16017.000000</td>\n",
              "      <td>0.000000</td>\n",
              "      <td>16.270000</td>\n",
              "      <td>32.790000</td>\n",
              "    </tr>\n",
              "    <tr>\n",
              "      <th>max</th>\n",
              "      <td>28792.000000</td>\n",
              "      <td>19.000000</td>\n",
              "      <td>405.000000</td>\n",
              "      <td>66.450000</td>\n",
              "    </tr>\n",
              "  </tbody>\n",
              "</table>\n",
              "</div>"
            ],
            "text/plain": [
              "        Customer id  Lineitem discount  Tax 1 Value  Tax 2 Value\n",
              "count   7922.000000       15687.000000  3802.000000     8.000000\n",
              "mean   10528.537869           0.001211    16.939989    23.432500\n",
              "std     8759.622879           0.151699    26.320643    20.663362\n",
              "min        1.000000           0.000000     0.040000     7.420000\n",
              "25%     2680.000000           0.000000     7.090000     8.110000\n",
              "50%     8428.000000           0.000000    10.730000    14.755000\n",
              "75%    16017.000000           0.000000    16.270000    32.790000\n",
              "max    28792.000000          19.000000   405.000000    66.450000"
            ]
          },
          "metadata": {},
          "execution_count": 145
        }
      ]
    },
    {
      "cell_type": "code",
      "metadata": {
        "colab": {
          "base_uri": "https://localhost:8080/"
        },
        "id": "c-oR1GVEE599",
        "outputId": "ce785d9c-86c4-4f0e-fd7a-73987025985a"
      },
      "source": [
        "orders_customers_anonymised.shape"
      ],
      "id": "c-oR1GVEE599",
      "execution_count": 147,
      "outputs": [
        {
          "output_type": "execute_result",
          "data": {
            "text/plain": [
              "(15876, 45)"
            ]
          },
          "metadata": {},
          "execution_count": 147
        }
      ]
    },
    {
      "cell_type": "markdown",
      "metadata": {
        "id": "a6806bef"
      },
      "source": [
        "# Missing values"
      ],
      "id": "a6806bef"
    },
    {
      "cell_type": "code",
      "metadata": {
        "id": "pS74iS_O4Uqd"
      },
      "source": [
        "import plotly.express as px"
      ],
      "id": "pS74iS_O4Uqd",
      "execution_count": 107,
      "outputs": []
    },
    {
      "cell_type": "code",
      "metadata": {
        "colab": {
          "base_uri": "https://localhost:8080/",
          "height": 542
        },
        "id": "5c81ec38",
        "outputId": "a1c32fe8-068a-464f-b7cf-c9d1421832ef"
      },
      "source": [
        "#count  missing values per column\n",
        "mv = orders_customers_anonymised.isnull().sum()\n",
        "mv_data = pd.DataFrame(mv,columns=['count NAN'])\n",
        "mv_data['column name'] = mv_data.index\n",
        "mv_data = mv_data.sort_values(by=['count NAN'])\n",
        "\n",
        "#plot\n",
        "fig = px.bar(mv_data, y='count NAN', x='column name', text='count NAN')\n",
        "fig.update_traces(texttemplate='%{text:.2s}', textposition='outside',marker_color=\"#2f6358\")\n",
        "fig.show()"
      ],
      "id": "5c81ec38",
      "execution_count": 148,
      "outputs": [
        {
          "output_type": "display_data",
          "data": {
            "text/html": [
              "<html>\n",
              "<head><meta charset=\"utf-8\" /></head>\n",
              "<body>\n",
              "    <div>\n",
              "            <script src=\"https://cdnjs.cloudflare.com/ajax/libs/mathjax/2.7.5/MathJax.js?config=TeX-AMS-MML_SVG\"></script><script type=\"text/javascript\">if (window.MathJax) {MathJax.Hub.Config({SVG: {font: \"STIX-Web\"}});}</script>\n",
              "                <script type=\"text/javascript\">window.PlotlyConfig = {MathJaxConfig: 'local'};</script>\n",
              "        <script src=\"https://cdn.plot.ly/plotly-latest.min.js\"></script>    \n",
              "            <div id=\"c0360b95-c16a-45a3-91e7-6e0a97b81cd2\" class=\"plotly-graph-div\" style=\"height:525px; width:100%;\"></div>\n",
              "            <script type=\"text/javascript\">\n",
              "                \n",
              "                    window.PLOTLYENV=window.PLOTLYENV || {};\n",
              "                    \n",
              "                if (document.getElementById(\"c0360b95-c16a-45a3-91e7-6e0a97b81cd2\")) {\n",
              "                    Plotly.newPlot(\n",
              "                        'c0360b95-c16a-45a3-91e7-6e0a97b81cd2',\n",
              "                        [{\"alignmentgroup\": \"True\", \"hoverlabel\": {\"namelength\": 0}, \"hovertemplate\": \"column name=%{x}<br>count NAN=%{text}\", \"legendgroup\": \"\", \"marker\": {\"color\": \"#2f6358\"}, \"name\": \"\", \"offsetgroup\": \"\", \"orientation\": \"v\", \"showlegend\": false, \"text\": [0.0, 0.0, 0.0, 0.0, 0.0, 0.0, 0.0, 0.0, 189.0, 194.0, 578.0, 7954.0, 11451.0, 11451.0, 11451.0, 11451.0, 11451.0, 11451.0, 11451.0, 11451.0, 11451.0, 11457.0, 11496.0, 11505.0, 11640.0, 11640.0, 11640.0, 11640.0, 11642.0, 11659.0, 11807.0, 11923.0, 11928.0, 12074.0, 12074.0, 12914.0, 13245.0, 14323.0, 15085.0, 15091.0, 15830.0, 15834.0, 15868.0, 15868.0, 15875.0], \"textposition\": \"outside\", \"texttemplate\": \"%{text:.2s}\", \"type\": \"bar\", \"x\": [\"Name\", \"Lineitem fulfillment status\", \"Lineitem requires shipping\", \"Lineitem price\", \"Lineitem name\", \"Lineitem quantity\", \"Created at\", \"Lineitem taxable\", \"Lineitem discount\", \"Vendor\", \"Lineitem sku\", \"Customer id\", \"Subtotal\", \"Shipping\", \"Taxes\", \"Total\", \"Discount Amount\", \"Accepts Marketing\", \"Currency\", \"Fulfillment Status\", \"Financial Status\", \"Shipping Country\", \"Fulfilled at\", \"Billing City\", \"Refunded Amount\", \"Id\", \"Risk Level\", \"Source\", \"Shipping Province\", \"Note Attributes\", \"Paid at\", \"paiment type\", \"Payment Reference\", \"Tax 1 Value\", \"Tax 1 Name\", \"Shipping Method\", \"Discount Code\", \"Lineitem compare at price\", \"Phone\", \"Notes\", \"Tags\", \"Cancelled at\", \"Tax 2 Name\", \"Tax 2 Value\", \"Payment Terms Name\"], \"xaxis\": \"x\", \"y\": [0, 0, 0, 0, 0, 0, 0, 0, 189, 194, 578, 7954, 11451, 11451, 11451, 11451, 11451, 11451, 11451, 11451, 11451, 11457, 11496, 11505, 11640, 11640, 11640, 11640, 11642, 11659, 11807, 11923, 11928, 12074, 12074, 12914, 13245, 14323, 15085, 15091, 15830, 15834, 15868, 15868, 15875], \"yaxis\": \"y\"}],\n",
              "                        {\"barmode\": \"relative\", \"legend\": {\"tracegroupgap\": 0}, \"margin\": {\"t\": 60}, \"template\": {\"data\": {\"bar\": [{\"error_x\": {\"color\": \"#2a3f5f\"}, \"error_y\": {\"color\": \"#2a3f5f\"}, \"marker\": {\"line\": {\"color\": \"#E5ECF6\", \"width\": 0.5}}, \"type\": \"bar\"}], \"barpolar\": [{\"marker\": {\"line\": {\"color\": \"#E5ECF6\", \"width\": 0.5}}, \"type\": \"barpolar\"}], \"carpet\": [{\"aaxis\": {\"endlinecolor\": \"#2a3f5f\", \"gridcolor\": \"white\", \"linecolor\": \"white\", \"minorgridcolor\": \"white\", \"startlinecolor\": \"#2a3f5f\"}, \"baxis\": {\"endlinecolor\": \"#2a3f5f\", \"gridcolor\": \"white\", \"linecolor\": \"white\", \"minorgridcolor\": \"white\", \"startlinecolor\": \"#2a3f5f\"}, \"type\": \"carpet\"}], \"choropleth\": [{\"colorbar\": {\"outlinewidth\": 0, \"ticks\": \"\"}, \"type\": \"choropleth\"}], \"contour\": [{\"colorbar\": {\"outlinewidth\": 0, \"ticks\": \"\"}, \"colorscale\": [[0.0, \"#0d0887\"], [0.1111111111111111, \"#46039f\"], [0.2222222222222222, \"#7201a8\"], [0.3333333333333333, \"#9c179e\"], [0.4444444444444444, \"#bd3786\"], [0.5555555555555556, \"#d8576b\"], [0.6666666666666666, \"#ed7953\"], [0.7777777777777778, \"#fb9f3a\"], [0.8888888888888888, \"#fdca26\"], [1.0, \"#f0f921\"]], \"type\": \"contour\"}], \"contourcarpet\": [{\"colorbar\": {\"outlinewidth\": 0, \"ticks\": \"\"}, \"type\": \"contourcarpet\"}], \"heatmap\": [{\"colorbar\": {\"outlinewidth\": 0, \"ticks\": \"\"}, \"colorscale\": [[0.0, \"#0d0887\"], [0.1111111111111111, \"#46039f\"], [0.2222222222222222, \"#7201a8\"], [0.3333333333333333, \"#9c179e\"], [0.4444444444444444, \"#bd3786\"], [0.5555555555555556, \"#d8576b\"], [0.6666666666666666, \"#ed7953\"], [0.7777777777777778, \"#fb9f3a\"], [0.8888888888888888, \"#fdca26\"], [1.0, \"#f0f921\"]], \"type\": \"heatmap\"}], \"heatmapgl\": [{\"colorbar\": {\"outlinewidth\": 0, \"ticks\": \"\"}, \"colorscale\": [[0.0, \"#0d0887\"], [0.1111111111111111, \"#46039f\"], [0.2222222222222222, \"#7201a8\"], [0.3333333333333333, \"#9c179e\"], [0.4444444444444444, \"#bd3786\"], [0.5555555555555556, \"#d8576b\"], [0.6666666666666666, \"#ed7953\"], [0.7777777777777778, \"#fb9f3a\"], [0.8888888888888888, \"#fdca26\"], [1.0, \"#f0f921\"]], \"type\": \"heatmapgl\"}], \"histogram\": [{\"marker\": {\"colorbar\": {\"outlinewidth\": 0, \"ticks\": \"\"}}, \"type\": \"histogram\"}], \"histogram2d\": [{\"colorbar\": {\"outlinewidth\": 0, \"ticks\": \"\"}, \"colorscale\": [[0.0, \"#0d0887\"], [0.1111111111111111, \"#46039f\"], [0.2222222222222222, \"#7201a8\"], [0.3333333333333333, \"#9c179e\"], [0.4444444444444444, \"#bd3786\"], [0.5555555555555556, \"#d8576b\"], [0.6666666666666666, \"#ed7953\"], [0.7777777777777778, \"#fb9f3a\"], [0.8888888888888888, \"#fdca26\"], [1.0, \"#f0f921\"]], \"type\": \"histogram2d\"}], \"histogram2dcontour\": [{\"colorbar\": {\"outlinewidth\": 0, \"ticks\": \"\"}, \"colorscale\": [[0.0, \"#0d0887\"], [0.1111111111111111, \"#46039f\"], [0.2222222222222222, \"#7201a8\"], [0.3333333333333333, \"#9c179e\"], [0.4444444444444444, \"#bd3786\"], [0.5555555555555556, \"#d8576b\"], [0.6666666666666666, \"#ed7953\"], [0.7777777777777778, \"#fb9f3a\"], [0.8888888888888888, \"#fdca26\"], [1.0, \"#f0f921\"]], \"type\": \"histogram2dcontour\"}], \"mesh3d\": [{\"colorbar\": {\"outlinewidth\": 0, \"ticks\": \"\"}, \"type\": \"mesh3d\"}], \"parcoords\": [{\"line\": {\"colorbar\": {\"outlinewidth\": 0, \"ticks\": \"\"}}, \"type\": \"parcoords\"}], \"pie\": [{\"automargin\": true, \"type\": \"pie\"}], \"scatter\": [{\"marker\": {\"colorbar\": {\"outlinewidth\": 0, \"ticks\": \"\"}}, \"type\": \"scatter\"}], \"scatter3d\": [{\"line\": {\"colorbar\": {\"outlinewidth\": 0, \"ticks\": \"\"}}, \"marker\": {\"colorbar\": {\"outlinewidth\": 0, \"ticks\": \"\"}}, \"type\": \"scatter3d\"}], \"scattercarpet\": [{\"marker\": {\"colorbar\": {\"outlinewidth\": 0, \"ticks\": \"\"}}, \"type\": \"scattercarpet\"}], \"scattergeo\": [{\"marker\": {\"colorbar\": {\"outlinewidth\": 0, \"ticks\": \"\"}}, \"type\": \"scattergeo\"}], \"scattergl\": [{\"marker\": {\"colorbar\": {\"outlinewidth\": 0, \"ticks\": \"\"}}, \"type\": \"scattergl\"}], \"scattermapbox\": [{\"marker\": {\"colorbar\": {\"outlinewidth\": 0, \"ticks\": \"\"}}, \"type\": \"scattermapbox\"}], \"scatterpolar\": [{\"marker\": {\"colorbar\": {\"outlinewidth\": 0, \"ticks\": \"\"}}, \"type\": \"scatterpolar\"}], \"scatterpolargl\": [{\"marker\": {\"colorbar\": {\"outlinewidth\": 0, \"ticks\": \"\"}}, \"type\": \"scatterpolargl\"}], \"scatterternary\": [{\"marker\": {\"colorbar\": {\"outlinewidth\": 0, \"ticks\": \"\"}}, \"type\": \"scatterternary\"}], \"surface\": [{\"colorbar\": {\"outlinewidth\": 0, \"ticks\": \"\"}, \"colorscale\": [[0.0, \"#0d0887\"], [0.1111111111111111, \"#46039f\"], [0.2222222222222222, \"#7201a8\"], [0.3333333333333333, \"#9c179e\"], [0.4444444444444444, \"#bd3786\"], [0.5555555555555556, \"#d8576b\"], [0.6666666666666666, \"#ed7953\"], [0.7777777777777778, \"#fb9f3a\"], [0.8888888888888888, \"#fdca26\"], [1.0, \"#f0f921\"]], \"type\": \"surface\"}], \"table\": [{\"cells\": {\"fill\": {\"color\": \"#EBF0F8\"}, \"line\": {\"color\": \"white\"}}, \"header\": {\"fill\": {\"color\": \"#C8D4E3\"}, \"line\": {\"color\": \"white\"}}, \"type\": \"table\"}]}, \"layout\": {\"annotationdefaults\": {\"arrowcolor\": \"#2a3f5f\", \"arrowhead\": 0, \"arrowwidth\": 1}, \"coloraxis\": {\"colorbar\": {\"outlinewidth\": 0, \"ticks\": \"\"}}, \"colorscale\": {\"diverging\": [[0, \"#8e0152\"], [0.1, \"#c51b7d\"], [0.2, \"#de77ae\"], [0.3, \"#f1b6da\"], [0.4, \"#fde0ef\"], [0.5, \"#f7f7f7\"], [0.6, \"#e6f5d0\"], [0.7, \"#b8e186\"], [0.8, \"#7fbc41\"], [0.9, \"#4d9221\"], [1, \"#276419\"]], \"sequential\": [[0.0, \"#0d0887\"], [0.1111111111111111, \"#46039f\"], [0.2222222222222222, \"#7201a8\"], [0.3333333333333333, \"#9c179e\"], [0.4444444444444444, \"#bd3786\"], [0.5555555555555556, \"#d8576b\"], [0.6666666666666666, \"#ed7953\"], [0.7777777777777778, \"#fb9f3a\"], [0.8888888888888888, \"#fdca26\"], [1.0, \"#f0f921\"]], \"sequentialminus\": [[0.0, \"#0d0887\"], [0.1111111111111111, \"#46039f\"], [0.2222222222222222, \"#7201a8\"], [0.3333333333333333, \"#9c179e\"], [0.4444444444444444, \"#bd3786\"], [0.5555555555555556, \"#d8576b\"], [0.6666666666666666, \"#ed7953\"], [0.7777777777777778, \"#fb9f3a\"], [0.8888888888888888, \"#fdca26\"], [1.0, \"#f0f921\"]]}, \"colorway\": [\"#636efa\", \"#EF553B\", \"#00cc96\", \"#ab63fa\", \"#FFA15A\", \"#19d3f3\", \"#FF6692\", \"#B6E880\", \"#FF97FF\", \"#FECB52\"], \"font\": {\"color\": \"#2a3f5f\"}, \"geo\": {\"bgcolor\": \"white\", \"lakecolor\": \"white\", \"landcolor\": \"#E5ECF6\", \"showlakes\": true, \"showland\": true, \"subunitcolor\": \"white\"}, \"hoverlabel\": {\"align\": \"left\"}, \"hovermode\": \"closest\", \"mapbox\": {\"style\": \"light\"}, \"paper_bgcolor\": \"white\", \"plot_bgcolor\": \"#E5ECF6\", \"polar\": {\"angularaxis\": {\"gridcolor\": \"white\", \"linecolor\": \"white\", \"ticks\": \"\"}, \"bgcolor\": \"#E5ECF6\", \"radialaxis\": {\"gridcolor\": \"white\", \"linecolor\": \"white\", \"ticks\": \"\"}}, \"scene\": {\"xaxis\": {\"backgroundcolor\": \"#E5ECF6\", \"gridcolor\": \"white\", \"gridwidth\": 2, \"linecolor\": \"white\", \"showbackground\": true, \"ticks\": \"\", \"zerolinecolor\": \"white\"}, \"yaxis\": {\"backgroundcolor\": \"#E5ECF6\", \"gridcolor\": \"white\", \"gridwidth\": 2, \"linecolor\": \"white\", \"showbackground\": true, \"ticks\": \"\", \"zerolinecolor\": \"white\"}, \"zaxis\": {\"backgroundcolor\": \"#E5ECF6\", \"gridcolor\": \"white\", \"gridwidth\": 2, \"linecolor\": \"white\", \"showbackground\": true, \"ticks\": \"\", \"zerolinecolor\": \"white\"}}, \"shapedefaults\": {\"line\": {\"color\": \"#2a3f5f\"}}, \"ternary\": {\"aaxis\": {\"gridcolor\": \"white\", \"linecolor\": \"white\", \"ticks\": \"\"}, \"baxis\": {\"gridcolor\": \"white\", \"linecolor\": \"white\", \"ticks\": \"\"}, \"bgcolor\": \"#E5ECF6\", \"caxis\": {\"gridcolor\": \"white\", \"linecolor\": \"white\", \"ticks\": \"\"}}, \"title\": {\"x\": 0.05}, \"xaxis\": {\"automargin\": true, \"gridcolor\": \"white\", \"linecolor\": \"white\", \"ticks\": \"\", \"title\": {\"standoff\": 15}, \"zerolinecolor\": \"white\", \"zerolinewidth\": 2}, \"yaxis\": {\"automargin\": true, \"gridcolor\": \"white\", \"linecolor\": \"white\", \"ticks\": \"\", \"title\": {\"standoff\": 15}, \"zerolinecolor\": \"white\", \"zerolinewidth\": 2}}}, \"xaxis\": {\"anchor\": \"y\", \"domain\": [0.0, 1.0], \"title\": {\"text\": \"column name\"}}, \"yaxis\": {\"anchor\": \"x\", \"domain\": [0.0, 1.0], \"title\": {\"text\": \"count NAN\"}}},\n",
              "                        {\"responsive\": true}\n",
              "                    ).then(function(){\n",
              "                            \n",
              "var gd = document.getElementById('c0360b95-c16a-45a3-91e7-6e0a97b81cd2');\n",
              "var x = new MutationObserver(function (mutations, observer) {{\n",
              "        var display = window.getComputedStyle(gd).display;\n",
              "        if (!display || display === 'none') {{\n",
              "            console.log([gd, 'removed!']);\n",
              "            Plotly.purge(gd);\n",
              "            observer.disconnect();\n",
              "        }}\n",
              "}});\n",
              "\n",
              "// Listen for the removal of the full notebook cells\n",
              "var notebookContainer = gd.closest('#notebook-container');\n",
              "if (notebookContainer) {{\n",
              "    x.observe(notebookContainer, {childList: true});\n",
              "}}\n",
              "\n",
              "// Listen for the clearing of the current output cell\n",
              "var outputEl = gd.closest('.output');\n",
              "if (outputEl) {{\n",
              "    x.observe(outputEl, {childList: true});\n",
              "}}\n",
              "\n",
              "                        })\n",
              "                };\n",
              "                \n",
              "            </script>\n",
              "        </div>\n",
              "</body>\n",
              "</html>"
            ]
          },
          "metadata": {}
        }
      ]
    },
    {
      "cell_type": "markdown",
      "metadata": {
        "id": "6040898e"
      },
      "source": [
        "# Filling empty string with NaN\n",
        "\n",
        "\n"
      ],
      "id": "6040898e"
    },
    {
      "cell_type": "code",
      "metadata": {
        "id": "5b27a96f"
      },
      "source": [
        "orders_customers_anonymised = orders_customers_anonymised.replace(' ', np.nan)"
      ],
      "id": "5b27a96f",
      "execution_count": 149,
      "outputs": []
    },
    {
      "cell_type": "markdown",
      "metadata": {
        "id": "zkElddCv8SWe"
      },
      "source": [
        "Number of missing values after filling empty sting"
      ],
      "id": "zkElddCv8SWe"
    },
    {
      "cell_type": "code",
      "metadata": {
        "colab": {
          "base_uri": "https://localhost:8080/",
          "height": 542
        },
        "id": "ATwCFOUXGlU1",
        "outputId": "184312f6-0b2a-4cc9-d96b-71d6e3681379"
      },
      "source": [
        "mv = orders_customers_anonymised.isnull().sum()\n",
        "mv_data = pd.DataFrame(mv,columns=['count NAN'])\n",
        "mv_data['column name'] = mv_data.index\n",
        "mv_data = mv_data.sort_values(by=['count NAN'])\n",
        "\n",
        "#plot\n",
        "fig = px.bar(mv_data, y='count NAN', x='column name', text='count NAN')\n",
        "fig.update_traces(texttemplate='%{text:.2s}', textposition='outside',marker_color=\"#2f6358\")\n",
        "fig.show()"
      ],
      "id": "ATwCFOUXGlU1",
      "execution_count": 150,
      "outputs": [
        {
          "output_type": "display_data",
          "data": {
            "text/html": [
              "<html>\n",
              "<head><meta charset=\"utf-8\" /></head>\n",
              "<body>\n",
              "    <div>\n",
              "            <script src=\"https://cdnjs.cloudflare.com/ajax/libs/mathjax/2.7.5/MathJax.js?config=TeX-AMS-MML_SVG\"></script><script type=\"text/javascript\">if (window.MathJax) {MathJax.Hub.Config({SVG: {font: \"STIX-Web\"}});}</script>\n",
              "                <script type=\"text/javascript\">window.PlotlyConfig = {MathJaxConfig: 'local'};</script>\n",
              "        <script src=\"https://cdn.plot.ly/plotly-latest.min.js\"></script>    \n",
              "            <div id=\"61845d33-8be9-49ee-8140-8a522d3d5eeb\" class=\"plotly-graph-div\" style=\"height:525px; width:100%;\"></div>\n",
              "            <script type=\"text/javascript\">\n",
              "                \n",
              "                    window.PLOTLYENV=window.PLOTLYENV || {};\n",
              "                    \n",
              "                if (document.getElementById(\"61845d33-8be9-49ee-8140-8a522d3d5eeb\")) {\n",
              "                    Plotly.newPlot(\n",
              "                        '61845d33-8be9-49ee-8140-8a522d3d5eeb',\n",
              "                        [{\"alignmentgroup\": \"True\", \"hoverlabel\": {\"namelength\": 0}, \"hovertemplate\": \"column name=%{x}<br>count NAN=%{text}\", \"legendgroup\": \"\", \"marker\": {\"color\": \"#2f6358\"}, \"name\": \"\", \"offsetgroup\": \"\", \"orientation\": \"v\", \"showlegend\": false, \"text\": [0.0, 0.0, 0.0, 0.0, 0.0, 0.0, 0.0, 0.0, 189.0, 194.0, 578.0, 7954.0, 11451.0, 11451.0, 11451.0, 11451.0, 11451.0, 11451.0, 11451.0, 11451.0, 11451.0, 11457.0, 11496.0, 11505.0, 11640.0, 11640.0, 11640.0, 11640.0, 11642.0, 11659.0, 11807.0, 11923.0, 11928.0, 12074.0, 12074.0, 12914.0, 13245.0, 14323.0, 15085.0, 15091.0, 15830.0, 15834.0, 15868.0, 15868.0, 15875.0], \"textposition\": \"outside\", \"texttemplate\": \"%{text:.2s}\", \"type\": \"bar\", \"x\": [\"Name\", \"Lineitem fulfillment status\", \"Lineitem requires shipping\", \"Lineitem price\", \"Lineitem name\", \"Lineitem quantity\", \"Created at\", \"Lineitem taxable\", \"Lineitem discount\", \"Vendor\", \"Lineitem sku\", \"Customer id\", \"Subtotal\", \"Shipping\", \"Taxes\", \"Total\", \"Discount Amount\", \"Accepts Marketing\", \"Currency\", \"Fulfillment Status\", \"Financial Status\", \"Shipping Country\", \"Fulfilled at\", \"Billing City\", \"Refunded Amount\", \"Id\", \"Risk Level\", \"Source\", \"Shipping Province\", \"Note Attributes\", \"Paid at\", \"paiment type\", \"Payment Reference\", \"Tax 1 Value\", \"Tax 1 Name\", \"Shipping Method\", \"Discount Code\", \"Lineitem compare at price\", \"Phone\", \"Notes\", \"Tags\", \"Cancelled at\", \"Tax 2 Name\", \"Tax 2 Value\", \"Payment Terms Name\"], \"xaxis\": \"x\", \"y\": [0, 0, 0, 0, 0, 0, 0, 0, 189, 194, 578, 7954, 11451, 11451, 11451, 11451, 11451, 11451, 11451, 11451, 11451, 11457, 11496, 11505, 11640, 11640, 11640, 11640, 11642, 11659, 11807, 11923, 11928, 12074, 12074, 12914, 13245, 14323, 15085, 15091, 15830, 15834, 15868, 15868, 15875], \"yaxis\": \"y\"}],\n",
              "                        {\"barmode\": \"relative\", \"legend\": {\"tracegroupgap\": 0}, \"margin\": {\"t\": 60}, \"template\": {\"data\": {\"bar\": [{\"error_x\": {\"color\": \"#2a3f5f\"}, \"error_y\": {\"color\": \"#2a3f5f\"}, \"marker\": {\"line\": {\"color\": \"#E5ECF6\", \"width\": 0.5}}, \"type\": \"bar\"}], \"barpolar\": [{\"marker\": {\"line\": {\"color\": \"#E5ECF6\", \"width\": 0.5}}, \"type\": \"barpolar\"}], \"carpet\": [{\"aaxis\": {\"endlinecolor\": \"#2a3f5f\", \"gridcolor\": \"white\", \"linecolor\": \"white\", \"minorgridcolor\": \"white\", \"startlinecolor\": \"#2a3f5f\"}, \"baxis\": {\"endlinecolor\": \"#2a3f5f\", \"gridcolor\": \"white\", \"linecolor\": \"white\", \"minorgridcolor\": \"white\", \"startlinecolor\": \"#2a3f5f\"}, \"type\": \"carpet\"}], \"choropleth\": [{\"colorbar\": {\"outlinewidth\": 0, \"ticks\": \"\"}, \"type\": \"choropleth\"}], \"contour\": [{\"colorbar\": {\"outlinewidth\": 0, \"ticks\": \"\"}, \"colorscale\": [[0.0, \"#0d0887\"], [0.1111111111111111, \"#46039f\"], [0.2222222222222222, \"#7201a8\"], [0.3333333333333333, \"#9c179e\"], [0.4444444444444444, \"#bd3786\"], [0.5555555555555556, \"#d8576b\"], [0.6666666666666666, \"#ed7953\"], [0.7777777777777778, \"#fb9f3a\"], [0.8888888888888888, \"#fdca26\"], [1.0, \"#f0f921\"]], \"type\": \"contour\"}], \"contourcarpet\": [{\"colorbar\": {\"outlinewidth\": 0, \"ticks\": \"\"}, \"type\": \"contourcarpet\"}], \"heatmap\": [{\"colorbar\": {\"outlinewidth\": 0, \"ticks\": \"\"}, \"colorscale\": [[0.0, \"#0d0887\"], [0.1111111111111111, \"#46039f\"], [0.2222222222222222, \"#7201a8\"], [0.3333333333333333, \"#9c179e\"], [0.4444444444444444, \"#bd3786\"], [0.5555555555555556, \"#d8576b\"], [0.6666666666666666, \"#ed7953\"], [0.7777777777777778, \"#fb9f3a\"], [0.8888888888888888, \"#fdca26\"], [1.0, \"#f0f921\"]], \"type\": \"heatmap\"}], \"heatmapgl\": [{\"colorbar\": {\"outlinewidth\": 0, \"ticks\": \"\"}, \"colorscale\": [[0.0, \"#0d0887\"], [0.1111111111111111, \"#46039f\"], [0.2222222222222222, \"#7201a8\"], [0.3333333333333333, \"#9c179e\"], [0.4444444444444444, \"#bd3786\"], [0.5555555555555556, \"#d8576b\"], [0.6666666666666666, \"#ed7953\"], [0.7777777777777778, \"#fb9f3a\"], [0.8888888888888888, \"#fdca26\"], [1.0, \"#f0f921\"]], \"type\": \"heatmapgl\"}], \"histogram\": [{\"marker\": {\"colorbar\": {\"outlinewidth\": 0, \"ticks\": \"\"}}, \"type\": \"histogram\"}], \"histogram2d\": [{\"colorbar\": {\"outlinewidth\": 0, \"ticks\": \"\"}, \"colorscale\": [[0.0, \"#0d0887\"], [0.1111111111111111, \"#46039f\"], [0.2222222222222222, \"#7201a8\"], [0.3333333333333333, \"#9c179e\"], [0.4444444444444444, \"#bd3786\"], [0.5555555555555556, \"#d8576b\"], [0.6666666666666666, \"#ed7953\"], [0.7777777777777778, \"#fb9f3a\"], [0.8888888888888888, \"#fdca26\"], [1.0, \"#f0f921\"]], \"type\": \"histogram2d\"}], \"histogram2dcontour\": [{\"colorbar\": {\"outlinewidth\": 0, \"ticks\": \"\"}, \"colorscale\": [[0.0, \"#0d0887\"], [0.1111111111111111, \"#46039f\"], [0.2222222222222222, \"#7201a8\"], [0.3333333333333333, \"#9c179e\"], [0.4444444444444444, \"#bd3786\"], [0.5555555555555556, \"#d8576b\"], [0.6666666666666666, \"#ed7953\"], [0.7777777777777778, \"#fb9f3a\"], [0.8888888888888888, \"#fdca26\"], [1.0, \"#f0f921\"]], \"type\": \"histogram2dcontour\"}], \"mesh3d\": [{\"colorbar\": {\"outlinewidth\": 0, \"ticks\": \"\"}, \"type\": \"mesh3d\"}], \"parcoords\": [{\"line\": {\"colorbar\": {\"outlinewidth\": 0, \"ticks\": \"\"}}, \"type\": \"parcoords\"}], \"pie\": [{\"automargin\": true, \"type\": \"pie\"}], \"scatter\": [{\"marker\": {\"colorbar\": {\"outlinewidth\": 0, \"ticks\": \"\"}}, \"type\": \"scatter\"}], \"scatter3d\": [{\"line\": {\"colorbar\": {\"outlinewidth\": 0, \"ticks\": \"\"}}, \"marker\": {\"colorbar\": {\"outlinewidth\": 0, \"ticks\": \"\"}}, \"type\": \"scatter3d\"}], \"scattercarpet\": [{\"marker\": {\"colorbar\": {\"outlinewidth\": 0, \"ticks\": \"\"}}, \"type\": \"scattercarpet\"}], \"scattergeo\": [{\"marker\": {\"colorbar\": {\"outlinewidth\": 0, \"ticks\": \"\"}}, \"type\": \"scattergeo\"}], \"scattergl\": [{\"marker\": {\"colorbar\": {\"outlinewidth\": 0, \"ticks\": \"\"}}, \"type\": \"scattergl\"}], \"scattermapbox\": [{\"marker\": {\"colorbar\": {\"outlinewidth\": 0, \"ticks\": \"\"}}, \"type\": \"scattermapbox\"}], \"scatterpolar\": [{\"marker\": {\"colorbar\": {\"outlinewidth\": 0, \"ticks\": \"\"}}, \"type\": \"scatterpolar\"}], \"scatterpolargl\": [{\"marker\": {\"colorbar\": {\"outlinewidth\": 0, \"ticks\": \"\"}}, \"type\": \"scatterpolargl\"}], \"scatterternary\": [{\"marker\": {\"colorbar\": {\"outlinewidth\": 0, \"ticks\": \"\"}}, \"type\": \"scatterternary\"}], \"surface\": [{\"colorbar\": {\"outlinewidth\": 0, \"ticks\": \"\"}, \"colorscale\": [[0.0, \"#0d0887\"], [0.1111111111111111, \"#46039f\"], [0.2222222222222222, \"#7201a8\"], [0.3333333333333333, \"#9c179e\"], [0.4444444444444444, \"#bd3786\"], [0.5555555555555556, \"#d8576b\"], [0.6666666666666666, \"#ed7953\"], [0.7777777777777778, \"#fb9f3a\"], [0.8888888888888888, \"#fdca26\"], [1.0, \"#f0f921\"]], \"type\": \"surface\"}], \"table\": [{\"cells\": {\"fill\": {\"color\": \"#EBF0F8\"}, \"line\": {\"color\": \"white\"}}, \"header\": {\"fill\": {\"color\": \"#C8D4E3\"}, \"line\": {\"color\": \"white\"}}, \"type\": \"table\"}]}, \"layout\": {\"annotationdefaults\": {\"arrowcolor\": \"#2a3f5f\", \"arrowhead\": 0, \"arrowwidth\": 1}, \"coloraxis\": {\"colorbar\": {\"outlinewidth\": 0, \"ticks\": \"\"}}, \"colorscale\": {\"diverging\": [[0, \"#8e0152\"], [0.1, \"#c51b7d\"], [0.2, \"#de77ae\"], [0.3, \"#f1b6da\"], [0.4, \"#fde0ef\"], [0.5, \"#f7f7f7\"], [0.6, \"#e6f5d0\"], [0.7, \"#b8e186\"], [0.8, \"#7fbc41\"], [0.9, \"#4d9221\"], [1, \"#276419\"]], \"sequential\": [[0.0, \"#0d0887\"], [0.1111111111111111, \"#46039f\"], [0.2222222222222222, \"#7201a8\"], [0.3333333333333333, \"#9c179e\"], [0.4444444444444444, \"#bd3786\"], [0.5555555555555556, \"#d8576b\"], [0.6666666666666666, \"#ed7953\"], [0.7777777777777778, \"#fb9f3a\"], [0.8888888888888888, \"#fdca26\"], [1.0, \"#f0f921\"]], \"sequentialminus\": [[0.0, \"#0d0887\"], [0.1111111111111111, \"#46039f\"], [0.2222222222222222, \"#7201a8\"], [0.3333333333333333, \"#9c179e\"], [0.4444444444444444, \"#bd3786\"], [0.5555555555555556, \"#d8576b\"], [0.6666666666666666, \"#ed7953\"], [0.7777777777777778, \"#fb9f3a\"], [0.8888888888888888, \"#fdca26\"], [1.0, \"#f0f921\"]]}, \"colorway\": [\"#636efa\", \"#EF553B\", \"#00cc96\", \"#ab63fa\", \"#FFA15A\", \"#19d3f3\", \"#FF6692\", \"#B6E880\", \"#FF97FF\", \"#FECB52\"], \"font\": {\"color\": \"#2a3f5f\"}, \"geo\": {\"bgcolor\": \"white\", \"lakecolor\": \"white\", \"landcolor\": \"#E5ECF6\", \"showlakes\": true, \"showland\": true, \"subunitcolor\": \"white\"}, \"hoverlabel\": {\"align\": \"left\"}, \"hovermode\": \"closest\", \"mapbox\": {\"style\": \"light\"}, \"paper_bgcolor\": \"white\", \"plot_bgcolor\": \"#E5ECF6\", \"polar\": {\"angularaxis\": {\"gridcolor\": \"white\", \"linecolor\": \"white\", \"ticks\": \"\"}, \"bgcolor\": \"#E5ECF6\", \"radialaxis\": {\"gridcolor\": \"white\", \"linecolor\": \"white\", \"ticks\": \"\"}}, \"scene\": {\"xaxis\": {\"backgroundcolor\": \"#E5ECF6\", \"gridcolor\": \"white\", \"gridwidth\": 2, \"linecolor\": \"white\", \"showbackground\": true, \"ticks\": \"\", \"zerolinecolor\": \"white\"}, \"yaxis\": {\"backgroundcolor\": \"#E5ECF6\", \"gridcolor\": \"white\", \"gridwidth\": 2, \"linecolor\": \"white\", \"showbackground\": true, \"ticks\": \"\", \"zerolinecolor\": \"white\"}, \"zaxis\": {\"backgroundcolor\": \"#E5ECF6\", \"gridcolor\": \"white\", \"gridwidth\": 2, \"linecolor\": \"white\", \"showbackground\": true, \"ticks\": \"\", \"zerolinecolor\": \"white\"}}, \"shapedefaults\": {\"line\": {\"color\": \"#2a3f5f\"}}, \"ternary\": {\"aaxis\": {\"gridcolor\": \"white\", \"linecolor\": \"white\", \"ticks\": \"\"}, \"baxis\": {\"gridcolor\": \"white\", \"linecolor\": \"white\", \"ticks\": \"\"}, \"bgcolor\": \"#E5ECF6\", \"caxis\": {\"gridcolor\": \"white\", \"linecolor\": \"white\", \"ticks\": \"\"}}, \"title\": {\"x\": 0.05}, \"xaxis\": {\"automargin\": true, \"gridcolor\": \"white\", \"linecolor\": \"white\", \"ticks\": \"\", \"title\": {\"standoff\": 15}, \"zerolinecolor\": \"white\", \"zerolinewidth\": 2}, \"yaxis\": {\"automargin\": true, \"gridcolor\": \"white\", \"linecolor\": \"white\", \"ticks\": \"\", \"title\": {\"standoff\": 15}, \"zerolinecolor\": \"white\", \"zerolinewidth\": 2}}}, \"xaxis\": {\"anchor\": \"y\", \"domain\": [0.0, 1.0], \"title\": {\"text\": \"column name\"}}, \"yaxis\": {\"anchor\": \"x\", \"domain\": [0.0, 1.0], \"title\": {\"text\": \"count NAN\"}}},\n",
              "                        {\"responsive\": true}\n",
              "                    ).then(function(){\n",
              "                            \n",
              "var gd = document.getElementById('61845d33-8be9-49ee-8140-8a522d3d5eeb');\n",
              "var x = new MutationObserver(function (mutations, observer) {{\n",
              "        var display = window.getComputedStyle(gd).display;\n",
              "        if (!display || display === 'none') {{\n",
              "            console.log([gd, 'removed!']);\n",
              "            Plotly.purge(gd);\n",
              "            observer.disconnect();\n",
              "        }}\n",
              "}});\n",
              "\n",
              "// Listen for the removal of the full notebook cells\n",
              "var notebookContainer = gd.closest('#notebook-container');\n",
              "if (notebookContainer) {{\n",
              "    x.observe(notebookContainer, {childList: true});\n",
              "}}\n",
              "\n",
              "// Listen for the clearing of the current output cell\n",
              "var outputEl = gd.closest('.output');\n",
              "if (outputEl) {{\n",
              "    x.observe(outputEl, {childList: true});\n",
              "}}\n",
              "\n",
              "                        })\n",
              "                };\n",
              "                \n",
              "            </script>\n",
              "        </div>\n",
              "</body>\n",
              "</html>"
            ]
          },
          "metadata": {}
        }
      ]
    },
    {
      "cell_type": "markdown",
      "metadata": {
        "id": "kMbNin2fBUK3"
      },
      "source": [
        "# Keep only rows with valid Name ID"
      ],
      "id": "kMbNin2fBUK3"
    },
    {
      "cell_type": "code",
      "metadata": {
        "id": "24cfb167",
        "colab": {
          "base_uri": "https://localhost:8080/"
        },
        "outputId": "09553492-083d-4d43-979d-5326045c97e5"
      },
      "source": [
        "print('{:,} rows; {:,} columns'\n",
        "      .format(orders_customers_anonymised.shape[0], orders_customers_anonymised.shape[1]))\n",
        "print('{:,} transactions don\\'t have a Name id'\n",
        "      .format(orders_customers_anonymised[orders_customers_anonymised[\"Name\"].isnull()].shape[0]))\n",
        "print(\"-------------------------------\")\n",
        "orders_customers_anonymised['Name'] = orders_customers_anonymised['Name'].astype(str)\n",
        "filter = orders_customers_anonymised['Name'].str.contains(\"^#\\d{5}\")\n",
        "orders_customers_anonymised = orders_customers_anonymised[filter]\n",
        "\n",
        "###############\n",
        "\n",
        "print('{:,} rows; {:,} columns'\n",
        "      .format(orders_customers_anonymised.shape[0], orders_customers_anonymised.shape[1]))\n",
        "print('{:,} transactions don\\'t have a Name id'\n",
        "      .format(orders_customers_anonymised[orders_customers_anonymised[\"Name\"].isnull()].shape[0]))\n",
        "print('{:} number of unique Name id'.format(orders_customers_anonymised[\"Name\"].nunique()))"
      ],
      "id": "24cfb167",
      "execution_count": 151,
      "outputs": [
        {
          "output_type": "stream",
          "name": "stdout",
          "text": [
            "15,876 rows; 45 columns\n",
            "0 transactions don't have a Name id\n",
            "-------------------------------\n",
            "15,876 rows; 45 columns\n",
            "0 transactions don't have a Name id\n",
            "4436 number of unique Name id\n"
          ]
        }
      ]
    },
    {
      "cell_type": "markdown",
      "metadata": {
        "id": "EUnwqoQKCxbZ"
      },
      "source": [
        "# Customer id\n",
        "\n"
      ],
      "id": "EUnwqoQKCxbZ"
    },
    {
      "cell_type": "code",
      "metadata": {
        "colab": {
          "base_uri": "https://localhost:8080/"
        },
        "id": "caf23734",
        "outputId": "92ecee3b-9d6e-4ab1-f6bd-fc31aa31f190"
      },
      "source": [
        "print('{:,} rows; {:,} columns'\n",
        "      .format(orders_customers_anonymised.shape[0], orders_customers_anonymised.shape[1]))\n",
        "print('{:,} transactions don\\'t have a customer id'\n",
        "      .format(orders_customers_anonymised[orders_customers_anonymised[\"Customer id\"].isnull()].shape[0]))\n",
        "print('Transactions timeframe from {} to {}'.format(orders_customers_anonymised['Created at'].min(),\n",
        "                                    orders_customers_anonymised['Created at'].max()))\n",
        "#######################################\n",
        "orders_customers_anonymised = orders_customers_anonymised[orders_customers_anonymised['Customer id'].notna()]\n",
        "orders_customers_anonymised['Customer id'] = orders_customers_anonymised['Customer id'].astype(int)\n",
        "#######################################\n",
        "print(\"-------------------------------\")\n",
        "print(\"Keeping only clients with ID\")\n",
        "print(\"-------------------------------\")\n",
        "\n",
        "print('{:,} rows; {:,} columns'\n",
        "      .format(orders_customers_anonymised.shape[0], orders_customers_anonymised.shape[1]))\n",
        "print('{:,} transactions don\\'t have a customer id'\n",
        "      .format(orders_customers_anonymised[orders_customers_anonymised[\"Customer id\"].isnull()].shape[0]))\n",
        "print('Transactions timeframe from {} to {}'.format(orders_customers_anonymised['Created at'].min(),\n",
        "                                    orders_customers_anonymised['Created at'].max()))\n",
        "print(\"-------------------------------\")\n",
        "print('number of clients having id; {} '.format(orders_customers_anonymised[\"Customer id\"].nunique()))"
      ],
      "id": "caf23734",
      "execution_count": 152,
      "outputs": [
        {
          "output_type": "stream",
          "name": "stdout",
          "text": [
            "15,876 rows; 45 columns\n",
            "7,954 transactions don't have a customer id\n",
            "Transactions timeframe from 2020-03-12 10:41:22 +0100 to 2021-09-23 09:43:20 +0200\n",
            "-------------------------------\n",
            "Keeping only clients with ID\n",
            "-------------------------------\n",
            "7,922 rows; 45 columns\n",
            "0 transactions don't have a customer id\n",
            "Transactions timeframe from 2020-03-12 11:46:19 +0100 to 2021-09-23 09:43:20 +0200\n",
            "-------------------------------\n",
            "number of clients having id; 1298 \n"
          ]
        }
      ]
    },
    {
      "cell_type": "markdown",
      "metadata": {
        "id": "ouj5DskmlYam"
      },
      "source": [
        "## Drop the columns where all elements are NaN\n"
      ],
      "id": "ouj5DskmlYam"
    },
    {
      "cell_type": "code",
      "metadata": {
        "colab": {
          "base_uri": "https://localhost:8080/"
        },
        "id": "cc4566a9",
        "outputId": "bdbbf62a-0887-4ffd-9a25-3c2f40ade639"
      },
      "source": [
        "x = orders_customers_anonymised.shape[1]\n",
        "print(\"number of columns before elimination %s\"% x)\n",
        "orders_customers_anonymised = orders_customers_anonymised.dropna(axis=1, how='all')\n",
        "x = orders_customers_anonymised.shape[1]\n",
        "print(\"-------------------------------\")\n",
        "print(\"number of columns after elimination %s\"% x)"
      ],
      "id": "cc4566a9",
      "execution_count": 153,
      "outputs": [
        {
          "output_type": "stream",
          "name": "stdout",
          "text": [
            "number of columns before elimination 45\n",
            "-------------------------------\n",
            "number of columns after elimination 44\n"
          ]
        }
      ]
    },
    {
      "cell_type": "markdown",
      "metadata": {
        "id": "StDhrHI-82F1"
      },
      "source": [
        "Missing values after cleaning"
      ],
      "id": "StDhrHI-82F1"
    },
    {
      "cell_type": "code",
      "metadata": {
        "colab": {
          "base_uri": "https://localhost:8080/",
          "height": 542
        },
        "id": "tAtKTzo9lTXb",
        "outputId": "a60743c3-cf5a-41b5-b325-3427a9e3382c"
      },
      "source": [
        "mv = orders_customers_anonymised.isnull().sum()\n",
        "mv_data = pd.DataFrame(mv,columns=['count NAN'])\n",
        "mv_data['column name'] = mv_data.index\n",
        "mv_data = mv_data.sort_values(by=['count NAN'])\n",
        "#plot\n",
        "\n",
        "mv_data_fig = px.bar(mv_data, y='count NAN', x='column name', text='count NAN')\n",
        "mv_data_fig.update_traces(texttemplate='%{text:.2s}', textposition='outside',marker_color=\"#2f6358\")\n",
        "mv_data_fig.show()"
      ],
      "id": "tAtKTzo9lTXb",
      "execution_count": 154,
      "outputs": [
        {
          "output_type": "display_data",
          "data": {
            "text/html": [
              "<html>\n",
              "<head><meta charset=\"utf-8\" /></head>\n",
              "<body>\n",
              "    <div>\n",
              "            <script src=\"https://cdnjs.cloudflare.com/ajax/libs/mathjax/2.7.5/MathJax.js?config=TeX-AMS-MML_SVG\"></script><script type=\"text/javascript\">if (window.MathJax) {MathJax.Hub.Config({SVG: {font: \"STIX-Web\"}});}</script>\n",
              "                <script type=\"text/javascript\">window.PlotlyConfig = {MathJaxConfig: 'local'};</script>\n",
              "        <script src=\"https://cdn.plot.ly/plotly-latest.min.js\"></script>    \n",
              "            <div id=\"b8652042-6fca-4d88-9e96-128143885b2f\" class=\"plotly-graph-div\" style=\"height:525px; width:100%;\"></div>\n",
              "            <script type=\"text/javascript\">\n",
              "                \n",
              "                    window.PLOTLYENV=window.PLOTLYENV || {};\n",
              "                    \n",
              "                if (document.getElementById(\"b8652042-6fca-4d88-9e96-128143885b2f\")) {\n",
              "                    Plotly.newPlot(\n",
              "                        'b8652042-6fca-4d88-9e96-128143885b2f',\n",
              "                        [{\"alignmentgroup\": \"True\", \"hoverlabel\": {\"namelength\": 0}, \"hovertemplate\": \"column name=%{x}<br>count NAN=%{text}\", \"legendgroup\": \"\", \"marker\": {\"color\": \"#2f6358\"}, \"name\": \"\", \"offsetgroup\": \"\", \"orientation\": \"v\", \"showlegend\": false, \"text\": [0.0, 0.0, 0.0, 0.0, 0.0, 0.0, 0.0, 0.0, 0.0, 171.0, 176.0, 478.0, 5078.0, 5078.0, 5078.0, 5078.0, 5078.0, 5078.0, 5078.0, 5078.0, 5078.0, 5080.0, 5085.0, 5096.0, 5136.0, 5147.0, 5249.0, 5249.0, 5249.0, 5249.0, 5254.0, 5258.0, 5265.0, 5267.0, 5298.0, 5298.0, 6489.0, 6690.0, 7168.0, 7323.0, 7880.0, 7909.0, 7915.0, 7915.0], \"textposition\": \"outside\", \"texttemplate\": \"%{text:.2s}\", \"type\": \"bar\", \"x\": [\"Name\", \"Lineitem fulfillment status\", \"Lineitem taxable\", \"Lineitem price\", \"Lineitem name\", \"Lineitem quantity\", \"Created at\", \"Lineitem requires shipping\", \"Customer id\", \"Lineitem discount\", \"Vendor\", \"Lineitem sku\", \"Subtotal\", \"Shipping\", \"Taxes\", \"Total\", \"Discount Amount\", \"Accepts Marketing\", \"Fulfillment Status\", \"Currency\", \"Financial Status\", \"Shipping Country\", \"Billing City\", \"Fulfilled at\", \"Shipping Province\", \"Paid at\", \"Id\", \"Refunded Amount\", \"Source\", \"Risk Level\", \"Shipping Method\", \"Note Attributes\", \"paiment type\", \"Payment Reference\", \"Tax 1 Value\", \"Tax 1 Name\", \"Lineitem compare at price\", \"Discount Code\", \"Phone\", \"Notes\", \"Tags\", \"Cancelled at\", \"Tax 2 Value\", \"Tax 2 Name\"], \"xaxis\": \"x\", \"y\": [0, 0, 0, 0, 0, 0, 0, 0, 0, 171, 176, 478, 5078, 5078, 5078, 5078, 5078, 5078, 5078, 5078, 5078, 5080, 5085, 5096, 5136, 5147, 5249, 5249, 5249, 5249, 5254, 5258, 5265, 5267, 5298, 5298, 6489, 6690, 7168, 7323, 7880, 7909, 7915, 7915], \"yaxis\": \"y\"}],\n",
              "                        {\"barmode\": \"relative\", \"legend\": {\"tracegroupgap\": 0}, \"margin\": {\"t\": 60}, \"template\": {\"data\": {\"bar\": [{\"error_x\": {\"color\": \"#2a3f5f\"}, \"error_y\": {\"color\": \"#2a3f5f\"}, \"marker\": {\"line\": {\"color\": \"#E5ECF6\", \"width\": 0.5}}, \"type\": \"bar\"}], \"barpolar\": [{\"marker\": {\"line\": {\"color\": \"#E5ECF6\", \"width\": 0.5}}, \"type\": \"barpolar\"}], \"carpet\": [{\"aaxis\": {\"endlinecolor\": \"#2a3f5f\", \"gridcolor\": \"white\", \"linecolor\": \"white\", \"minorgridcolor\": \"white\", \"startlinecolor\": \"#2a3f5f\"}, \"baxis\": {\"endlinecolor\": \"#2a3f5f\", \"gridcolor\": \"white\", \"linecolor\": \"white\", \"minorgridcolor\": \"white\", \"startlinecolor\": \"#2a3f5f\"}, \"type\": \"carpet\"}], \"choropleth\": [{\"colorbar\": {\"outlinewidth\": 0, \"ticks\": \"\"}, \"type\": \"choropleth\"}], \"contour\": [{\"colorbar\": {\"outlinewidth\": 0, \"ticks\": \"\"}, \"colorscale\": [[0.0, \"#0d0887\"], [0.1111111111111111, \"#46039f\"], [0.2222222222222222, \"#7201a8\"], [0.3333333333333333, \"#9c179e\"], [0.4444444444444444, \"#bd3786\"], [0.5555555555555556, \"#d8576b\"], [0.6666666666666666, \"#ed7953\"], [0.7777777777777778, \"#fb9f3a\"], [0.8888888888888888, \"#fdca26\"], [1.0, \"#f0f921\"]], \"type\": \"contour\"}], \"contourcarpet\": [{\"colorbar\": {\"outlinewidth\": 0, \"ticks\": \"\"}, \"type\": \"contourcarpet\"}], \"heatmap\": [{\"colorbar\": {\"outlinewidth\": 0, \"ticks\": \"\"}, \"colorscale\": [[0.0, \"#0d0887\"], [0.1111111111111111, \"#46039f\"], [0.2222222222222222, \"#7201a8\"], [0.3333333333333333, \"#9c179e\"], [0.4444444444444444, \"#bd3786\"], [0.5555555555555556, \"#d8576b\"], [0.6666666666666666, \"#ed7953\"], [0.7777777777777778, \"#fb9f3a\"], [0.8888888888888888, \"#fdca26\"], [1.0, \"#f0f921\"]], \"type\": \"heatmap\"}], \"heatmapgl\": [{\"colorbar\": {\"outlinewidth\": 0, \"ticks\": \"\"}, \"colorscale\": [[0.0, \"#0d0887\"], [0.1111111111111111, \"#46039f\"], [0.2222222222222222, \"#7201a8\"], [0.3333333333333333, \"#9c179e\"], [0.4444444444444444, \"#bd3786\"], [0.5555555555555556, \"#d8576b\"], [0.6666666666666666, \"#ed7953\"], [0.7777777777777778, \"#fb9f3a\"], [0.8888888888888888, \"#fdca26\"], [1.0, \"#f0f921\"]], \"type\": \"heatmapgl\"}], \"histogram\": [{\"marker\": {\"colorbar\": {\"outlinewidth\": 0, \"ticks\": \"\"}}, \"type\": \"histogram\"}], \"histogram2d\": [{\"colorbar\": {\"outlinewidth\": 0, \"ticks\": \"\"}, \"colorscale\": [[0.0, \"#0d0887\"], [0.1111111111111111, \"#46039f\"], [0.2222222222222222, \"#7201a8\"], [0.3333333333333333, \"#9c179e\"], [0.4444444444444444, \"#bd3786\"], [0.5555555555555556, \"#d8576b\"], [0.6666666666666666, \"#ed7953\"], [0.7777777777777778, \"#fb9f3a\"], [0.8888888888888888, \"#fdca26\"], [1.0, \"#f0f921\"]], \"type\": \"histogram2d\"}], \"histogram2dcontour\": [{\"colorbar\": {\"outlinewidth\": 0, \"ticks\": \"\"}, \"colorscale\": [[0.0, \"#0d0887\"], [0.1111111111111111, \"#46039f\"], [0.2222222222222222, \"#7201a8\"], [0.3333333333333333, \"#9c179e\"], [0.4444444444444444, \"#bd3786\"], [0.5555555555555556, \"#d8576b\"], [0.6666666666666666, \"#ed7953\"], [0.7777777777777778, \"#fb9f3a\"], [0.8888888888888888, \"#fdca26\"], [1.0, \"#f0f921\"]], \"type\": \"histogram2dcontour\"}], \"mesh3d\": [{\"colorbar\": {\"outlinewidth\": 0, \"ticks\": \"\"}, \"type\": \"mesh3d\"}], \"parcoords\": [{\"line\": {\"colorbar\": {\"outlinewidth\": 0, \"ticks\": \"\"}}, \"type\": \"parcoords\"}], \"pie\": [{\"automargin\": true, \"type\": \"pie\"}], \"scatter\": [{\"marker\": {\"colorbar\": {\"outlinewidth\": 0, \"ticks\": \"\"}}, \"type\": \"scatter\"}], \"scatter3d\": [{\"line\": {\"colorbar\": {\"outlinewidth\": 0, \"ticks\": \"\"}}, \"marker\": {\"colorbar\": {\"outlinewidth\": 0, \"ticks\": \"\"}}, \"type\": \"scatter3d\"}], \"scattercarpet\": [{\"marker\": {\"colorbar\": {\"outlinewidth\": 0, \"ticks\": \"\"}}, \"type\": \"scattercarpet\"}], \"scattergeo\": [{\"marker\": {\"colorbar\": {\"outlinewidth\": 0, \"ticks\": \"\"}}, \"type\": \"scattergeo\"}], \"scattergl\": [{\"marker\": {\"colorbar\": {\"outlinewidth\": 0, \"ticks\": \"\"}}, \"type\": \"scattergl\"}], \"scattermapbox\": [{\"marker\": {\"colorbar\": {\"outlinewidth\": 0, \"ticks\": \"\"}}, \"type\": \"scattermapbox\"}], \"scatterpolar\": [{\"marker\": {\"colorbar\": {\"outlinewidth\": 0, \"ticks\": \"\"}}, \"type\": \"scatterpolar\"}], \"scatterpolargl\": [{\"marker\": {\"colorbar\": {\"outlinewidth\": 0, \"ticks\": \"\"}}, \"type\": \"scatterpolargl\"}], \"scatterternary\": [{\"marker\": {\"colorbar\": {\"outlinewidth\": 0, \"ticks\": \"\"}}, \"type\": \"scatterternary\"}], \"surface\": [{\"colorbar\": {\"outlinewidth\": 0, \"ticks\": \"\"}, \"colorscale\": [[0.0, \"#0d0887\"], [0.1111111111111111, \"#46039f\"], [0.2222222222222222, \"#7201a8\"], [0.3333333333333333, \"#9c179e\"], [0.4444444444444444, \"#bd3786\"], [0.5555555555555556, \"#d8576b\"], [0.6666666666666666, \"#ed7953\"], [0.7777777777777778, \"#fb9f3a\"], [0.8888888888888888, \"#fdca26\"], [1.0, \"#f0f921\"]], \"type\": \"surface\"}], \"table\": [{\"cells\": {\"fill\": {\"color\": \"#EBF0F8\"}, \"line\": {\"color\": \"white\"}}, \"header\": {\"fill\": {\"color\": \"#C8D4E3\"}, \"line\": {\"color\": \"white\"}}, \"type\": \"table\"}]}, \"layout\": {\"annotationdefaults\": {\"arrowcolor\": \"#2a3f5f\", \"arrowhead\": 0, \"arrowwidth\": 1}, \"coloraxis\": {\"colorbar\": {\"outlinewidth\": 0, \"ticks\": \"\"}}, \"colorscale\": {\"diverging\": [[0, \"#8e0152\"], [0.1, \"#c51b7d\"], [0.2, \"#de77ae\"], [0.3, \"#f1b6da\"], [0.4, \"#fde0ef\"], [0.5, \"#f7f7f7\"], [0.6, \"#e6f5d0\"], [0.7, \"#b8e186\"], [0.8, \"#7fbc41\"], [0.9, \"#4d9221\"], [1, \"#276419\"]], \"sequential\": [[0.0, \"#0d0887\"], [0.1111111111111111, \"#46039f\"], [0.2222222222222222, \"#7201a8\"], [0.3333333333333333, \"#9c179e\"], [0.4444444444444444, \"#bd3786\"], [0.5555555555555556, \"#d8576b\"], [0.6666666666666666, \"#ed7953\"], [0.7777777777777778, \"#fb9f3a\"], [0.8888888888888888, \"#fdca26\"], [1.0, \"#f0f921\"]], \"sequentialminus\": [[0.0, \"#0d0887\"], [0.1111111111111111, \"#46039f\"], [0.2222222222222222, \"#7201a8\"], [0.3333333333333333, \"#9c179e\"], [0.4444444444444444, \"#bd3786\"], [0.5555555555555556, \"#d8576b\"], [0.6666666666666666, \"#ed7953\"], [0.7777777777777778, \"#fb9f3a\"], [0.8888888888888888, \"#fdca26\"], [1.0, \"#f0f921\"]]}, \"colorway\": [\"#636efa\", \"#EF553B\", \"#00cc96\", \"#ab63fa\", \"#FFA15A\", \"#19d3f3\", \"#FF6692\", \"#B6E880\", \"#FF97FF\", \"#FECB52\"], \"font\": {\"color\": \"#2a3f5f\"}, \"geo\": {\"bgcolor\": \"white\", \"lakecolor\": \"white\", \"landcolor\": \"#E5ECF6\", \"showlakes\": true, \"showland\": true, \"subunitcolor\": \"white\"}, \"hoverlabel\": {\"align\": \"left\"}, \"hovermode\": \"closest\", \"mapbox\": {\"style\": \"light\"}, \"paper_bgcolor\": \"white\", \"plot_bgcolor\": \"#E5ECF6\", \"polar\": {\"angularaxis\": {\"gridcolor\": \"white\", \"linecolor\": \"white\", \"ticks\": \"\"}, \"bgcolor\": \"#E5ECF6\", \"radialaxis\": {\"gridcolor\": \"white\", \"linecolor\": \"white\", \"ticks\": \"\"}}, \"scene\": {\"xaxis\": {\"backgroundcolor\": \"#E5ECF6\", \"gridcolor\": \"white\", \"gridwidth\": 2, \"linecolor\": \"white\", \"showbackground\": true, \"ticks\": \"\", \"zerolinecolor\": \"white\"}, \"yaxis\": {\"backgroundcolor\": \"#E5ECF6\", \"gridcolor\": \"white\", \"gridwidth\": 2, \"linecolor\": \"white\", \"showbackground\": true, \"ticks\": \"\", \"zerolinecolor\": \"white\"}, \"zaxis\": {\"backgroundcolor\": \"#E5ECF6\", \"gridcolor\": \"white\", \"gridwidth\": 2, \"linecolor\": \"white\", \"showbackground\": true, \"ticks\": \"\", \"zerolinecolor\": \"white\"}}, \"shapedefaults\": {\"line\": {\"color\": \"#2a3f5f\"}}, \"ternary\": {\"aaxis\": {\"gridcolor\": \"white\", \"linecolor\": \"white\", \"ticks\": \"\"}, \"baxis\": {\"gridcolor\": \"white\", \"linecolor\": \"white\", \"ticks\": \"\"}, \"bgcolor\": \"#E5ECF6\", \"caxis\": {\"gridcolor\": \"white\", \"linecolor\": \"white\", \"ticks\": \"\"}}, \"title\": {\"x\": 0.05}, \"xaxis\": {\"automargin\": true, \"gridcolor\": \"white\", \"linecolor\": \"white\", \"ticks\": \"\", \"title\": {\"standoff\": 15}, \"zerolinecolor\": \"white\", \"zerolinewidth\": 2}, \"yaxis\": {\"automargin\": true, \"gridcolor\": \"white\", \"linecolor\": \"white\", \"ticks\": \"\", \"title\": {\"standoff\": 15}, \"zerolinecolor\": \"white\", \"zerolinewidth\": 2}}}, \"xaxis\": {\"anchor\": \"y\", \"domain\": [0.0, 1.0], \"title\": {\"text\": \"column name\"}}, \"yaxis\": {\"anchor\": \"x\", \"domain\": [0.0, 1.0], \"title\": {\"text\": \"count NAN\"}}},\n",
              "                        {\"responsive\": true}\n",
              "                    ).then(function(){\n",
              "                            \n",
              "var gd = document.getElementById('b8652042-6fca-4d88-9e96-128143885b2f');\n",
              "var x = new MutationObserver(function (mutations, observer) {{\n",
              "        var display = window.getComputedStyle(gd).display;\n",
              "        if (!display || display === 'none') {{\n",
              "            console.log([gd, 'removed!']);\n",
              "            Plotly.purge(gd);\n",
              "            observer.disconnect();\n",
              "        }}\n",
              "}});\n",
              "\n",
              "// Listen for the removal of the full notebook cells\n",
              "var notebookContainer = gd.closest('#notebook-container');\n",
              "if (notebookContainer) {{\n",
              "    x.observe(notebookContainer, {childList: true});\n",
              "}}\n",
              "\n",
              "// Listen for the clearing of the current output cell\n",
              "var outputEl = gd.closest('.output');\n",
              "if (outputEl) {{\n",
              "    x.observe(outputEl, {childList: true});\n",
              "}}\n",
              "\n",
              "                        })\n",
              "                };\n",
              "                \n",
              "            </script>\n",
              "        </div>\n",
              "</body>\n",
              "</html>"
            ]
          },
          "metadata": {}
        }
      ]
    },
    {
      "cell_type": "code",
      "metadata": {
        "colab": {
          "base_uri": "https://localhost:8080/"
        },
        "id": "UEfKPd0Xl6tt",
        "outputId": "8d145fcb-3d69-4946-a5de-6977aa38731d"
      },
      "source": [
        "orders_customers_anonymised.shape"
      ],
      "id": "UEfKPd0Xl6tt",
      "execution_count": 155,
      "outputs": [
        {
          "output_type": "execute_result",
          "data": {
            "text/plain": [
              "(7922, 44)"
            ]
          },
          "metadata": {},
          "execution_count": 155
        }
      ]
    },
    {
      "cell_type": "markdown",
      "metadata": {
        "id": "3ddeb8c3"
      },
      "source": [
        "\n",
        " **B2C clients**\n",
        "\n",
        "\n",
        "\n",
        "\n"
      ],
      "id": "3ddeb8c3"
    },
    {
      "cell_type": "markdown",
      "metadata": {
        "id": "0aGaW9yX-h4U"
      },
      "source": [
        "Finding the payment type column"
      ],
      "id": "0aGaW9yX-h4U"
    },
    {
      "cell_type": "code",
      "metadata": {
        "colab": {
          "base_uri": "https://localhost:8080/"
        },
        "id": "566015b8",
        "outputId": "d362bc8f-2d67-445d-86f3-f6935b8eb267"
      },
      "source": [
        "orders_customers_anonymised[\" \"].value_counts()"
      ],
      "id": "566015b8",
      "execution_count": 115,
      "outputs": [
        {
          "output_type": "execute_result",
          "data": {
            "text/plain": [
              "PayPal Express Checkout                      1391\n",
              "Stripe                                       1250\n",
              "manual                                       1250\n",
              "Compra ora, paga dopo con Klarna               41\n",
              "Stripe + PayPal Express Checkout               14\n",
              "manual + Stripe                                 4\n",
              "PayPal Express Checkout + Stripe                2\n",
              "Stripe + Compra ora, paga dopo con Klarna       1\n",
              "Name:  , dtype: int64"
            ]
          },
          "metadata": {},
          "execution_count": 115
        }
      ]
    },
    {
      "cell_type": "markdown",
      "metadata": {
        "id": "1x5ZyGYyv-WF"
      },
      "source": [
        "* **Rename the column** \n"
      ],
      "id": "1x5ZyGYyv-WF"
    },
    {
      "cell_type": "code",
      "metadata": {
        "id": "3d35d4b6"
      },
      "source": [
        "orders_customers_anonymised = orders_customers_anonymised.rename(columns ={\" \" : \"paiment type\"})"
      ],
      "id": "3d35d4b6",
      "execution_count": 156,
      "outputs": []
    },
    {
      "cell_type": "markdown",
      "metadata": {
        "id": "85382ede"
      },
      "source": [
        "## Clients B2C\n",
        "Keeping client with  paiment type  different of manual \n",
        "keeping client with Financial Status = paid"
      ],
      "id": "85382ede"
    },
    {
      "cell_type": "code",
      "metadata": {
        "colab": {
          "base_uri": "https://localhost:8080/"
        },
        "id": "T6oha8SGPP9F",
        "outputId": "566f4eeb-3da9-44b5-aedf-62a669059633"
      },
      "source": [
        "customers_B2C[\"Financial Status\"].value_counts()"
      ],
      "id": "T6oha8SGPP9F",
      "execution_count": 164,
      "outputs": [
        {
          "output_type": "execute_result",
          "data": {
            "text/plain": [
              "paid    2617\n",
              "Name: Financial Status, dtype: int64"
            ]
          },
          "metadata": {},
          "execution_count": 164
        }
      ]
    },
    {
      "cell_type": "code",
      "metadata": {
        "id": "62b8c691"
      },
      "source": [
        "customers_B2C = orders_customers_anonymised[orders_customers_anonymised[\"paiment type\"] != \"manual\"]\n",
        "customers_B2C = customers_B2C.loc[customers_B2C['Financial Status'].isin(['paid', np.nan])]"
      ],
      "id": "62b8c691",
      "execution_count": 163,
      "outputs": []
    },
    {
      "cell_type": "code",
      "metadata": {
        "colab": {
          "base_uri": "https://localhost:8080/"
        },
        "id": "CABDe5v3Ey7d",
        "outputId": "8d17316e-e9fb-4963-df7b-60c25a3aa14d"
      },
      "source": [
        "customers_B2C.shape"
      ],
      "id": "CABDe5v3Ey7d",
      "execution_count": 158,
      "outputs": [
        {
          "output_type": "execute_result",
          "data": {
            "text/plain": [
              "(7767, 44)"
            ]
          },
          "metadata": {},
          "execution_count": 158
        }
      ]
    },
    {
      "cell_type": "markdown",
      "metadata": {
        "id": "9WgAIluFPk9Q"
      },
      "source": [
        "# Total revenu per command, including taxes\n"
      ],
      "id": "9WgAIluFPk9Q"
    },
    {
      "cell_type": "code",
      "metadata": {
        "id": "zX9uTvnXa33A"
      },
      "source": [
        "customers_B2C[\"Total\"] = customers_B2C[\"Total\"].astype(float)\n",
        "customers_B2C[\"Taxes\"] = customers_B2C[\"Taxes\"].astype(float)"
      ],
      "id": "zX9uTvnXa33A",
      "execution_count": 172,
      "outputs": []
    },
    {
      "cell_type": "code",
      "metadata": {
        "colab": {
          "base_uri": "https://localhost:8080/",
          "height": 513
        },
        "id": "H0uaXLyNQIva",
        "outputId": "58296863-4c00-453e-e71d-aeeb40c9d0d0"
      },
      "source": [
        "customers_B2C[\"Total Revenu\"]  = customers_B2C[\"Total\"] + customers_B2C[\"Taxes\"]\n",
        "customers_B2C.head()"
      ],
      "id": "H0uaXLyNQIva",
      "execution_count": 173,
      "outputs": [
        {
          "output_type": "execute_result",
          "data": {
            "text/html": [
              "<div>\n",
              "<style scoped>\n",
              "    .dataframe tbody tr th:only-of-type {\n",
              "        vertical-align: middle;\n",
              "    }\n",
              "\n",
              "    .dataframe tbody tr th {\n",
              "        vertical-align: top;\n",
              "    }\n",
              "\n",
              "    .dataframe thead th {\n",
              "        text-align: right;\n",
              "    }\n",
              "</style>\n",
              "<table border=\"1\" class=\"dataframe\">\n",
              "  <thead>\n",
              "    <tr style=\"text-align: right;\">\n",
              "      <th></th>\n",
              "      <th>Name</th>\n",
              "      <th>Customer id</th>\n",
              "      <th>Financial Status</th>\n",
              "      <th>Paid at</th>\n",
              "      <th>Fulfillment Status</th>\n",
              "      <th>Fulfilled at</th>\n",
              "      <th>Accepts Marketing</th>\n",
              "      <th>Currency</th>\n",
              "      <th>Subtotal</th>\n",
              "      <th>Shipping</th>\n",
              "      <th>Taxes</th>\n",
              "      <th>Total</th>\n",
              "      <th>Discount Code</th>\n",
              "      <th>Discount Amount</th>\n",
              "      <th>Shipping Method</th>\n",
              "      <th>Created at</th>\n",
              "      <th>Lineitem quantity</th>\n",
              "      <th>Lineitem name</th>\n",
              "      <th>Lineitem price</th>\n",
              "      <th>Lineitem compare at price</th>\n",
              "      <th>Lineitem sku</th>\n",
              "      <th>Lineitem requires shipping</th>\n",
              "      <th>Lineitem taxable</th>\n",
              "      <th>Lineitem fulfillment status</th>\n",
              "      <th>Billing City</th>\n",
              "      <th>Shipping Province</th>\n",
              "      <th>Shipping Country</th>\n",
              "      <th>Notes</th>\n",
              "      <th>Note Attributes</th>\n",
              "      <th>Cancelled at</th>\n",
              "      <th>paiment type</th>\n",
              "      <th>Payment Reference</th>\n",
              "      <th>Refunded Amount</th>\n",
              "      <th>Vendor</th>\n",
              "      <th>Id</th>\n",
              "      <th>Tags</th>\n",
              "      <th>Risk Level</th>\n",
              "      <th>Source</th>\n",
              "      <th>Lineitem discount</th>\n",
              "      <th>Tax 1 Name</th>\n",
              "      <th>Tax 1 Value</th>\n",
              "      <th>Tax 2 Name</th>\n",
              "      <th>Tax 2 Value</th>\n",
              "      <th>Phone</th>\n",
              "      <th>Total Revenu</th>\n",
              "    </tr>\n",
              "  </thead>\n",
              "  <tbody>\n",
              "    <tr>\n",
              "      <th>0</th>\n",
              "      <td>#14442</td>\n",
              "      <td>1</td>\n",
              "      <td>paid</td>\n",
              "      <td>2021-09-23 09:43:21 +0200</td>\n",
              "      <td>unfulfilled</td>\n",
              "      <td>NaN</td>\n",
              "      <td>yes</td>\n",
              "      <td>EUR</td>\n",
              "      <td>105.00</td>\n",
              "      <td>20.00</td>\n",
              "      <td>9.55</td>\n",
              "      <td>125.0</td>\n",
              "      <td>NaN</td>\n",
              "      <td>0.00</td>\n",
              "      <td>TNT express - 1/2 giorni</td>\n",
              "      <td>2021-09-23 09:43:20 +0200</td>\n",
              "      <td>1</td>\n",
              "      <td>Box Vitamina C</td>\n",
              "      <td>105.00</td>\n",
              "      <td>145.00</td>\n",
              "      <td>DPR-BOX-VITC</td>\n",
              "      <td>true</td>\n",
              "      <td>true</td>\n",
              "      <td>pending</td>\n",
              "      <td>PADENGHE SUL GARDA</td>\n",
              "      <td>BS</td>\n",
              "      <td>IT</td>\n",
              "      <td>NaN</td>\n",
              "      <td>date: 2021/09/28</td>\n",
              "      <td>NaN</td>\n",
              "      <td>PayPal Express Checkout</td>\n",
              "      <td>c23025176051900.1</td>\n",
              "      <td>0.00</td>\n",
              "      <td>Depuravita</td>\n",
              "      <td>4.017621e+12</td>\n",
              "      <td>NaN</td>\n",
              "      <td>Low</td>\n",
              "      <td>web</td>\n",
              "      <td>0.0</td>\n",
              "      <td>VAT 10%</td>\n",
              "      <td>9.55</td>\n",
              "      <td>NaN</td>\n",
              "      <td>NaN</td>\n",
              "      <td>NaN</td>\n",
              "      <td>134.55</td>\n",
              "    </tr>\n",
              "    <tr>\n",
              "      <th>85</th>\n",
              "      <td>#14426</td>\n",
              "      <td>5362</td>\n",
              "      <td>paid</td>\n",
              "      <td>2021-09-21 19:30:02 +0200</td>\n",
              "      <td>fulfilled</td>\n",
              "      <td>2021-09-22 15:09:48 +0200</td>\n",
              "      <td>yes</td>\n",
              "      <td>EUR</td>\n",
              "      <td>94.00</td>\n",
              "      <td>0.00</td>\n",
              "      <td>8.55</td>\n",
              "      <td>94.0</td>\n",
              "      <td>NaN</td>\n",
              "      <td>0.00</td>\n",
              "      <td>Stef Consegna Refrigerata - 3/5 giorni</td>\n",
              "      <td>2021-09-21 19:30:01 +0200</td>\n",
              "      <td>1</td>\n",
              "      <td>Collagen Chocolate</td>\n",
              "      <td>55.00</td>\n",
              "      <td>NaN</td>\n",
              "      <td>CLGN-CHCLT</td>\n",
              "      <td>true</td>\n",
              "      <td>true</td>\n",
              "      <td>fulfilled</td>\n",
              "      <td>Roma</td>\n",
              "      <td>RM</td>\n",
              "      <td>IT</td>\n",
              "      <td>NaN</td>\n",
              "      <td>date: 2021/09/24</td>\n",
              "      <td>NaN</td>\n",
              "      <td>Stripe</td>\n",
              "      <td>c22998476423356.2</td>\n",
              "      <td>0.00</td>\n",
              "      <td>Depuravita</td>\n",
              "      <td>4.014586e+12</td>\n",
              "      <td>NaN</td>\n",
              "      <td>Low</td>\n",
              "      <td>web</td>\n",
              "      <td>0.0</td>\n",
              "      <td>VAT 10%</td>\n",
              "      <td>8.55</td>\n",
              "      <td>NaN</td>\n",
              "      <td>NaN</td>\n",
              "      <td>NaN</td>\n",
              "      <td>102.55</td>\n",
              "    </tr>\n",
              "    <tr>\n",
              "      <th>86</th>\n",
              "      <td>#14426</td>\n",
              "      <td>5362</td>\n",
              "      <td>NaN</td>\n",
              "      <td>NaN</td>\n",
              "      <td>NaN</td>\n",
              "      <td>NaN</td>\n",
              "      <td>NaN</td>\n",
              "      <td>NaN</td>\n",
              "      <td>NaN</td>\n",
              "      <td>NaN</td>\n",
              "      <td>NaN</td>\n",
              "      <td>NaN</td>\n",
              "      <td>NaN</td>\n",
              "      <td>NaN</td>\n",
              "      <td>NaN</td>\n",
              "      <td>2021-09-21 19:30:01 +0200</td>\n",
              "      <td>1</td>\n",
              "      <td>Hello Wrinkles</td>\n",
              "      <td>39.00</td>\n",
              "      <td>NaN</td>\n",
              "      <td>DPR-HW-30</td>\n",
              "      <td>true</td>\n",
              "      <td>true</td>\n",
              "      <td>fulfilled</td>\n",
              "      <td>NaN</td>\n",
              "      <td>NaN</td>\n",
              "      <td>NaN</td>\n",
              "      <td>NaN</td>\n",
              "      <td>NaN</td>\n",
              "      <td>NaN</td>\n",
              "      <td>NaN</td>\n",
              "      <td>NaN</td>\n",
              "      <td>NaN</td>\n",
              "      <td>Depuravita</td>\n",
              "      <td>NaN</td>\n",
              "      <td>NaN</td>\n",
              "      <td>NaN</td>\n",
              "      <td>NaN</td>\n",
              "      <td>0.0</td>\n",
              "      <td>NaN</td>\n",
              "      <td>NaN</td>\n",
              "      <td>NaN</td>\n",
              "      <td>NaN</td>\n",
              "      <td>NaN</td>\n",
              "      <td>NaN</td>\n",
              "    </tr>\n",
              "    <tr>\n",
              "      <th>87</th>\n",
              "      <td>#14425</td>\n",
              "      <td>7447</td>\n",
              "      <td>paid</td>\n",
              "      <td>2021-09-21 19:22:39 +0200</td>\n",
              "      <td>fulfilled</td>\n",
              "      <td>2021-09-22 15:12:40 +0200</td>\n",
              "      <td>yes</td>\n",
              "      <td>EUR</td>\n",
              "      <td>90.90</td>\n",
              "      <td>0.00</td>\n",
              "      <td>8.26</td>\n",
              "      <td>90.9</td>\n",
              "      <td>DPQ4LZ7L</td>\n",
              "      <td>50.00</td>\n",
              "      <td>Stef Consegna Refrigerata - 3/5 giorni</td>\n",
              "      <td>2021-09-21 19:22:38 +0200</td>\n",
              "      <td>3</td>\n",
              "      <td>Genius</td>\n",
              "      <td>4.50</td>\n",
              "      <td>NaN</td>\n",
              "      <td>DPR-GNS-250</td>\n",
              "      <td>true</td>\n",
              "      <td>true</td>\n",
              "      <td>fulfilled</td>\n",
              "      <td>DUE CARRARE</td>\n",
              "      <td>PD</td>\n",
              "      <td>IT</td>\n",
              "      <td>NaN</td>\n",
              "      <td>date: 2021/09/23</td>\n",
              "      <td>NaN</td>\n",
              "      <td>PayPal Express Checkout</td>\n",
              "      <td>c22998340698300.1</td>\n",
              "      <td>0.00</td>\n",
              "      <td>Depuravita</td>\n",
              "      <td>4.014575e+12</td>\n",
              "      <td>NaN</td>\n",
              "      <td>Low</td>\n",
              "      <td>web</td>\n",
              "      <td>0.0</td>\n",
              "      <td>VAT 10%</td>\n",
              "      <td>8.26</td>\n",
              "      <td>NaN</td>\n",
              "      <td>NaN</td>\n",
              "      <td>NaN</td>\n",
              "      <td>99.16</td>\n",
              "    </tr>\n",
              "    <tr>\n",
              "      <th>88</th>\n",
              "      <td>#14425</td>\n",
              "      <td>7447</td>\n",
              "      <td>NaN</td>\n",
              "      <td>NaN</td>\n",
              "      <td>NaN</td>\n",
              "      <td>NaN</td>\n",
              "      <td>NaN</td>\n",
              "      <td>NaN</td>\n",
              "      <td>NaN</td>\n",
              "      <td>NaN</td>\n",
              "      <td>NaN</td>\n",
              "      <td>NaN</td>\n",
              "      <td>NaN</td>\n",
              "      <td>NaN</td>\n",
              "      <td>NaN</td>\n",
              "      <td>2021-09-21 19:22:38 +0200</td>\n",
              "      <td>8</td>\n",
              "      <td>Elixir Red</td>\n",
              "      <td>4.90</td>\n",
              "      <td>NaN</td>\n",
              "      <td>DPR-ELXRD-250</td>\n",
              "      <td>true</td>\n",
              "      <td>true</td>\n",
              "      <td>fulfilled</td>\n",
              "      <td>NaN</td>\n",
              "      <td>NaN</td>\n",
              "      <td>NaN</td>\n",
              "      <td>NaN</td>\n",
              "      <td>NaN</td>\n",
              "      <td>NaN</td>\n",
              "      <td>NaN</td>\n",
              "      <td>NaN</td>\n",
              "      <td>NaN</td>\n",
              "      <td>Depuravita</td>\n",
              "      <td>NaN</td>\n",
              "      <td>NaN</td>\n",
              "      <td>NaN</td>\n",
              "      <td>NaN</td>\n",
              "      <td>0.0</td>\n",
              "      <td>NaN</td>\n",
              "      <td>NaN</td>\n",
              "      <td>NaN</td>\n",
              "      <td>NaN</td>\n",
              "      <td>NaN</td>\n",
              "      <td>NaN</td>\n",
              "    </tr>\n",
              "  </tbody>\n",
              "</table>\n",
              "</div>"
            ],
            "text/plain": [
              "      Name  Customer id Financial Status  ... Tax 2 Value Phone Total Revenu\n",
              "0   #14442            1             paid  ...         NaN   NaN       134.55\n",
              "85  #14426         5362             paid  ...         NaN   NaN       102.55\n",
              "86  #14426         5362              NaN  ...         NaN   NaN          NaN\n",
              "87  #14425         7447             paid  ...         NaN   NaN        99.16\n",
              "88  #14425         7447              NaN  ...         NaN   NaN          NaN\n",
              "\n",
              "[5 rows x 45 columns]"
            ]
          },
          "metadata": {},
          "execution_count": 173
        }
      ]
    },
    {
      "cell_type": "markdown",
      "metadata": {
        "id": "2818d043"
      },
      "source": [
        "\n",
        "\n",
        "\n",
        "---\n",
        "\n"
      ],
      "id": "2818d043"
    },
    {
      "cell_type": "markdown",
      "metadata": {
        "id": "4a8a14a3"
      },
      "source": [
        "**texte en gras**# * Récense "
      ],
      "id": "4a8a14a3"
    },
    {
      "cell_type": "code",
      "metadata": {
        "id": "6aabac93"
      },
      "source": [
        "from datetime import timedelta"
      ],
      "id": "6aabac93",
      "execution_count": null,
      "outputs": []
    },
    {
      "cell_type": "code",
      "metadata": {
        "id": "b1de1044"
      },
      "source": [
        "customers_B2C['Created at'] = pd.to_datetime(customers_B2C['Created at'])"
      ],
      "id": "b1de1044",
      "execution_count": null,
      "outputs": []
    },
    {
      "cell_type": "code",
      "metadata": {
        "colab": {
          "base_uri": "https://localhost:8080/"
        },
        "id": "918edf94",
        "outputId": "9d927377-42b9-4851-9608-efcb3d75c6b2"
      },
      "source": [
        "customers_B2C['Created at']"
      ],
      "id": "918edf94",
      "execution_count": null,
      "outputs": [
        {
          "output_type": "execute_result",
          "data": {
            "text/plain": [
              "0        2021-09-23 09:43:20+02:00\n",
              "85       2021-09-21 19:30:01+02:00\n",
              "86       2021-09-21 19:30:01+02:00\n",
              "87       2021-09-21 19:22:38+02:00\n",
              "88       2021-09-21 19:22:38+02:00\n",
              "                   ...            \n",
              "16254    2020-03-12 11:46:19+01:00\n",
              "16255    2020-03-12 11:46:19+01:00\n",
              "16256    2020-03-12 11:46:19+01:00\n",
              "16257    2020-03-12 11:46:19+01:00\n",
              "16258    2020-03-12 11:46:19+01:00\n",
              "Name: Created at, Length: 7767, dtype: object"
            ]
          },
          "metadata": {},
          "execution_count": 33
        }
      ]
    },
    {
      "cell_type": "code",
      "metadata": {
        "colab": {
          "base_uri": "https://localhost:8080/"
        },
        "id": "d9153475",
        "outputId": "60ae8805-42bf-4dc8-c470-c424143f392d"
      },
      "source": [
        "# Create snapshot date\n",
        "snapshot_date = customers_B2C['Created at'].max() + timedelta(days=1)\n",
        "print(snapshot_date)"
      ],
      "id": "d9153475",
      "execution_count": null,
      "outputs": [
        {
          "output_type": "stream",
          "name": "stdout",
          "text": [
            "2021-09-24 09:43:20+02:00\n"
          ]
        }
      ]
    },
    {
      "cell_type": "code",
      "metadata": {
        "id": "ee0ce339"
      },
      "source": [
        "customers_B2C[\"Total\"] = customers_B2C[\"Total\"].astype('float')"
      ],
      "id": "ee0ce339",
      "execution_count": null,
      "outputs": []
    },
    {
      "cell_type": "code",
      "metadata": {
        "id": "8eb582d3"
      },
      "source": [
        "customers_B2C[\"Total\"] = customers_B2C[\"Total\"].fillna(0).astype(float)"
      ],
      "id": "8eb582d3",
      "execution_count": null,
      "outputs": []
    },
    {
      "cell_type": "code",
      "metadata": {
        "id": "c4776097"
      },
      "source": [
        "# Grouping by CustomerID\n",
        "data_process = customers_B2C.groupby(['Customer id']).agg({\n",
        "        'Created at': lambda x: (snapshot_date - x.max()).days,\n",
        "        'Name': 'count',\n",
        "        'Total': 'sum'})"
      ],
      "id": "c4776097",
      "execution_count": null,
      "outputs": []
    },
    {
      "cell_type": "code",
      "metadata": {
        "id": "425a1f1a"
      },
      "source": [
        "# Rename the columns \n",
        "data_process.rename(columns={'Created at': 'Recency',\n",
        "                         'Name': 'Frequency',\n",
        "                         'Total': 'MonetaryValue'}, inplace=True)"
      ],
      "id": "425a1f1a",
      "execution_count": null,
      "outputs": []
    },
    {
      "cell_type": "code",
      "metadata": {
        "colab": {
          "base_uri": "https://localhost:8080/",
          "height": 450
        },
        "id": "613f3c51",
        "outputId": "8fca3a29-c6f6-4689-fca1-c9e17904e120"
      },
      "source": [
        "data_process"
      ],
      "id": "613f3c51",
      "execution_count": null,
      "outputs": [
        {
          "output_type": "execute_result",
          "data": {
            "text/html": [
              "<div>\n",
              "<style scoped>\n",
              "    .dataframe tbody tr th:only-of-type {\n",
              "        vertical-align: middle;\n",
              "    }\n",
              "\n",
              "    .dataframe tbody tr th {\n",
              "        vertical-align: top;\n",
              "    }\n",
              "\n",
              "    .dataframe thead th {\n",
              "        text-align: right;\n",
              "    }\n",
              "</style>\n",
              "<table border=\"1\" class=\"dataframe\">\n",
              "  <thead>\n",
              "    <tr style=\"text-align: right;\">\n",
              "      <th></th>\n",
              "      <th>Recency</th>\n",
              "      <th>Frequency</th>\n",
              "      <th>MonetaryValue</th>\n",
              "    </tr>\n",
              "    <tr>\n",
              "      <th>Customer id</th>\n",
              "      <th></th>\n",
              "      <th></th>\n",
              "      <th></th>\n",
              "    </tr>\n",
              "  </thead>\n",
              "  <tbody>\n",
              "    <tr>\n",
              "      <th>1</th>\n",
              "      <td>1</td>\n",
              "      <td>1</td>\n",
              "      <td>125.00</td>\n",
              "    </tr>\n",
              "    <tr>\n",
              "      <th>6</th>\n",
              "      <td>3</td>\n",
              "      <td>4</td>\n",
              "      <td>28.40</td>\n",
              "    </tr>\n",
              "    <tr>\n",
              "      <th>8</th>\n",
              "      <td>4</td>\n",
              "      <td>1</td>\n",
              "      <td>51.65</td>\n",
              "    </tr>\n",
              "    <tr>\n",
              "      <th>9</th>\n",
              "      <td>2</td>\n",
              "      <td>1</td>\n",
              "      <td>90.75</td>\n",
              "    </tr>\n",
              "    <tr>\n",
              "      <th>10</th>\n",
              "      <td>4</td>\n",
              "      <td>1</td>\n",
              "      <td>140.00</td>\n",
              "    </tr>\n",
              "    <tr>\n",
              "      <th>...</th>\n",
              "      <td>...</td>\n",
              "      <td>...</td>\n",
              "      <td>...</td>\n",
              "    </tr>\n",
              "    <tr>\n",
              "      <th>28787</th>\n",
              "      <td>287</td>\n",
              "      <td>2</td>\n",
              "      <td>348.00</td>\n",
              "    </tr>\n",
              "    <tr>\n",
              "      <th>28788</th>\n",
              "      <td>559</td>\n",
              "      <td>1</td>\n",
              "      <td>101.15</td>\n",
              "    </tr>\n",
              "    <tr>\n",
              "      <th>28789</th>\n",
              "      <td>178</td>\n",
              "      <td>10</td>\n",
              "      <td>362.73</td>\n",
              "    </tr>\n",
              "    <tr>\n",
              "      <th>28791</th>\n",
              "      <td>10</td>\n",
              "      <td>3</td>\n",
              "      <td>170.00</td>\n",
              "    </tr>\n",
              "    <tr>\n",
              "      <th>28792</th>\n",
              "      <td>471</td>\n",
              "      <td>4</td>\n",
              "      <td>142.50</td>\n",
              "    </tr>\n",
              "  </tbody>\n",
              "</table>\n",
              "<p>1293 rows × 3 columns</p>\n",
              "</div>"
            ],
            "text/plain": [
              "             Recency  Frequency  MonetaryValue\n",
              "Customer id                                   \n",
              "1                  1          1         125.00\n",
              "6                  3          4          28.40\n",
              "8                  4          1          51.65\n",
              "9                  2          1          90.75\n",
              "10                 4          1         140.00\n",
              "...              ...        ...            ...\n",
              "28787            287          2         348.00\n",
              "28788            559          1         101.15\n",
              "28789            178         10         362.73\n",
              "28791             10          3         170.00\n",
              "28792            471          4         142.50\n",
              "\n",
              "[1293 rows x 3 columns]"
            ]
          },
          "metadata": {},
          "execution_count": 39
        }
      ]
    },
    {
      "cell_type": "markdown",
      "metadata": {
        "id": "b3df9745"
      },
      "source": [
        "# the distribution of  Recency, Frequency, and Monetary."
      ],
      "id": "b3df9745"
    },
    {
      "cell_type": "code",
      "metadata": {
        "colab": {
          "base_uri": "https://localhost:8080/",
          "height": 735
        },
        "id": "1550da69",
        "outputId": "8bddb8c5-f036-4e15-b256-cd2044c9c79f"
      },
      "source": [
        "plt.figure(figsize=(12,10))\n",
        "# Plot distribution of R\n",
        "plt.subplot(3, 1, 1); sns.distplot(data_process['Recency'])\n",
        "# Plot distribution of F\n",
        "plt.subplot(3, 1, 2); sns.distplot(data_process['Frequency'])\n",
        "# Plot distribution of M\n",
        "plt.subplot(3, 1, 3); sns.distplot(data_process['MonetaryValue'])\n",
        "# Show the plot\n",
        "plt.show()"
      ],
      "id": "1550da69",
      "execution_count": null,
      "outputs": [
        {
          "output_type": "stream",
          "name": "stderr",
          "text": [
            "/usr/local/lib/python3.7/dist-packages/seaborn/distributions.py:2619: FutureWarning: `distplot` is a deprecated function and will be removed in a future version. Please adapt your code to use either `displot` (a figure-level function with similar flexibility) or `histplot` (an axes-level function for histograms).\n",
            "  warnings.warn(msg, FutureWarning)\n",
            "/usr/local/lib/python3.7/dist-packages/seaborn/distributions.py:2619: FutureWarning: `distplot` is a deprecated function and will be removed in a future version. Please adapt your code to use either `displot` (a figure-level function with similar flexibility) or `histplot` (an axes-level function for histograms).\n",
            "  warnings.warn(msg, FutureWarning)\n",
            "/usr/local/lib/python3.7/dist-packages/seaborn/distributions.py:2619: FutureWarning: `distplot` is a deprecated function and will be removed in a future version. Please adapt your code to use either `displot` (a figure-level function with similar flexibility) or `histplot` (an axes-level function for histograms).\n",
            "  warnings.warn(msg, FutureWarning)\n"
          ]
        },
        {
          "output_type": "display_data",
          "data": {
            "image/png": "[encoded data removed]",
            "text/plain": [
              "<Figure size 864x720 with 3 Axes>"
            ]
          },
          "metadata": {
            "needs_background": "light"
          }
        }
      ]
    },
    {
      "cell_type": "markdown",
      "metadata": {
        "id": "2b3c6b22"
      },
      "source": [
        "# Outliers "
      ],
      "id": "2b3c6b22"
    },
    {
      "cell_type": "code",
      "metadata": {
        "colab": {
          "base_uri": "https://localhost:8080/",
          "height": 536
        },
        "id": "d43b8757",
        "outputId": "d58368b4-3ddc-4919-d36c-68001bd945cc"
      },
      "source": [
        "attributes = ['MonetaryValue','Frequency','Recency']\n",
        "plt.rcParams['figure.figsize'] = [10,8]\n",
        "sns.boxplot(data = data_process[attributes], orient=\"v\", palette=\"Set2\" ,whis=1.5,saturation=1, width=0.7)\n",
        "plt.title(\"Outliers Variable Distribution\", fontsize = 14, fontweight = 'bold')\n",
        "plt.ylabel(\"Range\", fontweight = 'bold')\n",
        "plt.xlabel(\"Attributes\", fontweight = 'bold')"
      ],
      "id": "d43b8757",
      "execution_count": null,
      "outputs": [
        {
          "output_type": "execute_result",
          "data": {
            "text/plain": [
              "Text(0.5, 0, 'Attributes')"
            ]
          },
          "metadata": {},
          "execution_count": 41
        },
        {
          "output_type": "display_data",
          "data": {
            "image/png": "[encoded data removed]",
            "text/plain": [
              "<Figure size 720x576 with 1 Axes>"
            ]
          },
          "metadata": {
            "needs_background": "light"
          }
        }
      ]
    },
    {
      "cell_type": "code",
      "metadata": {
        "id": "1a0ebb09"
      },
      "source": [
        "rfm = data_process"
      ],
      "id": "1a0ebb09",
      "execution_count": null,
      "outputs": []
    },
    {
      "cell_type": "code",
      "metadata": {
        "id": "7597ef26"
      },
      "source": [
        "# Removing (statistical) outliers for Amount\n",
        "Q1 = rfm.MonetaryValue.quantile(0.05)\n",
        "Q3 = rfm.MonetaryValue.quantile(0.95)\n",
        "IQR = Q3 - Q1\n",
        "rfm = rfm[(rfm.MonetaryValue >= Q1 - 1.5*IQR) & (rfm.MonetaryValue <= Q3 + 1.5*IQR)]\n",
        "\n",
        "# Removing (statistical) outliers for Recency\n",
        "Q1 = rfm.Recency.quantile(0.05)\n",
        "Q3 = rfm.Recency.quantile(0.95)\n",
        "IQR = Q3 - Q1\n",
        "rfm = rfm[(rfm.Recency >= Q1 - 1.5*IQR) & (rfm.Recency <= Q3 + 1.5*IQR)]\n",
        "\n",
        "# Removing (statistical) outliers for Frequency\n",
        "Q1 = rfm.Frequency.quantile(0.05)\n",
        "Q3 = rfm.Frequency.quantile(0.95)\n",
        "IQR = Q3 - Q1\n",
        "rfm = rfm[(rfm.Frequency >= Q1 - 1.5*IQR) & (rfm.Frequency <= Q3 + 1.5*IQR)]"
      ],
      "id": "7597ef26",
      "execution_count": null,
      "outputs": []
    },
    {
      "cell_type": "code",
      "metadata": {
        "id": "62d633c8"
      },
      "source": [
        "from sklearn.preprocessing import StandardScaler"
      ],
      "id": "62d633c8",
      "execution_count": null,
      "outputs": []
    },
    {
      "cell_type": "code",
      "metadata": {
        "colab": {
          "base_uri": "https://localhost:8080/"
        },
        "id": "108edadc",
        "outputId": "7f591270-daa8-4202-c106-df6edc5b082b"
      },
      "source": [
        "rfm_df = rfm[['MonetaryValue', 'Frequency', 'Recency']]\n",
        "\n",
        "# Instantiate\n",
        "scaler = StandardScaler()\n",
        "\n",
        "# fit_transform\n",
        "rfm_df_scaled = scaler.fit_transform(rfm_df)\n",
        "rfm_df_scaled.shape"
      ],
      "id": "108edadc",
      "execution_count": null,
      "outputs": [
        {
          "output_type": "execute_result",
          "data": {
            "text/plain": [
              "(1268, 3)"
            ]
          },
          "metadata": {},
          "execution_count": 46
        }
      ]
    },
    {
      "cell_type": "code",
      "metadata": {
        "colab": {
          "base_uri": "https://localhost:8080/",
          "height": 204
        },
        "id": "8ea60c69",
        "outputId": "d346c80b-3461-40e1-ef73-740de4971934"
      },
      "source": [
        "rfm_df_scaled = pd.DataFrame(rfm_df_scaled)\n",
        "rfm_df_scaled.columns = ['Amount', 'Frequency', 'Recency']\n",
        "rfm_df_scaled.head()"
      ],
      "id": "8ea60c69",
      "execution_count": null,
      "outputs": [
        {
          "output_type": "execute_result",
          "data": {
            "text/html": [
              "<div>\n",
              "<style scoped>\n",
              "    .dataframe tbody tr th:only-of-type {\n",
              "        vertical-align: middle;\n",
              "    }\n",
              "\n",
              "    .dataframe tbody tr th {\n",
              "        vertical-align: top;\n",
              "    }\n",
              "\n",
              "    .dataframe thead th {\n",
              "        text-align: right;\n",
              "    }\n",
              "</style>\n",
              "<table border=\"1\" class=\"dataframe\">\n",
              "  <thead>\n",
              "    <tr style=\"text-align: right;\">\n",
              "      <th></th>\n",
              "      <th>Amount</th>\n",
              "      <th>Frequency</th>\n",
              "      <th>Recency</th>\n",
              "    </tr>\n",
              "  </thead>\n",
              "  <tbody>\n",
              "    <tr>\n",
              "      <th>0</th>\n",
              "      <td>-0.391340</td>\n",
              "      <td>-0.526560</td>\n",
              "      <td>-1.512618</td>\n",
              "    </tr>\n",
              "    <tr>\n",
              "      <th>1</th>\n",
              "      <td>-0.740969</td>\n",
              "      <td>-0.047251</td>\n",
              "      <td>-1.500828</td>\n",
              "    </tr>\n",
              "    <tr>\n",
              "      <th>2</th>\n",
              "      <td>-0.656819</td>\n",
              "      <td>-0.526560</td>\n",
              "      <td>-1.494933</td>\n",
              "    </tr>\n",
              "    <tr>\n",
              "      <th>3</th>\n",
              "      <td>-0.515302</td>\n",
              "      <td>-0.526560</td>\n",
              "      <td>-1.506723</td>\n",
              "    </tr>\n",
              "    <tr>\n",
              "      <th>4</th>\n",
              "      <td>-0.337049</td>\n",
              "      <td>-0.526560</td>\n",
              "      <td>-1.494933</td>\n",
              "    </tr>\n",
              "  </tbody>\n",
              "</table>\n",
              "</div>"
            ],
            "text/plain": [
              "     Amount  Frequency   Recency\n",
              "0 -0.391340  -0.526560 -1.512618\n",
              "1 -0.740969  -0.047251 -1.500828\n",
              "2 -0.656819  -0.526560 -1.494933\n",
              "3 -0.515302  -0.526560 -1.506723\n",
              "4 -0.337049  -0.526560 -1.494933"
            ]
          },
          "metadata": {},
          "execution_count": 47
        }
      ]
    },
    {
      "cell_type": "markdown",
      "metadata": {
        "id": "f9d19501"
      },
      "source": [
        "# K-Means Clustering\n"
      ],
      "id": "f9d19501"
    },
    {
      "cell_type": "code",
      "metadata": {
        "id": "d1ef3877"
      },
      "source": [
        "from sklearn.datasets import make_blobs\n",
        "from sklearn.cluster import KMeans\n",
        "from sklearn.metrics import silhouette_samples, silhouette_score"
      ],
      "id": "d1ef3877",
      "execution_count": null,
      "outputs": []
    },
    {
      "cell_type": "code",
      "metadata": {
        "colab": {
          "base_uri": "https://localhost:8080/"
        },
        "id": "5742d9be",
        "outputId": "1f440cc9-7282-44ab-a22f-953eb57311dc"
      },
      "source": [
        "kmeans = KMeans(n_clusters=4, max_iter=50)\n",
        "kmeans.fit(rfm_df_scaled)"
      ],
      "id": "5742d9be",
      "execution_count": null,
      "outputs": [
        {
          "output_type": "execute_result",
          "data": {
            "text/plain": [
              "KMeans(algorithm='auto', copy_x=True, init='k-means++', max_iter=50,\n",
              "       n_clusters=4, n_init=10, n_jobs=None, precompute_distances='auto',\n",
              "       random_state=None, tol=0.0001, verbose=0)"
            ]
          },
          "metadata": {},
          "execution_count": 55
        }
      ]
    },
    {
      "cell_type": "code",
      "metadata": {
        "colab": {
          "base_uri": "https://localhost:8080/"
        },
        "id": "890c2805",
        "outputId": "1c002f61-12d7-4da4-b3c7-2990908ed115"
      },
      "source": [
        "kmeans.labels_"
      ],
      "id": "890c2805",
      "execution_count": null,
      "outputs": [
        {
          "output_type": "execute_result",
          "data": {
            "text/plain": [
              "array([1, 1, 1, ..., 3, 1, 2], dtype=int32)"
            ]
          },
          "metadata": {},
          "execution_count": 56
        }
      ]
    },
    {
      "cell_type": "code",
      "metadata": {
        "colab": {
          "base_uri": "https://localhost:8080/",
          "height": 502
        },
        "id": "d5bd9719",
        "outputId": "b1cff293-1248-49d8-95b7-8c510cac2e5d"
      },
      "source": [
        "ssd = []\n",
        "range_n_clusters = [2, 3, 4, 5, 6, 7, 8]\n",
        "for num_clusters in range_n_clusters:\n",
        "    kmeans = KMeans(n_clusters=num_clusters, max_iter=50)\n",
        "    kmeans.fit(rfm_df_scaled)\n",
        "    \n",
        "    ssd.append(kmeans.inertia_)\n",
        "    \n",
        "# plot the SSDs for each n_clusters\n",
        "plt.plot(ssd)"
      ],
      "id": "d5bd9719",
      "execution_count": null,
      "outputs": [
        {
          "output_type": "execute_result",
          "data": {
            "text/plain": [
              "[<matplotlib.lines.Line2D at 0x7fd9696a8550>]"
            ]
          },
          "metadata": {},
          "execution_count": 57
        },
        {
          "output_type": "display_data",
          "data": {
            "image/png": "[encoded data removed]",
            "text/plain": [
              "<Figure size 720x576 with 1 Axes>"
            ]
          },
          "metadata": {
            "needs_background": "light"
          }
        }
      ]
    },
    {
      "cell_type": "code",
      "metadata": {
        "colab": {
          "base_uri": "https://localhost:8080/"
        },
        "id": "e9e776cf",
        "outputId": "a6be1a15-d828-4fca-d4aa-554b19e01b0f"
      },
      "source": [
        "# Silhouette analysis\n",
        "range_n_clusters = [2, 3, 4, 5, 6, 7, 8]\n",
        "\n",
        "for num_clusters in range_n_clusters:\n",
        "    \n",
        "    # intialise kmeans\n",
        "    kmeans = KMeans(n_clusters=num_clusters, max_iter=50)\n",
        "    kmeans.fit(rfm_df_scaled)\n",
        "    \n",
        "    cluster_labels = kmeans.labels_\n",
        "    \n",
        "    # silhouette score\n",
        "    silhouette_avg = silhouette_score(rfm_df_scaled, cluster_labels)\n",
        "    print(\"For n_clusters={0}, the silhouette score is {1}\".format(num_clusters, silhouette_avg))"
      ],
      "id": "e9e776cf",
      "execution_count": null,
      "outputs": [
        {
          "output_type": "stream",
          "name": "stdout",
          "text": [
            "For n_clusters=2, the silhouette score is 0.5963474001258307\n",
            "For n_clusters=3, the silhouette score is 0.45569211683553024\n",
            "For n_clusters=4, the silhouette score is 0.4673493481190384\n",
            "For n_clusters=5, the silhouette score is 0.36364957864179404\n",
            "For n_clusters=6, the silhouette score is 0.3723756786680876\n",
            "For n_clusters=7, the silhouette score is 0.379536289836113\n",
            "For n_clusters=8, the silhouette score is 0.3897696446848829\n"
          ]
        }
      ]
    },
    {
      "cell_type": "code",
      "metadata": {
        "colab": {
          "base_uri": "https://localhost:8080/"
        },
        "id": "9a5c88d6",
        "outputId": "ea69d4c3-6830-4fde-98a2-d0dc87ae464f"
      },
      "source": [
        "# Final model with k=3\n",
        "kmeans = KMeans(n_clusters=4, max_iter=50)\n",
        "kmeans.fit(rfm_df_scaled)"
      ],
      "id": "9a5c88d6",
      "execution_count": null,
      "outputs": [
        {
          "output_type": "execute_result",
          "data": {
            "text/plain": [
              "KMeans(algorithm='auto', copy_x=True, init='k-means++', max_iter=50,\n",
              "       n_clusters=4, n_init=10, n_jobs=None, precompute_distances='auto',\n",
              "       random_state=None, tol=0.0001, verbose=0)"
            ]
          },
          "metadata": {},
          "execution_count": 59
        }
      ]
    },
    {
      "cell_type": "code",
      "metadata": {
        "colab": {
          "base_uri": "https://localhost:8080/",
          "height": 235
        },
        "id": "4c7430d8",
        "outputId": "275abd71-5505-4cba-e102-0f90d2bec88b"
      },
      "source": [
        "# assign the label\n",
        "rfm['Cluster_Id'] = kmeans.labels_\n",
        "rfm.head()"
      ],
      "id": "4c7430d8",
      "execution_count": null,
      "outputs": [
        {
          "output_type": "execute_result",
          "data": {
            "text/html": [
              "<div>\n",
              "<style scoped>\n",
              "    .dataframe tbody tr th:only-of-type {\n",
              "        vertical-align: middle;\n",
              "    }\n",
              "\n",
              "    .dataframe tbody tr th {\n",
              "        vertical-align: top;\n",
              "    }\n",
              "\n",
              "    .dataframe thead th {\n",
              "        text-align: right;\n",
              "    }\n",
              "</style>\n",
              "<table border=\"1\" class=\"dataframe\">\n",
              "  <thead>\n",
              "    <tr style=\"text-align: right;\">\n",
              "      <th></th>\n",
              "      <th>Recency</th>\n",
              "      <th>Frequency</th>\n",
              "      <th>MonetaryValue</th>\n",
              "      <th>Cluster_Id</th>\n",
              "    </tr>\n",
              "    <tr>\n",
              "      <th>Customer id</th>\n",
              "      <th></th>\n",
              "      <th></th>\n",
              "      <th></th>\n",
              "      <th></th>\n",
              "    </tr>\n",
              "  </thead>\n",
              "  <tbody>\n",
              "    <tr>\n",
              "      <th>1</th>\n",
              "      <td>1</td>\n",
              "      <td>1</td>\n",
              "      <td>125.00</td>\n",
              "      <td>1</td>\n",
              "    </tr>\n",
              "    <tr>\n",
              "      <th>6</th>\n",
              "      <td>3</td>\n",
              "      <td>4</td>\n",
              "      <td>28.40</td>\n",
              "      <td>1</td>\n",
              "    </tr>\n",
              "    <tr>\n",
              "      <th>8</th>\n",
              "      <td>4</td>\n",
              "      <td>1</td>\n",
              "      <td>51.65</td>\n",
              "      <td>1</td>\n",
              "    </tr>\n",
              "    <tr>\n",
              "      <th>9</th>\n",
              "      <td>2</td>\n",
              "      <td>1</td>\n",
              "      <td>90.75</td>\n",
              "      <td>1</td>\n",
              "    </tr>\n",
              "    <tr>\n",
              "      <th>10</th>\n",
              "      <td>4</td>\n",
              "      <td>1</td>\n",
              "      <td>140.00</td>\n",
              "      <td>1</td>\n",
              "    </tr>\n",
              "  </tbody>\n",
              "</table>\n",
              "</div>"
            ],
            "text/plain": [
              "             Recency  Frequency  MonetaryValue  Cluster_Id\n",
              "Customer id                                               \n",
              "1                  1          1         125.00           1\n",
              "6                  3          4          28.40           1\n",
              "8                  4          1          51.65           1\n",
              "9                  2          1          90.75           1\n",
              "10                 4          1         140.00           1"
            ]
          },
          "metadata": {},
          "execution_count": 60
        }
      ]
    },
    {
      "cell_type": "code",
      "metadata": {
        "colab": {
          "base_uri": "https://localhost:8080/",
          "height": 519
        },
        "id": "8df65dde",
        "outputId": "401eb570-6c63-4d08-cd17-406c0e4126d0"
      },
      "source": [
        "sns.boxplot(x='Cluster_Id', y='MonetaryValue', data=rfm)\n"
      ],
      "id": "8df65dde",
      "execution_count": null,
      "outputs": [
        {
          "output_type": "execute_result",
          "data": {
            "text/plain": [
              "<matplotlib.axes._subplots.AxesSubplot at 0x7fd9682d6d90>"
            ]
          },
          "metadata": {},
          "execution_count": 61
        },
        {
          "output_type": "display_data",
          "data": {
            "image/png": "[encoded data removed]",
            "text/plain": [
              "<Figure size 720x576 with 1 Axes>"
            ]
          },
          "metadata": {
            "needs_background": "light"
          }
        }
      ]
    },
    {
      "cell_type": "code",
      "metadata": {
        "colab": {
          "base_uri": "https://localhost:8080/",
          "height": 519
        },
        "id": "fd8e9506",
        "outputId": "49b46afa-e303-446f-8aa5-69e47b025e83"
      },
      "source": [
        "sns.boxplot(x='Cluster_Id', y='Frequency', data=rfm)\n"
      ],
      "id": "fd8e9506",
      "execution_count": null,
      "outputs": [
        {
          "output_type": "execute_result",
          "data": {
            "text/plain": [
              "<matplotlib.axes._subplots.AxesSubplot at 0x7fd968146e90>"
            ]
          },
          "metadata": {},
          "execution_count": 62
        },
        {
          "output_type": "display_data",
          "data": {
            "image/png": "[encoded data removed]",
            "text/plain": [
              "<Figure size 720x576 with 1 Axes>"
            ]
          },
          "metadata": {
            "needs_background": "light"
          }
        }
      ]
    },
    {
      "cell_type": "code",
      "metadata": {
        "colab": {
          "base_uri": "https://localhost:8080/",
          "height": 519
        },
        "id": "1acb6570",
        "outputId": "59ec5dc4-b1c9-48e9-a208-0e2442752e20"
      },
      "source": [
        "sns.boxplot(x='Cluster_Id', y='Recency', data=rfm)\n"
      ],
      "id": "1acb6570",
      "execution_count": null,
      "outputs": [
        {
          "output_type": "execute_result",
          "data": {
            "text/plain": [
              "<matplotlib.axes._subplots.AxesSubplot at 0x7fd969bee250>"
            ]
          },
          "metadata": {},
          "execution_count": 63
        },
        {
          "output_type": "display_data",
          "data": {
            "image/png": "[encoded data removed]",
            "text/plain": [
              "<Figure size 720x576 with 1 Axes>"
            ]
          },
          "metadata": {
            "needs_background": "light"
          }
        }
      ]
    },
    {
      "cell_type": "code",
      "metadata": {
        "colab": {
          "base_uri": "https://localhost:8080/"
        },
        "id": "a804f4da",
        "outputId": "9ed10cbc-f51b-4d1f-b68e-18a90cc4bcd3"
      },
      "source": [
        "rfm[\"Cluster_Id\"].value_counts()"
      ],
      "id": "a804f4da",
      "execution_count": null,
      "outputs": [
        {
          "output_type": "execute_result",
          "data": {
            "text/plain": [
              "1    608\n",
              "0    490\n",
              "3    135\n",
              "2     35\n",
              "Name: Cluster_Id, dtype: int64"
            ]
          },
          "metadata": {},
          "execution_count": 64
        }
      ]
    },
    {
      "cell_type": "markdown",
      "metadata": {
        "id": "aca21d09"
      },
      "source": [
        "------------------------"
      ],
      "id": "aca21d09"
    },
    {
      "cell_type": "code",
      "metadata": {
        "colab": {
          "base_uri": "https://localhost:8080/"
        },
        "id": "41439580",
        "outputId": "7b0328dc-7357-4f0f-a5b5-d514b59abe72"
      },
      "source": [
        "# Final model with k=3\n",
        "kmeans = KMeans(n_clusters=3, max_iter=50)\n",
        "kmeans.fit(rfm_df_scaled)"
      ],
      "id": "41439580",
      "execution_count": null,
      "outputs": [
        {
          "output_type": "execute_result",
          "data": {
            "text/plain": [
              "KMeans(algorithm='auto', copy_x=True, init='k-means++', max_iter=50,\n",
              "       n_clusters=3, n_init=10, n_jobs=None, precompute_distances='auto',\n",
              "       random_state=None, tol=0.0001, verbose=0)"
            ]
          },
          "metadata": {},
          "execution_count": 65
        }
      ]
    },
    {
      "cell_type": "code",
      "metadata": {
        "colab": {
          "base_uri": "https://localhost:8080/",
          "height": 235
        },
        "id": "07b29872",
        "outputId": "0684911b-36e7-44dd-b552-1596dafe5b73"
      },
      "source": [
        "# assign the label\n",
        "rfm['Cluster_Id'] = kmeans.labels_\n",
        "rfm.head()"
      ],
      "id": "07b29872",
      "execution_count": null,
      "outputs": [
        {
          "output_type": "execute_result",
          "data": {
            "text/html": [
              "<div>\n",
              "<style scoped>\n",
              "    .dataframe tbody tr th:only-of-type {\n",
              "        vertical-align: middle;\n",
              "    }\n",
              "\n",
              "    .dataframe tbody tr th {\n",
              "        vertical-align: top;\n",
              "    }\n",
              "\n",
              "    .dataframe thead th {\n",
              "        text-align: right;\n",
              "    }\n",
              "</style>\n",
              "<table border=\"1\" class=\"dataframe\">\n",
              "  <thead>\n",
              "    <tr style=\"text-align: right;\">\n",
              "      <th></th>\n",
              "      <th>Recency</th>\n",
              "      <th>Frequency</th>\n",
              "      <th>MonetaryValue</th>\n",
              "      <th>Cluster_Id</th>\n",
              "    </tr>\n",
              "    <tr>\n",
              "      <th>Customer id</th>\n",
              "      <th></th>\n",
              "      <th></th>\n",
              "      <th></th>\n",
              "      <th></th>\n",
              "    </tr>\n",
              "  </thead>\n",
              "  <tbody>\n",
              "    <tr>\n",
              "      <th>1</th>\n",
              "      <td>1</td>\n",
              "      <td>1</td>\n",
              "      <td>125.00</td>\n",
              "      <td>0</td>\n",
              "    </tr>\n",
              "    <tr>\n",
              "      <th>6</th>\n",
              "      <td>3</td>\n",
              "      <td>4</td>\n",
              "      <td>28.40</td>\n",
              "      <td>0</td>\n",
              "    </tr>\n",
              "    <tr>\n",
              "      <th>8</th>\n",
              "      <td>4</td>\n",
              "      <td>1</td>\n",
              "      <td>51.65</td>\n",
              "      <td>0</td>\n",
              "    </tr>\n",
              "    <tr>\n",
              "      <th>9</th>\n",
              "      <td>2</td>\n",
              "      <td>1</td>\n",
              "      <td>90.75</td>\n",
              "      <td>0</td>\n",
              "    </tr>\n",
              "    <tr>\n",
              "      <th>10</th>\n",
              "      <td>4</td>\n",
              "      <td>1</td>\n",
              "      <td>140.00</td>\n",
              "      <td>0</td>\n",
              "    </tr>\n",
              "  </tbody>\n",
              "</table>\n",
              "</div>"
            ],
            "text/plain": [
              "             Recency  Frequency  MonetaryValue  Cluster_Id\n",
              "Customer id                                               \n",
              "1                  1          1         125.00           0\n",
              "6                  3          4          28.40           0\n",
              "8                  4          1          51.65           0\n",
              "9                  2          1          90.75           0\n",
              "10                 4          1         140.00           0"
            ]
          },
          "metadata": {},
          "execution_count": 66
        }
      ]
    },
    {
      "cell_type": "code",
      "metadata": {
        "colab": {
          "base_uri": "https://localhost:8080/",
          "height": 519
        },
        "id": "1119074c",
        "outputId": "52eccd91-5e40-47d5-be41-a398e490e114"
      },
      "source": [
        "sns.boxplot(x='Cluster_Id', y='MonetaryValue', data=rfm)\n"
      ],
      "id": "1119074c",
      "execution_count": null,
      "outputs": [
        {
          "output_type": "execute_result",
          "data": {
            "text/plain": [
              "<matplotlib.axes._subplots.AxesSubplot at 0x7fd968d23610>"
            ]
          },
          "metadata": {},
          "execution_count": 67
        },
        {
          "output_type": "display_data",
          "data": {
            "image/png": "[encoded data removed]",
            "text/plain": [
              "<Figure size 720x576 with 1 Axes>"
            ]
          },
          "metadata": {
            "needs_background": "light"
          }
        }
      ]
    },
    {
      "cell_type": "code",
      "metadata": {
        "colab": {
          "base_uri": "https://localhost:8080/",
          "height": 519
        },
        "id": "652b4caa",
        "outputId": "76f55a90-481a-419d-c8b7-d6c962bbe5af"
      },
      "source": [
        "sns.boxplot(x='Cluster_Id', y='Frequency', data=rfm)"
      ],
      "id": "652b4caa",
      "execution_count": null,
      "outputs": [
        {
          "output_type": "execute_result",
          "data": {
            "text/plain": [
              "<matplotlib.axes._subplots.AxesSubplot at 0x7fd968c6a050>"
            ]
          },
          "metadata": {},
          "execution_count": 68
        },
        {
          "output_type": "display_data",
          "data": {
            "image/png": "[encoded data removed]",
            "text/plain": [
              "<Figure size 720x576 with 1 Axes>"
            ]
          },
          "metadata": {
            "needs_background": "light"
          }
        }
      ]
    },
    {
      "cell_type": "code",
      "metadata": {
        "colab": {
          "base_uri": "https://localhost:8080/",
          "height": 519
        },
        "id": "f0eb63e7",
        "outputId": "257c11ff-2a71-4327-e0c7-738d2a03a720"
      },
      "source": [
        "sns.boxplot(x='Cluster_Id', y='Recency', data=rfm)"
      ],
      "id": "f0eb63e7",
      "execution_count": null,
      "outputs": [
        {
          "output_type": "execute_result",
          "data": {
            "text/plain": [
              "<matplotlib.axes._subplots.AxesSubplot at 0x7fd968b19550>"
            ]
          },
          "metadata": {},
          "execution_count": 69
        },
        {
          "output_type": "display_data",
          "data": {
            "image/png": "[encoded data removed]",
            "text/plain": [
              "<Figure size 720x576 with 1 Axes>"
            ]
          },
          "metadata": {
            "needs_background": "light"
          }
        }
      ]
    },
    {
      "cell_type": "code",
      "metadata": {
        "id": "b3876f73"
      },
      "source": [
        "from sklearn.cluster import KMeans, SpectralClustering\n",
        "from sklearn.preprocessing import StandardScaler\n",
        "from sklearn.metrics import silhouette_samples, silhouette_score"
      ],
      "id": "b3876f73",
      "execution_count": null,
      "outputs": []
    },
    {
      "cell_type": "code",
      "metadata": {
        "colab": {
          "base_uri": "https://localhost:8080/",
          "height": 450
        },
        "id": "8cc92195",
        "outputId": "aed92c38-d624-4f68-b071-a5bedddd77eb"
      },
      "source": [
        "rfm"
      ],
      "id": "8cc92195",
      "execution_count": null,
      "outputs": [
        {
          "output_type": "execute_result",
          "data": {
            "text/html": [
              "<div>\n",
              "<style scoped>\n",
              "    .dataframe tbody tr th:only-of-type {\n",
              "        vertical-align: middle;\n",
              "    }\n",
              "\n",
              "    .dataframe tbody tr th {\n",
              "        vertical-align: top;\n",
              "    }\n",
              "\n",
              "    .dataframe thead th {\n",
              "        text-align: right;\n",
              "    }\n",
              "</style>\n",
              "<table border=\"1\" class=\"dataframe\">\n",
              "  <thead>\n",
              "    <tr style=\"text-align: right;\">\n",
              "      <th></th>\n",
              "      <th>Recency</th>\n",
              "      <th>Frequency</th>\n",
              "      <th>MonetaryValue</th>\n",
              "      <th>Cluster_Id</th>\n",
              "    </tr>\n",
              "    <tr>\n",
              "      <th>Customer id</th>\n",
              "      <th></th>\n",
              "      <th></th>\n",
              "      <th></th>\n",
              "      <th></th>\n",
              "    </tr>\n",
              "  </thead>\n",
              "  <tbody>\n",
              "    <tr>\n",
              "      <th>1</th>\n",
              "      <td>1</td>\n",
              "      <td>1</td>\n",
              "      <td>125.00</td>\n",
              "      <td>0</td>\n",
              "    </tr>\n",
              "    <tr>\n",
              "      <th>6</th>\n",
              "      <td>3</td>\n",
              "      <td>4</td>\n",
              "      <td>28.40</td>\n",
              "      <td>0</td>\n",
              "    </tr>\n",
              "    <tr>\n",
              "      <th>8</th>\n",
              "      <td>4</td>\n",
              "      <td>1</td>\n",
              "      <td>51.65</td>\n",
              "      <td>0</td>\n",
              "    </tr>\n",
              "    <tr>\n",
              "      <th>9</th>\n",
              "      <td>2</td>\n",
              "      <td>1</td>\n",
              "      <td>90.75</td>\n",
              "      <td>0</td>\n",
              "    </tr>\n",
              "    <tr>\n",
              "      <th>10</th>\n",
              "      <td>4</td>\n",
              "      <td>1</td>\n",
              "      <td>140.00</td>\n",
              "      <td>0</td>\n",
              "    </tr>\n",
              "    <tr>\n",
              "      <th>...</th>\n",
              "      <td>...</td>\n",
              "      <td>...</td>\n",
              "      <td>...</td>\n",
              "      <td>...</td>\n",
              "    </tr>\n",
              "    <tr>\n",
              "      <th>28787</th>\n",
              "      <td>287</td>\n",
              "      <td>2</td>\n",
              "      <td>348.00</td>\n",
              "      <td>0</td>\n",
              "    </tr>\n",
              "    <tr>\n",
              "      <th>28788</th>\n",
              "      <td>559</td>\n",
              "      <td>1</td>\n",
              "      <td>101.15</td>\n",
              "      <td>1</td>\n",
              "    </tr>\n",
              "    <tr>\n",
              "      <th>28789</th>\n",
              "      <td>178</td>\n",
              "      <td>10</td>\n",
              "      <td>362.73</td>\n",
              "      <td>0</td>\n",
              "    </tr>\n",
              "    <tr>\n",
              "      <th>28791</th>\n",
              "      <td>10</td>\n",
              "      <td>3</td>\n",
              "      <td>170.00</td>\n",
              "      <td>0</td>\n",
              "    </tr>\n",
              "    <tr>\n",
              "      <th>28792</th>\n",
              "      <td>471</td>\n",
              "      <td>4</td>\n",
              "      <td>142.50</td>\n",
              "      <td>1</td>\n",
              "    </tr>\n",
              "  </tbody>\n",
              "</table>\n",
              "<p>1268 rows × 4 columns</p>\n",
              "</div>"
            ],
            "text/plain": [
              "             Recency  Frequency  MonetaryValue  Cluster_Id\n",
              "Customer id                                               \n",
              "1                  1          1         125.00           0\n",
              "6                  3          4          28.40           0\n",
              "8                  4          1          51.65           0\n",
              "9                  2          1          90.75           0\n",
              "10                 4          1         140.00           0\n",
              "...              ...        ...            ...         ...\n",
              "28787            287          2         348.00           0\n",
              "28788            559          1         101.15           1\n",
              "28789            178         10         362.73           0\n",
              "28791             10          3         170.00           0\n",
              "28792            471          4         142.50           1\n",
              "\n",
              "[1268 rows x 4 columns]"
            ]
          },
          "metadata": {},
          "execution_count": 71
        }
      ]
    },
    {
      "cell_type": "code",
      "metadata": {
        "id": "165a7e5e"
      },
      "source": [
        "rfm1 = rfm[[\"Recency\", \"Frequency\", \"MonetaryValue\"]]"
      ],
      "id": "165a7e5e",
      "execution_count": null,
      "outputs": []
    },
    {
      "cell_type": "code",
      "metadata": {
        "id": "a77e1486"
      },
      "source": [
        "import pandas as pd\n",
        "import numpy as np\n",
        "import matplotlib.pyplot as plt\n",
        "\n",
        "from sklearn.cluster import KMeans\n",
        "from sklearn.preprocessing import StandardScaler, normalize\n",
        "from sklearn.decomposition import PCA\n",
        "from sklearn.metrics import silhouette_score"
      ],
      "id": "a77e1486",
      "execution_count": null,
      "outputs": []
    },
    {
      "cell_type": "code",
      "metadata": {
        "colab": {
          "base_uri": "https://localhost:8080/"
        },
        "id": "28a8f44e",
        "outputId": "028f9806-799b-497f-a73d-bb7354a42a3d"
      },
      "source": [
        "rfm[\"Cluster_Id\"].value_counts()"
      ],
      "id": "28a8f44e",
      "execution_count": null,
      "outputs": [
        {
          "output_type": "execute_result",
          "data": {
            "text/plain": [
              "0    657\n",
              "1    508\n",
              "2    103\n",
              "Name: Cluster_Id, dtype: int64"
            ]
          },
          "metadata": {},
          "execution_count": 74
        }
      ]
    },
    {
      "cell_type": "code",
      "metadata": {
        "id": "0a7b50c1"
      },
      "source": [
        ""
      ],
      "id": "0a7b50c1",
      "execution_count": null,
      "outputs": []
    },
    {
      "cell_type": "code",
      "metadata": {
        "id": "6468dc76"
      },
      "source": [
        "from scipy.cluster.hierarchy import linkage\n",
        "from scipy.cluster.hierarchy import dendrogram"
      ],
      "id": "6468dc76",
      "execution_count": null,
      "outputs": []
    },
    {
      "cell_type": "code",
      "metadata": {
        "colab": {
          "base_uri": "https://localhost:8080/",
          "height": 488
        },
        "id": "c24e51d2",
        "outputId": "4538bdc1-53db-4959-b26e-62e9d06c9240"
      },
      "source": [
        "mergings = linkage(rfm_df_scaled, method=\"complete\", metric='euclidean')\n",
        "dendrogram(mergings)\n",
        "plt.show()"
      ],
      "id": "c24e51d2",
      "execution_count": null,
      "outputs": [
        {
          "output_type": "display_data",
          "data": {
            "image/png": "[encoded data removed]",
            "text/plain": [
              "<Figure size 720x576 with 1 Axes>"
            ]
          },
          "metadata": {
            "needs_background": "light"
          }
        }
      ]
    },
    {
      "cell_type": "markdown",
      "metadata": {
        "id": "35eac841"
      },
      "source": [
        "# RFM Quartiles"
      ],
      "id": "35eac841"
    },
    {
      "cell_type": "code",
      "metadata": {
        "colab": {
          "base_uri": "https://localhost:8080/",
          "height": 450
        },
        "id": "304067cb",
        "outputId": "327d1586-74e2-4a10-88e9-765ced25f7c8"
      },
      "source": [
        "data_process"
      ],
      "id": "304067cb",
      "execution_count": null,
      "outputs": [
        {
          "output_type": "execute_result",
          "data": {
            "text/html": [
              "<div>\n",
              "<style scoped>\n",
              "    .dataframe tbody tr th:only-of-type {\n",
              "        vertical-align: middle;\n",
              "    }\n",
              "\n",
              "    .dataframe tbody tr th {\n",
              "        vertical-align: top;\n",
              "    }\n",
              "\n",
              "    .dataframe thead th {\n",
              "        text-align: right;\n",
              "    }\n",
              "</style>\n",
              "<table border=\"1\" class=\"dataframe\">\n",
              "  <thead>\n",
              "    <tr style=\"text-align: right;\">\n",
              "      <th></th>\n",
              "      <th>Recency</th>\n",
              "      <th>Frequency</th>\n",
              "      <th>MonetaryValue</th>\n",
              "    </tr>\n",
              "    <tr>\n",
              "      <th>Customer id</th>\n",
              "      <th></th>\n",
              "      <th></th>\n",
              "      <th></th>\n",
              "    </tr>\n",
              "  </thead>\n",
              "  <tbody>\n",
              "    <tr>\n",
              "      <th>1</th>\n",
              "      <td>1</td>\n",
              "      <td>1</td>\n",
              "      <td>125.00</td>\n",
              "    </tr>\n",
              "    <tr>\n",
              "      <th>6</th>\n",
              "      <td>3</td>\n",
              "      <td>4</td>\n",
              "      <td>28.40</td>\n",
              "    </tr>\n",
              "    <tr>\n",
              "      <th>8</th>\n",
              "      <td>4</td>\n",
              "      <td>1</td>\n",
              "      <td>51.65</td>\n",
              "    </tr>\n",
              "    <tr>\n",
              "      <th>9</th>\n",
              "      <td>2</td>\n",
              "      <td>1</td>\n",
              "      <td>90.75</td>\n",
              "    </tr>\n",
              "    <tr>\n",
              "      <th>10</th>\n",
              "      <td>4</td>\n",
              "      <td>1</td>\n",
              "      <td>140.00</td>\n",
              "    </tr>\n",
              "    <tr>\n",
              "      <th>...</th>\n",
              "      <td>...</td>\n",
              "      <td>...</td>\n",
              "      <td>...</td>\n",
              "    </tr>\n",
              "    <tr>\n",
              "      <th>28787</th>\n",
              "      <td>287</td>\n",
              "      <td>2</td>\n",
              "      <td>348.00</td>\n",
              "    </tr>\n",
              "    <tr>\n",
              "      <th>28788</th>\n",
              "      <td>559</td>\n",
              "      <td>1</td>\n",
              "      <td>101.15</td>\n",
              "    </tr>\n",
              "    <tr>\n",
              "      <th>28789</th>\n",
              "      <td>178</td>\n",
              "      <td>10</td>\n",
              "      <td>362.73</td>\n",
              "    </tr>\n",
              "    <tr>\n",
              "      <th>28791</th>\n",
              "      <td>10</td>\n",
              "      <td>3</td>\n",
              "      <td>170.00</td>\n",
              "    </tr>\n",
              "    <tr>\n",
              "      <th>28792</th>\n",
              "      <td>471</td>\n",
              "      <td>4</td>\n",
              "      <td>142.50</td>\n",
              "    </tr>\n",
              "  </tbody>\n",
              "</table>\n",
              "<p>1293 rows × 3 columns</p>\n",
              "</div>"
            ],
            "text/plain": [
              "             Recency  Frequency  MonetaryValue\n",
              "Customer id                                   \n",
              "1                  1          1         125.00\n",
              "6                  3          4          28.40\n",
              "8                  4          1          51.65\n",
              "9                  2          1          90.75\n",
              "10                 4          1         140.00\n",
              "...              ...        ...            ...\n",
              "28787            287          2         348.00\n",
              "28788            559          1         101.15\n",
              "28789            178         10         362.73\n",
              "28791             10          3         170.00\n",
              "28792            471          4         142.50\n",
              "\n",
              "[1293 rows x 3 columns]"
            ]
          },
          "metadata": {},
          "execution_count": 80
        }
      ]
    },
    {
      "cell_type": "code",
      "metadata": {
        "colab": {
          "base_uri": "https://localhost:8080/",
          "height": 142
        },
        "id": "786aff68",
        "outputId": "a375ff78-bbc6-4b65-a8c4-0632e1b86446"
      },
      "source": [
        "quantiles = data_process.quantile(q=[0.25,0.5,0.75])\n",
        "quantiles"
      ],
      "id": "786aff68",
      "execution_count": null,
      "outputs": [
        {
          "output_type": "execute_result",
          "data": {
            "text/html": [
              "<div>\n",
              "<style scoped>\n",
              "    .dataframe tbody tr th:only-of-type {\n",
              "        vertical-align: middle;\n",
              "    }\n",
              "\n",
              "    .dataframe tbody tr th {\n",
              "        vertical-align: top;\n",
              "    }\n",
              "\n",
              "    .dataframe thead th {\n",
              "        text-align: right;\n",
              "    }\n",
              "</style>\n",
              "<table border=\"1\" class=\"dataframe\">\n",
              "  <thead>\n",
              "    <tr style=\"text-align: right;\">\n",
              "      <th></th>\n",
              "      <th>Recency</th>\n",
              "      <th>Frequency</th>\n",
              "      <th>MonetaryValue</th>\n",
              "    </tr>\n",
              "  </thead>\n",
              "  <tbody>\n",
              "    <tr>\n",
              "      <th>0.25</th>\n",
              "      <td>108.0</td>\n",
              "      <td>1.0</td>\n",
              "      <td>88.9</td>\n",
              "    </tr>\n",
              "    <tr>\n",
              "      <th>0.50</th>\n",
              "      <td>226.0</td>\n",
              "      <td>2.0</td>\n",
              "      <td>145.0</td>\n",
              "    </tr>\n",
              "    <tr>\n",
              "      <th>0.75</th>\n",
              "      <td>407.0</td>\n",
              "      <td>5.0</td>\n",
              "      <td>279.0</td>\n",
              "    </tr>\n",
              "  </tbody>\n",
              "</table>\n",
              "</div>"
            ],
            "text/plain": [
              "      Recency  Frequency  MonetaryValue\n",
              "0.25    108.0        1.0           88.9\n",
              "0.50    226.0        2.0          145.0\n",
              "0.75    407.0        5.0          279.0"
            ]
          },
          "metadata": {},
          "execution_count": 81
        }
      ]
    },
    {
      "cell_type": "code",
      "metadata": {
        "colab": {
          "base_uri": "https://localhost:8080/"
        },
        "id": "e8fde0e1",
        "outputId": "85871f82-2598-4aee-f256-848569948f58"
      },
      "source": [
        "quantiles.to_dict()"
      ],
      "id": "e8fde0e1",
      "execution_count": null,
      "outputs": [
        {
          "output_type": "execute_result",
          "data": {
            "text/plain": [
              "{'Frequency': {0.25: 1.0, 0.5: 2.0, 0.75: 5.0},\n",
              " 'MonetaryValue': {0.25: 88.9, 0.5: 145.0, 0.75: 279.0},\n",
              " 'Recency': {0.25: 108.0, 0.5: 226.0, 0.75: 407.0}}"
            ]
          },
          "metadata": {},
          "execution_count": 82
        }
      ]
    },
    {
      "cell_type": "markdown",
      "metadata": {
        "id": "39348ae9"
      },
      "source": [
        "# Creation of RFM Segments"
      ],
      "id": "39348ae9"
    },
    {
      "cell_type": "code",
      "metadata": {
        "id": "aa118396"
      },
      "source": [
        "def RScore(x,p,d):\n",
        "    if x <= d[p][0.25]:\n",
        "        return 4\n",
        "    elif x <= d[p][0.50]:\n",
        "        return 3\n",
        "    elif x <= d[p][0.75]: \n",
        "        return 2\n",
        "    else:\n",
        "        return 1\n",
        "# Arguments (x = value, p = recency, monetary_value, frequency, k = quartiles dict)\n",
        "def FMScore(x,p,d):\n",
        "    if x <= d[p][0.25]:\n",
        "        return 1\n",
        "    elif x <= d[p][0.50]:\n",
        "        return 2\n",
        "    elif x <= d[p][0.75]: \n",
        "        return 3\n",
        "    else:\n",
        "        return 4"
      ],
      "id": "aa118396",
      "execution_count": null,
      "outputs": []
    },
    {
      "cell_type": "code",
      "metadata": {
        "id": "f2895aa3"
      },
      "source": [
        "#create rfm segmentation table\n",
        "rfm_segmentation = data_process\n",
        "rfm_segmentation['R_Quartile'] = rfm_segmentation['Recency'].apply(RScore, args=('Recency',quantiles,))\n",
        "rfm_segmentation['F_Quartile'] = rfm_segmentation['Frequency'].apply(FMScore, args=('Frequency',quantiles,))\n",
        "rfm_segmentation['M_Quartile'] = rfm_segmentation['MonetaryValue'].apply(FMScore, args=('MonetaryValue',quantiles,))"
      ],
      "id": "f2895aa3",
      "execution_count": null,
      "outputs": []
    },
    {
      "cell_type": "code",
      "metadata": {
        "colab": {
          "base_uri": "https://localhost:8080/",
          "height": 450
        },
        "id": "58fea012",
        "outputId": "b418c589-1b94-4112-a46c-3a87a4b7ec8e"
      },
      "source": [
        "rfm_segmentation"
      ],
      "id": "58fea012",
      "execution_count": null,
      "outputs": [
        {
          "output_type": "execute_result",
          "data": {
            "text/html": [
              "<div>\n",
              "<style scoped>\n",
              "    .dataframe tbody tr th:only-of-type {\n",
              "        vertical-align: middle;\n",
              "    }\n",
              "\n",
              "    .dataframe tbody tr th {\n",
              "        vertical-align: top;\n",
              "    }\n",
              "\n",
              "    .dataframe thead th {\n",
              "        text-align: right;\n",
              "    }\n",
              "</style>\n",
              "<table border=\"1\" class=\"dataframe\">\n",
              "  <thead>\n",
              "    <tr style=\"text-align: right;\">\n",
              "      <th></th>\n",
              "      <th>Recency</th>\n",
              "      <th>Frequency</th>\n",
              "      <th>MonetaryValue</th>\n",
              "      <th>R_Quartile</th>\n",
              "      <th>F_Quartile</th>\n",
              "      <th>M_Quartile</th>\n",
              "    </tr>\n",
              "    <tr>\n",
              "      <th>Customer id</th>\n",
              "      <th></th>\n",
              "      <th></th>\n",
              "      <th></th>\n",
              "      <th></th>\n",
              "      <th></th>\n",
              "      <th></th>\n",
              "    </tr>\n",
              "  </thead>\n",
              "  <tbody>\n",
              "    <tr>\n",
              "      <th>1</th>\n",
              "      <td>1</td>\n",
              "      <td>1</td>\n",
              "      <td>125.00</td>\n",
              "      <td>4</td>\n",
              "      <td>1</td>\n",
              "      <td>2</td>\n",
              "    </tr>\n",
              "    <tr>\n",
              "      <th>6</th>\n",
              "      <td>3</td>\n",
              "      <td>4</td>\n",
              "      <td>28.40</td>\n",
              "      <td>4</td>\n",
              "      <td>3</td>\n",
              "      <td>1</td>\n",
              "    </tr>\n",
              "    <tr>\n",
              "      <th>8</th>\n",
              "      <td>4</td>\n",
              "      <td>1</td>\n",
              "      <td>51.65</td>\n",
              "      <td>4</td>\n",
              "      <td>1</td>\n",
              "      <td>1</td>\n",
              "    </tr>\n",
              "    <tr>\n",
              "      <th>9</th>\n",
              "      <td>2</td>\n",
              "      <td>1</td>\n",
              "      <td>90.75</td>\n",
              "      <td>4</td>\n",
              "      <td>1</td>\n",
              "      <td>2</td>\n",
              "    </tr>\n",
              "    <tr>\n",
              "      <th>10</th>\n",
              "      <td>4</td>\n",
              "      <td>1</td>\n",
              "      <td>140.00</td>\n",
              "      <td>4</td>\n",
              "      <td>1</td>\n",
              "      <td>2</td>\n",
              "    </tr>\n",
              "    <tr>\n",
              "      <th>...</th>\n",
              "      <td>...</td>\n",
              "      <td>...</td>\n",
              "      <td>...</td>\n",
              "      <td>...</td>\n",
              "      <td>...</td>\n",
              "      <td>...</td>\n",
              "    </tr>\n",
              "    <tr>\n",
              "      <th>28787</th>\n",
              "      <td>287</td>\n",
              "      <td>2</td>\n",
              "      <td>348.00</td>\n",
              "      <td>2</td>\n",
              "      <td>2</td>\n",
              "      <td>4</td>\n",
              "    </tr>\n",
              "    <tr>\n",
              "      <th>28788</th>\n",
              "      <td>559</td>\n",
              "      <td>1</td>\n",
              "      <td>101.15</td>\n",
              "      <td>1</td>\n",
              "      <td>1</td>\n",
              "      <td>2</td>\n",
              "    </tr>\n",
              "    <tr>\n",
              "      <th>28789</th>\n",
              "      <td>178</td>\n",
              "      <td>10</td>\n",
              "      <td>362.73</td>\n",
              "      <td>3</td>\n",
              "      <td>4</td>\n",
              "      <td>4</td>\n",
              "    </tr>\n",
              "    <tr>\n",
              "      <th>28791</th>\n",
              "      <td>10</td>\n",
              "      <td>3</td>\n",
              "      <td>170.00</td>\n",
              "      <td>4</td>\n",
              "      <td>3</td>\n",
              "      <td>3</td>\n",
              "    </tr>\n",
              "    <tr>\n",
              "      <th>28792</th>\n",
              "      <td>471</td>\n",
              "      <td>4</td>\n",
              "      <td>142.50</td>\n",
              "      <td>1</td>\n",
              "      <td>3</td>\n",
              "      <td>2</td>\n",
              "    </tr>\n",
              "  </tbody>\n",
              "</table>\n",
              "<p>1293 rows × 6 columns</p>\n",
              "</div>"
            ],
            "text/plain": [
              "             Recency  Frequency  ...  F_Quartile  M_Quartile\n",
              "Customer id                      ...                        \n",
              "1                  1          1  ...           1           2\n",
              "6                  3          4  ...           3           1\n",
              "8                  4          1  ...           1           1\n",
              "9                  2          1  ...           1           2\n",
              "10                 4          1  ...           1           2\n",
              "...              ...        ...  ...         ...         ...\n",
              "28787            287          2  ...           2           4\n",
              "28788            559          1  ...           1           2\n",
              "28789            178         10  ...           4           4\n",
              "28791             10          3  ...           3           3\n",
              "28792            471          4  ...           3           2\n",
              "\n",
              "[1293 rows x 6 columns]"
            ]
          },
          "metadata": {},
          "execution_count": 85
        }
      ]
    },
    {
      "cell_type": "code",
      "metadata": {
        "id": "a8353e40"
      },
      "source": [
        "rfm_segmentation['RFMScore'] = rfm_segmentation.R_Quartile.map(str) \\\n",
        "                            + rfm_segmentation.F_Quartile.map(str) \\\n",
        "                            + rfm_segmentation.M_Quartile.map(str)"
      ],
      "id": "a8353e40",
      "execution_count": null,
      "outputs": []
    },
    {
      "cell_type": "code",
      "metadata": {
        "colab": {
          "base_uri": "https://localhost:8080/",
          "height": 450
        },
        "id": "c7ec12db",
        "outputId": "05cd7e30-17e5-40f1-bdd5-3ef3666de5ac"
      },
      "source": [
        "rfm_segmentation"
      ],
      "id": "c7ec12db",
      "execution_count": null,
      "outputs": [
        {
          "output_type": "execute_result",
          "data": {
            "text/html": [
              "<div>\n",
              "<style scoped>\n",
              "    .dataframe tbody tr th:only-of-type {\n",
              "        vertical-align: middle;\n",
              "    }\n",
              "\n",
              "    .dataframe tbody tr th {\n",
              "        vertical-align: top;\n",
              "    }\n",
              "\n",
              "    .dataframe thead th {\n",
              "        text-align: right;\n",
              "    }\n",
              "</style>\n",
              "<table border=\"1\" class=\"dataframe\">\n",
              "  <thead>\n",
              "    <tr style=\"text-align: right;\">\n",
              "      <th></th>\n",
              "      <th>Recency</th>\n",
              "      <th>Frequency</th>\n",
              "      <th>MonetaryValue</th>\n",
              "      <th>R_Quartile</th>\n",
              "      <th>F_Quartile</th>\n",
              "      <th>M_Quartile</th>\n",
              "      <th>RFMScore</th>\n",
              "    </tr>\n",
              "    <tr>\n",
              "      <th>Customer id</th>\n",
              "      <th></th>\n",
              "      <th></th>\n",
              "      <th></th>\n",
              "      <th></th>\n",
              "      <th></th>\n",
              "      <th></th>\n",
              "      <th></th>\n",
              "    </tr>\n",
              "  </thead>\n",
              "  <tbody>\n",
              "    <tr>\n",
              "      <th>1</th>\n",
              "      <td>1</td>\n",
              "      <td>1</td>\n",
              "      <td>125.00</td>\n",
              "      <td>4</td>\n",
              "      <td>1</td>\n",
              "      <td>2</td>\n",
              "      <td>412</td>\n",
              "    </tr>\n",
              "    <tr>\n",
              "      <th>6</th>\n",
              "      <td>3</td>\n",
              "      <td>4</td>\n",
              "      <td>28.40</td>\n",
              "      <td>4</td>\n",
              "      <td>3</td>\n",
              "      <td>1</td>\n",
              "      <td>431</td>\n",
              "    </tr>\n",
              "    <tr>\n",
              "      <th>8</th>\n",
              "      <td>4</td>\n",
              "      <td>1</td>\n",
              "      <td>51.65</td>\n",
              "      <td>4</td>\n",
              "      <td>1</td>\n",
              "      <td>1</td>\n",
              "      <td>411</td>\n",
              "    </tr>\n",
              "    <tr>\n",
              "      <th>9</th>\n",
              "      <td>2</td>\n",
              "      <td>1</td>\n",
              "      <td>90.75</td>\n",
              "      <td>4</td>\n",
              "      <td>1</td>\n",
              "      <td>2</td>\n",
              "      <td>412</td>\n",
              "    </tr>\n",
              "    <tr>\n",
              "      <th>10</th>\n",
              "      <td>4</td>\n",
              "      <td>1</td>\n",
              "      <td>140.00</td>\n",
              "      <td>4</td>\n",
              "      <td>1</td>\n",
              "      <td>2</td>\n",
              "      <td>412</td>\n",
              "    </tr>\n",
              "    <tr>\n",
              "      <th>...</th>\n",
              "      <td>...</td>\n",
              "      <td>...</td>\n",
              "      <td>...</td>\n",
              "      <td>...</td>\n",
              "      <td>...</td>\n",
              "      <td>...</td>\n",
              "      <td>...</td>\n",
              "    </tr>\n",
              "    <tr>\n",
              "      <th>28787</th>\n",
              "      <td>287</td>\n",
              "      <td>2</td>\n",
              "      <td>348.00</td>\n",
              "      <td>2</td>\n",
              "      <td>2</td>\n",
              "      <td>4</td>\n",
              "      <td>224</td>\n",
              "    </tr>\n",
              "    <tr>\n",
              "      <th>28788</th>\n",
              "      <td>559</td>\n",
              "      <td>1</td>\n",
              "      <td>101.15</td>\n",
              "      <td>1</td>\n",
              "      <td>1</td>\n",
              "      <td>2</td>\n",
              "      <td>112</td>\n",
              "    </tr>\n",
              "    <tr>\n",
              "      <th>28789</th>\n",
              "      <td>178</td>\n",
              "      <td>10</td>\n",
              "      <td>362.73</td>\n",
              "      <td>3</td>\n",
              "      <td>4</td>\n",
              "      <td>4</td>\n",
              "      <td>344</td>\n",
              "    </tr>\n",
              "    <tr>\n",
              "      <th>28791</th>\n",
              "      <td>10</td>\n",
              "      <td>3</td>\n",
              "      <td>170.00</td>\n",
              "      <td>4</td>\n",
              "      <td>3</td>\n",
              "      <td>3</td>\n",
              "      <td>433</td>\n",
              "    </tr>\n",
              "    <tr>\n",
              "      <th>28792</th>\n",
              "      <td>471</td>\n",
              "      <td>4</td>\n",
              "      <td>142.50</td>\n",
              "      <td>1</td>\n",
              "      <td>3</td>\n",
              "      <td>2</td>\n",
              "      <td>132</td>\n",
              "    </tr>\n",
              "  </tbody>\n",
              "</table>\n",
              "<p>1293 rows × 7 columns</p>\n",
              "</div>"
            ],
            "text/plain": [
              "             Recency  Frequency  MonetaryValue  ...  F_Quartile  M_Quartile  RFMScore\n",
              "Customer id                                     ...                                  \n",
              "1                  1          1         125.00  ...           1           2       412\n",
              "6                  3          4          28.40  ...           3           1       431\n",
              "8                  4          1          51.65  ...           1           1       411\n",
              "9                  2          1          90.75  ...           1           2       412\n",
              "10                 4          1         140.00  ...           1           2       412\n",
              "...              ...        ...            ...  ...         ...         ...       ...\n",
              "28787            287          2         348.00  ...           2           4       224\n",
              "28788            559          1         101.15  ...           1           2       112\n",
              "28789            178         10         362.73  ...           4           4       344\n",
              "28791             10          3         170.00  ...           3           3       433\n",
              "28792            471          4         142.50  ...           3           2       132\n",
              "\n",
              "[1293 rows x 7 columns]"
            ]
          },
          "metadata": {},
          "execution_count": 87
        }
      ]
    },
    {
      "cell_type": "markdown",
      "metadata": {
        "id": "08824835"
      },
      "source": [
        "Best Recency score = 4: most recently purchase. Best Frequency score = 4: most quantity purchase. Best Monetary score = 4: spent the most"
      ],
      "id": "08824835"
    },
    {
      "cell_type": "code",
      "metadata": {
        "colab": {
          "base_uri": "https://localhost:8080/",
          "height": 390
        },
        "id": "b490c73f",
        "outputId": "1019edfc-8db9-4927-ebe9-bc20a92a8acc"
      },
      "source": [
        "rfm_segmentation[rfm_segmentation['RFMScore']=='444'].sort_values('MonetaryValue', ascending=False).head(10)"
      ],
      "id": "b490c73f",
      "execution_count": null,
      "outputs": [
        {
          "output_type": "execute_result",
          "data": {
            "text/html": [
              "<div>\n",
              "<style scoped>\n",
              "    .dataframe tbody tr th:only-of-type {\n",
              "        vertical-align: middle;\n",
              "    }\n",
              "\n",
              "    .dataframe tbody tr th {\n",
              "        vertical-align: top;\n",
              "    }\n",
              "\n",
              "    .dataframe thead th {\n",
              "        text-align: right;\n",
              "    }\n",
              "</style>\n",
              "<table border=\"1\" class=\"dataframe\">\n",
              "  <thead>\n",
              "    <tr style=\"text-align: right;\">\n",
              "      <th></th>\n",
              "      <th>Recency</th>\n",
              "      <th>Frequency</th>\n",
              "      <th>MonetaryValue</th>\n",
              "      <th>R_Quartile</th>\n",
              "      <th>F_Quartile</th>\n",
              "      <th>M_Quartile</th>\n",
              "      <th>RFMScore</th>\n",
              "    </tr>\n",
              "    <tr>\n",
              "      <th>Customer id</th>\n",
              "      <th></th>\n",
              "      <th></th>\n",
              "      <th></th>\n",
              "      <th></th>\n",
              "      <th></th>\n",
              "      <th></th>\n",
              "      <th></th>\n",
              "    </tr>\n",
              "  </thead>\n",
              "  <tbody>\n",
              "    <tr>\n",
              "      <th>5401</th>\n",
              "      <td>3</td>\n",
              "      <td>193</td>\n",
              "      <td>5882.65</td>\n",
              "      <td>4</td>\n",
              "      <td>4</td>\n",
              "      <td>4</td>\n",
              "      <td>444</td>\n",
              "    </tr>\n",
              "    <tr>\n",
              "      <th>13219</th>\n",
              "      <td>12</td>\n",
              "      <td>64</td>\n",
              "      <td>4335.86</td>\n",
              "      <td>4</td>\n",
              "      <td>4</td>\n",
              "      <td>4</td>\n",
              "      <td>444</td>\n",
              "    </tr>\n",
              "    <tr>\n",
              "      <th>12290</th>\n",
              "      <td>25</td>\n",
              "      <td>191</td>\n",
              "      <td>4231.28</td>\n",
              "      <td>4</td>\n",
              "      <td>4</td>\n",
              "      <td>4</td>\n",
              "      <td>444</td>\n",
              "    </tr>\n",
              "    <tr>\n",
              "      <th>7609</th>\n",
              "      <td>52</td>\n",
              "      <td>76</td>\n",
              "      <td>3529.34</td>\n",
              "      <td>4</td>\n",
              "      <td>4</td>\n",
              "      <td>4</td>\n",
              "      <td>444</td>\n",
              "    </tr>\n",
              "    <tr>\n",
              "      <th>15956</th>\n",
              "      <td>53</td>\n",
              "      <td>115</td>\n",
              "      <td>3494.27</td>\n",
              "      <td>4</td>\n",
              "      <td>4</td>\n",
              "      <td>4</td>\n",
              "      <td>444</td>\n",
              "    </tr>\n",
              "    <tr>\n",
              "      <th>24505</th>\n",
              "      <td>9</td>\n",
              "      <td>120</td>\n",
              "      <td>3484.04</td>\n",
              "      <td>4</td>\n",
              "      <td>4</td>\n",
              "      <td>4</td>\n",
              "      <td>444</td>\n",
              "    </tr>\n",
              "    <tr>\n",
              "      <th>7044</th>\n",
              "      <td>25</td>\n",
              "      <td>247</td>\n",
              "      <td>2840.10</td>\n",
              "      <td>4</td>\n",
              "      <td>4</td>\n",
              "      <td>4</td>\n",
              "      <td>444</td>\n",
              "    </tr>\n",
              "    <tr>\n",
              "      <th>20487</th>\n",
              "      <td>73</td>\n",
              "      <td>107</td>\n",
              "      <td>2746.39</td>\n",
              "      <td>4</td>\n",
              "      <td>4</td>\n",
              "      <td>4</td>\n",
              "      <td>444</td>\n",
              "    </tr>\n",
              "    <tr>\n",
              "      <th>16017</th>\n",
              "      <td>6</td>\n",
              "      <td>80</td>\n",
              "      <td>2184.05</td>\n",
              "      <td>4</td>\n",
              "      <td>4</td>\n",
              "      <td>4</td>\n",
              "      <td>444</td>\n",
              "    </tr>\n",
              "    <tr>\n",
              "      <th>11350</th>\n",
              "      <td>77</td>\n",
              "      <td>45</td>\n",
              "      <td>2179.17</td>\n",
              "      <td>4</td>\n",
              "      <td>4</td>\n",
              "      <td>4</td>\n",
              "      <td>444</td>\n",
              "    </tr>\n",
              "  </tbody>\n",
              "</table>\n",
              "</div>"
            ],
            "text/plain": [
              "             Recency  Frequency  MonetaryValue  ...  F_Quartile  M_Quartile  RFMScore\n",
              "Customer id                                     ...                                  \n",
              "5401               3        193        5882.65  ...           4           4       444\n",
              "13219             12         64        4335.86  ...           4           4       444\n",
              "12290             25        191        4231.28  ...           4           4       444\n",
              "7609              52         76        3529.34  ...           4           4       444\n",
              "15956             53        115        3494.27  ...           4           4       444\n",
              "24505              9        120        3484.04  ...           4           4       444\n",
              "7044              25        247        2840.10  ...           4           4       444\n",
              "20487             73        107        2746.39  ...           4           4       444\n",
              "16017              6         80        2184.05  ...           4           4       444\n",
              "11350             77         45        2179.17  ...           4           4       444\n",
              "\n",
              "[10 rows x 7 columns]"
            ]
          },
          "metadata": {},
          "execution_count": 88
        }
      ]
    },
    {
      "cell_type": "code",
      "metadata": {
        "colab": {
          "base_uri": "https://localhost:8080/"
        },
        "id": "6d761b4e",
        "outputId": "35b50a9a-d43a-4f4b-d700-1b33adb52668"
      },
      "source": [
        "print(\"Best Customers: \",len(rfm_segmentation[rfm_segmentation['RFMScore']=='444']))\n",
        "print('Loyal Customers: ',len(rfm_segmentation[rfm_segmentation['F_Quartile']==4]))\n",
        "print(\"Big Spenders: \",len(rfm_segmentation[rfm_segmentation['M_Quartile']==4]))\n",
        "print('Almost Lost: ', len(rfm_segmentation[rfm_segmentation['RFMScore']=='244']))\n",
        "print('Lost Customers: ',len(rfm_segmentation[rfm_segmentation['RFMScore']=='144']))\n",
        "print('Lost Cheap Customers: ',len(rfm_segmentation[rfm_segmentation['RFMScore']=='111']))"
      ],
      "id": "6d761b4e",
      "execution_count": null,
      "outputs": [
        {
          "output_type": "stream",
          "name": "stdout",
          "text": [
            "Best Customers:  83\n",
            "Loyal Customers:  290\n",
            "Big Spenders:  315\n",
            "Almost Lost:  34\n",
            "Lost Customers:  10\n",
            "Lost Cheap Customers:  67\n"
          ]
        }
      ]
    },
    {
      "cell_type": "markdown",
      "metadata": {
        "id": "ebfaeb33"
      },
      "source": [
        "Best Customers - Champions: Reward them. They can be early adopters to new products. Suggest them \"Refer a friend\".\n",
        "At Risk: Send them personalized emails to encourage them to shop."
      ],
      "id": "ebfaeb33"
    },
    {
      "cell_type": "code",
      "metadata": {
        "colab": {
          "base_uri": "https://localhost:8080/"
        },
        "id": "etcK16-Nyk_u",
        "outputId": "8ddfe79b-fd9d-4f3f-b069-b3c7b2dfd8aa"
      },
      "source": [
        "#!pip install squarify"
      ],
      "id": "etcK16-Nyk_u",
      "execution_count": null,
      "outputs": [
        {
          "output_type": "stream",
          "name": "stdout",
          "text": [
            "Collecting squarify\n",
            "  Downloading squarify-0.4.3-py3-none-any.whl (4.3 kB)\n",
            "Installing collected packages: squarify\n",
            "Successfully installed squarify-0.4.3\n"
          ]
        }
      ]
    },
    {
      "cell_type": "code",
      "metadata": {
        "id": "38d8942b"
      },
      "source": [
        "import numpy as np\n",
        "import pandas as pd\n",
        "import datetime as dt\n",
        "from datetime import datetime\n",
        "import datetime as dt\n",
        "from datetime import datetime\n",
        "%matplotlib inline\n",
        "import matplotlib.pyplot as plt\n",
        "import matplotlib.ticker as mticker\n",
        "import seaborn as sns\n",
        "import squarify\n",
        "from sklearn.cluster import KMeans"
      ],
      "id": "38d8942b",
      "execution_count": null,
      "outputs": []
    },
    {
      "cell_type": "code",
      "metadata": {
        "id": "1b4b3327"
      },
      "source": [
        "rfm_table = data_process"
      ],
      "id": "1b4b3327",
      "execution_count": null,
      "outputs": []
    },
    {
      "cell_type": "code",
      "metadata": {
        "colab": {
          "base_uri": "https://localhost:8080/",
          "height": 1000
        },
        "id": "81d0e09f",
        "outputId": "9c764bcf-9400-45d2-824d-84af7f45c64a"
      },
      "source": [
        "#Finding Optimum Clusters\n",
        "sse={}\n",
        "tx_recency = rfm_table[['Recency']]\n",
        "for k in range(1, 10):\n",
        "    kmeans = KMeans(n_clusters=k, max_iter=1000).fit(tx_recency)\n",
        "    tx_recency[\"clusters\"] = kmeans.labels_\n",
        "    sse[k] = kmeans.inertia_ \n",
        "plt.figure()\n",
        "plt.plot(list(sse.keys()), list(sse.values()))\n",
        "plt.xlabel(\"Number of cluster\")\n",
        "plt.show()\n",
        "\n"
      ],
      "id": "81d0e09f",
      "execution_count": null,
      "outputs": [
        {
          "output_type": "stream",
          "name": "stderr",
          "text": [
            "/usr/local/lib/python3.7/dist-packages/ipykernel_launcher.py:6: SettingWithCopyWarning: \n",
            "A value is trying to be set on a copy of a slice from a DataFrame.\n",
            "Try using .loc[row_indexer,col_indexer] = value instead\n",
            "\n",
            "See the caveats in the documentation: https://pandas.pydata.org/pandas-docs/stable/user_guide/indexing.html#returning-a-view-versus-a-copy\n",
            "  \n",
            "/usr/local/lib/python3.7/dist-packages/ipykernel_launcher.py:6: SettingWithCopyWarning: \n",
            "A value is trying to be set on a copy of a slice from a DataFrame.\n",
            "Try using .loc[row_indexer,col_indexer] = value instead\n",
            "\n",
            "See the caveats in the documentation: https://pandas.pydata.org/pandas-docs/stable/user_guide/indexing.html#returning-a-view-versus-a-copy\n",
            "  \n",
            "/usr/local/lib/python3.7/dist-packages/ipykernel_launcher.py:6: SettingWithCopyWarning: \n",
            "A value is trying to be set on a copy of a slice from a DataFrame.\n",
            "Try using .loc[row_indexer,col_indexer] = value instead\n",
            "\n",
            "See the caveats in the documentation: https://pandas.pydata.org/pandas-docs/stable/user_guide/indexing.html#returning-a-view-versus-a-copy\n",
            "  \n",
            "/usr/local/lib/python3.7/dist-packages/ipykernel_launcher.py:6: SettingWithCopyWarning: \n",
            "A value is trying to be set on a copy of a slice from a DataFrame.\n",
            "Try using .loc[row_indexer,col_indexer] = value instead\n",
            "\n",
            "See the caveats in the documentation: https://pandas.pydata.org/pandas-docs/stable/user_guide/indexing.html#returning-a-view-versus-a-copy\n",
            "  \n",
            "/usr/local/lib/python3.7/dist-packages/ipykernel_launcher.py:6: SettingWithCopyWarning: \n",
            "A value is trying to be set on a copy of a slice from a DataFrame.\n",
            "Try using .loc[row_indexer,col_indexer] = value instead\n",
            "\n",
            "See the caveats in the documentation: https://pandas.pydata.org/pandas-docs/stable/user_guide/indexing.html#returning-a-view-versus-a-copy\n",
            "  \n",
            "/usr/local/lib/python3.7/dist-packages/ipykernel_launcher.py:6: SettingWithCopyWarning: \n",
            "A value is trying to be set on a copy of a slice from a DataFrame.\n",
            "Try using .loc[row_indexer,col_indexer] = value instead\n",
            "\n",
            "See the caveats in the documentation: https://pandas.pydata.org/pandas-docs/stable/user_guide/indexing.html#returning-a-view-versus-a-copy\n",
            "  \n",
            "/usr/local/lib/python3.7/dist-packages/ipykernel_launcher.py:6: SettingWithCopyWarning: \n",
            "A value is trying to be set on a copy of a slice from a DataFrame.\n",
            "Try using .loc[row_indexer,col_indexer] = value instead\n",
            "\n",
            "See the caveats in the documentation: https://pandas.pydata.org/pandas-docs/stable/user_guide/indexing.html#returning-a-view-versus-a-copy\n",
            "  \n",
            "/usr/local/lib/python3.7/dist-packages/ipykernel_launcher.py:6: SettingWithCopyWarning: \n",
            "A value is trying to be set on a copy of a slice from a DataFrame.\n",
            "Try using .loc[row_indexer,col_indexer] = value instead\n",
            "\n",
            "See the caveats in the documentation: https://pandas.pydata.org/pandas-docs/stable/user_guide/indexing.html#returning-a-view-versus-a-copy\n",
            "  \n",
            "/usr/local/lib/python3.7/dist-packages/ipykernel_launcher.py:6: SettingWithCopyWarning: \n",
            "A value is trying to be set on a copy of a slice from a DataFrame.\n",
            "Try using .loc[row_indexer,col_indexer] = value instead\n",
            "\n",
            "See the caveats in the documentation: https://pandas.pydata.org/pandas-docs/stable/user_guide/indexing.html#returning-a-view-versus-a-copy\n",
            "  \n"
          ]
        },
        {
          "output_type": "display_data",
          "data": {
            "image/png": "[encoded data removed]",
            "text/plain": [
              "<Figure size 432x288 with 1 Axes>"
            ]
          },
          "metadata": {
            "needs_background": "light"
          }
        }
      ]
    },
    {
      "cell_type": "code",
      "metadata": {
        "colab": {
          "base_uri": "https://localhost:8080/",
          "height": 450
        },
        "id": "e0acc33e",
        "outputId": "e5ec7440-5f4c-405b-8019-92e175f3ee34"
      },
      "source": [
        "rfm_table"
      ],
      "id": "e0acc33e",
      "execution_count": null,
      "outputs": [
        {
          "output_type": "execute_result",
          "data": {
            "text/html": [
              "<div>\n",
              "<style scoped>\n",
              "    .dataframe tbody tr th:only-of-type {\n",
              "        vertical-align: middle;\n",
              "    }\n",
              "\n",
              "    .dataframe tbody tr th {\n",
              "        vertical-align: top;\n",
              "    }\n",
              "\n",
              "    .dataframe thead th {\n",
              "        text-align: right;\n",
              "    }\n",
              "</style>\n",
              "<table border=\"1\" class=\"dataframe\">\n",
              "  <thead>\n",
              "    <tr style=\"text-align: right;\">\n",
              "      <th></th>\n",
              "      <th>Recency</th>\n",
              "      <th>Frequency</th>\n",
              "      <th>MonetaryValue</th>\n",
              "      <th>R_Quartile</th>\n",
              "      <th>F_Quartile</th>\n",
              "      <th>M_Quartile</th>\n",
              "      <th>RFMScore</th>\n",
              "    </tr>\n",
              "    <tr>\n",
              "      <th>Customer id</th>\n",
              "      <th></th>\n",
              "      <th></th>\n",
              "      <th></th>\n",
              "      <th></th>\n",
              "      <th></th>\n",
              "      <th></th>\n",
              "      <th></th>\n",
              "    </tr>\n",
              "  </thead>\n",
              "  <tbody>\n",
              "    <tr>\n",
              "      <th>1</th>\n",
              "      <td>1</td>\n",
              "      <td>1</td>\n",
              "      <td>125.00</td>\n",
              "      <td>4</td>\n",
              "      <td>1</td>\n",
              "      <td>2</td>\n",
              "      <td>412</td>\n",
              "    </tr>\n",
              "    <tr>\n",
              "      <th>6</th>\n",
              "      <td>3</td>\n",
              "      <td>4</td>\n",
              "      <td>28.40</td>\n",
              "      <td>4</td>\n",
              "      <td>3</td>\n",
              "      <td>1</td>\n",
              "      <td>431</td>\n",
              "    </tr>\n",
              "    <tr>\n",
              "      <th>8</th>\n",
              "      <td>4</td>\n",
              "      <td>1</td>\n",
              "      <td>51.65</td>\n",
              "      <td>4</td>\n",
              "      <td>1</td>\n",
              "      <td>1</td>\n",
              "      <td>411</td>\n",
              "    </tr>\n",
              "    <tr>\n",
              "      <th>9</th>\n",
              "      <td>2</td>\n",
              "      <td>1</td>\n",
              "      <td>90.75</td>\n",
              "      <td>4</td>\n",
              "      <td>1</td>\n",
              "      <td>2</td>\n",
              "      <td>412</td>\n",
              "    </tr>\n",
              "    <tr>\n",
              "      <th>10</th>\n",
              "      <td>4</td>\n",
              "      <td>1</td>\n",
              "      <td>140.00</td>\n",
              "      <td>4</td>\n",
              "      <td>1</td>\n",
              "      <td>2</td>\n",
              "      <td>412</td>\n",
              "    </tr>\n",
              "    <tr>\n",
              "      <th>...</th>\n",
              "      <td>...</td>\n",
              "      <td>...</td>\n",
              "      <td>...</td>\n",
              "      <td>...</td>\n",
              "      <td>...</td>\n",
              "      <td>...</td>\n",
              "      <td>...</td>\n",
              "    </tr>\n",
              "    <tr>\n",
              "      <th>28787</th>\n",
              "      <td>287</td>\n",
              "      <td>2</td>\n",
              "      <td>348.00</td>\n",
              "      <td>2</td>\n",
              "      <td>2</td>\n",
              "      <td>4</td>\n",
              "      <td>224</td>\n",
              "    </tr>\n",
              "    <tr>\n",
              "      <th>28788</th>\n",
              "      <td>559</td>\n",
              "      <td>1</td>\n",
              "      <td>101.15</td>\n",
              "      <td>1</td>\n",
              "      <td>1</td>\n",
              "      <td>2</td>\n",
              "      <td>112</td>\n",
              "    </tr>\n",
              "    <tr>\n",
              "      <th>28789</th>\n",
              "      <td>178</td>\n",
              "      <td>10</td>\n",
              "      <td>362.73</td>\n",
              "      <td>3</td>\n",
              "      <td>4</td>\n",
              "      <td>4</td>\n",
              "      <td>344</td>\n",
              "    </tr>\n",
              "    <tr>\n",
              "      <th>28791</th>\n",
              "      <td>10</td>\n",
              "      <td>3</td>\n",
              "      <td>170.00</td>\n",
              "      <td>4</td>\n",
              "      <td>3</td>\n",
              "      <td>3</td>\n",
              "      <td>433</td>\n",
              "    </tr>\n",
              "    <tr>\n",
              "      <th>28792</th>\n",
              "      <td>471</td>\n",
              "      <td>4</td>\n",
              "      <td>142.50</td>\n",
              "      <td>1</td>\n",
              "      <td>3</td>\n",
              "      <td>2</td>\n",
              "      <td>132</td>\n",
              "    </tr>\n",
              "  </tbody>\n",
              "</table>\n",
              "<p>1293 rows × 7 columns</p>\n",
              "</div>"
            ],
            "text/plain": [
              "             Recency  Frequency  MonetaryValue  ...  F_Quartile  M_Quartile  RFMScore\n",
              "Customer id                                     ...                                  \n",
              "1                  1          1         125.00  ...           1           2       412\n",
              "6                  3          4          28.40  ...           3           1       431\n",
              "8                  4          1          51.65  ...           1           1       411\n",
              "9                  2          1          90.75  ...           1           2       412\n",
              "10                 4          1         140.00  ...           1           2       412\n",
              "...              ...        ...            ...  ...         ...         ...       ...\n",
              "28787            287          2         348.00  ...           2           4       224\n",
              "28788            559          1         101.15  ...           1           2       112\n",
              "28789            178         10         362.73  ...           4           4       344\n",
              "28791             10          3         170.00  ...           3           3       433\n",
              "28792            471          4         142.50  ...           3           2       132\n",
              "\n",
              "[1293 rows x 7 columns]"
            ]
          },
          "metadata": {},
          "execution_count": 95
        }
      ]
    },
    {
      "cell_type": "code",
      "metadata": {
        "id": "HutT0Sl2-KcW"
      },
      "source": [
        ""
      ],
      "id": "HutT0Sl2-KcW",
      "execution_count": null,
      "outputs": []
    },
    {
      "cell_type": "markdown",
      "metadata": {
        "id": "f1c3b972"
      },
      "source": [
        "******************************"
      ],
      "id": "f1c3b972"
    },
    {
      "cell_type": "code",
      "metadata": {
        "id": "XlGwCU2IAdRY"
      },
      "source": [
        "from pandas import json_normalize"
      ],
      "id": "XlGwCU2IAdRY",
      "execution_count": null,
      "outputs": []
    },
    {
      "cell_type": "code",
      "metadata": {
        "colab": {
          "base_uri": "https://localhost:8080/",
          "height": 204
        },
        "id": "78ace489",
        "outputId": "99a13bd4-c3b1-4446-d9ea-dc5b1b89b4d4"
      },
      "source": [
        "customer2_events  = pd.read_json(\"/customer1_events - JSON.txt\")\n",
        "customer2_events.head()"
      ],
      "id": "78ace489",
      "execution_count": null,
      "outputs": [
        {
          "output_type": "execute_result",
          "data": {
            "text/html": [
              "<div>\n",
              "<style scoped>\n",
              "    .dataframe tbody tr th:only-of-type {\n",
              "        vertical-align: middle;\n",
              "    }\n",
              "\n",
              "    .dataframe tbody tr th {\n",
              "        vertical-align: top;\n",
              "    }\n",
              "\n",
              "    .dataframe thead th {\n",
              "        text-align: right;\n",
              "    }\n",
              "</style>\n",
              "<table border=\"1\" class=\"dataframe\">\n",
              "  <thead>\n",
              "    <tr style=\"text-align: right;\">\n",
              "      <th></th>\n",
              "      <th>statistic_id</th>\n",
              "      <th>timestamp</th>\n",
              "      <th>event_name</th>\n",
              "      <th>event_properties</th>\n",
              "    </tr>\n",
              "  </thead>\n",
              "  <tbody>\n",
              "    <tr>\n",
              "      <th>0</th>\n",
              "      <td>H9AiMX</td>\n",
              "      <td>2021-09-22 14:40:48+00:00</td>\n",
              "      <td>Opened Email</td>\n",
              "      <td>{'Subject': 'Tempo di depurarsi ✨', 'Campaign ...</td>\n",
              "    </tr>\n",
              "    <tr>\n",
              "      <th>1</th>\n",
              "      <td>H9AiMX</td>\n",
              "      <td>2021-09-22 12:10:33+00:00</td>\n",
              "      <td>Opened Email</td>\n",
              "      <td>{'Subject': 'Tempo di depurarsi ✨', 'Campaign ...</td>\n",
              "    </tr>\n",
              "    <tr>\n",
              "      <th>2</th>\n",
              "      <td>P9SZW3</td>\n",
              "      <td>2021-09-22 10:28:24+00:00</td>\n",
              "      <td>Received Email</td>\n",
              "      <td>{'Subject': 'Tempo di depurarsi ✨', 'Campaign ...</td>\n",
              "    </tr>\n",
              "    <tr>\n",
              "      <th>3</th>\n",
              "      <td>P9SZW3</td>\n",
              "      <td>2021-09-20 05:45:28+00:00</td>\n",
              "      <td>Received Email</td>\n",
              "      <td>{'Subject': 'Scopri Il duo di Omega 100% plant...</td>\n",
              "    </tr>\n",
              "    <tr>\n",
              "      <th>4</th>\n",
              "      <td>H9AiMX</td>\n",
              "      <td>2021-09-19 16:04:56+00:00</td>\n",
              "      <td>Opened Email</td>\n",
              "      <td>{'Subject': 'Piccolo momento autocelebrativo e...</td>\n",
              "    </tr>\n",
              "  </tbody>\n",
              "</table>\n",
              "</div>"
            ],
            "text/plain": [
              "  statistic_id  ...                                   event_properties\n",
              "0       H9AiMX  ...  {'Subject': 'Tempo di depurarsi ✨', 'Campaign ...\n",
              "1       H9AiMX  ...  {'Subject': 'Tempo di depurarsi ✨', 'Campaign ...\n",
              "2       P9SZW3  ...  {'Subject': 'Tempo di depurarsi ✨', 'Campaign ...\n",
              "3       P9SZW3  ...  {'Subject': 'Scopri Il duo di Omega 100% plant...\n",
              "4       H9AiMX  ...  {'Subject': 'Piccolo momento autocelebrativo e...\n",
              "\n",
              "[5 rows x 4 columns]"
            ]
          },
          "metadata": {},
          "execution_count": 23
        }
      ]
    },
    {
      "cell_type": "code",
      "metadata": {
        "colab": {
          "base_uri": "https://localhost:8080/",
          "height": 204
        },
        "id": "ca3cf9a0",
        "outputId": "d4a51263-dcd1-46fa-b4f7-589d1309db98"
      },
      "source": [
        "customer1_events  = pd.read_json(\"/customer2_events - JSON.txt\")\n",
        "customer1_events.head()   "
      ],
      "id": "ca3cf9a0",
      "execution_count": null,
      "outputs": [
        {
          "output_type": "execute_result",
          "data": {
            "text/html": [
              "<div>\n",
              "<style scoped>\n",
              "    .dataframe tbody tr th:only-of-type {\n",
              "        vertical-align: middle;\n",
              "    }\n",
              "\n",
              "    .dataframe tbody tr th {\n",
              "        vertical-align: top;\n",
              "    }\n",
              "\n",
              "    .dataframe thead th {\n",
              "        text-align: right;\n",
              "    }\n",
              "</style>\n",
              "<table border=\"1\" class=\"dataframe\">\n",
              "  <thead>\n",
              "    <tr style=\"text-align: right;\">\n",
              "      <th></th>\n",
              "      <th>statistic_id</th>\n",
              "      <th>timestamp</th>\n",
              "      <th>event_name</th>\n",
              "      <th>event_properties</th>\n",
              "    </tr>\n",
              "  </thead>\n",
              "  <tbody>\n",
              "    <tr>\n",
              "      <th>0</th>\n",
              "      <td>P9SZW3</td>\n",
              "      <td>2021-09-22 10:28:38+00:00</td>\n",
              "      <td>Received Email</td>\n",
              "      <td>{'Subject': 'Tempo di depurarsi ✨', 'Campaign ...</td>\n",
              "    </tr>\n",
              "    <tr>\n",
              "      <th>1</th>\n",
              "      <td>P9SZW3</td>\n",
              "      <td>2021-09-20 05:45:43+00:00</td>\n",
              "      <td>Received Email</td>\n",
              "      <td>{'Subject': 'Scopri Il duo di Omega 100% plant...</td>\n",
              "    </tr>\n",
              "    <tr>\n",
              "      <th>2</th>\n",
              "      <td>P9SZW3</td>\n",
              "      <td>2021-09-19 06:40:09+00:00</td>\n",
              "      <td>Received Email</td>\n",
              "      <td>{'Subject': 'Piccolo momento autocelebrativo e...</td>\n",
              "    </tr>\n",
              "    <tr>\n",
              "      <th>3</th>\n",
              "      <td>H9AiMX</td>\n",
              "      <td>2021-09-18 16:38:19+00:00</td>\n",
              "      <td>Opened Email</td>\n",
              "      <td>{'Subject': 'Ok il vaccino, ma se hai questi a...</td>\n",
              "    </tr>\n",
              "    <tr>\n",
              "      <th>4</th>\n",
              "      <td>H9AiMX</td>\n",
              "      <td>2021-09-18 08:10:30+00:00</td>\n",
              "      <td>Opened Email</td>\n",
              "      <td>{'Subject': 'Ok il vaccino, ma se hai questi a...</td>\n",
              "    </tr>\n",
              "  </tbody>\n",
              "</table>\n",
              "</div>"
            ],
            "text/plain": [
              "  statistic_id  ...                                   event_properties\n",
              "0       P9SZW3  ...  {'Subject': 'Tempo di depurarsi ✨', 'Campaign ...\n",
              "1       P9SZW3  ...  {'Subject': 'Scopri Il duo di Omega 100% plant...\n",
              "2       P9SZW3  ...  {'Subject': 'Piccolo momento autocelebrativo e...\n",
              "3       H9AiMX  ...  {'Subject': 'Ok il vaccino, ma se hai questi a...\n",
              "4       H9AiMX  ...  {'Subject': 'Ok il vaccino, ma se hai questi a...\n",
              "\n",
              "[5 rows x 4 columns]"
            ]
          },
          "metadata": {},
          "execution_count": 24
        }
      ]
    },
    {
      "cell_type": "code",
      "metadata": {
        "id": "7aa9d8a9"
      },
      "source": [
        "l1 = list(customer1_events[\"event_properties\"])\n",
        "l2 = list(customer2_events[\"event_properties\"])\n",
        "\n",
        "result1 = json_normalize(l1,max_level=3)\n",
        "result2 = json_normalize(l2,max_level=8)\n",
        "\n",
        "customer_event1 =  pd.concat([customer1_events, result1], axis=1)\n",
        "customer_event2 =  pd.concat([customer2_events, result2], axis=1)"
      ],
      "id": "7aa9d8a9",
      "execution_count": null,
      "outputs": []
    },
    {
      "cell_type": "code",
      "metadata": {
        "colab": {
          "base_uri": "https://localhost:8080/",
          "height": 542
        },
        "id": "m_Go0udoiMEK",
        "outputId": "997ad5b6-d296-4111-8670-107f572d1bff"
      },
      "source": [
        "customer_event1.head()"
      ],
      "id": "m_Go0udoiMEK",
      "execution_count": null,
      "outputs": [
        {
          "output_type": "execute_result",
          "data": {
            "text/html": [
              "<div>\n",
              "<style scoped>\n",
              "    .dataframe tbody tr th:only-of-type {\n",
              "        vertical-align: middle;\n",
              "    }\n",
              "\n",
              "    .dataframe tbody tr th {\n",
              "        vertical-align: top;\n",
              "    }\n",
              "\n",
              "    .dataframe thead th {\n",
              "        text-align: right;\n",
              "    }\n",
              "</style>\n",
              "<table border=\"1\" class=\"dataframe\">\n",
              "  <thead>\n",
              "    <tr style=\"text-align: right;\">\n",
              "      <th></th>\n",
              "      <th>statistic_id</th>\n",
              "      <th>timestamp</th>\n",
              "      <th>event_name</th>\n",
              "      <th>event_properties</th>\n",
              "      <th>Subject</th>\n",
              "      <th>Campaign Name</th>\n",
              "      <th>$message</th>\n",
              "      <th>Email Domain</th>\n",
              "      <th>$_cohort$message_send_cohort</th>\n",
              "      <th>$ESP</th>\n",
              "      <th>$event_id</th>\n",
              "      <th>Client Type</th>\n",
              "      <th>Client OS Family</th>\n",
              "      <th>Client OS</th>\n",
              "      <th>Client Name</th>\n",
              "      <th>$message_interaction</th>\n",
              "      <th>page</th>\n",
              "      <th>browser</th>\n",
              "      <th>os</th>\n",
              "      <th>$is_session_activity</th>\n",
              "      <th>$attribution.$attributed_event_id</th>\n",
              "      <th>$attribution.$send_ts</th>\n",
              "      <th>$attribution.$message</th>\n",
              "      <th>URL</th>\n",
              "      <th>Items</th>\n",
              "      <th>Collections</th>\n",
              "      <th>Item Count</th>\n",
              "      <th>tags</th>\n",
              "      <th>Discount Codes</th>\n",
              "      <th>Total Discounts</th>\n",
              "      <th>Source Name</th>\n",
              "      <th>$currency_code</th>\n",
              "      <th>FulfillmentStatus</th>\n",
              "      <th>FulfillmentHours</th>\n",
              "      <th>HasPartialFulfillments</th>\n",
              "      <th>$value</th>\n",
              "      <th>$extra.id</th>\n",
              "      <th>$extra.admin_graphql_api_id</th>\n",
              "      <th>$extra.app_id</th>\n",
              "      <th>$extra.browser_ip</th>\n",
              "      <th>...</th>\n",
              "      <th>$extra.customer.default_address.default</th>\n",
              "      <th>$extra.discount_applications</th>\n",
              "      <th>$extra.fulfillments</th>\n",
              "      <th>$extra.line_items</th>\n",
              "      <th>$extra.refunds</th>\n",
              "      <th>$extra.shipping_address.first_name</th>\n",
              "      <th>$extra.shipping_address.address1</th>\n",
              "      <th>$extra.shipping_address.phone</th>\n",
              "      <th>$extra.shipping_address.city</th>\n",
              "      <th>$extra.shipping_address.zip</th>\n",
              "      <th>$extra.shipping_address.province</th>\n",
              "      <th>$extra.shipping_address.country</th>\n",
              "      <th>$extra.shipping_address.last_name</th>\n",
              "      <th>$extra.shipping_address.address2</th>\n",
              "      <th>$extra.shipping_address.company</th>\n",
              "      <th>$extra.shipping_address.latitude</th>\n",
              "      <th>$extra.shipping_address.longitude</th>\n",
              "      <th>$extra.shipping_address.name</th>\n",
              "      <th>$extra.shipping_address.country_code</th>\n",
              "      <th>$extra.shipping_address.province_code</th>\n",
              "      <th>$extra.shipping_lines</th>\n",
              "      <th>$extra.webhook_id</th>\n",
              "      <th>$extra.full_landing_site</th>\n",
              "      <th>$attribution.$flow</th>\n",
              "      <th>$flow</th>\n",
              "      <th>ProductID</th>\n",
              "      <th>Name</th>\n",
              "      <th>Variant Name</th>\n",
              "      <th>SKU</th>\n",
              "      <th>Tags</th>\n",
              "      <th>Vendor</th>\n",
              "      <th>Variant Option: Size</th>\n",
              "      <th>Quantity</th>\n",
              "      <th>Variant Option: Durata:</th>\n",
              "      <th>$extra.webhook_topic</th>\n",
              "      <th>$extra.responsive_checkout_url</th>\n",
              "      <th>$extra.checkout_url</th>\n",
              "      <th>ShippingRate</th>\n",
              "      <th>Variant Option: Title</th>\n",
              "      <th>$session_end</th>\n",
              "    </tr>\n",
              "  </thead>\n",
              "  <tbody>\n",
              "    <tr>\n",
              "      <th>0</th>\n",
              "      <td>P9SZW3</td>\n",
              "      <td>2021-09-22 10:28:38+00:00</td>\n",
              "      <td>Received Email</td>\n",
              "      <td>{'Subject': 'Tempo di depurarsi ✨', 'Campaign ...</td>\n",
              "      <td>Tempo di depurarsi ✨</td>\n",
              "      <td>equinox</td>\n",
              "      <td>X8RJvZ</td>\n",
              "      <td>gmail.com</td>\n",
              "      <td>1632306516:X8RJvZ</td>\n",
              "      <td>0.0</td>\n",
              "      <td>X8RJvZ:300607106468994405154528774642437475416</td>\n",
              "      <td>NaN</td>\n",
              "      <td>NaN</td>\n",
              "      <td>NaN</td>\n",
              "      <td>NaN</td>\n",
              "      <td>NaN</td>\n",
              "      <td>NaN</td>\n",
              "      <td>NaN</td>\n",
              "      <td>NaN</td>\n",
              "      <td>NaN</td>\n",
              "      <td>NaN</td>\n",
              "      <td>NaN</td>\n",
              "      <td>NaN</td>\n",
              "      <td>NaN</td>\n",
              "      <td>NaN</td>\n",
              "      <td>NaN</td>\n",
              "      <td>NaN</td>\n",
              "      <td>NaN</td>\n",
              "      <td>NaN</td>\n",
              "      <td>NaN</td>\n",
              "      <td>NaN</td>\n",
              "      <td>NaN</td>\n",
              "      <td>NaN</td>\n",
              "      <td>NaN</td>\n",
              "      <td>NaN</td>\n",
              "      <td>NaN</td>\n",
              "      <td>NaN</td>\n",
              "      <td>NaN</td>\n",
              "      <td>NaN</td>\n",
              "      <td>NaN</td>\n",
              "      <td>...</td>\n",
              "      <td>NaN</td>\n",
              "      <td>NaN</td>\n",
              "      <td>NaN</td>\n",
              "      <td>NaN</td>\n",
              "      <td>NaN</td>\n",
              "      <td>NaN</td>\n",
              "      <td>NaN</td>\n",
              "      <td>NaN</td>\n",
              "      <td>NaN</td>\n",
              "      <td>NaN</td>\n",
              "      <td>NaN</td>\n",
              "      <td>NaN</td>\n",
              "      <td>NaN</td>\n",
              "      <td>NaN</td>\n",
              "      <td>NaN</td>\n",
              "      <td>NaN</td>\n",
              "      <td>NaN</td>\n",
              "      <td>NaN</td>\n",
              "      <td>NaN</td>\n",
              "      <td>NaN</td>\n",
              "      <td>NaN</td>\n",
              "      <td>NaN</td>\n",
              "      <td>NaN</td>\n",
              "      <td>NaN</td>\n",
              "      <td>NaN</td>\n",
              "      <td>NaN</td>\n",
              "      <td>NaN</td>\n",
              "      <td>NaN</td>\n",
              "      <td>NaN</td>\n",
              "      <td>NaN</td>\n",
              "      <td>NaN</td>\n",
              "      <td>NaN</td>\n",
              "      <td>NaN</td>\n",
              "      <td>NaN</td>\n",
              "      <td>NaN</td>\n",
              "      <td>NaN</td>\n",
              "      <td>NaN</td>\n",
              "      <td>NaN</td>\n",
              "      <td>NaN</td>\n",
              "      <td>NaN</td>\n",
              "    </tr>\n",
              "    <tr>\n",
              "      <th>1</th>\n",
              "      <td>P9SZW3</td>\n",
              "      <td>2021-09-20 05:45:43+00:00</td>\n",
              "      <td>Received Email</td>\n",
              "      <td>{'Subject': 'Scopri Il duo di Omega 100% plant...</td>\n",
              "      <td>Scopri Il duo di Omega 100% plant based, migli...</td>\n",
              "      <td>omega</td>\n",
              "      <td>SEqPaS</td>\n",
              "      <td>gmail.com</td>\n",
              "      <td>1632116740:SEqPaS</td>\n",
              "      <td>0.0</td>\n",
              "      <td>SEqPaS:286836699920635188915395159446882634840</td>\n",
              "      <td>NaN</td>\n",
              "      <td>NaN</td>\n",
              "      <td>NaN</td>\n",
              "      <td>NaN</td>\n",
              "      <td>NaN</td>\n",
              "      <td>NaN</td>\n",
              "      <td>NaN</td>\n",
              "      <td>NaN</td>\n",
              "      <td>NaN</td>\n",
              "      <td>NaN</td>\n",
              "      <td>NaN</td>\n",
              "      <td>NaN</td>\n",
              "      <td>NaN</td>\n",
              "      <td>NaN</td>\n",
              "      <td>NaN</td>\n",
              "      <td>NaN</td>\n",
              "      <td>NaN</td>\n",
              "      <td>NaN</td>\n",
              "      <td>NaN</td>\n",
              "      <td>NaN</td>\n",
              "      <td>NaN</td>\n",
              "      <td>NaN</td>\n",
              "      <td>NaN</td>\n",
              "      <td>NaN</td>\n",
              "      <td>NaN</td>\n",
              "      <td>NaN</td>\n",
              "      <td>NaN</td>\n",
              "      <td>NaN</td>\n",
              "      <td>NaN</td>\n",
              "      <td>...</td>\n",
              "      <td>NaN</td>\n",
              "      <td>NaN</td>\n",
              "      <td>NaN</td>\n",
              "      <td>NaN</td>\n",
              "      <td>NaN</td>\n",
              "      <td>NaN</td>\n",
              "      <td>NaN</td>\n",
              "      <td>NaN</td>\n",
              "      <td>NaN</td>\n",
              "      <td>NaN</td>\n",
              "      <td>NaN</td>\n",
              "      <td>NaN</td>\n",
              "      <td>NaN</td>\n",
              "      <td>NaN</td>\n",
              "      <td>NaN</td>\n",
              "      <td>NaN</td>\n",
              "      <td>NaN</td>\n",
              "      <td>NaN</td>\n",
              "      <td>NaN</td>\n",
              "      <td>NaN</td>\n",
              "      <td>NaN</td>\n",
              "      <td>NaN</td>\n",
              "      <td>NaN</td>\n",
              "      <td>NaN</td>\n",
              "      <td>NaN</td>\n",
              "      <td>NaN</td>\n",
              "      <td>NaN</td>\n",
              "      <td>NaN</td>\n",
              "      <td>NaN</td>\n",
              "      <td>NaN</td>\n",
              "      <td>NaN</td>\n",
              "      <td>NaN</td>\n",
              "      <td>NaN</td>\n",
              "      <td>NaN</td>\n",
              "      <td>NaN</td>\n",
              "      <td>NaN</td>\n",
              "      <td>NaN</td>\n",
              "      <td>NaN</td>\n",
              "      <td>NaN</td>\n",
              "      <td>NaN</td>\n",
              "    </tr>\n",
              "    <tr>\n",
              "      <th>2</th>\n",
              "      <td>P9SZW3</td>\n",
              "      <td>2021-09-19 06:40:09+00:00</td>\n",
              "      <td>Received Email</td>\n",
              "      <td>{'Subject': 'Piccolo momento autocelebrativo e...</td>\n",
              "      <td>Piccolo momento autocelebrativo e una super ne...</td>\n",
              "      <td>Paris events</td>\n",
              "      <td>WaN7SE</td>\n",
              "      <td>gmail.com</td>\n",
              "      <td>1632033606:WaN7SE</td>\n",
              "      <td>0.0</td>\n",
              "      <td>WaN7SE:283353057025782801986169742368876547160</td>\n",
              "      <td>NaN</td>\n",
              "      <td>NaN</td>\n",
              "      <td>NaN</td>\n",
              "      <td>NaN</td>\n",
              "      <td>NaN</td>\n",
              "      <td>NaN</td>\n",
              "      <td>NaN</td>\n",
              "      <td>NaN</td>\n",
              "      <td>NaN</td>\n",
              "      <td>NaN</td>\n",
              "      <td>NaN</td>\n",
              "      <td>NaN</td>\n",
              "      <td>NaN</td>\n",
              "      <td>NaN</td>\n",
              "      <td>NaN</td>\n",
              "      <td>NaN</td>\n",
              "      <td>NaN</td>\n",
              "      <td>NaN</td>\n",
              "      <td>NaN</td>\n",
              "      <td>NaN</td>\n",
              "      <td>NaN</td>\n",
              "      <td>NaN</td>\n",
              "      <td>NaN</td>\n",
              "      <td>NaN</td>\n",
              "      <td>NaN</td>\n",
              "      <td>NaN</td>\n",
              "      <td>NaN</td>\n",
              "      <td>NaN</td>\n",
              "      <td>NaN</td>\n",
              "      <td>...</td>\n",
              "      <td>NaN</td>\n",
              "      <td>NaN</td>\n",
              "      <td>NaN</td>\n",
              "      <td>NaN</td>\n",
              "      <td>NaN</td>\n",
              "      <td>NaN</td>\n",
              "      <td>NaN</td>\n",
              "      <td>NaN</td>\n",
              "      <td>NaN</td>\n",
              "      <td>NaN</td>\n",
              "      <td>NaN</td>\n",
              "      <td>NaN</td>\n",
              "      <td>NaN</td>\n",
              "      <td>NaN</td>\n",
              "      <td>NaN</td>\n",
              "      <td>NaN</td>\n",
              "      <td>NaN</td>\n",
              "      <td>NaN</td>\n",
              "      <td>NaN</td>\n",
              "      <td>NaN</td>\n",
              "      <td>NaN</td>\n",
              "      <td>NaN</td>\n",
              "      <td>NaN</td>\n",
              "      <td>NaN</td>\n",
              "      <td>NaN</td>\n",
              "      <td>NaN</td>\n",
              "      <td>NaN</td>\n",
              "      <td>NaN</td>\n",
              "      <td>NaN</td>\n",
              "      <td>NaN</td>\n",
              "      <td>NaN</td>\n",
              "      <td>NaN</td>\n",
              "      <td>NaN</td>\n",
              "      <td>NaN</td>\n",
              "      <td>NaN</td>\n",
              "      <td>NaN</td>\n",
              "      <td>NaN</td>\n",
              "      <td>NaN</td>\n",
              "      <td>NaN</td>\n",
              "      <td>NaN</td>\n",
              "    </tr>\n",
              "    <tr>\n",
              "      <th>3</th>\n",
              "      <td>H9AiMX</td>\n",
              "      <td>2021-09-18 16:38:19+00:00</td>\n",
              "      <td>Opened Email</td>\n",
              "      <td>{'Subject': 'Ok il vaccino, ma se hai questi a...</td>\n",
              "      <td>Ok il vaccino, ma se hai questi abitudini...</td>\n",
              "      <td>Vaccino</td>\n",
              "      <td>VK6rNW</td>\n",
              "      <td>gmail.com</td>\n",
              "      <td>1631869739:VK6rNW</td>\n",
              "      <td>0.0</td>\n",
              "      <td>VK6rNW:275132098860562190383303833966646152280...</td>\n",
              "      <td>Other</td>\n",
              "      <td>Linux</td>\n",
              "      <td>Linux</td>\n",
              "      <td>Gmail image proxy</td>\n",
              "      <td>VK6rNW</td>\n",
              "      <td>NaN</td>\n",
              "      <td>NaN</td>\n",
              "      <td>NaN</td>\n",
              "      <td>NaN</td>\n",
              "      <td>NaN</td>\n",
              "      <td>NaN</td>\n",
              "      <td>NaN</td>\n",
              "      <td>NaN</td>\n",
              "      <td>NaN</td>\n",
              "      <td>NaN</td>\n",
              "      <td>NaN</td>\n",
              "      <td>NaN</td>\n",
              "      <td>NaN</td>\n",
              "      <td>NaN</td>\n",
              "      <td>NaN</td>\n",
              "      <td>NaN</td>\n",
              "      <td>NaN</td>\n",
              "      <td>NaN</td>\n",
              "      <td>NaN</td>\n",
              "      <td>NaN</td>\n",
              "      <td>NaN</td>\n",
              "      <td>NaN</td>\n",
              "      <td>NaN</td>\n",
              "      <td>NaN</td>\n",
              "      <td>...</td>\n",
              "      <td>NaN</td>\n",
              "      <td>NaN</td>\n",
              "      <td>NaN</td>\n",
              "      <td>NaN</td>\n",
              "      <td>NaN</td>\n",
              "      <td>NaN</td>\n",
              "      <td>NaN</td>\n",
              "      <td>NaN</td>\n",
              "      <td>NaN</td>\n",
              "      <td>NaN</td>\n",
              "      <td>NaN</td>\n",
              "      <td>NaN</td>\n",
              "      <td>NaN</td>\n",
              "      <td>NaN</td>\n",
              "      <td>NaN</td>\n",
              "      <td>NaN</td>\n",
              "      <td>NaN</td>\n",
              "      <td>NaN</td>\n",
              "      <td>NaN</td>\n",
              "      <td>NaN</td>\n",
              "      <td>NaN</td>\n",
              "      <td>NaN</td>\n",
              "      <td>NaN</td>\n",
              "      <td>NaN</td>\n",
              "      <td>NaN</td>\n",
              "      <td>NaN</td>\n",
              "      <td>NaN</td>\n",
              "      <td>NaN</td>\n",
              "      <td>NaN</td>\n",
              "      <td>NaN</td>\n",
              "      <td>NaN</td>\n",
              "      <td>NaN</td>\n",
              "      <td>NaN</td>\n",
              "      <td>NaN</td>\n",
              "      <td>NaN</td>\n",
              "      <td>NaN</td>\n",
              "      <td>NaN</td>\n",
              "      <td>NaN</td>\n",
              "      <td>NaN</td>\n",
              "      <td>NaN</td>\n",
              "    </tr>\n",
              "    <tr>\n",
              "      <th>4</th>\n",
              "      <td>H9AiMX</td>\n",
              "      <td>2021-09-18 08:10:30+00:00</td>\n",
              "      <td>Opened Email</td>\n",
              "      <td>{'Subject': 'Ok il vaccino, ma se hai questi a...</td>\n",
              "      <td>Ok il vaccino, ma se hai questi abitudini...</td>\n",
              "      <td>Vaccino</td>\n",
              "      <td>VK6rNW</td>\n",
              "      <td>gmail.com</td>\n",
              "      <td>1631869739:VK6rNW</td>\n",
              "      <td>0.0</td>\n",
              "      <td>VK6rNW:275132098860562190383303833966646152280...</td>\n",
              "      <td>Other</td>\n",
              "      <td>Linux</td>\n",
              "      <td>Linux</td>\n",
              "      <td>Gmail image proxy</td>\n",
              "      <td>VK6rNW</td>\n",
              "      <td>NaN</td>\n",
              "      <td>NaN</td>\n",
              "      <td>NaN</td>\n",
              "      <td>NaN</td>\n",
              "      <td>NaN</td>\n",
              "      <td>NaN</td>\n",
              "      <td>NaN</td>\n",
              "      <td>NaN</td>\n",
              "      <td>NaN</td>\n",
              "      <td>NaN</td>\n",
              "      <td>NaN</td>\n",
              "      <td>NaN</td>\n",
              "      <td>NaN</td>\n",
              "      <td>NaN</td>\n",
              "      <td>NaN</td>\n",
              "      <td>NaN</td>\n",
              "      <td>NaN</td>\n",
              "      <td>NaN</td>\n",
              "      <td>NaN</td>\n",
              "      <td>NaN</td>\n",
              "      <td>NaN</td>\n",
              "      <td>NaN</td>\n",
              "      <td>NaN</td>\n",
              "      <td>NaN</td>\n",
              "      <td>...</td>\n",
              "      <td>NaN</td>\n",
              "      <td>NaN</td>\n",
              "      <td>NaN</td>\n",
              "      <td>NaN</td>\n",
              "      <td>NaN</td>\n",
              "      <td>NaN</td>\n",
              "      <td>NaN</td>\n",
              "      <td>NaN</td>\n",
              "      <td>NaN</td>\n",
              "      <td>NaN</td>\n",
              "      <td>NaN</td>\n",
              "      <td>NaN</td>\n",
              "      <td>NaN</td>\n",
              "      <td>NaN</td>\n",
              "      <td>NaN</td>\n",
              "      <td>NaN</td>\n",
              "      <td>NaN</td>\n",
              "      <td>NaN</td>\n",
              "      <td>NaN</td>\n",
              "      <td>NaN</td>\n",
              "      <td>NaN</td>\n",
              "      <td>NaN</td>\n",
              "      <td>NaN</td>\n",
              "      <td>NaN</td>\n",
              "      <td>NaN</td>\n",
              "      <td>NaN</td>\n",
              "      <td>NaN</td>\n",
              "      <td>NaN</td>\n",
              "      <td>NaN</td>\n",
              "      <td>NaN</td>\n",
              "      <td>NaN</td>\n",
              "      <td>NaN</td>\n",
              "      <td>NaN</td>\n",
              "      <td>NaN</td>\n",
              "      <td>NaN</td>\n",
              "      <td>NaN</td>\n",
              "      <td>NaN</td>\n",
              "      <td>NaN</td>\n",
              "      <td>NaN</td>\n",
              "      <td>NaN</td>\n",
              "    </tr>\n",
              "  </tbody>\n",
              "</table>\n",
              "<p>5 rows × 239 columns</p>\n",
              "</div>"
            ],
            "text/plain": [
              "  statistic_id                 timestamp  ... Variant Option: Title $session_end\n",
              "0       P9SZW3 2021-09-22 10:28:38+00:00  ...                   NaN          NaN\n",
              "1       P9SZW3 2021-09-20 05:45:43+00:00  ...                   NaN          NaN\n",
              "2       P9SZW3 2021-09-19 06:40:09+00:00  ...                   NaN          NaN\n",
              "3       H9AiMX 2021-09-18 16:38:19+00:00  ...                   NaN          NaN\n",
              "4       H9AiMX 2021-09-18 08:10:30+00:00  ...                   NaN          NaN\n",
              "\n",
              "[5 rows x 239 columns]"
            ]
          },
          "metadata": {},
          "execution_count": 26
        }
      ]
    },
    {
      "cell_type": "code",
      "metadata": {
        "colab": {
          "base_uri": "https://localhost:8080/",
          "height": 508
        },
        "id": "mtDUkfP6iP_s",
        "outputId": "883cf4d0-c4df-42b2-f602-21f935eaed8e"
      },
      "source": [
        "customer_event2.head()"
      ],
      "id": "mtDUkfP6iP_s",
      "execution_count": null,
      "outputs": [
        {
          "output_type": "execute_result",
          "data": {
            "text/html": [
              "<div>\n",
              "<style scoped>\n",
              "    .dataframe tbody tr th:only-of-type {\n",
              "        vertical-align: middle;\n",
              "    }\n",
              "\n",
              "    .dataframe tbody tr th {\n",
              "        vertical-align: top;\n",
              "    }\n",
              "\n",
              "    .dataframe thead th {\n",
              "        text-align: right;\n",
              "    }\n",
              "</style>\n",
              "<table border=\"1\" class=\"dataframe\">\n",
              "  <thead>\n",
              "    <tr style=\"text-align: right;\">\n",
              "      <th></th>\n",
              "      <th>statistic_id</th>\n",
              "      <th>timestamp</th>\n",
              "      <th>event_name</th>\n",
              "      <th>event_properties</th>\n",
              "      <th>Subject</th>\n",
              "      <th>Campaign Name</th>\n",
              "      <th>$message</th>\n",
              "      <th>Email Domain</th>\n",
              "      <th>$_cohort$message_send_cohort</th>\n",
              "      <th>Client Type</th>\n",
              "      <th>Client OS Family</th>\n",
              "      <th>Client OS</th>\n",
              "      <th>Client Name</th>\n",
              "      <th>$message_interaction</th>\n",
              "      <th>$ESP</th>\n",
              "      <th>$event_id</th>\n",
              "      <th>$flow</th>\n",
              "      <th>URL</th>\n",
              "      <th>page</th>\n",
              "      <th>browser</th>\n",
              "      <th>os</th>\n",
              "      <th>$is_session_activity</th>\n",
              "      <th>$attribution.$attributed_event_id</th>\n",
              "      <th>$attribution.$send_ts</th>\n",
              "      <th>$attribution.$message</th>\n",
              "      <th>Client Canonical</th>\n",
              "      <th>Items</th>\n",
              "      <th>Collections</th>\n",
              "      <th>Item Count</th>\n",
              "      <th>tags</th>\n",
              "      <th>$currency_code</th>\n",
              "      <th>ShippingRate</th>\n",
              "      <th>Discount Codes</th>\n",
              "      <th>Total Discounts</th>\n",
              "      <th>Source Name</th>\n",
              "      <th>FulfillmentStatus</th>\n",
              "      <th>FulfillmentHours</th>\n",
              "      <th>$value</th>\n",
              "      <th>$extra.current_subtotal_price</th>\n",
              "      <th>$extra.source_name</th>\n",
              "      <th>...</th>\n",
              "      <th>$extra.shipping_address.city</th>\n",
              "      <th>$extra.shipping_address.first_name</th>\n",
              "      <th>$extra.shipping_address.last_name</th>\n",
              "      <th>$extra.shipping_address.name</th>\n",
              "      <th>$extra.shipping_address.zip</th>\n",
              "      <th>$extra.shipping_address.province_code</th>\n",
              "      <th>$extra.shipping_address.address1</th>\n",
              "      <th>$extra.shipping_address.address2</th>\n",
              "      <th>$extra.shipping_address.longitude</th>\n",
              "      <th>$extra.shipping_address.phone</th>\n",
              "      <th>$extra.shipping_address.country_code</th>\n",
              "      <th>$extra.shipping_address.country</th>\n",
              "      <th>$extra.shipping_address.latitude</th>\n",
              "      <th>$extra.shipping_address.company</th>\n",
              "      <th>$extra.total_discounts</th>\n",
              "      <th>$extra.order_status_url</th>\n",
              "      <th>$extra.client_details.browser_width</th>\n",
              "      <th>$extra.client_details.user_agent</th>\n",
              "      <th>$extra.client_details.accept_language</th>\n",
              "      <th>$extra.client_details.browser_height</th>\n",
              "      <th>$extra.client_details.session_hash</th>\n",
              "      <th>$extra.client_details.browser_ip</th>\n",
              "      <th>$extra.subtotal_price</th>\n",
              "      <th>$extra.total_weight</th>\n",
              "      <th>$extra.full_landing_site</th>\n",
              "      <th>$attribution.$flow</th>\n",
              "      <th>ProductID</th>\n",
              "      <th>Name</th>\n",
              "      <th>Variant Name</th>\n",
              "      <th>SKU</th>\n",
              "      <th>Tags</th>\n",
              "      <th>Vendor</th>\n",
              "      <th>Variant Option: Title</th>\n",
              "      <th>Quantity</th>\n",
              "      <th>$extra.webhook_topic</th>\n",
              "      <th>$extra.responsive_checkout_url</th>\n",
              "      <th>$extra.checkout_url</th>\n",
              "      <th>$session_end</th>\n",
              "      <th>List</th>\n",
              "      <th>Variant Option: Size</th>\n",
              "    </tr>\n",
              "  </thead>\n",
              "  <tbody>\n",
              "    <tr>\n",
              "      <th>0</th>\n",
              "      <td>H9AiMX</td>\n",
              "      <td>2021-09-22 14:40:48+00:00</td>\n",
              "      <td>Opened Email</td>\n",
              "      <td>{'Subject': 'Tempo di depurarsi ✨', 'Campaign ...</td>\n",
              "      <td>Tempo di depurarsi ✨</td>\n",
              "      <td>equinox</td>\n",
              "      <td>X8RJvZ</td>\n",
              "      <td>gmail.com</td>\n",
              "      <td>1632306503:X8RJvZ</td>\n",
              "      <td>Other</td>\n",
              "      <td>Linux</td>\n",
              "      <td>Linux</td>\n",
              "      <td>Gmail image proxy</td>\n",
              "      <td>X8RJvZ</td>\n",
              "      <td>0.0</td>\n",
              "      <td>X8RJvZ:300606500611235658575139196811849256024...</td>\n",
              "      <td>NaN</td>\n",
              "      <td>NaN</td>\n",
              "      <td>NaN</td>\n",
              "      <td>NaN</td>\n",
              "      <td>NaN</td>\n",
              "      <td>NaN</td>\n",
              "      <td>NaN</td>\n",
              "      <td>NaN</td>\n",
              "      <td>NaN</td>\n",
              "      <td>NaN</td>\n",
              "      <td>NaN</td>\n",
              "      <td>NaN</td>\n",
              "      <td>NaN</td>\n",
              "      <td>NaN</td>\n",
              "      <td>NaN</td>\n",
              "      <td>NaN</td>\n",
              "      <td>NaN</td>\n",
              "      <td>NaN</td>\n",
              "      <td>NaN</td>\n",
              "      <td>NaN</td>\n",
              "      <td>NaN</td>\n",
              "      <td>NaN</td>\n",
              "      <td>NaN</td>\n",
              "      <td>NaN</td>\n",
              "      <td>...</td>\n",
              "      <td>NaN</td>\n",
              "      <td>NaN</td>\n",
              "      <td>NaN</td>\n",
              "      <td>NaN</td>\n",
              "      <td>NaN</td>\n",
              "      <td>NaN</td>\n",
              "      <td>NaN</td>\n",
              "      <td>NaN</td>\n",
              "      <td>NaN</td>\n",
              "      <td>NaN</td>\n",
              "      <td>NaN</td>\n",
              "      <td>NaN</td>\n",
              "      <td>NaN</td>\n",
              "      <td>NaN</td>\n",
              "      <td>NaN</td>\n",
              "      <td>NaN</td>\n",
              "      <td>NaN</td>\n",
              "      <td>NaN</td>\n",
              "      <td>NaN</td>\n",
              "      <td>NaN</td>\n",
              "      <td>NaN</td>\n",
              "      <td>NaN</td>\n",
              "      <td>NaN</td>\n",
              "      <td>NaN</td>\n",
              "      <td>NaN</td>\n",
              "      <td>NaN</td>\n",
              "      <td>NaN</td>\n",
              "      <td>NaN</td>\n",
              "      <td>NaN</td>\n",
              "      <td>NaN</td>\n",
              "      <td>NaN</td>\n",
              "      <td>NaN</td>\n",
              "      <td>NaN</td>\n",
              "      <td>NaN</td>\n",
              "      <td>NaN</td>\n",
              "      <td>NaN</td>\n",
              "      <td>NaN</td>\n",
              "      <td>NaN</td>\n",
              "      <td>NaN</td>\n",
              "      <td>NaN</td>\n",
              "    </tr>\n",
              "    <tr>\n",
              "      <th>1</th>\n",
              "      <td>H9AiMX</td>\n",
              "      <td>2021-09-22 12:10:33+00:00</td>\n",
              "      <td>Opened Email</td>\n",
              "      <td>{'Subject': 'Tempo di depurarsi ✨', 'Campaign ...</td>\n",
              "      <td>Tempo di depurarsi ✨</td>\n",
              "      <td>equinox</td>\n",
              "      <td>X8RJvZ</td>\n",
              "      <td>gmail.com</td>\n",
              "      <td>1632306503:X8RJvZ</td>\n",
              "      <td>Other</td>\n",
              "      <td>Linux</td>\n",
              "      <td>Linux</td>\n",
              "      <td>Gmail image proxy</td>\n",
              "      <td>X8RJvZ</td>\n",
              "      <td>0.0</td>\n",
              "      <td>X8RJvZ:300606500611235658575139196811849256024...</td>\n",
              "      <td>NaN</td>\n",
              "      <td>NaN</td>\n",
              "      <td>NaN</td>\n",
              "      <td>NaN</td>\n",
              "      <td>NaN</td>\n",
              "      <td>NaN</td>\n",
              "      <td>NaN</td>\n",
              "      <td>NaN</td>\n",
              "      <td>NaN</td>\n",
              "      <td>NaN</td>\n",
              "      <td>NaN</td>\n",
              "      <td>NaN</td>\n",
              "      <td>NaN</td>\n",
              "      <td>NaN</td>\n",
              "      <td>NaN</td>\n",
              "      <td>NaN</td>\n",
              "      <td>NaN</td>\n",
              "      <td>NaN</td>\n",
              "      <td>NaN</td>\n",
              "      <td>NaN</td>\n",
              "      <td>NaN</td>\n",
              "      <td>NaN</td>\n",
              "      <td>NaN</td>\n",
              "      <td>NaN</td>\n",
              "      <td>...</td>\n",
              "      <td>NaN</td>\n",
              "      <td>NaN</td>\n",
              "      <td>NaN</td>\n",
              "      <td>NaN</td>\n",
              "      <td>NaN</td>\n",
              "      <td>NaN</td>\n",
              "      <td>NaN</td>\n",
              "      <td>NaN</td>\n",
              "      <td>NaN</td>\n",
              "      <td>NaN</td>\n",
              "      <td>NaN</td>\n",
              "      <td>NaN</td>\n",
              "      <td>NaN</td>\n",
              "      <td>NaN</td>\n",
              "      <td>NaN</td>\n",
              "      <td>NaN</td>\n",
              "      <td>NaN</td>\n",
              "      <td>NaN</td>\n",
              "      <td>NaN</td>\n",
              "      <td>NaN</td>\n",
              "      <td>NaN</td>\n",
              "      <td>NaN</td>\n",
              "      <td>NaN</td>\n",
              "      <td>NaN</td>\n",
              "      <td>NaN</td>\n",
              "      <td>NaN</td>\n",
              "      <td>NaN</td>\n",
              "      <td>NaN</td>\n",
              "      <td>NaN</td>\n",
              "      <td>NaN</td>\n",
              "      <td>NaN</td>\n",
              "      <td>NaN</td>\n",
              "      <td>NaN</td>\n",
              "      <td>NaN</td>\n",
              "      <td>NaN</td>\n",
              "      <td>NaN</td>\n",
              "      <td>NaN</td>\n",
              "      <td>NaN</td>\n",
              "      <td>NaN</td>\n",
              "      <td>NaN</td>\n",
              "    </tr>\n",
              "    <tr>\n",
              "      <th>2</th>\n",
              "      <td>P9SZW3</td>\n",
              "      <td>2021-09-22 10:28:24+00:00</td>\n",
              "      <td>Received Email</td>\n",
              "      <td>{'Subject': 'Tempo di depurarsi ✨', 'Campaign ...</td>\n",
              "      <td>Tempo di depurarsi ✨</td>\n",
              "      <td>equinox</td>\n",
              "      <td>X8RJvZ</td>\n",
              "      <td>gmail.com</td>\n",
              "      <td>1632306503:X8RJvZ</td>\n",
              "      <td>NaN</td>\n",
              "      <td>NaN</td>\n",
              "      <td>NaN</td>\n",
              "      <td>NaN</td>\n",
              "      <td>NaN</td>\n",
              "      <td>0.0</td>\n",
              "      <td>X8RJvZ:300606500611235658575139196811849256024</td>\n",
              "      <td>NaN</td>\n",
              "      <td>NaN</td>\n",
              "      <td>NaN</td>\n",
              "      <td>NaN</td>\n",
              "      <td>NaN</td>\n",
              "      <td>NaN</td>\n",
              "      <td>NaN</td>\n",
              "      <td>NaN</td>\n",
              "      <td>NaN</td>\n",
              "      <td>NaN</td>\n",
              "      <td>NaN</td>\n",
              "      <td>NaN</td>\n",
              "      <td>NaN</td>\n",
              "      <td>NaN</td>\n",
              "      <td>NaN</td>\n",
              "      <td>NaN</td>\n",
              "      <td>NaN</td>\n",
              "      <td>NaN</td>\n",
              "      <td>NaN</td>\n",
              "      <td>NaN</td>\n",
              "      <td>NaN</td>\n",
              "      <td>NaN</td>\n",
              "      <td>NaN</td>\n",
              "      <td>NaN</td>\n",
              "      <td>...</td>\n",
              "      <td>NaN</td>\n",
              "      <td>NaN</td>\n",
              "      <td>NaN</td>\n",
              "      <td>NaN</td>\n",
              "      <td>NaN</td>\n",
              "      <td>NaN</td>\n",
              "      <td>NaN</td>\n",
              "      <td>NaN</td>\n",
              "      <td>NaN</td>\n",
              "      <td>NaN</td>\n",
              "      <td>NaN</td>\n",
              "      <td>NaN</td>\n",
              "      <td>NaN</td>\n",
              "      <td>NaN</td>\n",
              "      <td>NaN</td>\n",
              "      <td>NaN</td>\n",
              "      <td>NaN</td>\n",
              "      <td>NaN</td>\n",
              "      <td>NaN</td>\n",
              "      <td>NaN</td>\n",
              "      <td>NaN</td>\n",
              "      <td>NaN</td>\n",
              "      <td>NaN</td>\n",
              "      <td>NaN</td>\n",
              "      <td>NaN</td>\n",
              "      <td>NaN</td>\n",
              "      <td>NaN</td>\n",
              "      <td>NaN</td>\n",
              "      <td>NaN</td>\n",
              "      <td>NaN</td>\n",
              "      <td>NaN</td>\n",
              "      <td>NaN</td>\n",
              "      <td>NaN</td>\n",
              "      <td>NaN</td>\n",
              "      <td>NaN</td>\n",
              "      <td>NaN</td>\n",
              "      <td>NaN</td>\n",
              "      <td>NaN</td>\n",
              "      <td>NaN</td>\n",
              "      <td>NaN</td>\n",
              "    </tr>\n",
              "    <tr>\n",
              "      <th>3</th>\n",
              "      <td>P9SZW3</td>\n",
              "      <td>2021-09-20 05:45:28+00:00</td>\n",
              "      <td>Received Email</td>\n",
              "      <td>{'Subject': 'Scopri Il duo di Omega 100% plant...</td>\n",
              "      <td>Scopri Il duo di Omega 100% plant based, migli...</td>\n",
              "      <td>omega</td>\n",
              "      <td>SEqPaS</td>\n",
              "      <td>gmail.com</td>\n",
              "      <td>1632116726:SEqPaS</td>\n",
              "      <td>NaN</td>\n",
              "      <td>NaN</td>\n",
              "      <td>NaN</td>\n",
              "      <td>NaN</td>\n",
              "      <td>NaN</td>\n",
              "      <td>0.0</td>\n",
              "      <td>SEqPaS:286836498443417915141184659064616930392</td>\n",
              "      <td>NaN</td>\n",
              "      <td>NaN</td>\n",
              "      <td>NaN</td>\n",
              "      <td>NaN</td>\n",
              "      <td>NaN</td>\n",
              "      <td>NaN</td>\n",
              "      <td>NaN</td>\n",
              "      <td>NaN</td>\n",
              "      <td>NaN</td>\n",
              "      <td>NaN</td>\n",
              "      <td>NaN</td>\n",
              "      <td>NaN</td>\n",
              "      <td>NaN</td>\n",
              "      <td>NaN</td>\n",
              "      <td>NaN</td>\n",
              "      <td>NaN</td>\n",
              "      <td>NaN</td>\n",
              "      <td>NaN</td>\n",
              "      <td>NaN</td>\n",
              "      <td>NaN</td>\n",
              "      <td>NaN</td>\n",
              "      <td>NaN</td>\n",
              "      <td>NaN</td>\n",
              "      <td>NaN</td>\n",
              "      <td>...</td>\n",
              "      <td>NaN</td>\n",
              "      <td>NaN</td>\n",
              "      <td>NaN</td>\n",
              "      <td>NaN</td>\n",
              "      <td>NaN</td>\n",
              "      <td>NaN</td>\n",
              "      <td>NaN</td>\n",
              "      <td>NaN</td>\n",
              "      <td>NaN</td>\n",
              "      <td>NaN</td>\n",
              "      <td>NaN</td>\n",
              "      <td>NaN</td>\n",
              "      <td>NaN</td>\n",
              "      <td>NaN</td>\n",
              "      <td>NaN</td>\n",
              "      <td>NaN</td>\n",
              "      <td>NaN</td>\n",
              "      <td>NaN</td>\n",
              "      <td>NaN</td>\n",
              "      <td>NaN</td>\n",
              "      <td>NaN</td>\n",
              "      <td>NaN</td>\n",
              "      <td>NaN</td>\n",
              "      <td>NaN</td>\n",
              "      <td>NaN</td>\n",
              "      <td>NaN</td>\n",
              "      <td>NaN</td>\n",
              "      <td>NaN</td>\n",
              "      <td>NaN</td>\n",
              "      <td>NaN</td>\n",
              "      <td>NaN</td>\n",
              "      <td>NaN</td>\n",
              "      <td>NaN</td>\n",
              "      <td>NaN</td>\n",
              "      <td>NaN</td>\n",
              "      <td>NaN</td>\n",
              "      <td>NaN</td>\n",
              "      <td>NaN</td>\n",
              "      <td>NaN</td>\n",
              "      <td>NaN</td>\n",
              "    </tr>\n",
              "    <tr>\n",
              "      <th>4</th>\n",
              "      <td>H9AiMX</td>\n",
              "      <td>2021-09-19 16:04:56+00:00</td>\n",
              "      <td>Opened Email</td>\n",
              "      <td>{'Subject': 'Piccolo momento autocelebrativo e...</td>\n",
              "      <td>Piccolo momento autocelebrativo e una super ne...</td>\n",
              "      <td>Paris events</td>\n",
              "      <td>WaN7SE</td>\n",
              "      <td>gmail.com</td>\n",
              "      <td>1632033598:WaN7SE</td>\n",
              "      <td>Other</td>\n",
              "      <td>Linux</td>\n",
              "      <td>Linux</td>\n",
              "      <td>Gmail image proxy</td>\n",
              "      <td>WaN7SE</td>\n",
              "      <td>0.0</td>\n",
              "      <td>WaN7SE:283352656448193129865678869410663648344...</td>\n",
              "      <td>NaN</td>\n",
              "      <td>NaN</td>\n",
              "      <td>NaN</td>\n",
              "      <td>NaN</td>\n",
              "      <td>NaN</td>\n",
              "      <td>NaN</td>\n",
              "      <td>NaN</td>\n",
              "      <td>NaN</td>\n",
              "      <td>NaN</td>\n",
              "      <td>NaN</td>\n",
              "      <td>NaN</td>\n",
              "      <td>NaN</td>\n",
              "      <td>NaN</td>\n",
              "      <td>NaN</td>\n",
              "      <td>NaN</td>\n",
              "      <td>NaN</td>\n",
              "      <td>NaN</td>\n",
              "      <td>NaN</td>\n",
              "      <td>NaN</td>\n",
              "      <td>NaN</td>\n",
              "      <td>NaN</td>\n",
              "      <td>NaN</td>\n",
              "      <td>NaN</td>\n",
              "      <td>NaN</td>\n",
              "      <td>...</td>\n",
              "      <td>NaN</td>\n",
              "      <td>NaN</td>\n",
              "      <td>NaN</td>\n",
              "      <td>NaN</td>\n",
              "      <td>NaN</td>\n",
              "      <td>NaN</td>\n",
              "      <td>NaN</td>\n",
              "      <td>NaN</td>\n",
              "      <td>NaN</td>\n",
              "      <td>NaN</td>\n",
              "      <td>NaN</td>\n",
              "      <td>NaN</td>\n",
              "      <td>NaN</td>\n",
              "      <td>NaN</td>\n",
              "      <td>NaN</td>\n",
              "      <td>NaN</td>\n",
              "      <td>NaN</td>\n",
              "      <td>NaN</td>\n",
              "      <td>NaN</td>\n",
              "      <td>NaN</td>\n",
              "      <td>NaN</td>\n",
              "      <td>NaN</td>\n",
              "      <td>NaN</td>\n",
              "      <td>NaN</td>\n",
              "      <td>NaN</td>\n",
              "      <td>NaN</td>\n",
              "      <td>NaN</td>\n",
              "      <td>NaN</td>\n",
              "      <td>NaN</td>\n",
              "      <td>NaN</td>\n",
              "      <td>NaN</td>\n",
              "      <td>NaN</td>\n",
              "      <td>NaN</td>\n",
              "      <td>NaN</td>\n",
              "      <td>NaN</td>\n",
              "      <td>NaN</td>\n",
              "      <td>NaN</td>\n",
              "      <td>NaN</td>\n",
              "      <td>NaN</td>\n",
              "      <td>NaN</td>\n",
              "    </tr>\n",
              "  </tbody>\n",
              "</table>\n",
              "<p>5 rows × 238 columns</p>\n",
              "</div>"
            ],
            "text/plain": [
              "  statistic_id                 timestamp  ... List Variant Option: Size\n",
              "0       H9AiMX 2021-09-22 14:40:48+00:00  ...  NaN                  NaN\n",
              "1       H9AiMX 2021-09-22 12:10:33+00:00  ...  NaN                  NaN\n",
              "2       P9SZW3 2021-09-22 10:28:24+00:00  ...  NaN                  NaN\n",
              "3       P9SZW3 2021-09-20 05:45:28+00:00  ...  NaN                  NaN\n",
              "4       H9AiMX 2021-09-19 16:04:56+00:00  ...  NaN                  NaN\n",
              "\n",
              "[5 rows x 238 columns]"
            ]
          },
          "metadata": {},
          "execution_count": 27
        }
      ]
    },
    {
      "cell_type": "code",
      "metadata": {
        "colab": {
          "base_uri": "https://localhost:8080/"
        },
        "id": "p5A1cr3KBlFm",
        "outputId": "b659d0ef-18b4-4681-e9a0-c5c97a1119de"
      },
      "source": [
        "customer_event1.columns.tolist()\n"
      ],
      "id": "p5A1cr3KBlFm",
      "execution_count": null,
      "outputs": [
        {
          "output_type": "execute_result",
          "data": {
            "text/plain": [
              "['statistic_id',\n",
              " 'timestamp',\n",
              " 'event_name',\n",
              " 'event_properties',\n",
              " 'Subject',\n",
              " 'Campaign Name',\n",
              " '$message',\n",
              " 'Email Domain',\n",
              " '$_cohort$message_send_cohort',\n",
              " '$ESP',\n",
              " '$event_id',\n",
              " 'Client Type',\n",
              " 'Client OS Family',\n",
              " 'Client OS',\n",
              " 'Client Name',\n",
              " '$message_interaction',\n",
              " 'page',\n",
              " 'browser',\n",
              " 'os',\n",
              " '$is_session_activity',\n",
              " '$attribution.$attributed_event_id',\n",
              " '$attribution.$send_ts',\n",
              " '$attribution.$message',\n",
              " 'URL',\n",
              " 'Items',\n",
              " 'Collections',\n",
              " 'Item Count',\n",
              " 'tags',\n",
              " 'Discount Codes',\n",
              " 'Total Discounts',\n",
              " 'Source Name',\n",
              " '$currency_code',\n",
              " 'FulfillmentStatus',\n",
              " 'FulfillmentHours',\n",
              " 'HasPartialFulfillments',\n",
              " '$value',\n",
              " '$extra.id',\n",
              " '$extra.admin_graphql_api_id',\n",
              " '$extra.app_id',\n",
              " '$extra.browser_ip',\n",
              " '$extra.buyer_accepts_marketing',\n",
              " '$extra.cancel_reason',\n",
              " '$extra.cancelled_at',\n",
              " '$extra.cart_token',\n",
              " '$extra.checkout_id',\n",
              " '$extra.checkout_token',\n",
              " '$extra.client_details.accept_language',\n",
              " '$extra.client_details.browser_height',\n",
              " '$extra.client_details.browser_ip',\n",
              " '$extra.client_details.browser_width',\n",
              " '$extra.client_details.session_hash',\n",
              " '$extra.client_details.user_agent',\n",
              " '$extra.closed_at',\n",
              " '$extra.confirmed',\n",
              " '$extra.contact_email',\n",
              " '$extra.created_at',\n",
              " '$extra.currency',\n",
              " '$extra.current_subtotal_price',\n",
              " '$extra.current_subtotal_price_set.shop_money.amount',\n",
              " '$extra.current_subtotal_price_set.shop_money.currency_code',\n",
              " '$extra.current_subtotal_price_set.presentment_money.amount',\n",
              " '$extra.current_subtotal_price_set.presentment_money.currency_code',\n",
              " '$extra.current_total_discounts',\n",
              " '$extra.current_total_discounts_set.shop_money.amount',\n",
              " '$extra.current_total_discounts_set.shop_money.currency_code',\n",
              " '$extra.current_total_discounts_set.presentment_money.amount',\n",
              " '$extra.current_total_discounts_set.presentment_money.currency_code',\n",
              " '$extra.current_total_duties_set',\n",
              " '$extra.current_total_price',\n",
              " '$extra.current_total_price_set.shop_money.amount',\n",
              " '$extra.current_total_price_set.shop_money.currency_code',\n",
              " '$extra.current_total_price_set.presentment_money.amount',\n",
              " '$extra.current_total_price_set.presentment_money.currency_code',\n",
              " '$extra.current_total_tax',\n",
              " '$extra.current_total_tax_set.shop_money.amount',\n",
              " '$extra.current_total_tax_set.shop_money.currency_code',\n",
              " '$extra.current_total_tax_set.presentment_money.amount',\n",
              " '$extra.current_total_tax_set.presentment_money.currency_code',\n",
              " '$extra.customer_locale',\n",
              " '$extra.device_id',\n",
              " '$extra.discount_codes',\n",
              " '$extra.email',\n",
              " '$extra.financial_status',\n",
              " '$extra.fulfillment_status',\n",
              " '$extra.gateway',\n",
              " '$extra.landing_site',\n",
              " '$extra.landing_site_ref',\n",
              " '$extra.location_id',\n",
              " '$extra.name',\n",
              " '$extra.note',\n",
              " '$extra.note_attributes',\n",
              " '$extra.number',\n",
              " '$extra.order_number',\n",
              " '$extra.order_status_url',\n",
              " '$extra.original_total_duties_set',\n",
              " '$extra.payment_gateway_names',\n",
              " '$extra.phone',\n",
              " '$extra.presentment_currency',\n",
              " '$extra.processed_at',\n",
              " '$extra.processing_method',\n",
              " '$extra.reference',\n",
              " '$extra.referring_site',\n",
              " '$extra.source_identifier',\n",
              " '$extra.source_name',\n",
              " '$extra.source_url',\n",
              " '$extra.subtotal_price',\n",
              " '$extra.subtotal_price_set.shop_money.amount',\n",
              " '$extra.subtotal_price_set.shop_money.currency_code',\n",
              " '$extra.subtotal_price_set.presentment_money.amount',\n",
              " '$extra.subtotal_price_set.presentment_money.currency_code',\n",
              " '$extra.tags',\n",
              " '$extra.tax_lines',\n",
              " '$extra.taxes_included',\n",
              " '$extra.test',\n",
              " '$extra.token',\n",
              " '$extra.total_discounts',\n",
              " '$extra.total_discounts_set.shop_money.amount',\n",
              " '$extra.total_discounts_set.shop_money.currency_code',\n",
              " '$extra.total_discounts_set.presentment_money.amount',\n",
              " '$extra.total_discounts_set.presentment_money.currency_code',\n",
              " '$extra.total_line_items_price',\n",
              " '$extra.total_line_items_price_set.shop_money.amount',\n",
              " '$extra.total_line_items_price_set.shop_money.currency_code',\n",
              " '$extra.total_line_items_price_set.presentment_money.amount',\n",
              " '$extra.total_line_items_price_set.presentment_money.currency_code',\n",
              " '$extra.total_outstanding',\n",
              " '$extra.total_price',\n",
              " '$extra.total_price_set.shop_money.amount',\n",
              " '$extra.total_price_set.shop_money.currency_code',\n",
              " '$extra.total_price_set.presentment_money.amount',\n",
              " '$extra.total_price_set.presentment_money.currency_code',\n",
              " '$extra.total_price_usd',\n",
              " '$extra.total_shipping_price_set.shop_money.amount',\n",
              " '$extra.total_shipping_price_set.shop_money.currency_code',\n",
              " '$extra.total_shipping_price_set.presentment_money.amount',\n",
              " '$extra.total_shipping_price_set.presentment_money.currency_code',\n",
              " '$extra.total_tax',\n",
              " '$extra.total_tax_set.shop_money.amount',\n",
              " '$extra.total_tax_set.shop_money.currency_code',\n",
              " '$extra.total_tax_set.presentment_money.amount',\n",
              " '$extra.total_tax_set.presentment_money.currency_code',\n",
              " '$extra.total_tip_received',\n",
              " '$extra.total_weight',\n",
              " '$extra.updated_at',\n",
              " '$extra.user_id',\n",
              " '$extra.billing_address.first_name',\n",
              " '$extra.billing_address.address1',\n",
              " '$extra.billing_address.phone',\n",
              " '$extra.billing_address.city',\n",
              " '$extra.billing_address.zip',\n",
              " '$extra.billing_address.province',\n",
              " '$extra.billing_address.country',\n",
              " '$extra.billing_address.last_name',\n",
              " '$extra.billing_address.address2',\n",
              " '$extra.billing_address.company',\n",
              " '$extra.billing_address.latitude',\n",
              " '$extra.billing_address.longitude',\n",
              " '$extra.billing_address.name',\n",
              " '$extra.billing_address.country_code',\n",
              " '$extra.billing_address.province_code',\n",
              " '$extra.customer.id',\n",
              " '$extra.customer.email',\n",
              " '$extra.customer.accepts_marketing',\n",
              " '$extra.customer.created_at',\n",
              " '$extra.customer.updated_at',\n",
              " '$extra.customer.first_name',\n",
              " '$extra.customer.last_name',\n",
              " '$extra.customer.orders_count',\n",
              " '$extra.customer.state',\n",
              " '$extra.customer.total_spent',\n",
              " '$extra.customer.last_order_id',\n",
              " '$extra.customer.note',\n",
              " '$extra.customer.verified_email',\n",
              " '$extra.customer.multipass_identifier',\n",
              " '$extra.customer.tax_exempt',\n",
              " '$extra.customer.phone',\n",
              " '$extra.customer.tags',\n",
              " '$extra.customer.last_order_name',\n",
              " '$extra.customer.currency',\n",
              " '$extra.customer.accepts_marketing_updated_at',\n",
              " '$extra.customer.marketing_opt_in_level',\n",
              " '$extra.customer.tax_exemptions',\n",
              " '$extra.customer.admin_graphql_api_id',\n",
              " '$extra.customer.default_address.id',\n",
              " '$extra.customer.default_address.customer_id',\n",
              " '$extra.customer.default_address.first_name',\n",
              " '$extra.customer.default_address.last_name',\n",
              " '$extra.customer.default_address.company',\n",
              " '$extra.customer.default_address.address1',\n",
              " '$extra.customer.default_address.address2',\n",
              " '$extra.customer.default_address.city',\n",
              " '$extra.customer.default_address.province',\n",
              " '$extra.customer.default_address.country',\n",
              " '$extra.customer.default_address.zip',\n",
              " '$extra.customer.default_address.phone',\n",
              " '$extra.customer.default_address.name',\n",
              " '$extra.customer.default_address.province_code',\n",
              " '$extra.customer.default_address.country_code',\n",
              " '$extra.customer.default_address.country_name',\n",
              " '$extra.customer.default_address.default',\n",
              " '$extra.discount_applications',\n",
              " '$extra.fulfillments',\n",
              " '$extra.line_items',\n",
              " '$extra.refunds',\n",
              " '$extra.shipping_address.first_name',\n",
              " '$extra.shipping_address.address1',\n",
              " '$extra.shipping_address.phone',\n",
              " '$extra.shipping_address.city',\n",
              " '$extra.shipping_address.zip',\n",
              " '$extra.shipping_address.province',\n",
              " '$extra.shipping_address.country',\n",
              " '$extra.shipping_address.last_name',\n",
              " '$extra.shipping_address.address2',\n",
              " '$extra.shipping_address.company',\n",
              " '$extra.shipping_address.latitude',\n",
              " '$extra.shipping_address.longitude',\n",
              " '$extra.shipping_address.name',\n",
              " '$extra.shipping_address.country_code',\n",
              " '$extra.shipping_address.province_code',\n",
              " '$extra.shipping_lines',\n",
              " '$extra.webhook_id',\n",
              " '$extra.full_landing_site',\n",
              " '$attribution.$flow',\n",
              " '$flow',\n",
              " 'ProductID',\n",
              " 'Name',\n",
              " 'Variant Name',\n",
              " 'SKU',\n",
              " 'Tags',\n",
              " 'Vendor',\n",
              " 'Variant Option: Size',\n",
              " 'Quantity',\n",
              " 'Variant Option: Durata:',\n",
              " '$extra.webhook_topic',\n",
              " '$extra.responsive_checkout_url',\n",
              " '$extra.checkout_url',\n",
              " 'ShippingRate',\n",
              " 'Variant Option: Title',\n",
              " '$session_end']"
            ]
          },
          "metadata": {},
          "execution_count": 28
        }
      ]
    },
    {
      "cell_type": "code",
      "metadata": {
        "colab": {
          "base_uri": "https://localhost:8080/"
        },
        "id": "jSQ9AKubigNA",
        "outputId": "19b46cd3-dbfa-4fdb-fd63-02dc3c844bd2"
      },
      "source": [
        "customer_event2.columns.tolist()\n"
      ],
      "id": "jSQ9AKubigNA",
      "execution_count": null,
      "outputs": [
        {
          "output_type": "execute_result",
          "data": {
            "text/plain": [
              "['statistic_id',\n",
              " 'timestamp',\n",
              " 'event_name',\n",
              " 'event_properties',\n",
              " 'Subject',\n",
              " 'Campaign Name',\n",
              " '$message',\n",
              " 'Email Domain',\n",
              " '$_cohort$message_send_cohort',\n",
              " 'Client Type',\n",
              " 'Client OS Family',\n",
              " 'Client OS',\n",
              " 'Client Name',\n",
              " '$message_interaction',\n",
              " '$ESP',\n",
              " '$event_id',\n",
              " '$flow',\n",
              " 'URL',\n",
              " 'page',\n",
              " 'browser',\n",
              " 'os',\n",
              " '$is_session_activity',\n",
              " '$attribution.$attributed_event_id',\n",
              " '$attribution.$send_ts',\n",
              " '$attribution.$message',\n",
              " 'Client Canonical',\n",
              " 'Items',\n",
              " 'Collections',\n",
              " 'Item Count',\n",
              " 'tags',\n",
              " '$currency_code',\n",
              " 'ShippingRate',\n",
              " 'Discount Codes',\n",
              " 'Total Discounts',\n",
              " 'Source Name',\n",
              " 'FulfillmentStatus',\n",
              " 'FulfillmentHours',\n",
              " '$value',\n",
              " '$extra.current_subtotal_price',\n",
              " '$extra.source_name',\n",
              " '$extra.buyer_accepts_marketing',\n",
              " '$extra.reference',\n",
              " '$extra.updated_at',\n",
              " '$extra.total_price_usd',\n",
              " '$extra.cart_token',\n",
              " '$extra.current_total_discounts_set.shop_money.amount',\n",
              " '$extra.current_total_discounts_set.shop_money.currency_code',\n",
              " '$extra.current_total_discounts_set.presentment_money.amount',\n",
              " '$extra.current_total_discounts_set.presentment_money.currency_code',\n",
              " '$extra.processing_method',\n",
              " '$extra.app_id',\n",
              " '$extra.taxes_included',\n",
              " '$extra.currency',\n",
              " '$extra.total_outstanding',\n",
              " '$extra.billing_address.province',\n",
              " '$extra.billing_address.city',\n",
              " '$extra.billing_address.first_name',\n",
              " '$extra.billing_address.last_name',\n",
              " '$extra.billing_address.name',\n",
              " '$extra.billing_address.zip',\n",
              " '$extra.billing_address.province_code',\n",
              " '$extra.billing_address.address1',\n",
              " '$extra.billing_address.address2',\n",
              " '$extra.billing_address.longitude',\n",
              " '$extra.billing_address.phone',\n",
              " '$extra.billing_address.country_code',\n",
              " '$extra.billing_address.country',\n",
              " '$extra.billing_address.latitude',\n",
              " '$extra.billing_address.company',\n",
              " '$extra.total_tip_received',\n",
              " '$extra.source_identifier',\n",
              " '$extra.closed_at',\n",
              " '$extra.processed_at',\n",
              " '$extra.checkout_token',\n",
              " '$extra.current_total_duties_set',\n",
              " '$extra.location_id',\n",
              " '$extra.id',\n",
              " '$extra.webhook_id',\n",
              " '$extra.total_shipping_price_set.shop_money.amount',\n",
              " '$extra.total_shipping_price_set.shop_money.currency_code',\n",
              " '$extra.total_shipping_price_set.presentment_money.amount',\n",
              " '$extra.total_shipping_price_set.presentment_money.currency_code',\n",
              " '$extra.confirmed',\n",
              " '$extra.discount_codes',\n",
              " '$extra.fulfillments',\n",
              " '$extra.total_tax_set.shop_money.amount',\n",
              " '$extra.total_tax_set.shop_money.currency_code',\n",
              " '$extra.total_tax_set.presentment_money.amount',\n",
              " '$extra.total_tax_set.presentment_money.currency_code',\n",
              " '$extra.current_total_tax',\n",
              " '$extra.tags',\n",
              " '$extra.token',\n",
              " '$extra.financial_status',\n",
              " '$extra.current_subtotal_price_set.shop_money.amount',\n",
              " '$extra.current_subtotal_price_set.shop_money.currency_code',\n",
              " '$extra.current_subtotal_price_set.presentment_money.amount',\n",
              " '$extra.current_subtotal_price_set.presentment_money.currency_code',\n",
              " '$extra.note',\n",
              " '$extra.landing_site',\n",
              " '$extra.current_total_discounts',\n",
              " '$extra.gateway',\n",
              " '$extra.current_total_price',\n",
              " '$extra.total_line_items_price',\n",
              " '$extra.cancelled_at',\n",
              " '$extra.test',\n",
              " '$extra.subtotal_price_set.shop_money.amount',\n",
              " '$extra.subtotal_price_set.shop_money.currency_code',\n",
              " '$extra.subtotal_price_set.presentment_money.amount',\n",
              " '$extra.subtotal_price_set.presentment_money.currency_code',\n",
              " '$extra.original_total_duties_set',\n",
              " '$extra.email',\n",
              " '$extra.admin_graphql_api_id',\n",
              " '$extra.total_tax',\n",
              " '$extra.total_line_items_price_set.shop_money.amount',\n",
              " '$extra.total_line_items_price_set.shop_money.currency_code',\n",
              " '$extra.total_line_items_price_set.presentment_money.amount',\n",
              " '$extra.total_line_items_price_set.presentment_money.currency_code',\n",
              " '$extra.cancel_reason',\n",
              " '$extra.tax_lines',\n",
              " '$extra.landing_site_ref',\n",
              " '$extra.current_total_price_set.shop_money.amount',\n",
              " '$extra.current_total_price_set.shop_money.currency_code',\n",
              " '$extra.current_total_price_set.presentment_money.amount',\n",
              " '$extra.current_total_price_set.presentment_money.currency_code',\n",
              " '$extra.discount_applications',\n",
              " '$extra.presentment_currency',\n",
              " '$extra.checkout_id',\n",
              " '$extra.phone',\n",
              " '$extra.contact_email',\n",
              " '$extra.number',\n",
              " '$extra.current_total_tax_set.shop_money.amount',\n",
              " '$extra.current_total_tax_set.shop_money.currency_code',\n",
              " '$extra.current_total_tax_set.presentment_money.amount',\n",
              " '$extra.current_total_tax_set.presentment_money.currency_code',\n",
              " '$extra.source_url',\n",
              " '$extra.customer.last_order_id',\n",
              " '$extra.customer.last_name',\n",
              " '$extra.customer.orders_count',\n",
              " '$extra.customer.updated_at',\n",
              " '$extra.customer.currency',\n",
              " '$extra.customer.accepts_marketing',\n",
              " '$extra.customer.marketing_opt_in_level',\n",
              " '$extra.customer.verified_email',\n",
              " '$extra.customer.first_name',\n",
              " '$extra.customer.id',\n",
              " '$extra.customer.note',\n",
              " '$extra.customer.state',\n",
              " '$extra.customer.default_address.province',\n",
              " '$extra.customer.default_address.city',\n",
              " '$extra.customer.default_address.first_name',\n",
              " '$extra.customer.default_address.last_name',\n",
              " '$extra.customer.default_address.address2',\n",
              " '$extra.customer.default_address.name',\n",
              " '$extra.customer.default_address.zip',\n",
              " '$extra.customer.default_address.province_code',\n",
              " '$extra.customer.default_address.default',\n",
              " '$extra.customer.default_address.address1',\n",
              " '$extra.customer.default_address.company',\n",
              " '$extra.customer.default_address.phone',\n",
              " '$extra.customer.default_address.country_code',\n",
              " '$extra.customer.default_address.country',\n",
              " '$extra.customer.default_address.country_name',\n",
              " '$extra.customer.default_address.customer_id',\n",
              " '$extra.customer.default_address.id',\n",
              " '$extra.customer.accepts_marketing_updated_at',\n",
              " '$extra.customer.email',\n",
              " '$extra.customer.admin_graphql_api_id',\n",
              " '$extra.customer.total_spent',\n",
              " '$extra.customer.tags',\n",
              " '$extra.customer.phone',\n",
              " '$extra.customer.tax_exempt',\n",
              " '$extra.customer.last_order_name',\n",
              " '$extra.customer.created_at',\n",
              " '$extra.customer.multipass_identifier',\n",
              " '$extra.browser_ip',\n",
              " '$extra.device_id',\n",
              " '$extra.referring_site',\n",
              " '$extra.line_items',\n",
              " '$extra.shipping_lines',\n",
              " '$extra.total_price',\n",
              " '$extra.name',\n",
              " '$extra.refunds',\n",
              " '$extra.user_id',\n",
              " '$extra.order_number',\n",
              " '$extra.created_at',\n",
              " '$extra.payment_gateway_names',\n",
              " '$extra.total_discounts_set.shop_money.amount',\n",
              " '$extra.total_discounts_set.shop_money.currency_code',\n",
              " '$extra.total_discounts_set.presentment_money.amount',\n",
              " '$extra.total_discounts_set.presentment_money.currency_code',\n",
              " '$extra.note_attributes',\n",
              " '$extra.fulfillment_status',\n",
              " '$extra.customer_locale',\n",
              " '$extra.total_price_set.shop_money.amount',\n",
              " '$extra.total_price_set.shop_money.currency_code',\n",
              " '$extra.total_price_set.presentment_money.amount',\n",
              " '$extra.total_price_set.presentment_money.currency_code',\n",
              " '$extra.shipping_address.province',\n",
              " '$extra.shipping_address.city',\n",
              " '$extra.shipping_address.first_name',\n",
              " '$extra.shipping_address.last_name',\n",
              " '$extra.shipping_address.name',\n",
              " '$extra.shipping_address.zip',\n",
              " '$extra.shipping_address.province_code',\n",
              " '$extra.shipping_address.address1',\n",
              " '$extra.shipping_address.address2',\n",
              " '$extra.shipping_address.longitude',\n",
              " '$extra.shipping_address.phone',\n",
              " '$extra.shipping_address.country_code',\n",
              " '$extra.shipping_address.country',\n",
              " '$extra.shipping_address.latitude',\n",
              " '$extra.shipping_address.company',\n",
              " '$extra.total_discounts',\n",
              " '$extra.order_status_url',\n",
              " '$extra.client_details.browser_width',\n",
              " '$extra.client_details.user_agent',\n",
              " '$extra.client_details.accept_language',\n",
              " '$extra.client_details.browser_height',\n",
              " '$extra.client_details.session_hash',\n",
              " '$extra.client_details.browser_ip',\n",
              " '$extra.subtotal_price',\n",
              " '$extra.total_weight',\n",
              " '$extra.full_landing_site',\n",
              " '$attribution.$flow',\n",
              " 'ProductID',\n",
              " 'Name',\n",
              " 'Variant Name',\n",
              " 'SKU',\n",
              " 'Tags',\n",
              " 'Vendor',\n",
              " 'Variant Option: Title',\n",
              " 'Quantity',\n",
              " '$extra.webhook_topic',\n",
              " '$extra.responsive_checkout_url',\n",
              " '$extra.checkout_url',\n",
              " '$session_end',\n",
              " 'List',\n",
              " 'Variant Option: Size']"
            ]
          },
          "metadata": {},
          "execution_count": 13
        }
      ]
    },
    {
      "cell_type": "code",
      "metadata": {
        "colab": {
          "base_uri": "https://localhost:8080/"
        },
        "id": "qpjqZRUoi17q",
        "outputId": "7655e520-9bcf-4d25-ccfd-2c8e103682f0"
      },
      "source": [
        "customer_event1.columns.tolist() == customer_event2.columns.tolist()\n",
        "\n"
      ],
      "id": "qpjqZRUoi17q",
      "execution_count": null,
      "outputs": [
        {
          "output_type": "execute_result",
          "data": {
            "text/plain": [
              "False"
            ]
          },
          "metadata": {},
          "execution_count": 14
        }
      ]
    },
    {
      "cell_type": "code",
      "metadata": {
        "colab": {
          "base_uri": "https://localhost:8080/"
        },
        "id": "vyQdqihrjBNk",
        "outputId": "63f38745-8d43-4d02-8ec1-b6f8da9f82c9"
      },
      "source": [
        "for i in range(238): \n",
        "  if customer_event1.columns.tolist()[i] == customer_event2.columns.tolist()[i] : \n",
        "   print(customer_event1.columns.tolist()[i]) \n",
        "   "
      ],
      "id": "vyQdqihrjBNk",
      "execution_count": null,
      "outputs": [
        {
          "output_type": "stream",
          "name": "stdout",
          "text": [
            "statistic_id\n",
            "timestamp\n",
            "event_name\n",
            "event_properties\n",
            "Subject\n",
            "Campaign Name\n",
            "$message\n",
            "Email Domain\n",
            "$_cohort$message_send_cohort\n",
            "$extra.buyer_accepts_marketing\n",
            "$extra.customer.multipass_identifier\n",
            "ProductID\n",
            "Name\n",
            "Variant Name\n",
            "SKU\n",
            "Tags\n",
            "Vendor\n",
            "Quantity\n"
          ]
        }
      ]
    },
    {
      "cell_type": "code",
      "metadata": {
        "colab": {
          "base_uri": "https://localhost:8080/"
        },
        "id": "Q62JVHJH0t5n",
        "outputId": "bb8c1233-51b9-4b15-a22d-f5659a25b901"
      },
      "source": [
        "customer_event1[\"$extra.name\"]"
      ],
      "id": "Q62JVHJH0t5n",
      "execution_count": null,
      "outputs": [
        {
          "output_type": "execute_result",
          "data": {
            "text/plain": [
              "0         NaN\n",
              "1         NaN\n",
              "2         NaN\n",
              "3         NaN\n",
              "4         NaN\n",
              "        ...  \n",
              "531       NaN\n",
              "532       NaN\n",
              "533       NaN\n",
              "534       NaN\n",
              "535    #12828\n",
              "Name: $extra.name, Length: 536, dtype: object"
            ]
          },
          "metadata": {},
          "execution_count": 19
        }
      ]
    },
    {
      "cell_type": "code",
      "metadata": {
        "colab": {
          "base_uri": "https://localhost:8080/"
        },
        "id": "dEUAbYY202y7",
        "outputId": "830bf311-3c9a-494e-835c-8d32690357a2"
      },
      "source": [
        "customer_event1[\"$extra.name\"].value_counts()"
      ],
      "id": "dEUAbYY202y7",
      "execution_count": null,
      "outputs": [
        {
          "output_type": "execute_result",
          "data": {
            "text/plain": [
              "#13456    2\n",
              "#14115    2\n",
              "#13490    2\n",
              "#12828    2\n",
              "#13552    2\n",
              "Name: $extra.name, dtype: int64"
            ]
          },
          "metadata": {},
          "execution_count": 21
        }
      ]
    },
    {
      "cell_type": "code",
      "metadata": {
        "colab": {
          "base_uri": "https://localhost:8080/"
        },
        "id": "lk2i0k-J1Hbh",
        "outputId": "168bccaa-ece1-47bb-c400-ca31da55d737"
      },
      "source": [
        "customer_event2[\"$extra.name\"].value_counts()"
      ],
      "id": "lk2i0k-J1Hbh",
      "execution_count": null,
      "outputs": [
        {
          "output_type": "execute_result",
          "data": {
            "text/plain": [
              "#11221    2\n",
              "#10992    2\n",
              "#13054    2\n",
              "#13302    2\n",
              "Name: $extra.name, dtype: int64"
            ]
          },
          "metadata": {},
          "execution_count": 22
        }
      ]
    },
    {
      "cell_type": "code",
      "metadata": {
        "colab": {
          "base_uri": "https://localhost:8080/"
        },
        "id": "fhCicAkrOcFd",
        "outputId": "2f802982-b334-4af9-e706-8b2f6f249d00"
      },
      "source": [
        "customer_event1[\"$extra.customer.multipass_identifier\"].value_counts()"
      ],
      "id": "fhCicAkrOcFd",
      "execution_count": null,
      "outputs": [
        {
          "output_type": "execute_result",
          "data": {
            "text/plain": [
              "Series([], Name: $extra.customer.multipass_identifier, dtype: int64)"
            ]
          },
          "metadata": {},
          "execution_count": 14
        }
      ]
    },
    {
      "cell_type": "code",
      "metadata": {
        "colab": {
          "base_uri": "https://localhost:8080/"
        },
        "id": "CruZx6vkOsN6",
        "outputId": "6e88223e-b5b1-46a6-e937-7ac7ad3fa13c"
      },
      "source": [
        "customer_event1[\"event_name\"].value_counts()"
      ],
      "id": "CruZx6vkOsN6",
      "execution_count": null,
      "outputs": [
        {
          "output_type": "execute_result",
          "data": {
            "text/plain": [
              "Opened Email        317\n",
              "Received Email      129\n",
              "Ordered Product      36\n",
              "Clicked Email        28\n",
              "Active on Site       15\n",
              "Placed Order          5\n",
              "Fulfilled Order       4\n",
              "Cancelled Order       1\n",
              "Checkout Started      1\n",
              "Name: event_name, dtype: int64"
            ]
          },
          "metadata": {},
          "execution_count": 15
        }
      ]
    },
    {
      "cell_type": "code",
      "metadata": {
        "colab": {
          "base_uri": "https://localhost:8080/"
        },
        "id": "65X85-0CO1rX",
        "outputId": "5275e94b-940d-40b4-ac1e-bacb94ed83d0"
      },
      "source": [
        "customer_event1[\"ProductID\"].value_counts()"
      ],
      "id": "65X85-0CO1rX",
      "execution_count": null,
      "outputs": [
        {
          "output_type": "execute_result",
          "data": {
            "text/plain": [
              "6.567818e+12    14\n",
              "4.721024e+12     4\n",
              "6.187473e+12     4\n",
              "6.272111e+12     4\n",
              "4.721207e+12     3\n",
              "6.272115e+12     2\n",
              "7.006571e+12     1\n",
              "6.693658e+12     1\n",
              "6.272133e+12     1\n",
              "6.272128e+12     1\n",
              "6.272119e+12     1\n",
              "Name: ProductID, dtype: int64"
            ]
          },
          "metadata": {},
          "execution_count": 16
        }
      ]
    },
    {
      "cell_type": "code",
      "metadata": {
        "colab": {
          "base_uri": "https://localhost:8080/"
        },
        "id": "lKMrYLBqP0ZU",
        "outputId": "c2f02c93-f8a9-483e-ef56-d1f1399a0760"
      },
      "source": [
        "customer_event2[\"ProductID\"].value_counts()"
      ],
      "id": "lKMrYLBqP0ZU",
      "execution_count": null,
      "outputs": [
        {
          "output_type": "execute_result",
          "data": {
            "text/plain": [
              "4.050038e+12    3\n",
              "6.587348e+12    2\n",
              "Name: ProductID, dtype: int64"
            ]
          },
          "metadata": {},
          "execution_count": 17
        }
      ]
    },
    {
      "cell_type": "code",
      "metadata": {
        "colab": {
          "base_uri": "https://localhost:8080/",
          "height": 847
        },
        "id": "PTkfwV2SlMnL",
        "outputId": "60f0a253-f2ef-4836-8fbb-9191cfd4f127"
      },
      "source": [
        "customer_event1[[\"statistic_id\",\n",
        "\"timestamp\",\n",
        "\"event_name\",\n",
        "\"event_properties\",\n",
        "\"Subject\",\n",
        "\"Campaign Name\",\n",
        "\"$message\",\n",
        "\"Email Domain\",\n",
        "\"$_cohort$message_send_cohort\",\n",
        "\"$extra.buyer_accepts_marketing\",\n",
        "\"$extra.customer.multipass_identifier\",\n",
        "\"ProductID\",\n",
        "\"Name\",\n",
        "\"Variant Name\",\n",
        "\"SKU\",\n",
        "\"Tags\",\n",
        "\"Vendor\",\n",
        "\"Quantity\"]]"
      ],
      "id": "PTkfwV2SlMnL",
      "execution_count": null,
      "outputs": [
        {
          "output_type": "execute_result",
          "data": {
            "text/html": [
              "<div>\n",
              "<style scoped>\n",
              "    .dataframe tbody tr th:only-of-type {\n",
              "        vertical-align: middle;\n",
              "    }\n",
              "\n",
              "    .dataframe tbody tr th {\n",
              "        vertical-align: top;\n",
              "    }\n",
              "\n",
              "    .dataframe thead th {\n",
              "        text-align: right;\n",
              "    }\n",
              "</style>\n",
              "<table border=\"1\" class=\"dataframe\">\n",
              "  <thead>\n",
              "    <tr style=\"text-align: right;\">\n",
              "      <th></th>\n",
              "      <th>statistic_id</th>\n",
              "      <th>timestamp</th>\n",
              "      <th>event_name</th>\n",
              "      <th>event_properties</th>\n",
              "      <th>Subject</th>\n",
              "      <th>Campaign Name</th>\n",
              "      <th>$message</th>\n",
              "      <th>Email Domain</th>\n",
              "      <th>$_cohort$message_send_cohort</th>\n",
              "      <th>$extra.buyer_accepts_marketing</th>\n",
              "      <th>$extra.customer.multipass_identifier</th>\n",
              "      <th>ProductID</th>\n",
              "      <th>Name</th>\n",
              "      <th>Variant Name</th>\n",
              "      <th>SKU</th>\n",
              "      <th>Tags</th>\n",
              "      <th>Vendor</th>\n",
              "      <th>Quantity</th>\n",
              "    </tr>\n",
              "  </thead>\n",
              "  <tbody>\n",
              "    <tr>\n",
              "      <th>0</th>\n",
              "      <td>H9AiMX</td>\n",
              "      <td>2021-09-22 14:40:48+00:00</td>\n",
              "      <td>Opened Email</td>\n",
              "      <td>{'Subject': 'Tempo di depurarsi ✨', 'Campaign ...</td>\n",
              "      <td>Tempo di depurarsi ✨</td>\n",
              "      <td>equinox</td>\n",
              "      <td>X8RJvZ</td>\n",
              "      <td>gmail.com</td>\n",
              "      <td>1632306503:X8RJvZ</td>\n",
              "      <td>NaN</td>\n",
              "      <td>NaN</td>\n",
              "      <td>NaN</td>\n",
              "      <td>NaN</td>\n",
              "      <td>NaN</td>\n",
              "      <td>NaN</td>\n",
              "      <td>NaN</td>\n",
              "      <td>NaN</td>\n",
              "      <td>NaN</td>\n",
              "    </tr>\n",
              "    <tr>\n",
              "      <th>1</th>\n",
              "      <td>H9AiMX</td>\n",
              "      <td>2021-09-22 12:10:33+00:00</td>\n",
              "      <td>Opened Email</td>\n",
              "      <td>{'Subject': 'Tempo di depurarsi ✨', 'Campaign ...</td>\n",
              "      <td>Tempo di depurarsi ✨</td>\n",
              "      <td>equinox</td>\n",
              "      <td>X8RJvZ</td>\n",
              "      <td>gmail.com</td>\n",
              "      <td>1632306503:X8RJvZ</td>\n",
              "      <td>NaN</td>\n",
              "      <td>NaN</td>\n",
              "      <td>NaN</td>\n",
              "      <td>NaN</td>\n",
              "      <td>NaN</td>\n",
              "      <td>NaN</td>\n",
              "      <td>NaN</td>\n",
              "      <td>NaN</td>\n",
              "      <td>NaN</td>\n",
              "    </tr>\n",
              "    <tr>\n",
              "      <th>2</th>\n",
              "      <td>P9SZW3</td>\n",
              "      <td>2021-09-22 10:28:24+00:00</td>\n",
              "      <td>Received Email</td>\n",
              "      <td>{'Subject': 'Tempo di depurarsi ✨', 'Campaign ...</td>\n",
              "      <td>Tempo di depurarsi ✨</td>\n",
              "      <td>equinox</td>\n",
              "      <td>X8RJvZ</td>\n",
              "      <td>gmail.com</td>\n",
              "      <td>1632306503:X8RJvZ</td>\n",
              "      <td>NaN</td>\n",
              "      <td>NaN</td>\n",
              "      <td>NaN</td>\n",
              "      <td>NaN</td>\n",
              "      <td>NaN</td>\n",
              "      <td>NaN</td>\n",
              "      <td>NaN</td>\n",
              "      <td>NaN</td>\n",
              "      <td>NaN</td>\n",
              "    </tr>\n",
              "    <tr>\n",
              "      <th>3</th>\n",
              "      <td>P9SZW3</td>\n",
              "      <td>2021-09-20 05:45:28+00:00</td>\n",
              "      <td>Received Email</td>\n",
              "      <td>{'Subject': 'Scopri Il duo di Omega 100% plant...</td>\n",
              "      <td>Scopri Il duo di Omega 100% plant based, migli...</td>\n",
              "      <td>omega</td>\n",
              "      <td>SEqPaS</td>\n",
              "      <td>gmail.com</td>\n",
              "      <td>1632116726:SEqPaS</td>\n",
              "      <td>NaN</td>\n",
              "      <td>NaN</td>\n",
              "      <td>NaN</td>\n",
              "      <td>NaN</td>\n",
              "      <td>NaN</td>\n",
              "      <td>NaN</td>\n",
              "      <td>NaN</td>\n",
              "      <td>NaN</td>\n",
              "      <td>NaN</td>\n",
              "    </tr>\n",
              "    <tr>\n",
              "      <th>4</th>\n",
              "      <td>H9AiMX</td>\n",
              "      <td>2021-09-19 16:04:56+00:00</td>\n",
              "      <td>Opened Email</td>\n",
              "      <td>{'Subject': 'Piccolo momento autocelebrativo e...</td>\n",
              "      <td>Piccolo momento autocelebrativo e una super ne...</td>\n",
              "      <td>Paris events</td>\n",
              "      <td>WaN7SE</td>\n",
              "      <td>gmail.com</td>\n",
              "      <td>1632033598:WaN7SE</td>\n",
              "      <td>NaN</td>\n",
              "      <td>NaN</td>\n",
              "      <td>NaN</td>\n",
              "      <td>NaN</td>\n",
              "      <td>NaN</td>\n",
              "      <td>NaN</td>\n",
              "      <td>NaN</td>\n",
              "      <td>NaN</td>\n",
              "      <td>NaN</td>\n",
              "    </tr>\n",
              "    <tr>\n",
              "      <th>...</th>\n",
              "      <td>...</td>\n",
              "      <td>...</td>\n",
              "      <td>...</td>\n",
              "      <td>...</td>\n",
              "      <td>...</td>\n",
              "      <td>...</td>\n",
              "      <td>...</td>\n",
              "      <td>...</td>\n",
              "      <td>...</td>\n",
              "      <td>...</td>\n",
              "      <td>...</td>\n",
              "      <td>...</td>\n",
              "      <td>...</td>\n",
              "      <td>...</td>\n",
              "      <td>...</td>\n",
              "      <td>...</td>\n",
              "      <td>...</td>\n",
              "      <td>...</td>\n",
              "    </tr>\n",
              "    <tr>\n",
              "      <th>561</th>\n",
              "      <td>KHevQX</td>\n",
              "      <td>2020-06-22 08:33:34+00:00</td>\n",
              "      <td>Fulfilled Order</td>\n",
              "      <td>{'tags': [], 'Items': ['Absolute Shine'], 'Shi...</td>\n",
              "      <td>NaN</td>\n",
              "      <td>NaN</td>\n",
              "      <td>NaN</td>\n",
              "      <td>NaN</td>\n",
              "      <td>NaN</td>\n",
              "      <td>True</td>\n",
              "      <td>NaN</td>\n",
              "      <td>NaN</td>\n",
              "      <td>NaN</td>\n",
              "      <td>NaN</td>\n",
              "      <td>NaN</td>\n",
              "      <td>NaN</td>\n",
              "      <td>NaN</td>\n",
              "      <td>NaN</td>\n",
              "    </tr>\n",
              "    <tr>\n",
              "      <th>562</th>\n",
              "      <td>P9SZW3</td>\n",
              "      <td>2020-06-21 05:53:56+00:00</td>\n",
              "      <td>Received Email</td>\n",
              "      <td>{'Email Domain': 'gmail.com', '$_cohort$messag...</td>\n",
              "      <td>Scopri Perché Magic Potion</td>\n",
              "      <td>E MAGICO PERCHE</td>\n",
              "      <td>UgWxMZ</td>\n",
              "      <td>gmail.com</td>\n",
              "      <td>1592718833:UgWxMZ</td>\n",
              "      <td>NaN</td>\n",
              "      <td>NaN</td>\n",
              "      <td>NaN</td>\n",
              "      <td>NaN</td>\n",
              "      <td>NaN</td>\n",
              "      <td>NaN</td>\n",
              "      <td>NaN</td>\n",
              "      <td>NaN</td>\n",
              "      <td>NaN</td>\n",
              "    </tr>\n",
              "    <tr>\n",
              "      <th>563</th>\n",
              "      <td>NKGuAG</td>\n",
              "      <td>2020-06-19 16:56:53+00:00</td>\n",
              "      <td>Placed Order</td>\n",
              "      <td>{'tags': [], 'Items': ['Absolute Shine'], 'Shi...</td>\n",
              "      <td>NaN</td>\n",
              "      <td>NaN</td>\n",
              "      <td>NaN</td>\n",
              "      <td>NaN</td>\n",
              "      <td>NaN</td>\n",
              "      <td>True</td>\n",
              "      <td>NaN</td>\n",
              "      <td>NaN</td>\n",
              "      <td>NaN</td>\n",
              "      <td>NaN</td>\n",
              "      <td>NaN</td>\n",
              "      <td>NaN</td>\n",
              "      <td>NaN</td>\n",
              "      <td>NaN</td>\n",
              "    </tr>\n",
              "    <tr>\n",
              "      <th>564</th>\n",
              "      <td>LapMJs</td>\n",
              "      <td>2020-06-19 16:56:34+00:00</td>\n",
              "      <td>Ordered Product</td>\n",
              "      <td>{'SKU': 'DPR-ABSH', 'Vendor': 'Depuravita', 'T...</td>\n",
              "      <td>NaN</td>\n",
              "      <td>NaN</td>\n",
              "      <td>NaN</td>\n",
              "      <td>NaN</td>\n",
              "      <td>NaN</td>\n",
              "      <td>NaN</td>\n",
              "      <td>NaN</td>\n",
              "      <td>4.050038e+12</td>\n",
              "      <td>Absolute Shine</td>\n",
              "      <td>120 cp</td>\n",
              "      <td>DPR-ABSH</td>\n",
              "      <td>[408gr - 120 capsule]</td>\n",
              "      <td>Depuravita</td>\n",
              "      <td>1.0</td>\n",
              "    </tr>\n",
              "    <tr>\n",
              "      <th>565</th>\n",
              "      <td>NF5efi</td>\n",
              "      <td>2020-06-19 16:55:50+00:00</td>\n",
              "      <td>Checkout Started</td>\n",
              "      <td>{'Items': ['Absolute Shine'], 'Item Count': 1,...</td>\n",
              "      <td>NaN</td>\n",
              "      <td>NaN</td>\n",
              "      <td>NaN</td>\n",
              "      <td>NaN</td>\n",
              "      <td>NaN</td>\n",
              "      <td>NaN</td>\n",
              "      <td>NaN</td>\n",
              "      <td>NaN</td>\n",
              "      <td>NaN</td>\n",
              "      <td>NaN</td>\n",
              "      <td>NaN</td>\n",
              "      <td>NaN</td>\n",
              "      <td>NaN</td>\n",
              "      <td>NaN</td>\n",
              "    </tr>\n",
              "  </tbody>\n",
              "</table>\n",
              "<p>566 rows × 18 columns</p>\n",
              "</div>"
            ],
            "text/plain": [
              "    statistic_id                 timestamp  ...      Vendor Quantity\n",
              "0         H9AiMX 2021-09-22 14:40:48+00:00  ...         NaN      NaN\n",
              "1         H9AiMX 2021-09-22 12:10:33+00:00  ...         NaN      NaN\n",
              "2         P9SZW3 2021-09-22 10:28:24+00:00  ...         NaN      NaN\n",
              "3         P9SZW3 2021-09-20 05:45:28+00:00  ...         NaN      NaN\n",
              "4         H9AiMX 2021-09-19 16:04:56+00:00  ...         NaN      NaN\n",
              "..           ...                       ...  ...         ...      ...\n",
              "561       KHevQX 2020-06-22 08:33:34+00:00  ...         NaN      NaN\n",
              "562       P9SZW3 2020-06-21 05:53:56+00:00  ...         NaN      NaN\n",
              "563       NKGuAG 2020-06-19 16:56:53+00:00  ...         NaN      NaN\n",
              "564       LapMJs 2020-06-19 16:56:34+00:00  ...  Depuravita      1.0\n",
              "565       NF5efi 2020-06-19 16:55:50+00:00  ...         NaN      NaN\n",
              "\n",
              "[566 rows x 18 columns]"
            ]
          },
          "metadata": {},
          "execution_count": 52
        }
      ]
    },
    {
      "cell_type": "code",
      "metadata": {
        "id": "ilHkUdFP6cwm"
      },
      "source": [
        "customer1 =  pd.concat([customer1_events, result], axis=1)"
      ],
      "id": "ilHkUdFP6cwm",
      "execution_count": null,
      "outputs": []
    },
    {
      "cell_type": "code",
      "metadata": {
        "colab": {
          "base_uri": "https://localhost:8080/"
        },
        "id": "Ri6TpLfqfA-K",
        "outputId": "6cadb123-6ca6-4b64-8616-f8f08cb884bb"
      },
      "source": [
        "customer_event1.shape"
      ],
      "id": "Ri6TpLfqfA-K",
      "execution_count": null,
      "outputs": [
        {
          "output_type": "execute_result",
          "data": {
            "text/plain": [
              "(566, 238)"
            ]
          },
          "metadata": {},
          "execution_count": 38
        }
      ]
    },
    {
      "cell_type": "code",
      "metadata": {
        "colab": {
          "base_uri": "https://localhost:8080/"
        },
        "id": "hnWWleOzfsoW",
        "outputId": "f5510591-fcbf-402e-f105-350f87f82349"
      },
      "source": [
        "customer_event2.shape"
      ],
      "id": "hnWWleOzfsoW",
      "execution_count": null,
      "outputs": [
        {
          "output_type": "execute_result",
          "data": {
            "text/plain": [
              "(536, 239)"
            ]
          },
          "metadata": {},
          "execution_count": 39
        }
      ]
    },
    {
      "cell_type": "code",
      "metadata": {
        "colab": {
          "base_uri": "https://localhost:8080/"
        },
        "id": "c_oXU54L_QSH",
        "outputId": "54f85066-7adb-4566-c5b1-75142f11a4ac"
      },
      "source": [
        "l1 = str(customer_event1.shape[0])\n",
        "l2 = str(customer_event2.shape[0])\n",
        "\n",
        "c1 = str(customer_event1.shape[1])\n",
        "c2 = str(customer_event2.shape[1])\n",
        "print(\"customer1: \" + l1 + \",\"  + c1 + \" customer2: \" + l2 + \",\" + c2)"
      ],
      "id": "c_oXU54L_QSH",
      "execution_count": null,
      "outputs": [
        {
          "output_type": "stream",
          "name": "stdout",
          "text": [
            "customer1: 536,239 customer2: 536,239\n"
          ]
        }
      ]
    },
    {
      "cell_type": "code",
      "metadata": {
        "id": "VmBAQFwDGFQh"
      },
      "source": [
        "customer_event2.to_csv(\"m.csv\", index=False)"
      ],
      "id": "VmBAQFwDGFQh",
      "execution_count": null,
      "outputs": []
    },
    {
      "cell_type": "code",
      "metadata": {
        "id": "sqqcY9x--NO5"
      },
      "source": [
        "customer_event1.to_csv(\"m1.csv\", index=False)"
      ],
      "id": "sqqcY9x--NO5",
      "execution_count": null,
      "outputs": []
    },
    {
      "cell_type": "code",
      "metadata": {
        "id": "jKN7uXOI7aBH"
      },
      "source": [
        ""
      ],
      "id": "jKN7uXOI7aBH",
      "execution_count": null,
      "outputs": []
    },
    {
      "cell_type": "markdown",
      "metadata": {
        "id": "GuphPaA77crD"
      },
      "source": [
        "Drop columns having only Nan values"
      ],
      "id": "GuphPaA77crD"
    },
    {
      "cell_type": "code",
      "metadata": {
        "colab": {
          "base_uri": "https://localhost:8080/"
        },
        "id": "Ct1cq6n-7PYP",
        "outputId": "8c58a98f-0a4a-4f48-8de6-8411794d6d55"
      },
      "source": [
        "customer_event1 = customer_event1.dropna(axis=1, how='all')\n",
        "customer_event2 = customer_event2.dropna(axis=1, how='all')"
      ],
      "id": "Ct1cq6n-7PYP",
      "execution_count": null,
      "outputs": [
        {
          "output_type": "execute_result",
          "data": {
            "text/plain": [
              "(566, 222)"
            ]
          },
          "metadata": {},
          "execution_count": 32
        }
      ]
    },
    {
      "cell_type": "code",
      "metadata": {
        "id": "P_IhD3W3-31B"
      },
      "source": [
        "customer_event1_colnames = pd.Index(customer_event1.columns)"
      ],
      "id": "P_IhD3W3-31B",
      "execution_count": null,
      "outputs": []
    },
    {
      "cell_type": "markdown",
      "metadata": {
        "id": "R04_53nL-KMv"
      },
      "source": [
        "Comparing the two json data frames colname"
      ],
      "id": "R04_53nL-KMv"
    },
    {
      "cell_type": "code",
      "metadata": {
        "id": "heFqBrCA-ZkQ"
      },
      "source": [
        "customer_event1_colnames = pd.Index(customer_event1.columns)\n",
        "customer_event2_colnames = pd.Index(customer_event2.columns)\n",
        "\n",
        "common_cols = customer_event1_colnames.intersection(customer_event2_colnames)\n",
        "not_common_cols = customer_event1_colnames.difference(customer_event2_colnames)"
      ],
      "id": "heFqBrCA-ZkQ",
      "execution_count": null,
      "outputs": []
    },
    {
      "cell_type": "code",
      "metadata": {
        "colab": {
          "base_uri": "https://localhost:8080/"
        },
        "id": "sVV2iTh6_fYA",
        "outputId": "82de7b55-853f-46c4-9ddc-2b4f8791c57d"
      },
      "source": [
        "list(common_cols)"
      ],
      "id": "sVV2iTh6_fYA",
      "execution_count": null,
      "outputs": [
        {
          "output_type": "execute_result",
          "data": {
            "text/plain": [
              "['statistic_id',\n",
              " 'timestamp',\n",
              " 'event_name',\n",
              " 'event_properties',\n",
              " 'Subject',\n",
              " 'Campaign Name',\n",
              " '$message',\n",
              " 'Email Domain',\n",
              " '$_cohort$message_send_cohort',\n",
              " '$ESP',\n",
              " '$event_id',\n",
              " 'Client Type',\n",
              " 'Client OS Family',\n",
              " 'Client OS',\n",
              " 'Client Name',\n",
              " '$message_interaction',\n",
              " 'page',\n",
              " 'browser',\n",
              " 'os',\n",
              " '$is_session_activity',\n",
              " '$attribution.$attributed_event_id',\n",
              " '$attribution.$send_ts',\n",
              " '$attribution.$message',\n",
              " 'URL',\n",
              " 'Items',\n",
              " 'Collections',\n",
              " 'Item Count',\n",
              " 'tags',\n",
              " 'Discount Codes',\n",
              " 'Total Discounts',\n",
              " 'Source Name',\n",
              " '$currency_code',\n",
              " 'FulfillmentStatus',\n",
              " 'FulfillmentHours',\n",
              " '$value',\n",
              " '$extra.id',\n",
              " '$extra.admin_graphql_api_id',\n",
              " '$extra.app_id',\n",
              " '$extra.browser_ip',\n",
              " '$extra.buyer_accepts_marketing',\n",
              " '$extra.cancel_reason',\n",
              " '$extra.cancelled_at',\n",
              " '$extra.cart_token',\n",
              " '$extra.checkout_id',\n",
              " '$extra.checkout_token',\n",
              " '$extra.client_details.accept_language',\n",
              " '$extra.client_details.browser_height',\n",
              " '$extra.client_details.browser_ip',\n",
              " '$extra.client_details.browser_width',\n",
              " '$extra.client_details.session_hash',\n",
              " '$extra.client_details.user_agent',\n",
              " '$extra.closed_at',\n",
              " '$extra.confirmed',\n",
              " '$extra.contact_email',\n",
              " '$extra.created_at',\n",
              " '$extra.currency',\n",
              " '$extra.current_subtotal_price',\n",
              " '$extra.current_subtotal_price_set.shop_money.amount',\n",
              " '$extra.current_subtotal_price_set.shop_money.currency_code',\n",
              " '$extra.current_subtotal_price_set.presentment_money.amount',\n",
              " '$extra.current_subtotal_price_set.presentment_money.currency_code',\n",
              " '$extra.current_total_discounts',\n",
              " '$extra.current_total_discounts_set.shop_money.amount',\n",
              " '$extra.current_total_discounts_set.shop_money.currency_code',\n",
              " '$extra.current_total_discounts_set.presentment_money.amount',\n",
              " '$extra.current_total_discounts_set.presentment_money.currency_code',\n",
              " '$extra.current_total_duties_set',\n",
              " '$extra.current_total_price',\n",
              " '$extra.current_total_price_set.shop_money.amount',\n",
              " '$extra.current_total_price_set.shop_money.currency_code',\n",
              " '$extra.current_total_price_set.presentment_money.amount',\n",
              " '$extra.current_total_price_set.presentment_money.currency_code',\n",
              " '$extra.current_total_tax',\n",
              " '$extra.current_total_tax_set.shop_money.amount',\n",
              " '$extra.current_total_tax_set.shop_money.currency_code',\n",
              " '$extra.current_total_tax_set.presentment_money.amount',\n",
              " '$extra.current_total_tax_set.presentment_money.currency_code',\n",
              " '$extra.customer_locale',\n",
              " '$extra.device_id',\n",
              " '$extra.discount_codes',\n",
              " '$extra.email',\n",
              " '$extra.financial_status',\n",
              " '$extra.fulfillment_status',\n",
              " '$extra.gateway',\n",
              " '$extra.landing_site',\n",
              " '$extra.landing_site_ref',\n",
              " '$extra.location_id',\n",
              " '$extra.name',\n",
              " '$extra.note',\n",
              " '$extra.note_attributes',\n",
              " '$extra.number',\n",
              " '$extra.order_number',\n",
              " '$extra.order_status_url',\n",
              " '$extra.original_total_duties_set',\n",
              " '$extra.payment_gateway_names',\n",
              " '$extra.phone',\n",
              " '$extra.presentment_currency',\n",
              " '$extra.processed_at',\n",
              " '$extra.processing_method',\n",
              " '$extra.reference',\n",
              " '$extra.referring_site',\n",
              " '$extra.source_identifier',\n",
              " '$extra.source_name',\n",
              " '$extra.source_url',\n",
              " '$extra.subtotal_price',\n",
              " '$extra.subtotal_price_set.shop_money.amount',\n",
              " '$extra.subtotal_price_set.shop_money.currency_code',\n",
              " '$extra.subtotal_price_set.presentment_money.amount',\n",
              " '$extra.subtotal_price_set.presentment_money.currency_code',\n",
              " '$extra.tags',\n",
              " '$extra.tax_lines',\n",
              " '$extra.taxes_included',\n",
              " '$extra.test',\n",
              " '$extra.token',\n",
              " '$extra.total_discounts',\n",
              " '$extra.total_discounts_set.shop_money.amount',\n",
              " '$extra.total_discounts_set.shop_money.currency_code',\n",
              " '$extra.total_discounts_set.presentment_money.amount',\n",
              " '$extra.total_discounts_set.presentment_money.currency_code',\n",
              " '$extra.total_line_items_price',\n",
              " '$extra.total_line_items_price_set.shop_money.amount',\n",
              " '$extra.total_line_items_price_set.shop_money.currency_code',\n",
              " '$extra.total_line_items_price_set.presentment_money.amount',\n",
              " '$extra.total_line_items_price_set.presentment_money.currency_code',\n",
              " '$extra.total_outstanding',\n",
              " '$extra.total_price',\n",
              " '$extra.total_price_set.shop_money.amount',\n",
              " '$extra.total_price_set.shop_money.currency_code',\n",
              " '$extra.total_price_set.presentment_money.amount',\n",
              " '$extra.total_price_set.presentment_money.currency_code',\n",
              " '$extra.total_price_usd',\n",
              " '$extra.total_shipping_price_set.shop_money.amount',\n",
              " '$extra.total_shipping_price_set.shop_money.currency_code',\n",
              " '$extra.total_shipping_price_set.presentment_money.amount',\n",
              " '$extra.total_shipping_price_set.presentment_money.currency_code',\n",
              " '$extra.total_tax',\n",
              " '$extra.total_tax_set.shop_money.amount',\n",
              " '$extra.total_tax_set.shop_money.currency_code',\n",
              " '$extra.total_tax_set.presentment_money.amount',\n",
              " '$extra.total_tax_set.presentment_money.currency_code',\n",
              " '$extra.total_tip_received',\n",
              " '$extra.total_weight',\n",
              " '$extra.updated_at',\n",
              " '$extra.user_id',\n",
              " '$extra.billing_address.first_name',\n",
              " '$extra.billing_address.address1',\n",
              " '$extra.billing_address.phone',\n",
              " '$extra.billing_address.city',\n",
              " '$extra.billing_address.zip',\n",
              " '$extra.billing_address.province',\n",
              " '$extra.billing_address.country',\n",
              " '$extra.billing_address.last_name',\n",
              " '$extra.billing_address.address2',\n",
              " '$extra.billing_address.company',\n",
              " '$extra.billing_address.latitude',\n",
              " '$extra.billing_address.longitude',\n",
              " '$extra.billing_address.name',\n",
              " '$extra.billing_address.country_code',\n",
              " '$extra.billing_address.province_code',\n",
              " '$extra.customer.id',\n",
              " '$extra.customer.email',\n",
              " '$extra.customer.accepts_marketing',\n",
              " '$extra.customer.created_at',\n",
              " '$extra.customer.updated_at',\n",
              " '$extra.customer.first_name',\n",
              " '$extra.customer.last_name',\n",
              " '$extra.customer.orders_count',\n",
              " '$extra.customer.state',\n",
              " '$extra.customer.total_spent',\n",
              " '$extra.customer.last_order_id',\n",
              " '$extra.customer.note',\n",
              " '$extra.customer.verified_email',\n",
              " '$extra.customer.multipass_identifier',\n",
              " '$extra.customer.tax_exempt',\n",
              " '$extra.customer.phone',\n",
              " '$extra.customer.tags',\n",
              " '$extra.customer.last_order_name',\n",
              " '$extra.customer.currency',\n",
              " '$extra.customer.accepts_marketing_updated_at',\n",
              " '$extra.customer.marketing_opt_in_level',\n",
              " '$extra.customer.admin_graphql_api_id',\n",
              " '$extra.customer.default_address.id',\n",
              " '$extra.customer.default_address.customer_id',\n",
              " '$extra.customer.default_address.first_name',\n",
              " '$extra.customer.default_address.last_name',\n",
              " '$extra.customer.default_address.company',\n",
              " '$extra.customer.default_address.address1',\n",
              " '$extra.customer.default_address.address2',\n",
              " '$extra.customer.default_address.city',\n",
              " '$extra.customer.default_address.province',\n",
              " '$extra.customer.default_address.country',\n",
              " '$extra.customer.default_address.zip',\n",
              " '$extra.customer.default_address.phone',\n",
              " '$extra.customer.default_address.name',\n",
              " '$extra.customer.default_address.province_code',\n",
              " '$extra.customer.default_address.country_code',\n",
              " '$extra.customer.default_address.country_name',\n",
              " '$extra.customer.default_address.default',\n",
              " '$extra.discount_applications',\n",
              " '$extra.fulfillments',\n",
              " '$extra.line_items',\n",
              " '$extra.refunds',\n",
              " '$extra.shipping_address.first_name',\n",
              " '$extra.shipping_address.address1',\n",
              " '$extra.shipping_address.phone',\n",
              " '$extra.shipping_address.city',\n",
              " '$extra.shipping_address.zip',\n",
              " '$extra.shipping_address.province',\n",
              " '$extra.shipping_address.country',\n",
              " '$extra.shipping_address.last_name',\n",
              " '$extra.shipping_address.address2',\n",
              " '$extra.shipping_address.company',\n",
              " '$extra.shipping_address.latitude',\n",
              " '$extra.shipping_address.longitude',\n",
              " '$extra.shipping_address.name',\n",
              " '$extra.shipping_address.country_code',\n",
              " '$extra.shipping_address.province_code',\n",
              " '$extra.shipping_lines',\n",
              " '$extra.webhook_id',\n",
              " '$extra.full_landing_site',\n",
              " '$attribution.$flow',\n",
              " '$flow',\n",
              " 'ProductID',\n",
              " 'Name',\n",
              " 'Variant Name',\n",
              " 'SKU',\n",
              " 'Tags',\n",
              " 'Vendor',\n",
              " 'Variant Option: Size',\n",
              " 'Quantity',\n",
              " '$extra.webhook_topic',\n",
              " '$extra.responsive_checkout_url',\n",
              " '$extra.checkout_url',\n",
              " 'ShippingRate',\n",
              " 'Variant Option: Title',\n",
              " '$session_end']"
            ]
          },
          "metadata": {},
          "execution_count": 39
        }
      ]
    },
    {
      "cell_type": "code",
      "metadata": {
        "colab": {
          "base_uri": "https://localhost:8080/"
        },
        "id": "irnbNKwD_nm3",
        "outputId": "c5085186-5737-436b-c6db-746fa5f08e29"
      },
      "source": [
        "list(not_common_cols)"
      ],
      "id": "irnbNKwD_nm3",
      "execution_count": null,
      "outputs": [
        {
          "output_type": "execute_result",
          "data": {
            "text/plain": [
              "['$extra.customer.tax_exemptions',\n",
              " 'HasPartialFulfillments',\n",
              " 'Variant Option: Durata:']"
            ]
          },
          "metadata": {},
          "execution_count": 40
        }
      ]
    }
  ]
}